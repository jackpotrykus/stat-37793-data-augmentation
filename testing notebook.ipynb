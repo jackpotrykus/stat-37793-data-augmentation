{
 "cells": [
  {
   "cell_type": "code",
   "execution_count": 1,
   "id": "add42074",
   "metadata": {
    "scrolled": true
   },
   "outputs": [],
   "source": [
    "import fastshap_wrapper as fw"
   ]
  },
  {
   "cell_type": "code",
   "execution_count": 2,
   "id": "1874fd0b",
   "metadata": {},
   "outputs": [],
   "source": [
    "from cifar10_experiment import CIFAR10AugmentationExperiment"
   ]
  },
  {
   "cell_type": "code",
   "execution_count": 3,
   "id": "deb02423",
   "metadata": {},
   "outputs": [],
   "source": [
    "import torchvision"
   ]
  },
  {
   "cell_type": "code",
   "execution_count": 4,
   "id": "767268ad",
   "metadata": {},
   "outputs": [],
   "source": [
    "transform = torchvision.transforms.Compose(\n",
    "    [\n",
    "        torchvision.transforms.ToTensor(),\n",
    "        torchvision.transforms.Normalize((0.5, 0.5, 0.5), (0.5, 0.5, 0.5)),\n",
    "    ]\n",
    ")"
   ]
  },
  {
   "cell_type": "code",
   "execution_count": 5,
   "id": "326d30d4",
   "metadata": {},
   "outputs": [
    {
     "name": "stdout",
     "output_type": "stream",
     "text": [
      "Files already downloaded and verified\n",
      "Files already downloaded and verified\n"
     ]
    },
    {
     "data": {
      "application/vnd.jupyter.widget-view+json": {
       "model_id": "2bc6823af8304d0a8247611bae3a2795",
       "version_major": 2,
       "version_minor": 0
      },
      "text/plain": [
       "Training loop:   0%|          | 0/195 [00:00<?, ?it/s]"
      ]
     },
     "metadata": {},
     "output_type": "display_data"
    },
    {
     "name": "stdout",
     "output_type": "stream",
     "text": [
      "----- Epoch = 1 -----\n",
      "Val loss = 1.0655\n",
      "Val acc = 0.6222\n",
      "\n",
      "New best epoch, acc = 0.6222\n",
      "\n"
     ]
    }
   ],
   "source": [
    "c = CIFAR10AugmentationExperiment(transform)\n",
    "c.train(nepoch=1, batch_size=256, experiment_name='test')"
   ]
  },
  {
   "cell_type": "code",
   "execution_count": null,
   "id": "b951b0aa",
   "metadata": {},
   "outputs": [],
   "source": []
  },
  {
   "cell_type": "code",
   "execution_count": null,
   "id": "c628bca7",
   "metadata": {},
   "outputs": [],
   "source": []
  },
  {
   "cell_type": "code",
   "execution_count": 6,
   "id": "5569e4c9",
   "metadata": {},
   "outputs": [],
   "source": [
    "# train_hist = []\n",
    "# with open('test'+\"train_hist.txt\", \"r\") as f:\n",
    "#   for line in f:\n",
    "#     train_hist.append(float(line.strip()))\n",
    "    \n",
    "# val_hist = []\n",
    "# with open('test'+\"val_hist.txt\", \"r\") as f:\n",
    "#   for line in f:\n",
    "#     val_hist.append(float(line.strip()))\n",
    "\n",
    "# train_hist\n",
    "\n",
    "# val_hist"
   ]
  },
  {
   "cell_type": "code",
   "execution_count": 7,
   "id": "e346e3aa",
   "metadata": {},
   "outputs": [],
   "source": [
    "# import torch\n",
    "# torch.load('testcifar resnet.pt').to('cuda')"
   ]
  },
  {
   "cell_type": "code",
   "execution_count": 8,
   "id": "d9d37b2c",
   "metadata": {
    "scrolled": true
   },
   "outputs": [
    {
     "name": "stdout",
     "output_type": "stream",
     "text": [
      "Loading saved surrogate model\n",
      "Loading saved explainer model\n",
      "CPU times: user 41.2 ms, sys: 49.9 ms, total: 91.1 ms\n",
      "Wall time: 20.1 s\n"
     ]
    }
   ],
   "source": [
    "%%time\n",
    "results = fw.fastshap_wrapper(c.model, c.train_set, c.test_set, surrogate_epochs=1, explainer_epochs=1, experiment_name='test3')"
   ]
  },
  {
   "cell_type": "code",
   "execution_count": 12,
   "id": "6fc8043e",
   "metadata": {},
   "outputs": [
    {
     "data": {
      "text/plain": [
       "array([[[ 2.50086337e-02,  2.91446298e-02,  2.61362717e-02, ...,\n",
       "          1.76088735e-02,  2.22527608e-02,  9.47061926e-03],\n",
       "        [ 4.38676029e-03,  2.65643001e-02,  1.55830756e-03, ...,\n",
       "          4.51765954e-05,  3.25846300e-03,  4.71767411e-03],\n",
       "        [ 6.32509589e-03,  2.90770456e-02, -5.38307428e-03, ...,\n",
       "          3.12945992e-03,  3.15526873e-03, -2.87708640e-03],\n",
       "        ...,\n",
       "        [-1.76160596e-02,  3.06148455e-02, -3.38476896e-03, ...,\n",
       "          1.57806203e-02,  1.01047307e-02,  7.32539594e-03],\n",
       "        [-1.21821500e-02,  3.50233167e-02, -1.24081969e-04, ...,\n",
       "          9.19830799e-03,  4.97127697e-03,  1.55268982e-02],\n",
       "        [-7.74762779e-03, -2.32368670e-02, -3.74848060e-02, ...,\n",
       "         -4.60676551e-02, -4.77773212e-02, -4.15448844e-03]],\n",
       "\n",
       "       [[ 2.54436582e-02,  2.85836011e-02,  2.33298168e-02, ...,\n",
       "          1.49335712e-02,  2.34940648e-02,  3.25455144e-02],\n",
       "        [-1.42100789e-02,  1.05188191e-02, -2.02526227e-02, ...,\n",
       "         -1.58548653e-02,  7.30711222e-03,  2.27100998e-02],\n",
       "        [-2.50442177e-02,  1.07718483e-02, -2.20978037e-02, ...,\n",
       "         -1.38813667e-02, -2.48400867e-03,  2.38474309e-02],\n",
       "        ...,\n",
       "        [-1.55691728e-02,  4.00303453e-02, -5.11135161e-03, ...,\n",
       "         -4.85748053e-03,  5.43262437e-03,  1.58364847e-02],\n",
       "        [-1.03389472e-02,  2.74652764e-02, -1.46335736e-03, ...,\n",
       "         -1.29007176e-03,  6.84753433e-03,  1.43619850e-02],\n",
       "        [-8.96876305e-03, -1.72685944e-02, -4.04808335e-02, ...,\n",
       "         -4.38043475e-02, -5.26642501e-02, -1.21357627e-02]],\n",
       "\n",
       "       [[ 2.33769491e-02,  2.50225365e-02,  1.50391981e-02, ...,\n",
       "          3.93516943e-03,  1.86873823e-02,  3.15341726e-02],\n",
       "        [-1.02903321e-02,  4.96115535e-04, -1.22296549e-02, ...,\n",
       "         -1.78004503e-02, -1.00229271e-02,  2.73832232e-02],\n",
       "        [-2.27927063e-02,  4.45745513e-03, -8.16941261e-04, ...,\n",
       "         -2.25330852e-02, -1.72440335e-03,  2.27964520e-02],\n",
       "        ...,\n",
       "        [-6.81580231e-03,  2.55357996e-02, -2.50880159e-02, ...,\n",
       "          6.45634905e-03, -2.69088522e-03,  3.43078598e-02],\n",
       "        [-1.78235322e-02,  3.67433801e-02, -1.43855214e-02, ...,\n",
       "         -1.16154961e-02,  1.12797916e-02,  7.95750320e-03],\n",
       "        [-8.55983049e-03, -2.15928070e-02, -4.89319377e-02, ...,\n",
       "         -2.42746230e-02, -2.82495152e-02,  3.62225622e-03]],\n",
       "\n",
       "       ...,\n",
       "\n",
       "       [[-4.52676415e-02, -1.95653364e-03,  7.89548829e-03, ...,\n",
       "          5.01296669e-02, -2.28525624e-02, -8.01195279e-02],\n",
       "        [-7.30491132e-02,  3.15274782e-02, -4.45031002e-03, ...,\n",
       "          5.49509153e-02, -1.23589858e-02, -6.88477457e-02],\n",
       "        [-8.22676197e-02,  3.40224430e-03, -4.44437042e-02, ...,\n",
       "          4.81559634e-02, -1.32455081e-02, -5.41211143e-02],\n",
       "        ...,\n",
       "        [-3.97055373e-02, -3.17830518e-02, -2.24716216e-02, ...,\n",
       "          8.29409808e-03,  6.13173470e-03, -3.78954113e-02],\n",
       "        [-2.10623294e-02,  3.32390517e-03,  5.80953807e-03, ...,\n",
       "          1.12731941e-02,  9.06569511e-03, -2.96277776e-02],\n",
       "        [-7.01071769e-02, -2.70394310e-02, -1.67838708e-02, ...,\n",
       "         -1.17488429e-02, -1.39338300e-02, -4.19583842e-02]],\n",
       "\n",
       "       [[-4.60720658e-02, -5.74662238e-02, -5.90327084e-02, ...,\n",
       "         -5.09677753e-02, -5.25891185e-02, -8.50268230e-02],\n",
       "        [-2.15164125e-02, -1.98515505e-02,  1.15127973e-02, ...,\n",
       "          2.38008797e-05, -9.18582454e-03, -6.55537769e-02],\n",
       "        [-3.10214311e-02, -1.13824755e-02,  1.83202177e-02, ...,\n",
       "          1.33253597e-02, -1.22875497e-02, -4.71531749e-02],\n",
       "        ...,\n",
       "        [-1.91030353e-02, -2.01084018e-02,  1.53805129e-02, ...,\n",
       "          3.67437787e-02,  2.21146066e-02, -3.75013202e-02],\n",
       "        [-1.78077146e-02, -7.48006254e-03,  1.22566335e-02, ...,\n",
       "          1.58570111e-02,  3.59579921e-04, -4.99732569e-02],\n",
       "        [-7.18931481e-02, -1.84331685e-02, -2.44377777e-02, ...,\n",
       "         -2.20427066e-02, -1.60324350e-02, -3.72505710e-02]],\n",
       "\n",
       "       [[-6.17098883e-02, -5.29930964e-02, -6.09597564e-02, ...,\n",
       "         -6.63204417e-02, -6.63701147e-02, -9.50942710e-02],\n",
       "        [-4.62564081e-02, -1.62256435e-02, -3.93355638e-02, ...,\n",
       "         -1.10990852e-02, -3.44492644e-02, -6.63350672e-02],\n",
       "        [-4.66935113e-02, -3.45726311e-03, -8.44442099e-03, ...,\n",
       "         -1.67135075e-02, -3.19289938e-02, -5.76693043e-02],\n",
       "        ...,\n",
       "        [-2.68316790e-02, -1.85884610e-02,  1.88837945e-02, ...,\n",
       "          5.21790236e-04, -3.34389135e-03, -4.81643379e-02],\n",
       "        [-9.80398804e-03, -1.41402856e-02, -3.60654667e-03, ...,\n",
       "         -8.69523734e-04, -1.00059211e-02, -4.04103026e-02],\n",
       "        [-6.51454031e-02, -2.89764181e-02, -3.12110782e-02, ...,\n",
       "         -1.85242146e-02, -1.06166080e-02, -3.12744677e-02]]],\n",
       "      dtype=float32)"
      ]
     },
     "execution_count": 12,
     "metadata": {},
     "output_type": "execute_result"
    }
   ],
   "source": [
    "results.plot_results(c.test_set, return_raw=True, num_samples=10)"
   ]
  },
  {
   "cell_type": "code",
   "execution_count": 16,
   "id": "33daa77a",
   "metadata": {},
   "outputs": [
    {
     "data": {
      "text/plain": [
       "<AxesSubplot:ylabel='Density'>"
      ]
     },
     "execution_count": 16,
     "metadata": {},
     "output_type": "execute_result"
    },
    {
     "data": {
      "image/png": "[encoded data removed]",
      "text/plain": [
       "<Figure size 432x288 with 1 Axes>"
      ]
     },
     "metadata": {},
     "output_type": "display_data"
    }
   ],
   "source": [
    "import numpy as np\n",
    "import seaborn as sns\n",
    "sns.set_style('whitegrid')\n",
    "sns.kdeplot(results.plot_results(c.test_set, return_raw=True, num_samples=10).reshape(100,-1).mean(axis=0), bw_adjust=0.5)\n"
   ]
  },
  {
   "cell_type": "code",
   "execution_count": null,
   "id": "61d15693",
   "metadata": {},
   "outputs": [],
   "source": []
  },
  {
   "cell_type": "code",
   "execution_count": null,
   "id": "0c35d82c",
   "metadata": {},
   "outputs": [],
   "source": []
  },
  {
   "cell_type": "code",
   "execution_count": null,
   "id": "99f375d1",
   "metadata": {},
   "outputs": [],
   "source": []
  }
 ],
 "metadata": {
  "interpreter": {
   "hash": "d08574dbe1e032a77862499250ef1ebb208dc943688f68b63b9f4908607a83c3"
  },
  "kernelspec": {
   "display_name": "Python 3",
   "language": "python",
   "name": "python3"
  },
  "language_info": {
   "codemirror_mode": {
    "name": "ipython",
    "version": 3
   },
   "file_extension": ".py",
   "mimetype": "text/x-python",
   "name": "python",
   "nbconvert_exporter": "python",
   "pygments_lexer": "ipython3",
   "version": "3.8.5"
  }
 },
 "nbformat": 4,
 "nbformat_minor": 5
}
