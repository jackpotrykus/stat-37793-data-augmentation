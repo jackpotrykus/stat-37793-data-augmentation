{
 "cells": [
  {
   "cell_type": "code",
   "execution_count": 1,
   "id": "0de44c6a",
   "metadata": {},
   "outputs": [],
   "source": [
    "main_name= 'autoaug_'"
   ]
  },
  {
   "cell_type": "code",
   "execution_count": 2,
   "id": "add42074",
   "metadata": {
    "scrolled": true
   },
   "outputs": [],
   "source": [
    "import fastshap_wrapper as fw"
   ]
  },
  {
   "cell_type": "code",
   "execution_count": 3,
   "id": "1874fd0b",
   "metadata": {},
   "outputs": [],
   "source": [
    "from cifar10_experiment import CIFAR10AugmentationExperiment"
   ]
  },
  {
   "cell_type": "code",
   "execution_count": 4,
   "id": "deb02423",
   "metadata": {},
   "outputs": [],
   "source": [
    "import torchvision"
   ]
  },
  {
   "cell_type": "code",
   "execution_count": 5,
   "id": "767268ad",
   "metadata": {},
   "outputs": [],
   "source": [
    "transform = torchvision.transforms.Compose(\n",
    "    [\n",
    "        torchvision.transforms.AutoAugment(),\n",
    "        torchvision.transforms.ToTensor(),\n",
    "        torchvision.transforms.Normalize((0.5, 0.5, 0.5), (0.5, 0.5, 0.5)),\n",
    "    ]\n",
    ")"
   ]
  },
  {
   "cell_type": "code",
   "execution_count": 6,
   "id": "22f779b7",
   "metadata": {},
   "outputs": [
    {
     "name": "stdout",
     "output_type": "stream",
     "text": [
      "Files already downloaded and verified\n",
      "Files already downloaded and verified\n"
     ]
    }
   ],
   "source": [
    "c = CIFAR10AugmentationExperiment(transform)"
   ]
  },
  {
   "cell_type": "code",
   "execution_count": 7,
   "id": "326d30d4",
   "metadata": {},
   "outputs": [
    {
     "data": {
      "application/vnd.jupyter.widget-view+json": {
       "model_id": "5fdc11cb00674dbab34bc86cca9b6598",
       "version_major": 2,
       "version_minor": 0
      },
      "text/plain": [
       "Training loop:   0%|          | 0/195 [00:00<?, ?it/s]"
      ]
     },
     "metadata": {},
     "output_type": "display_data"
    },
    {
     "name": "stdout",
     "output_type": "stream",
     "text": [
      "----- Epoch = 1 -----\n",
      "Val loss = 1.2647\n",
      "Val acc = 0.5503\n",
      "\n",
      "New best epoch, acc = 0.5503\n",
      "\n"
     ]
    },
    {
     "data": {
      "application/vnd.jupyter.widget-view+json": {
       "model_id": "5a37c9c915884b18bf790a27900dc97e",
       "version_major": 2,
       "version_minor": 0
      },
      "text/plain": [
       "Training loop:   0%|          | 0/195 [00:00<?, ?it/s]"
      ]
     },
     "metadata": {},
     "output_type": "display_data"
    },
    {
     "name": "stderr",
     "output_type": "stream",
     "text": [
      "Exception ignored in: <function _MultiProcessingDataLoaderIter.__del__ at 0x7f4fb2b53670>\n",
      "Traceback (most recent call last):\n",
      "  File \"/home-nfs/raphaelr/miniconda/lib/python3.8/site-packages/torch/utils/data/dataloader.py\", line 1358, in __del__\n",
      "    self._shutdown_workers()\n",
      "  File \"/home-nfs/raphaelr/miniconda/lib/python3.8/site-packages/torch/utils/data/dataloader.py\", line 1341, in _shutdown_workers\n",
      "    if w.is_alive():\n",
      "  File \"/home-nfs/raphaelr/miniconda/lib/python3.8/multiprocessing/process.py\", line 160, in is_alive\n",
      "    assert self._parent_pid == os.getpid(), 'can only test a child process'\n",
      "AssertionErrorException ignored in: : <function _MultiProcessingDataLoaderIter.__del__ at 0x7f4fb2b53670>can only test a child process\n",
      "\n",
      "Traceback (most recent call last):\n",
      "  File \"/home-nfs/raphaelr/miniconda/lib/python3.8/site-packages/torch/utils/data/dataloader.py\", line 1358, in __del__\n",
      "    self._shutdown_workers()\n",
      "  File \"/home-nfs/raphaelr/miniconda/lib/python3.8/site-packages/torch/utils/data/dataloader.py\", line 1341, in _shutdown_workers\n",
      "    if w.is_alive():\n",
      "  File \"/home-nfs/raphaelr/miniconda/lib/python3.8/multiprocessing/process.py\", line 160, in is_alive\n",
      "    assert self._parent_pid == os.getpid(), 'can only test a child process'\n",
      "AssertionError: can only test a child process\n",
      "Exception ignored in: <function _MultiProcessingDataLoaderIter.__del__ at 0x7f4fb2b53670>\n",
      "Traceback (most recent call last):\n",
      "  File \"/home-nfs/raphaelr/miniconda/lib/python3.8/site-packages/torch/utils/data/dataloader.py\", line 1358, in __del__\n",
      "    self._shutdown_workers()\n",
      "  File \"/home-nfs/raphaelr/miniconda/lib/python3.8/site-packages/torch/utils/data/dataloader.py\", line 1341, in _shutdown_workers\n",
      "    if w.is_alive():\n",
      "  File \"/home-nfs/raphaelr/miniconda/lib/python3.8/multiprocessing/process.py\", line 160, in is_alive\n",
      "    assert self._parent_pid == os.getpid(), 'can only test a child process'\n",
      "AssertionError: can only test a child process\n",
      "Exception ignored in: <function _MultiProcessingDataLoaderIter.__del__ at 0x7f4fb2b53670>\n",
      "Traceback (most recent call last):\n",
      "  File \"/home-nfs/raphaelr/miniconda/lib/python3.8/site-packages/torch/utils/data/dataloader.py\", line 1358, in __del__\n",
      "    self._shutdown_workers()\n",
      "  File \"/home-nfs/raphaelr/miniconda/lib/python3.8/site-packages/torch/utils/data/dataloader.py\", line 1341, in _shutdown_workers\n",
      "    if w.is_alive():\n",
      "  File \"/home-nfs/raphaelr/miniconda/lib/python3.8/multiprocessing/process.py\", line 160, in is_alive\n",
      "Exception ignored in:     <function _MultiProcessingDataLoaderIter.__del__ at 0x7f4fb2b53670>assert self._parent_pid == os.getpid(), 'can only test a child process'\n",
      "AssertionError: can only test a child process\n",
      "\n",
      "Traceback (most recent call last):\n",
      "  File \"/home-nfs/raphaelr/miniconda/lib/python3.8/site-packages/torch/utils/data/dataloader.py\", line 1358, in __del__\n",
      "    self._shutdown_workers()\n",
      "  File \"/home-nfs/raphaelr/miniconda/lib/python3.8/site-packages/torch/utils/data/dataloader.py\", line 1341, in _shutdown_workers\n",
      "    if w.is_alive():\n",
      "  File \"/home-nfs/raphaelr/miniconda/lib/python3.8/multiprocessing/process.py\", line 160, in is_alive\n",
      "    Exception ignored in: assert self._parent_pid == os.getpid(), 'can only test a child process'\n",
      "<function _MultiProcessingDataLoaderIter.__del__ at 0x7f4fb2b53670>AssertionError\n",
      ": Traceback (most recent call last):\n",
      "can only test a child process  File \"/home-nfs/raphaelr/miniconda/lib/python3.8/site-packages/torch/utils/data/dataloader.py\", line 1358, in __del__\n",
      "\n",
      "    self._shutdown_workers()\n",
      "Exception ignored in:   File \"/home-nfs/raphaelr/miniconda/lib/python3.8/site-packages/torch/utils/data/dataloader.py\", line 1341, in _shutdown_workers\n",
      "<function _MultiProcessingDataLoaderIter.__del__ at 0x7f4fb2b53670>    \n",
      "if w.is_alive():Traceback (most recent call last):\n",
      "  File \"/home-nfs/raphaelr/miniconda/lib/python3.8/site-packages/torch/utils/data/dataloader.py\", line 1358, in __del__\n",
      "\n",
      "  File \"/home-nfs/raphaelr/miniconda/lib/python3.8/multiprocessing/process.py\", line 160, in is_alive\n",
      "        self._shutdown_workers()assert self._parent_pid == os.getpid(), 'can only test a child process'\n",
      "\n",
      "  File \"/home-nfs/raphaelr/miniconda/lib/python3.8/site-packages/torch/utils/data/dataloader.py\", line 1341, in _shutdown_workers\n",
      "AssertionError    if w.is_alive():\n",
      ": can only test a child process  File \"/home-nfs/raphaelr/miniconda/lib/python3.8/multiprocessing/process.py\", line 160, in is_alive\n",
      "\n",
      "    assert self._parent_pid == os.getpid(), 'can only test a child process'\n",
      "AssertionErrorException ignored in: : <function _MultiProcessingDataLoaderIter.__del__ at 0x7f4fb2b53670>can only test a child process\n",
      "\n",
      "Traceback (most recent call last):\n",
      "  File \"/home-nfs/raphaelr/miniconda/lib/python3.8/site-packages/torch/utils/data/dataloader.py\", line 1358, in __del__\n",
      "    self._shutdown_workers()\n",
      "  File \"/home-nfs/raphaelr/miniconda/lib/python3.8/site-packages/torch/utils/data/dataloader.py\", line 1341, in _shutdown_workers\n",
      "    if w.is_alive():\n",
      "  File \"/home-nfs/raphaelr/miniconda/lib/python3.8/multiprocessing/process.py\", line 160, in is_alive\n",
      "Exception ignored in:     <function _MultiProcessingDataLoaderIter.__del__ at 0x7f4fb2b53670>assert self._parent_pid == os.getpid(), 'can only test a child process'\n",
      "\n",
      "Traceback (most recent call last):\n",
      "AssertionError  File \"/home-nfs/raphaelr/miniconda/lib/python3.8/site-packages/torch/utils/data/dataloader.py\", line 1358, in __del__\n",
      ": can only test a child process\n",
      "    self._shutdown_workers()\n",
      "  File \"/home-nfs/raphaelr/miniconda/lib/python3.8/site-packages/torch/utils/data/dataloader.py\", line 1341, in _shutdown_workers\n",
      "    if w.is_alive():\n",
      "  File \"/home-nfs/raphaelr/miniconda/lib/python3.8/multiprocessing/process.py\", line 160, in is_alive\n",
      "    assert self._parent_pid == os.getpid(), 'can only test a child process'\n",
      "AssertionError: can only test a child process\n",
      "Exception ignored in: <function _MultiProcessingDataLoaderIter.__del__ at 0x7f4fb2b53670>\n",
      "Traceback (most recent call last):\n",
      "  File \"/home-nfs/raphaelr/miniconda/lib/python3.8/site-packages/torch/utils/data/dataloader.py\", line 1358, in __del__\n",
      "    self._shutdown_workers()\n",
      "  File \"/home-nfs/raphaelr/miniconda/lib/python3.8/site-packages/torch/utils/data/dataloader.py\", line 1341, in _shutdown_workers\n",
      "    if w.is_alive():\n",
      "  File \"/home-nfs/raphaelr/miniconda/lib/python3.8/multiprocessing/process.py\", line 160, in is_alive\n",
      "    assert self._parent_pid == os.getpid(), 'can only test a child process'\n",
      "AssertionError: can only test a child process\n"
     ]
    },
    {
     "name": "stdout",
     "output_type": "stream",
     "text": [
      "----- Epoch = 2 -----\n",
      "Val loss = 0.9722\n",
      "Val acc = 0.6572\n",
      "\n",
      "New best epoch, acc = 0.6572\n",
      "\n"
     ]
    },
    {
     "data": {
      "application/vnd.jupyter.widget-view+json": {
       "model_id": "f18eca3680eb48c88522a0ee6831474a",
       "version_major": 2,
       "version_minor": 0
      },
      "text/plain": [
       "Training loop:   0%|          | 0/195 [00:00<?, ?it/s]"
      ]
     },
     "metadata": {},
     "output_type": "display_data"
    },
    {
     "name": "stderr",
     "output_type": "stream",
     "text": [
      "Exception ignored in: <function _MultiProcessingDataLoaderIter.__del__ at 0x7f4fb2b53670>\n",
      "Traceback (most recent call last):\n",
      "Exception ignored in:   File \"/home-nfs/raphaelr/miniconda/lib/python3.8/site-packages/torch/utils/data/dataloader.py\", line 1358, in __del__\n",
      "<function _MultiProcessingDataLoaderIter.__del__ at 0x7f4fb2b53670>Exception ignored in: \n",
      "<function _MultiProcessingDataLoaderIter.__del__ at 0x7f4fb2b53670>    Traceback (most recent call last):\n",
      "\n",
      "self._shutdown_workers()  File \"/home-nfs/raphaelr/miniconda/lib/python3.8/site-packages/torch/utils/data/dataloader.py\", line 1358, in __del__\n",
      "Traceback (most recent call last):\n",
      "\n",
      "  File \"/home-nfs/raphaelr/miniconda/lib/python3.8/site-packages/torch/utils/data/dataloader.py\", line 1358, in __del__\n",
      "  File \"/home-nfs/raphaelr/miniconda/lib/python3.8/site-packages/torch/utils/data/dataloader.py\", line 1341, in _shutdown_workers\n",
      "    self._shutdown_workers()        \n",
      "self._shutdown_workers()if w.is_alive():  File \"/home-nfs/raphaelr/miniconda/lib/python3.8/site-packages/torch/utils/data/dataloader.py\", line 1341, in _shutdown_workers\n",
      "\n",
      "\n",
      "  File \"/home-nfs/raphaelr/miniconda/lib/python3.8/site-packages/torch/utils/data/dataloader.py\", line 1341, in _shutdown_workers\n",
      "  File \"/home-nfs/raphaelr/miniconda/lib/python3.8/multiprocessing/process.py\", line 160, in is_alive\n",
      "    if w.is_alive():        Exception ignored in: \n",
      "if w.is_alive():assert self._parent_pid == os.getpid(), 'can only test a child process'  File \"/home-nfs/raphaelr/miniconda/lib/python3.8/multiprocessing/process.py\", line 160, in is_alive\n",
      "<function _MultiProcessingDataLoaderIter.__del__ at 0x7f4fb2b53670>\n",
      "Exception ignored in: Exception ignored in: \n",
      "\n",
      "  File \"/home-nfs/raphaelr/miniconda/lib/python3.8/multiprocessing/process.py\", line 160, in is_alive\n",
      "    <function _MultiProcessingDataLoaderIter.__del__ at 0x7f4fb2b53670>AssertionError<function _MultiProcessingDataLoaderIter.__del__ at 0x7f4fb2b53670>    : Traceback (most recent call last):\n",
      "assert self._parent_pid == os.getpid(), 'can only test a child process'\n",
      "  File \"/home-nfs/raphaelr/miniconda/lib/python3.8/site-packages/torch/utils/data/dataloader.py\", line 1358, in __del__\n",
      "AssertionError:         can only test a child processself._shutdown_workers():       File \"/home-nfs/raphaelr/miniconda/lib/python3.8/site-packages/torch/utils/data/dataloader.py\", line 1358, in __del__\n",
      "self._shutdown_workers()Exception ignored in: \n",
      "\n",
      "self._shutdown_workers()AssertionErrorcan only test a child process\n",
      "<function _MultiProcessingDataLoaderIter.__del__ at 0x7f4fb2b53670>\n",
      "\n",
      "\n",
      "Traceback (most recent call last):\n",
      "\n",
      "\n",
      "Traceback (most recent call last):\n",
      "  File \"/home-nfs/raphaelr/miniconda/lib/python3.8/site-packages/torch/utils/data/dataloader.py\", line 1341, in _shutdown_workers\n",
      "  File \"/home-nfs/raphaelr/miniconda/lib/python3.8/site-packages/torch/utils/data/dataloader.py\", line 1341, in _shutdown_workers\n",
      "  File \"/home-nfs/raphaelr/miniconda/lib/python3.8/site-packages/torch/utils/data/dataloader.py\", line 1341, in _shutdown_workers\n",
      "Traceback (most recent call last):\n",
      "\n",
      "  File \"/home-nfs/raphaelr/miniconda/lib/python3.8/site-packages/torch/utils/data/dataloader.py\", line 1358, in __del__\n",
      "assert self._parent_pid == os.getpid(), 'can only test a child process'can only test a child process\n",
      "  File \"/home-nfs/raphaelr/miniconda/lib/python3.8/site-packages/torch/utils/data/dataloader.py\", line 1358, in __del__\n",
      "            Exception ignored in:     if w.is_alive():Exception ignored in: <function _MultiProcessingDataLoaderIter.__del__ at 0x7f4fb2b53670>\n",
      "Exception ignored in: if w.is_alive():<function _MultiProcessingDataLoaderIter.__del__ at 0x7f4fb2b53670>\n",
      "  File \"/home-nfs/raphaelr/miniconda/lib/python3.8/multiprocessing/process.py\", line 160, in is_alive\n",
      "\n",
      "<function _MultiProcessingDataLoaderIter.__del__ at 0x7f4fb2b53670>\n",
      "Traceback (most recent call last):\n",
      "if w.is_alive():\n",
      "      File \"/home-nfs/raphaelr/miniconda/lib/python3.8/site-packages/torch/utils/data/dataloader.py\", line 1358, in __del__\n",
      "Traceback (most recent call last):\n",
      "self._shutdown_workers()\n",
      "assert self._parent_pid == os.getpid(), 'can only test a child process'  File \"/home-nfs/raphaelr/miniconda/lib/python3.8/multiprocessing/process.py\", line 160, in is_alive\n",
      "  File \"/home-nfs/raphaelr/miniconda/lib/python3.8/site-packages/torch/utils/data/dataloader.py\", line 1358, in __del__\n",
      "Traceback (most recent call last):\n",
      "\n",
      "  File \"/home-nfs/raphaelr/miniconda/lib/python3.8/multiprocessing/process.py\", line 160, in is_alive\n",
      "\n",
      "          File \"/home-nfs/raphaelr/miniconda/lib/python3.8/site-packages/torch/utils/data/dataloader.py\", line 1358, in __del__\n",
      "AssertionError  File \"/home-nfs/raphaelr/miniconda/lib/python3.8/site-packages/torch/utils/data/dataloader.py\", line 1341, in _shutdown_workers\n",
      "self._shutdown_workers()    assert self._parent_pid == os.getpid(), 'can only test a child process'    : \n",
      "assert self._parent_pid == os.getpid(), 'can only test a child process'        \n",
      "can only test a child processself._shutdown_workers()\n",
      "  File \"/home-nfs/raphaelr/miniconda/lib/python3.8/site-packages/torch/utils/data/dataloader.py\", line 1341, in _shutdown_workers\n",
      "if w.is_alive():self._shutdown_workers()\n",
      "AssertionError\n",
      "AssertionError\n",
      "\n",
      "      File \"/home-nfs/raphaelr/miniconda/lib/python3.8/site-packages/torch/utils/data/dataloader.py\", line 1341, in _shutdown_workers\n",
      ": :   File \"/home-nfs/raphaelr/miniconda/lib/python3.8/multiprocessing/process.py\", line 160, in is_alive\n",
      "  File \"/home-nfs/raphaelr/miniconda/lib/python3.8/site-packages/torch/utils/data/dataloader.py\", line 1341, in _shutdown_workers\n",
      "if w.is_alive():can only test a child processcan only test a child process\n",
      "Exception ignored in: \n",
      "    \n",
      "          File \"/home-nfs/raphaelr/miniconda/lib/python3.8/multiprocessing/process.py\", line 160, in is_alive\n",
      "<function _MultiProcessingDataLoaderIter.__del__ at 0x7f4fb2b53670>if w.is_alive():if w.is_alive():\n",
      "\n",
      "    \n",
      "assert self._parent_pid == os.getpid(), 'can only test a child process'  File \"/home-nfs/raphaelr/miniconda/lib/python3.8/multiprocessing/process.py\", line 160, in is_alive\n",
      "Traceback (most recent call last):\n",
      "assert self._parent_pid == os.getpid(), 'can only test a child process'  File \"/home-nfs/raphaelr/miniconda/lib/python3.8/multiprocessing/process.py\", line 160, in is_alive\n",
      "Exception ignored in: Exception ignored in:   File \"/home-nfs/raphaelr/miniconda/lib/python3.8/site-packages/torch/utils/data/dataloader.py\", line 1358, in __del__\n",
      "\n",
      "\n",
      "<function _MultiProcessingDataLoaderIter.__del__ at 0x7f4fb2b53670>    AssertionError<function _MultiProcessingDataLoaderIter.__del__ at 0x7f4fb2b53670>AssertionError    assert self._parent_pid == os.getpid(), 'can only test a child process'\n",
      ": : \n",
      "self._shutdown_workers()    \n",
      "Traceback (most recent call last):\n",
      "can only test a child processcan only test a child processTraceback (most recent call last):\n",
      "\n",
      "assert self._parent_pid == os.getpid(), 'can only test a child process'AssertionError\n",
      "  File \"/home-nfs/raphaelr/miniconda/lib/python3.8/site-packages/torch/utils/data/dataloader.py\", line 1358, in __del__\n",
      "  File \"/home-nfs/raphaelr/miniconda/lib/python3.8/site-packages/torch/utils/data/dataloader.py\", line 1358, in __del__\n",
      "  File \"/home-nfs/raphaelr/miniconda/lib/python3.8/site-packages/torch/utils/data/dataloader.py\", line 1341, in _shutdown_workers\n",
      "\n",
      "\n",
      ": AssertionError    can only test a child process        : \n",
      "self._shutdown_workers()self._shutdown_workers()if w.is_alive():can only test a child process\n",
      "\n",
      "\n",
      "\n",
      "  File \"/home-nfs/raphaelr/miniconda/lib/python3.8/site-packages/torch/utils/data/dataloader.py\", line 1341, in _shutdown_workers\n",
      "  File \"/home-nfs/raphaelr/miniconda/lib/python3.8/site-packages/torch/utils/data/dataloader.py\", line 1341, in _shutdown_workers\n",
      "  File \"/home-nfs/raphaelr/miniconda/lib/python3.8/multiprocessing/process.py\", line 160, in is_alive\n",
      "            assert self._parent_pid == os.getpid(), 'can only test a child process'if w.is_alive():if w.is_alive():\n",
      "Exception ignored in: \n",
      "AssertionError\n",
      "<function _MultiProcessingDataLoaderIter.__del__ at 0x7f4fb2b53670>  File \"/home-nfs/raphaelr/miniconda/lib/python3.8/multiprocessing/process.py\", line 160, in is_alive\n",
      ":   File \"/home-nfs/raphaelr/miniconda/lib/python3.8/multiprocessing/process.py\", line 160, in is_alive\n"
     ]
    },
    {
     "name": "stderr",
     "output_type": "stream",
     "text": [
      "\n",
      "can only test a child processTraceback (most recent call last):\n",
      "    \n",
      "  File \"/home-nfs/raphaelr/miniconda/lib/python3.8/site-packages/torch/utils/data/dataloader.py\", line 1358, in __del__\n",
      "assert self._parent_pid == os.getpid(), 'can only test a child process'\n",
      "    AssertionErrorself._shutdown_workers(): \n",
      "can only test a child process  File \"/home-nfs/raphaelr/miniconda/lib/python3.8/site-packages/torch/utils/data/dataloader.py\", line 1341, in _shutdown_workers\n",
      "\n",
      "    if w.is_alive():\n",
      "      File \"/home-nfs/raphaelr/miniconda/lib/python3.8/multiprocessing/process.py\", line 160, in is_alive\n",
      "assert self._parent_pid == os.getpid(), 'can only test a child process'    \n",
      "assert self._parent_pid == os.getpid(), 'can only test a child process'AssertionError\n",
      ": AssertionErrorcan only test a child process: \n",
      "can only test a child process\n"
     ]
    },
    {
     "name": "stdout",
     "output_type": "stream",
     "text": [
      "----- Epoch = 3 -----\n",
      "Val loss = 0.7542\n",
      "Val acc = 0.7387\n",
      "\n",
      "New best epoch, acc = 0.7387\n",
      "\n"
     ]
    },
    {
     "data": {
      "application/vnd.jupyter.widget-view+json": {
       "model_id": "8935ccb0ff8e4093a52360c0b476e213",
       "version_major": 2,
       "version_minor": 0
      },
      "text/plain": [
       "Training loop:   0%|          | 0/195 [00:00<?, ?it/s]"
      ]
     },
     "metadata": {},
     "output_type": "display_data"
    },
    {
     "name": "stdout",
     "output_type": "stream",
     "text": [
      "----- Epoch = 4 -----\n",
      "Val loss = 0.7108\n",
      "Val acc = 0.7603\n",
      "\n",
      "New best epoch, acc = 0.7603\n",
      "\n"
     ]
    },
    {
     "data": {
      "application/vnd.jupyter.widget-view+json": {
       "model_id": "071b72572582435fade15c2a41f1da22",
       "version_major": 2,
       "version_minor": 0
      },
      "text/plain": [
       "Training loop:   0%|          | 0/195 [00:00<?, ?it/s]"
      ]
     },
     "metadata": {},
     "output_type": "display_data"
    },
    {
     "name": "stdout",
     "output_type": "stream",
     "text": [
      "----- Epoch = 5 -----\n",
      "Val loss = 0.5876\n",
      "Val acc = 0.7957\n",
      "\n",
      "New best epoch, acc = 0.7957\n",
      "\n"
     ]
    },
    {
     "data": {
      "application/vnd.jupyter.widget-view+json": {
       "model_id": "0fecade401d449bfb244d730d486b548",
       "version_major": 2,
       "version_minor": 0
      },
      "text/plain": [
       "Training loop:   0%|          | 0/195 [00:00<?, ?it/s]"
      ]
     },
     "metadata": {},
     "output_type": "display_data"
    },
    {
     "name": "stdout",
     "output_type": "stream",
     "text": [
      "----- Epoch = 6 -----\n",
      "Val loss = 0.5611\n",
      "Val acc = 0.8116\n",
      "\n",
      "New best epoch, acc = 0.8116\n",
      "\n"
     ]
    },
    {
     "data": {
      "application/vnd.jupyter.widget-view+json": {
       "model_id": "0f2d4fb51c614dd4a689b416947fd77a",
       "version_major": 2,
       "version_minor": 0
      },
      "text/plain": [
       "Training loop:   0%|          | 0/195 [00:00<?, ?it/s]"
      ]
     },
     "metadata": {},
     "output_type": "display_data"
    },
    {
     "name": "stdout",
     "output_type": "stream",
     "text": [
      "----- Epoch = 7 -----\n",
      "Val loss = 0.5044\n",
      "Val acc = 0.8251\n",
      "\n",
      "New best epoch, acc = 0.8251\n",
      "\n"
     ]
    },
    {
     "data": {
      "application/vnd.jupyter.widget-view+json": {
       "model_id": "144e0ccbcc544624bcbdea36b076cbd8",
       "version_major": 2,
       "version_minor": 0
      },
      "text/plain": [
       "Training loop:   0%|          | 0/195 [00:00<?, ?it/s]"
      ]
     },
     "metadata": {},
     "output_type": "display_data"
    },
    {
     "name": "stderr",
     "output_type": "stream",
     "text": [
      "Exception ignored in: <function _MultiProcessingDataLoaderIter.__del__ at 0x7f4fb2b53670>\n",
      "Traceback (most recent call last):\n",
      "  File \"/home-nfs/raphaelr/miniconda/lib/python3.8/site-packages/torch/utils/data/dataloader.py\", line 1358, in __del__\n",
      "    self._shutdown_workers()\n",
      "  File \"/home-nfs/raphaelr/miniconda/lib/python3.8/site-packages/torch/utils/data/dataloader.py\", line 1341, in _shutdown_workers\n",
      "    if w.is_alive():\n",
      "  File \"/home-nfs/raphaelr/miniconda/lib/python3.8/multiprocessing/process.py\", line 160, in is_alive\n",
      "    assert self._parent_pid == os.getpid(), 'can only test a child process'\n",
      "AssertionError: can only test a child process\n",
      "Exception ignored in: <function _MultiProcessingDataLoaderIter.__del__ at 0x7f4fb2b53670>\n",
      "Traceback (most recent call last):\n",
      "  File \"/home-nfs/raphaelr/miniconda/lib/python3.8/site-packages/torch/utils/data/dataloader.py\", line 1358, in __del__\n",
      "    self._shutdown_workers()Exception ignored in: <function _MultiProcessingDataLoaderIter.__del__ at 0x7f4fb2b53670>\n",
      "\n",
      "Traceback (most recent call last):\n",
      "  File \"/home-nfs/raphaelr/miniconda/lib/python3.8/site-packages/torch/utils/data/dataloader.py\", line 1341, in _shutdown_workers\n",
      "    if w.is_alive():\n",
      "  File \"/home-nfs/raphaelr/miniconda/lib/python3.8/multiprocessing/process.py\", line 160, in is_alive\n",
      "  File \"/home-nfs/raphaelr/miniconda/lib/python3.8/site-packages/torch/utils/data/dataloader.py\", line 1358, in __del__\n",
      "    assert self._parent_pid == os.getpid(), 'can only test a child process'\n",
      "AssertionError:     Exception ignored in: self._shutdown_workers()can only test a child process\n",
      "<function _MultiProcessingDataLoaderIter.__del__ at 0x7f4fb2b53670>\n",
      "\n",
      "Traceback (most recent call last):\n",
      "  File \"/home-nfs/raphaelr/miniconda/lib/python3.8/site-packages/torch/utils/data/dataloader.py\", line 1341, in _shutdown_workers\n",
      "  File \"/home-nfs/raphaelr/miniconda/lib/python3.8/site-packages/torch/utils/data/dataloader.py\", line 1358, in __del__\n",
      "    if w.is_alive():\n",
      "  File \"/home-nfs/raphaelr/miniconda/lib/python3.8/multiprocessing/process.py\", line 160, in is_alive\n",
      "Exception ignored in: <function _MultiProcessingDataLoaderIter.__del__ at 0x7f4fb2b53670>\n",
      "    Traceback (most recent call last):\n",
      "self._shutdown_workers()  File \"/home-nfs/raphaelr/miniconda/lib/python3.8/site-packages/torch/utils/data/dataloader.py\", line 1358, in __del__\n",
      "\n",
      "  File \"/home-nfs/raphaelr/miniconda/lib/python3.8/site-packages/torch/utils/data/dataloader.py\", line 1341, in _shutdown_workers\n",
      "    Exception ignored in: self._shutdown_workers()    <function _MultiProcessingDataLoaderIter.__del__ at 0x7f4fb2b53670>if w.is_alive():\n",
      "\n",
      "Traceback (most recent call last):\n",
      "      File \"/home-nfs/raphaelr/miniconda/lib/python3.8/multiprocessing/process.py\", line 160, in is_alive\n",
      "  File \"/home-nfs/raphaelr/miniconda/lib/python3.8/site-packages/torch/utils/data/dataloader.py\", line 1358, in __del__\n",
      "\n",
      "assert self._parent_pid == os.getpid(), 'can only test a child process'  File \"/home-nfs/raphaelr/miniconda/lib/python3.8/site-packages/torch/utils/data/dataloader.py\", line 1341, in _shutdown_workers\n",
      "        assert self._parent_pid == os.getpid(), 'can only test a child process'\n",
      "    self._shutdown_workers()\n",
      "AssertionError\n",
      "AssertionErrorif w.is_alive():  File \"/home-nfs/raphaelr/miniconda/lib/python3.8/site-packages/torch/utils/data/dataloader.py\", line 1341, in _shutdown_workers\n",
      ": : \n",
      "can only test a child process  File \"/home-nfs/raphaelr/miniconda/lib/python3.8/multiprocessing/process.py\", line 160, in is_alive\n",
      "    \n",
      "if w.is_alive():    can only test a child process\n",
      "assert self._parent_pid == os.getpid(), 'can only test a child process'\n",
      "  File \"/home-nfs/raphaelr/miniconda/lib/python3.8/multiprocessing/process.py\", line 160, in is_alive\n",
      "\n",
      "    Exception ignored in: assert self._parent_pid == os.getpid(), 'can only test a child process'AssertionError\n",
      "<function _MultiProcessingDataLoaderIter.__del__ at 0x7f4fb2b53670>: Exception ignored in: \n",
      "AssertionErrorcan only test a child process<function _MultiProcessingDataLoaderIter.__del__ at 0x7f4fb2b53670>: Traceback (most recent call last):\n",
      "\n",
      "can only test a child process  File \"/home-nfs/raphaelr/miniconda/lib/python3.8/site-packages/torch/utils/data/dataloader.py\", line 1358, in __del__\n",
      "\n",
      "\n",
      "Traceback (most recent call last):\n",
      "      File \"/home-nfs/raphaelr/miniconda/lib/python3.8/site-packages/torch/utils/data/dataloader.py\", line 1358, in __del__\n",
      "self._shutdown_workers()\n",
      "    Exception ignored in: Exception ignored in: self._shutdown_workers()<function _MultiProcessingDataLoaderIter.__del__ at 0x7f4fb2b53670><function _MultiProcessingDataLoaderIter.__del__ at 0x7f4fb2b53670>\n",
      "\n",
      "  File \"/home-nfs/raphaelr/miniconda/lib/python3.8/site-packages/torch/utils/data/dataloader.py\", line 1341, in _shutdown_workers\n",
      "  File \"/home-nfs/raphaelr/miniconda/lib/python3.8/site-packages/torch/utils/data/dataloader.py\", line 1341, in _shutdown_workers\n",
      "Traceback (most recent call last):\n",
      "  File \"/home-nfs/raphaelr/miniconda/lib/python3.8/site-packages/torch/utils/data/dataloader.py\", line 1358, in __del__\n",
      "    if w.is_alive():\n",
      "  File \"/home-nfs/raphaelr/miniconda/lib/python3.8/multiprocessing/process.py\", line 160, in is_alive\n",
      "        if w.is_alive():\n",
      "assert self._parent_pid == os.getpid(), 'can only test a child process'  File \"/home-nfs/raphaelr/miniconda/lib/python3.8/multiprocessing/process.py\", line 160, in is_alive\n",
      "\n",
      "    AssertionError: assert self._parent_pid == os.getpid(), 'can only test a child process'\n",
      "can only test a child process\n",
      "AssertionError: can only test a child process\n",
      "Exception ignored in: <function _MultiProcessingDataLoaderIter.__del__ at 0x7f4fb2b53670>    \n",
      "Exception ignored in: <function _MultiProcessingDataLoaderIter.__del__ at 0x7f4fb2b53670>\n",
      "Traceback (most recent call last):\n",
      "  File \"/home-nfs/raphaelr/miniconda/lib/python3.8/site-packages/torch/utils/data/dataloader.py\", line 1358, in __del__\n",
      "    self._shutdown_workers()\n",
      "Traceback (most recent call last):\n",
      "  File \"/home-nfs/raphaelr/miniconda/lib/python3.8/site-packages/torch/utils/data/dataloader.py\", line 1341, in _shutdown_workers\n",
      "  File \"/home-nfs/raphaelr/miniconda/lib/python3.8/site-packages/torch/utils/data/dataloader.py\", line 1358, in __del__\n",
      "    self._shutdown_workers()    if w.is_alive():self._shutdown_workers()\n",
      "\n",
      "  File \"/home-nfs/raphaelr/miniconda/lib/python3.8/multiprocessing/process.py\", line 160, in is_alive\n",
      "\n",
      "  File \"/home-nfs/raphaelr/miniconda/lib/python3.8/site-packages/torch/utils/data/dataloader.py\", line 1341, in _shutdown_workers\n",
      "    Traceback (most recent call last):\n",
      "\n",
      "assert self._parent_pid == os.getpid(), 'can only test a child process'      File \"/home-nfs/raphaelr/miniconda/lib/python3.8/site-packages/torch/utils/data/dataloader.py\", line 1358, in __del__\n",
      "\n",
      "  File \"/home-nfs/raphaelr/miniconda/lib/python3.8/site-packages/torch/utils/data/dataloader.py\", line 1341, in _shutdown_workers\n",
      "AssertionError        if w.is_alive():: if w.is_alive():can only test a child process\n",
      "self._shutdown_workers()\n",
      "  File \"/home-nfs/raphaelr/miniconda/lib/python3.8/multiprocessing/process.py\", line 160, in is_alive\n",
      "\n",
      "\n",
      "  File \"/home-nfs/raphaelr/miniconda/lib/python3.8/multiprocessing/process.py\", line 160, in is_alive\n",
      "  File \"/home-nfs/raphaelr/miniconda/lib/python3.8/site-packages/torch/utils/data/dataloader.py\", line 1341, in _shutdown_workers\n",
      "    assert self._parent_pid == os.getpid(), 'can only test a child process'        \n",
      "assert self._parent_pid == os.getpid(), 'can only test a child process'if w.is_alive():AssertionError\n",
      "\n",
      "AssertionError: <function _MultiProcessingDataLoaderIter.__del__ at 0x7f4fb2b53670>Exception ignored in: :   File \"/home-nfs/raphaelr/miniconda/lib/python3.8/multiprocessing/process.py\", line 160, in is_alive\n",
      "can only test a child processcan only test a child process    \n",
      "\n",
      "assert self._parent_pid == os.getpid(), 'can only test a child process'Traceback (most recent call last):\n",
      "\n",
      "\n",
      "  File \"/home-nfs/raphaelr/miniconda/lib/python3.8/site-packages/torch/utils/data/dataloader.py\", line 1358, in __del__\n",
      "AssertionError    : can only test a child processself._shutdown_workers()\n",
      "Exception ignored in: \n",
      "<function _MultiProcessingDataLoaderIter.__del__ at 0x7f4fb2b53670>  File \"/home-nfs/raphaelr/miniconda/lib/python3.8/site-packages/torch/utils/data/dataloader.py\", line 1341, in _shutdown_workers\n"
     ]
    },
    {
     "name": "stderr",
     "output_type": "stream",
     "text": [
      "\n",
      "Traceback (most recent call last):\n",
      "Exception ignored in:   File \"/home-nfs/raphaelr/miniconda/lib/python3.8/site-packages/torch/utils/data/dataloader.py\", line 1358, in __del__\n",
      "    if w.is_alive():    <function _MultiProcessingDataLoaderIter.__del__ at 0x7f4fb2b53670>self._shutdown_workers()\n",
      "\n",
      "\n",
      "Traceback (most recent call last):\n",
      "  File \"/home-nfs/raphaelr/miniconda/lib/python3.8/site-packages/torch/utils/data/dataloader.py\", line 1341, in _shutdown_workers\n",
      "  File \"/home-nfs/raphaelr/miniconda/lib/python3.8/multiprocessing/process.py\", line 160, in is_alive\n",
      "  File \"/home-nfs/raphaelr/miniconda/lib/python3.8/site-packages/torch/utils/data/dataloader.py\", line 1358, in __del__\n",
      "        if w.is_alive():    \n",
      "assert self._parent_pid == os.getpid(), 'can only test a child process'self._shutdown_workers()  File \"/home-nfs/raphaelr/miniconda/lib/python3.8/multiprocessing/process.py\", line 160, in is_alive\n",
      "\n",
      "\n",
      "AssertionError      File \"/home-nfs/raphaelr/miniconda/lib/python3.8/site-packages/torch/utils/data/dataloader.py\", line 1341, in _shutdown_workers\n",
      ": assert self._parent_pid == os.getpid(), 'can only test a child process'\n",
      "    can only test a child processAssertionErrorif w.is_alive():\n",
      ": \n",
      "can only test a child process  File \"/home-nfs/raphaelr/miniconda/lib/python3.8/multiprocessing/process.py\", line 160, in is_alive\n",
      "\n",
      "    assert self._parent_pid == os.getpid(), 'can only test a child process'\n",
      "AssertionError: can only test a child process\n",
      "Exception ignored in: <function _MultiProcessingDataLoaderIter.__del__ at 0x7f4fb2b53670>\n",
      "Traceback (most recent call last):\n",
      "  File \"/home-nfs/raphaelr/miniconda/lib/python3.8/site-packages/torch/utils/data/dataloader.py\", line 1358, in __del__\n",
      "    self._shutdown_workers()\n",
      "  File \"/home-nfs/raphaelr/miniconda/lib/python3.8/site-packages/torch/utils/data/dataloader.py\", line 1341, in _shutdown_workers\n",
      "    if w.is_alive():\n",
      "  File \"/home-nfs/raphaelr/miniconda/lib/python3.8/multiprocessing/process.py\", line 160, in is_alive\n",
      "    assert self._parent_pid == os.getpid(), 'can only test a child process'\n",
      "AssertionError: can only test a child process\n",
      "Exception ignored in: <function _MultiProcessingDataLoaderIter.__del__ at 0x7f4fb2b53670>\n",
      "Traceback (most recent call last):\n",
      "  File \"/home-nfs/raphaelr/miniconda/lib/python3.8/site-packages/torch/utils/data/dataloader.py\", line 1358, in __del__\n",
      "    self._shutdown_workers()\n",
      "  File \"/home-nfs/raphaelr/miniconda/lib/python3.8/site-packages/torch/utils/data/dataloader.py\", line 1341, in _shutdown_workers\n",
      "    if w.is_alive():\n",
      "  File \"/home-nfs/raphaelr/miniconda/lib/python3.8/multiprocessing/process.py\", line 160, in is_alive\n",
      "    assert self._parent_pid == os.getpid(), 'can only test a child process'\n",
      "Exception ignored in: AssertionError<function _MultiProcessingDataLoaderIter.__del__ at 0x7f4fb2b53670>: \n",
      "can only test a child processTraceback (most recent call last):\n",
      "\n",
      "  File \"/home-nfs/raphaelr/miniconda/lib/python3.8/site-packages/torch/utils/data/dataloader.py\", line 1358, in __del__\n",
      "    self._shutdown_workers()\n",
      "  File \"/home-nfs/raphaelr/miniconda/lib/python3.8/site-packages/torch/utils/data/dataloader.py\", line 1341, in _shutdown_workers\n",
      "Exception ignored in:     <function _MultiProcessingDataLoaderIter.__del__ at 0x7f4fb2b53670>if w.is_alive():\n",
      "\n",
      "Traceback (most recent call last):\n",
      "  File \"/home-nfs/raphaelr/miniconda/lib/python3.8/multiprocessing/process.py\", line 160, in is_alive\n",
      "  File \"/home-nfs/raphaelr/miniconda/lib/python3.8/site-packages/torch/utils/data/dataloader.py\", line 1358, in __del__\n",
      "        assert self._parent_pid == os.getpid(), 'can only test a child process'self._shutdown_workers()\n",
      "\n",
      "AssertionError  File \"/home-nfs/raphaelr/miniconda/lib/python3.8/site-packages/torch/utils/data/dataloader.py\", line 1341, in _shutdown_workers\n",
      ": can only test a child process    \n",
      "if w.is_alive():\n",
      "  File \"/home-nfs/raphaelr/miniconda/lib/python3.8/multiprocessing/process.py\", line 160, in is_alive\n",
      "    assert self._parent_pid == os.getpid(), 'can only test a child process'Exception ignored in: \n",
      "<function _MultiProcessingDataLoaderIter.__del__ at 0x7f4fb2b53670>AssertionError\n",
      ": Traceback (most recent call last):\n",
      "can only test a child process  File \"/home-nfs/raphaelr/miniconda/lib/python3.8/site-packages/torch/utils/data/dataloader.py\", line 1358, in __del__\n",
      "\n",
      "    self._shutdown_workers()Exception ignored in: \n",
      "Exception ignored in: <function _MultiProcessingDataLoaderIter.__del__ at 0x7f4fb2b53670><function _MultiProcessingDataLoaderIter.__del__ at 0x7f4fb2b53670>  File \"/home-nfs/raphaelr/miniconda/lib/python3.8/site-packages/torch/utils/data/dataloader.py\", line 1341, in _shutdown_workers\n",
      "Exception ignored in: \n",
      "<function _MultiProcessingDataLoaderIter.__del__ at 0x7f4fb2b53670>\n",
      "Traceback (most recent call last):\n",
      "Traceback (most recent call last):\n",
      "    \n",
      "  File \"/home-nfs/raphaelr/miniconda/lib/python3.8/site-packages/torch/utils/data/dataloader.py\", line 1358, in __del__\n",
      "  File \"/home-nfs/raphaelr/miniconda/lib/python3.8/site-packages/torch/utils/data/dataloader.py\", line 1358, in __del__\n",
      "if w.is_alive():\n",
      "    Traceback (most recent call last):\n",
      "  File \"/home-nfs/raphaelr/miniconda/lib/python3.8/site-packages/torch/utils/data/dataloader.py\", line 1358, in __del__\n",
      "  File \"/home-nfs/raphaelr/miniconda/lib/python3.8/multiprocessing/process.py\", line 160, in is_alive\n",
      "    self._shutdown_workers()self._shutdown_workers()\n",
      "        \n",
      "assert self._parent_pid == os.getpid(), 'can only test a child process'  File \"/home-nfs/raphaelr/miniconda/lib/python3.8/site-packages/torch/utils/data/dataloader.py\", line 1341, in _shutdown_workers\n",
      "self._shutdown_workers()  File \"/home-nfs/raphaelr/miniconda/lib/python3.8/site-packages/torch/utils/data/dataloader.py\", line 1341, in _shutdown_workers\n",
      "\n",
      "\n",
      "    AssertionError  File \"/home-nfs/raphaelr/miniconda/lib/python3.8/site-packages/torch/utils/data/dataloader.py\", line 1341, in _shutdown_workers\n",
      "    if w.is_alive():: if w.is_alive():\n",
      "can only test a child process      File \"/home-nfs/raphaelr/miniconda/lib/python3.8/multiprocessing/process.py\", line 160, in is_alive\n",
      "\n",
      "\n",
      "if w.is_alive():      File \"/home-nfs/raphaelr/miniconda/lib/python3.8/multiprocessing/process.py\", line 160, in is_alive\n",
      "\n",
      "assert self._parent_pid == os.getpid(), 'can only test a child process'  File \"/home-nfs/raphaelr/miniconda/lib/python3.8/multiprocessing/process.py\", line 160, in is_alive\n",
      "    \n",
      "assert self._parent_pid == os.getpid(), 'can only test a child process'    AssertionError\n",
      "Exception ignored in: assert self._parent_pid == os.getpid(), 'can only test a child process': AssertionError<function _MultiProcessingDataLoaderIter.__del__ at 0x7f4fb2b53670>\n",
      "can only test a child process: \n",
      "AssertionError\n",
      "can only test a child processTraceback (most recent call last):\n",
      ": \n",
      "can only test a child process  File \"/home-nfs/raphaelr/miniconda/lib/python3.8/site-packages/torch/utils/data/dataloader.py\", line 1358, in __del__\n",
      "\n",
      "    Exception ignored in: self._shutdown_workers()<function _MultiProcessingDataLoaderIter.__del__ at 0x7f4fb2b53670>Exception ignored in: \n",
      "\n",
      "  File \"/home-nfs/raphaelr/miniconda/lib/python3.8/site-packages/torch/utils/data/dataloader.py\", line 1341, in _shutdown_workers\n",
      "<function _MultiProcessingDataLoaderIter.__del__ at 0x7f4fb2b53670>Traceback (most recent call last):\n",
      "Exception ignored in: \n",
      "  File \"/home-nfs/raphaelr/miniconda/lib/python3.8/site-packages/torch/utils/data/dataloader.py\", line 1358, in __del__\n",
      "<function _MultiProcessingDataLoaderIter.__del__ at 0x7f4fb2b53670>    Traceback (most recent call last):\n",
      "if w.is_alive():\n",
      "  File \"/home-nfs/raphaelr/miniconda/lib/python3.8/site-packages/torch/utils/data/dataloader.py\", line 1358, in __del__\n",
      "    Traceback (most recent call last):\n",
      "\n",
      "self._shutdown_workers()  File \"/home-nfs/raphaelr/miniconda/lib/python3.8/site-packages/torch/utils/data/dataloader.py\", line 1358, in __del__\n",
      "  File \"/home-nfs/raphaelr/miniconda/lib/python3.8/multiprocessing/process.py\", line 160, in is_alive\n",
      "    \n",
      "self._shutdown_workers()      File \"/home-nfs/raphaelr/miniconda/lib/python3.8/site-packages/torch/utils/data/dataloader.py\", line 1341, in _shutdown_workers\n",
      "    \n"
     ]
    },
    {
     "name": "stderr",
     "output_type": "stream",
     "text": [
      "assert self._parent_pid == os.getpid(), 'can only test a child process'self._shutdown_workers()  File \"/home-nfs/raphaelr/miniconda/lib/python3.8/site-packages/torch/utils/data/dataloader.py\", line 1341, in _shutdown_workers\n",
      "\n",
      "    \n",
      "if w.is_alive():AssertionError  File \"/home-nfs/raphaelr/miniconda/lib/python3.8/site-packages/torch/utils/data/dataloader.py\", line 1341, in _shutdown_workers\n",
      "    \n",
      ": if w.is_alive():  File \"/home-nfs/raphaelr/miniconda/lib/python3.8/multiprocessing/process.py\", line 160, in is_alive\n",
      "can only test a child process    \n",
      "\n",
      "    if w.is_alive():  File \"/home-nfs/raphaelr/miniconda/lib/python3.8/multiprocessing/process.py\", line 160, in is_alive\n",
      "assert self._parent_pid == os.getpid(), 'can only test a child process'\n",
      "    \n",
      "  File \"/home-nfs/raphaelr/miniconda/lib/python3.8/multiprocessing/process.py\", line 160, in is_alive\n",
      "assert self._parent_pid == os.getpid(), 'can only test a child process'AssertionError\n",
      "    : Exception ignored in: AssertionErrorassert self._parent_pid == os.getpid(), 'can only test a child process'can only test a child process<function _MultiProcessingDataLoaderIter.__del__ at 0x7f4fb2b53670>: \n",
      "\n",
      "\n",
      "can only test a child processAssertionErrorTraceback (most recent call last):\n",
      "\n",
      ":   File \"/home-nfs/raphaelr/miniconda/lib/python3.8/site-packages/torch/utils/data/dataloader.py\", line 1358, in __del__\n",
      "can only test a child process\n",
      "    Exception ignored in: self._shutdown_workers()<function _MultiProcessingDataLoaderIter.__del__ at 0x7f4fb2b53670>Exception ignored in: \n",
      "\n",
      "  File \"/home-nfs/raphaelr/miniconda/lib/python3.8/site-packages/torch/utils/data/dataloader.py\", line 1341, in _shutdown_workers\n",
      "<function _MultiProcessingDataLoaderIter.__del__ at 0x7f4fb2b53670>Traceback (most recent call last):\n",
      "\n",
      "Exception ignored in:     Traceback (most recent call last):\n",
      "<function _MultiProcessingDataLoaderIter.__del__ at 0x7f4fb2b53670>  File \"/home-nfs/raphaelr/miniconda/lib/python3.8/site-packages/torch/utils/data/dataloader.py\", line 1358, in __del__\n",
      "  File \"/home-nfs/raphaelr/miniconda/lib/python3.8/site-packages/torch/utils/data/dataloader.py\", line 1358, in __del__\n",
      "if w.is_alive():\n",
      "Traceback (most recent call last):\n",
      "      File \"/home-nfs/raphaelr/miniconda/lib/python3.8/site-packages/torch/utils/data/dataloader.py\", line 1358, in __del__\n",
      "self._shutdown_workers()    \n",
      "self._shutdown_workers()      File \"/home-nfs/raphaelr/miniconda/lib/python3.8/site-packages/torch/utils/data/dataloader.py\", line 1341, in _shutdown_workers\n",
      "\n",
      "self._shutdown_workers()  File \"/home-nfs/raphaelr/miniconda/lib/python3.8/site-packages/torch/utils/data/dataloader.py\", line 1341, in _shutdown_workers\n",
      "\n",
      "      File \"/home-nfs/raphaelr/miniconda/lib/python3.8/site-packages/torch/utils/data/dataloader.py\", line 1341, in _shutdown_workers\n",
      "if w.is_alive():    \n",
      "if w.is_alive():      File \"/home-nfs/raphaelr/miniconda/lib/python3.8/multiprocessing/process.py\", line 160, in is_alive\n",
      "\n",
      "if w.is_alive():  File \"/home-nfs/raphaelr/miniconda/lib/python3.8/multiprocessing/process.py\", line 160, in is_alive\n",
      "\n",
      "      File \"/home-nfs/raphaelr/miniconda/lib/python3.8/multiprocessing/process.py\", line 160, in is_alive\n",
      "    assert self._parent_pid == os.getpid(), 'can only test a child process'assert self._parent_pid == os.getpid(), 'can only test a child process'    \n",
      "\n",
      "assert self._parent_pid == os.getpid(), 'can only test a child process'AssertionError\n",
      "\n",
      "AssertionError: : can only test a child process  File \"/home-nfs/raphaelr/miniconda/lib/python3.8/multiprocessing/process.py\", line 160, in is_alive\n",
      "can only test a child process\n",
      "AssertionError\n",
      ":     can only test a child processassert self._parent_pid == os.getpid(), 'can only test a child process'\n",
      "\n",
      "AssertionErrorException ignored in: Exception ignored in: : <function _MultiProcessingDataLoaderIter.__del__ at 0x7f4fb2b53670><function _MultiProcessingDataLoaderIter.__del__ at 0x7f4fb2b53670>can only test a child process\n",
      "\n",
      "Traceback (most recent call last):\n",
      "\n",
      "Traceback (most recent call last):\n",
      "  File \"/home-nfs/raphaelr/miniconda/lib/python3.8/site-packages/torch/utils/data/dataloader.py\", line 1358, in __del__\n",
      "  File \"/home-nfs/raphaelr/miniconda/lib/python3.8/site-packages/torch/utils/data/dataloader.py\", line 1358, in __del__\n",
      "        self._shutdown_workers()self._shutdown_workers()Exception ignored in: \n",
      "\n",
      "<function _MultiProcessingDataLoaderIter.__del__ at 0x7f4fb2b53670>  File \"/home-nfs/raphaelr/miniconda/lib/python3.8/site-packages/torch/utils/data/dataloader.py\", line 1341, in _shutdown_workers\n",
      "  File \"/home-nfs/raphaelr/miniconda/lib/python3.8/site-packages/torch/utils/data/dataloader.py\", line 1341, in _shutdown_workers\n",
      "\n",
      "Traceback (most recent call last):\n",
      "          File \"/home-nfs/raphaelr/miniconda/lib/python3.8/site-packages/torch/utils/data/dataloader.py\", line 1358, in __del__\n",
      "if w.is_alive():if w.is_alive():\n",
      "\n",
      "  File \"/home-nfs/raphaelr/miniconda/lib/python3.8/multiprocessing/process.py\", line 160, in is_alive\n",
      "  File \"/home-nfs/raphaelr/miniconda/lib/python3.8/multiprocessing/process.py\", line 160, in is_alive\n",
      "            assert self._parent_pid == os.getpid(), 'can only test a child process'assert self._parent_pid == os.getpid(), 'can only test a child process'self._shutdown_workers()\n",
      "\n",
      "\n",
      "AssertionError  File \"/home-nfs/raphaelr/miniconda/lib/python3.8/site-packages/torch/utils/data/dataloader.py\", line 1341, in _shutdown_workers\n",
      "AssertionError: : can only test a child process    can only test a child process\n",
      "if w.is_alive():\n",
      "\n",
      "  File \"/home-nfs/raphaelr/miniconda/lib/python3.8/multiprocessing/process.py\", line 160, in is_alive\n",
      "    Exception ignored in: Exception ignored in: assert self._parent_pid == os.getpid(), 'can only test a child process'<function _MultiProcessingDataLoaderIter.__del__ at 0x7f4fb2b53670><function _MultiProcessingDataLoaderIter.__del__ at 0x7f4fb2b53670>\n",
      "\n",
      "\n",
      "AssertionErrorTraceback (most recent call last):\n",
      "Traceback (most recent call last):\n",
      ":   File \"/home-nfs/raphaelr/miniconda/lib/python3.8/site-packages/torch/utils/data/dataloader.py\", line 1358, in __del__\n",
      "can only test a child process  File \"/home-nfs/raphaelr/miniconda/lib/python3.8/site-packages/torch/utils/data/dataloader.py\", line 1358, in __del__\n",
      "\n",
      "    self._shutdown_workers()\n",
      "  File \"/home-nfs/raphaelr/miniconda/lib/python3.8/site-packages/torch/utils/data/dataloader.py\", line 1341, in _shutdown_workers\n",
      "    self._shutdown_workers()    \n",
      "if w.is_alive():  File \"/home-nfs/raphaelr/miniconda/lib/python3.8/site-packages/torch/utils/data/dataloader.py\", line 1341, in _shutdown_workers\n",
      "\n",
      "      File \"/home-nfs/raphaelr/miniconda/lib/python3.8/multiprocessing/process.py\", line 160, in is_alive\n",
      "if w.is_alive():\n",
      "      File \"/home-nfs/raphaelr/miniconda/lib/python3.8/multiprocessing/process.py\", line 160, in is_alive\n",
      "assert self._parent_pid == os.getpid(), 'can only test a child process'\n",
      "    AssertionErrorassert self._parent_pid == os.getpid(), 'can only test a child process': \n",
      "can only test a child processAssertionError: \n",
      "can only test a child process\n"
     ]
    },
    {
     "name": "stdout",
     "output_type": "stream",
     "text": [
      "----- Epoch = 8 -----\n",
      "Val loss = 0.4961\n",
      "Val acc = 0.8304\n",
      "\n",
      "New best epoch, acc = 0.8304\n",
      "\n"
     ]
    },
    {
     "data": {
      "application/vnd.jupyter.widget-view+json": {
       "model_id": "8ec04901af9342e08a9a6ec402a28349",
       "version_major": 2,
       "version_minor": 0
      },
      "text/plain": [
       "Training loop:   0%|          | 0/195 [00:00<?, ?it/s]"
      ]
     },
     "metadata": {},
     "output_type": "display_data"
    },
    {
     "name": "stderr",
     "output_type": "stream",
     "text": [
      "Exception ignored in: Exception ignored in: Exception ignored in: <function _MultiProcessingDataLoaderIter.__del__ at 0x7f4fb2b53670><function _MultiProcessingDataLoaderIter.__del__ at 0x7f4fb2b53670><function _MultiProcessingDataLoaderIter.__del__ at 0x7f4fb2b53670>\n",
      "\n",
      "\n",
      "Traceback (most recent call last):\n",
      "Traceback (most recent call last):\n",
      "Traceback (most recent call last):\n",
      "  File \"/home-nfs/raphaelr/miniconda/lib/python3.8/site-packages/torch/utils/data/dataloader.py\", line 1358, in __del__\n",
      "  File \"/home-nfs/raphaelr/miniconda/lib/python3.8/site-packages/torch/utils/data/dataloader.py\", line 1358, in __del__\n",
      "Exception ignored in: Exception ignored in: Exception ignored in:   File \"/home-nfs/raphaelr/miniconda/lib/python3.8/site-packages/torch/utils/data/dataloader.py\", line 1358, in __del__\n",
      "<function _MultiProcessingDataLoaderIter.__del__ at 0x7f4fb2b53670>    <function _MultiProcessingDataLoaderIter.__del__ at 0x7f4fb2b53670>    <function _MultiProcessingDataLoaderIter.__del__ at 0x7f4fb2b53670>\n",
      "    self._shutdown_workers()self._shutdown_workers()\n",
      "\n",
      "Traceback (most recent call last):\n",
      "self._shutdown_workers()\n",
      "\n",
      "Traceback (most recent call last):\n",
      "Traceback (most recent call last):\n",
      "  File \"/home-nfs/raphaelr/miniconda/lib/python3.8/site-packages/torch/utils/data/dataloader.py\", line 1358, in __del__\n",
      "\n",
      "  File \"/home-nfs/raphaelr/miniconda/lib/python3.8/site-packages/torch/utils/data/dataloader.py\", line 1341, in _shutdown_workers\n",
      "  File \"/home-nfs/raphaelr/miniconda/lib/python3.8/site-packages/torch/utils/data/dataloader.py\", line 1341, in _shutdown_workers\n",
      "  File \"/home-nfs/raphaelr/miniconda/lib/python3.8/site-packages/torch/utils/data/dataloader.py\", line 1358, in __del__\n",
      "  File \"/home-nfs/raphaelr/miniconda/lib/python3.8/site-packages/torch/utils/data/dataloader.py\", line 1358, in __del__\n",
      "  File \"/home-nfs/raphaelr/miniconda/lib/python3.8/site-packages/torch/utils/data/dataloader.py\", line 1341, in _shutdown_workers\n",
      "                        if w.is_alive():self._shutdown_workers()if w.is_alive():self._shutdown_workers()if w.is_alive():self._shutdown_workers()\n",
      "\n",
      "\n",
      "\n",
      "\n",
      "\n",
      "  File \"/home-nfs/raphaelr/miniconda/lib/python3.8/multiprocessing/process.py\", line 160, in is_alive\n",
      "Exception ignored in:   File \"/home-nfs/raphaelr/miniconda/lib/python3.8/site-packages/torch/utils/data/dataloader.py\", line 1341, in _shutdown_workers\n",
      "  File \"/home-nfs/raphaelr/miniconda/lib/python3.8/site-packages/torch/utils/data/dataloader.py\", line 1341, in _shutdown_workers\n",
      "  File \"/home-nfs/raphaelr/miniconda/lib/python3.8/multiprocessing/process.py\", line 160, in is_alive\n",
      "  File \"/home-nfs/raphaelr/miniconda/lib/python3.8/multiprocessing/process.py\", line 160, in is_alive\n",
      "  File \"/home-nfs/raphaelr/miniconda/lib/python3.8/site-packages/torch/utils/data/dataloader.py\", line 1341, in _shutdown_workers\n",
      "    <function _MultiProcessingDataLoaderIter.__del__ at 0x7f4fb2b53670>        assert self._parent_pid == os.getpid(), 'can only test a child process'        \n",
      "if w.is_alive():    if w.is_alive():\n",
      "assert self._parent_pid == os.getpid(), 'can only test a child process'if w.is_alive():Traceback (most recent call last):\n",
      "\n",
      "assert self._parent_pid == os.getpid(), 'can only test a child process'\n",
      "AssertionError\n",
      "\n",
      "  File \"/home-nfs/raphaelr/miniconda/lib/python3.8/site-packages/torch/utils/data/dataloader.py\", line 1358, in __del__\n",
      "  File \"/home-nfs/raphaelr/miniconda/lib/python3.8/multiprocessing/process.py\", line 160, in is_alive\n",
      "\n",
      "  File \"/home-nfs/raphaelr/miniconda/lib/python3.8/multiprocessing/process.py\", line 160, in is_alive\n",
      ": AssertionError  File \"/home-nfs/raphaelr/miniconda/lib/python3.8/multiprocessing/process.py\", line 160, in is_alive\n",
      "AssertionError    can only test a child process:             : assert self._parent_pid == os.getpid(), 'can only test a child process'self._shutdown_workers()\n",
      "can only test a child processassert self._parent_pid == os.getpid(), 'can only test a child process'can only test a child processassert self._parent_pid == os.getpid(), 'can only test a child process'\n",
      "\n",
      "\n",
      "\n",
      "\n",
      "\n",
      "AssertionError  File \"/home-nfs/raphaelr/miniconda/lib/python3.8/site-packages/torch/utils/data/dataloader.py\", line 1341, in _shutdown_workers\n",
      "AssertionErrorAssertionError: : Exception ignored in: can only test a child process:     <function _MultiProcessingDataLoaderIter.__del__ at 0x7f4fb2b53670>can only test a child process\n",
      "Exception ignored in: Exception ignored in: can only test a child process\n",
      "if w.is_alive():\n",
      "<function _MultiProcessingDataLoaderIter.__del__ at 0x7f4fb2b53670><function _MultiProcessingDataLoaderIter.__del__ at 0x7f4fb2b53670>\n",
      "Traceback (most recent call last):\n",
      "Exception ignored in: \n",
      "\n",
      "\n",
      "<function _MultiProcessingDataLoaderIter.__del__ at 0x7f4fb2b53670>  File \"/home-nfs/raphaelr/miniconda/lib/python3.8/site-packages/torch/utils/data/dataloader.py\", line 1358, in __del__\n",
      "  File \"/home-nfs/raphaelr/miniconda/lib/python3.8/multiprocessing/process.py\", line 160, in is_alive\n",
      "Traceback (most recent call last):\n",
      "Traceback (most recent call last):\n",
      "\n",
      "Exception ignored in: Exception ignored in:   File \"/home-nfs/raphaelr/miniconda/lib/python3.8/site-packages/torch/utils/data/dataloader.py\", line 1358, in __del__\n",
      "Traceback (most recent call last):\n",
      "      File \"/home-nfs/raphaelr/miniconda/lib/python3.8/site-packages/torch/utils/data/dataloader.py\", line 1358, in __del__\n",
      "    <function _MultiProcessingDataLoaderIter.__del__ at 0x7f4fb2b53670>assert self._parent_pid == os.getpid(), 'can only test a child process'self._shutdown_workers()    \n",
      "\n",
      "<function _MultiProcessingDataLoaderIter.__del__ at 0x7f4fb2b53670>    self._shutdown_workers()  File \"/home-nfs/raphaelr/miniconda/lib/python3.8/site-packages/torch/utils/data/dataloader.py\", line 1358, in __del__\n",
      "\n",
      "Traceback (most recent call last):\n",
      "AssertionError\n",
      "self._shutdown_workers()\n",
      "  File \"/home-nfs/raphaelr/miniconda/lib/python3.8/site-packages/torch/utils/data/dataloader.py\", line 1341, in _shutdown_workers\n",
      "  File \"/home-nfs/raphaelr/miniconda/lib/python3.8/site-packages/torch/utils/data/dataloader.py\", line 1358, in __del__\n",
      ":     Traceback (most recent call last):\n",
      "  File \"/home-nfs/raphaelr/miniconda/lib/python3.8/site-packages/torch/utils/data/dataloader.py\", line 1341, in _shutdown_workers\n",
      "\n",
      "      File \"/home-nfs/raphaelr/miniconda/lib/python3.8/site-packages/torch/utils/data/dataloader.py\", line 1358, in __del__\n",
      "self._shutdown_workers()can only test a child process  File \"/home-nfs/raphaelr/miniconda/lib/python3.8/site-packages/torch/utils/data/dataloader.py\", line 1341, in _shutdown_workers\n",
      "        if w.is_alive():\n",
      "self._shutdown_workers()if w.is_alive():\n",
      "      File \"/home-nfs/raphaelr/miniconda/lib/python3.8/site-packages/torch/utils/data/dataloader.py\", line 1341, in _shutdown_workers\n",
      "    \n",
      "\n",
      "  File \"/home-nfs/raphaelr/miniconda/lib/python3.8/multiprocessing/process.py\", line 160, in is_alive\n",
      "self._shutdown_workers()\n",
      "    if w.is_alive():  File \"/home-nfs/raphaelr/miniconda/lib/python3.8/site-packages/torch/utils/data/dataloader.py\", line 1341, in _shutdown_workers\n",
      "  File \"/home-nfs/raphaelr/miniconda/lib/python3.8/multiprocessing/process.py\", line 160, in is_alive\n",
      "\n",
      "    if w.is_alive():\n",
      "      File \"/home-nfs/raphaelr/miniconda/lib/python3.8/site-packages/torch/utils/data/dataloader.py\", line 1341, in _shutdown_workers\n",
      "assert self._parent_pid == os.getpid(), 'can only test a child process'\n",
      "    Exception ignored in:   File \"/home-nfs/raphaelr/miniconda/lib/python3.8/multiprocessing/process.py\", line 160, in is_alive\n",
      "assert self._parent_pid == os.getpid(), 'can only test a child process'  File \"/home-nfs/raphaelr/miniconda/lib/python3.8/multiprocessing/process.py\", line 160, in is_alive\n",
      "\n",
      "if w.is_alive():    <function _MultiProcessingDataLoaderIter.__del__ at 0x7f4fb2b53670>\n",
      "    AssertionError\n",
      "if w.is_alive():    \n",
      "AssertionError: assert self._parent_pid == os.getpid(), 'can only test a child process'  File \"/home-nfs/raphaelr/miniconda/lib/python3.8/multiprocessing/process.py\", line 160, in is_alive\n",
      "\n",
      "Traceback (most recent call last):\n",
      ": assert self._parent_pid == os.getpid(), 'can only test a child process'\n",
      "  File \"/home-nfs/raphaelr/miniconda/lib/python3.8/site-packages/torch/utils/data/dataloader.py\", line 1358, in __del__\n"
     ]
    },
    {
     "name": "stderr",
     "output_type": "stream",
     "text": [
      "can only test a child process  File \"/home-nfs/raphaelr/miniconda/lib/python3.8/multiprocessing/process.py\", line 160, in is_alive\n",
      "    can only test a child process\n",
      "AssertionErrorassert self._parent_pid == os.getpid(), 'can only test a child process'    \n",
      "\n",
      "    AssertionErrorassert self._parent_pid == os.getpid(), 'can only test a child process'\n",
      "self._shutdown_workers(): \n",
      "AssertionError\n",
      "can only test a child process: AssertionError\n",
      ": Exception ignored in: :   File \"/home-nfs/raphaelr/miniconda/lib/python3.8/site-packages/torch/utils/data/dataloader.py\", line 1341, in _shutdown_workers\n",
      "can only test a child process<function _MultiProcessingDataLoaderIter.__del__ at 0x7f4fb2b53670>can only test a child process\n",
      "\n",
      "\n",
      "    Traceback (most recent call last):\n",
      "Exception ignored in: if w.is_alive():Exception ignored in: <function _MultiProcessingDataLoaderIter.__del__ at 0x7f4fb2b53670>\n",
      "  File \"/home-nfs/raphaelr/miniconda/lib/python3.8/site-packages/torch/utils/data/dataloader.py\", line 1358, in __del__\n",
      "<function _MultiProcessingDataLoaderIter.__del__ at 0x7f4fb2b53670>\n",
      "Exception ignored in: Exception ignored in: \n",
      "  File \"/home-nfs/raphaelr/miniconda/lib/python3.8/multiprocessing/process.py\", line 160, in is_alive\n",
      "Traceback (most recent call last):\n",
      "    <function _MultiProcessingDataLoaderIter.__del__ at 0x7f4fb2b53670><function _MultiProcessingDataLoaderIter.__del__ at 0x7f4fb2b53670>can only test a child process  File \"/home-nfs/raphaelr/miniconda/lib/python3.8/site-packages/torch/utils/data/dataloader.py\", line 1358, in __del__\n",
      "Traceback (most recent call last):\n",
      "    self._shutdown_workers()\n",
      "\n",
      "\n",
      "  File \"/home-nfs/raphaelr/miniconda/lib/python3.8/site-packages/torch/utils/data/dataloader.py\", line 1358, in __del__\n",
      "\n",
      "assert self._parent_pid == os.getpid(), 'can only test a child process'Traceback (most recent call last):\n",
      "    Traceback (most recent call last):\n",
      "  File \"/home-nfs/raphaelr/miniconda/lib/python3.8/site-packages/torch/utils/data/dataloader.py\", line 1341, in _shutdown_workers\n",
      "\n",
      "  File \"/home-nfs/raphaelr/miniconda/lib/python3.8/site-packages/torch/utils/data/dataloader.py\", line 1358, in __del__\n",
      "    self._shutdown_workers()  File \"/home-nfs/raphaelr/miniconda/lib/python3.8/site-packages/torch/utils/data/dataloader.py\", line 1358, in __del__\n",
      "AssertionErrorException ignored in: self._shutdown_workers()\n",
      "    : <function _MultiProcessingDataLoaderIter.__del__ at 0x7f4fb2b53670>          File \"/home-nfs/raphaelr/miniconda/lib/python3.8/site-packages/torch/utils/data/dataloader.py\", line 1341, in _shutdown_workers\n",
      "\n",
      "if w.is_alive():can only test a child process\n",
      "self._shutdown_workers()self._shutdown_workers()  File \"/home-nfs/raphaelr/miniconda/lib/python3.8/site-packages/torch/utils/data/dataloader.py\", line 1341, in _shutdown_workers\n",
      "\n",
      "\n",
      "Traceback (most recent call last):\n",
      "    \n",
      "\n",
      "  File \"/home-nfs/raphaelr/miniconda/lib/python3.8/multiprocessing/process.py\", line 160, in is_alive\n",
      "  File \"/home-nfs/raphaelr/miniconda/lib/python3.8/site-packages/torch/utils/data/dataloader.py\", line 1358, in __del__\n",
      "    if w.is_alive():  File \"/home-nfs/raphaelr/miniconda/lib/python3.8/site-packages/torch/utils/data/dataloader.py\", line 1341, in _shutdown_workers\n",
      "  File \"/home-nfs/raphaelr/miniconda/lib/python3.8/site-packages/torch/utils/data/dataloader.py\", line 1341, in _shutdown_workers\n",
      "    if w.is_alive():Exception ignored in: \n",
      "assert self._parent_pid == os.getpid(), 'can only test a child process'\n",
      "        <function _MultiProcessingDataLoaderIter.__del__ at 0x7f4fb2b53670>  File \"/home-nfs/raphaelr/miniconda/lib/python3.8/multiprocessing/process.py\", line 160, in is_alive\n",
      "\n",
      "      File \"/home-nfs/raphaelr/miniconda/lib/python3.8/multiprocessing/process.py\", line 160, in is_alive\n",
      "self._shutdown_workers()if w.is_alive():AssertionErrorif w.is_alive():\n",
      "    \n",
      "\n",
      ":     assert self._parent_pid == os.getpid(), 'can only test a child process'Traceback (most recent call last):\n",
      "  File \"/home-nfs/raphaelr/miniconda/lib/python3.8/multiprocessing/process.py\", line 160, in is_alive\n",
      "  File \"/home-nfs/raphaelr/miniconda/lib/python3.8/site-packages/torch/utils/data/dataloader.py\", line 1341, in _shutdown_workers\n",
      "\n",
      "assert self._parent_pid == os.getpid(), 'can only test a child process'  File \"/home-nfs/raphaelr/miniconda/lib/python3.8/site-packages/torch/utils/data/dataloader.py\", line 1358, in __del__\n",
      "can only test a child process\n",
      "  File \"/home-nfs/raphaelr/miniconda/lib/python3.8/multiprocessing/process.py\", line 160, in is_alive\n",
      "    \n",
      "    \n",
      "AssertionError    AssertionErrorif w.is_alive():assert self._parent_pid == os.getpid(), 'can only test a child process': self._shutdown_workers(): \n",
      "\n",
      "can only test a child process\n",
      "can only test a child process    Exception ignored in:   File \"/home-nfs/raphaelr/miniconda/lib/python3.8/multiprocessing/process.py\", line 160, in is_alive\n",
      "AssertionError\n",
      "  File \"/home-nfs/raphaelr/miniconda/lib/python3.8/site-packages/torch/utils/data/dataloader.py\", line 1341, in _shutdown_workers\n",
      "\n",
      "assert self._parent_pid == os.getpid(), 'can only test a child process'<function _MultiProcessingDataLoaderIter.__del__ at 0x7f4fb2b53670>:     \n",
      "\n",
      "can only test a child process    assert self._parent_pid == os.getpid(), 'can only test a child process'Traceback (most recent call last):\n",
      "AssertionError\n",
      "if w.is_alive():: \n",
      "  File \"/home-nfs/raphaelr/miniconda/lib/python3.8/site-packages/torch/utils/data/dataloader.py\", line 1358, in __del__\n",
      "Exception ignored in: \n",
      "can only test a child processException ignored in: AssertionError  File \"/home-nfs/raphaelr/miniconda/lib/python3.8/multiprocessing/process.py\", line 160, in is_alive\n",
      "    <function _MultiProcessingDataLoaderIter.__del__ at 0x7f4fb2b53670>: \n",
      "self._shutdown_workers()Exception ignored in: can only test a child process    \n",
      "<function _MultiProcessingDataLoaderIter.__del__ at 0x7f4fb2b53670>\n",
      "assert self._parent_pid == os.getpid(), 'can only test a child process'\n",
      "Traceback (most recent call last):\n",
      "  File \"/home-nfs/raphaelr/miniconda/lib/python3.8/site-packages/torch/utils/data/dataloader.py\", line 1341, in _shutdown_workers\n",
      "\n",
      "\n",
      "  File \"/home-nfs/raphaelr/miniconda/lib/python3.8/site-packages/torch/utils/data/dataloader.py\", line 1358, in __del__\n",
      "AssertionErrorException ignored in: Traceback (most recent call last):\n",
      "    : Exception ignored in: <function _MultiProcessingDataLoaderIter.__del__ at 0x7f4fb2b53670>  File \"/home-nfs/raphaelr/miniconda/lib/python3.8/site-packages/torch/utils/data/dataloader.py\", line 1358, in __del__\n",
      "    if w.is_alive():can only test a child process<function _MultiProcessingDataLoaderIter.__del__ at 0x7f4fb2b53670>\n",
      "self._shutdown_workers()\n",
      "<function _MultiProcessingDataLoaderIter.__del__ at 0x7f4fb2b53670>\n",
      "Traceback (most recent call last):\n",
      "    \n",
      "\n",
      "  File \"/home-nfs/raphaelr/miniconda/lib/python3.8/multiprocessing/process.py\", line 160, in is_alive\n",
      "\n",
      "  File \"/home-nfs/raphaelr/miniconda/lib/python3.8/site-packages/torch/utils/data/dataloader.py\", line 1358, in __del__\n",
      "self._shutdown_workers()Traceback (most recent call last):\n",
      "Traceback (most recent call last):\n",
      "  File \"/home-nfs/raphaelr/miniconda/lib/python3.8/site-packages/torch/utils/data/dataloader.py\", line 1341, in _shutdown_workers\n",
      "    \n",
      "Exception ignored in:   File \"/home-nfs/raphaelr/miniconda/lib/python3.8/site-packages/torch/utils/data/dataloader.py\", line 1358, in __del__\n",
      "  File \"/home-nfs/raphaelr/miniconda/lib/python3.8/site-packages/torch/utils/data/dataloader.py\", line 1358, in __del__\n",
      "assert self._parent_pid == os.getpid(), 'can only test a child process'  File \"/home-nfs/raphaelr/miniconda/lib/python3.8/site-packages/torch/utils/data/dataloader.py\", line 1341, in _shutdown_workers\n",
      "        \n",
      "<function _MultiProcessingDataLoaderIter.__del__ at 0x7f4fb2b53670>    if w.is_alive():    self._shutdown_workers()    \n",
      "self._shutdown_workers()AssertionError\n",
      "self._shutdown_workers()\n",
      "if w.is_alive():Traceback (most recent call last):\n",
      "\n",
      ":   File \"/home-nfs/raphaelr/miniconda/lib/python3.8/multiprocessing/process.py\", line 160, in is_alive\n",
      "\n",
      "\n",
      "  File \"/home-nfs/raphaelr/miniconda/lib/python3.8/site-packages/torch/utils/data/dataloader.py\", line 1358, in __del__\n",
      "  File \"/home-nfs/raphaelr/miniconda/lib/python3.8/site-packages/torch/utils/data/dataloader.py\", line 1341, in _shutdown_workers\n"
     ]
    },
    {
     "name": "stderr",
     "output_type": "stream",
     "text": [
      "  File \"/home-nfs/raphaelr/miniconda/lib/python3.8/site-packages/torch/utils/data/dataloader.py\", line 1341, in _shutdown_workers\n",
      "can only test a child process  File \"/home-nfs/raphaelr/miniconda/lib/python3.8/site-packages/torch/utils/data/dataloader.py\", line 1341, in _shutdown_workers\n",
      "      File \"/home-nfs/raphaelr/miniconda/lib/python3.8/multiprocessing/process.py\", line 160, in is_alive\n",
      "\n",
      "assert self._parent_pid == os.getpid(), 'can only test a child process'        \n",
      "if w.is_alive():    if w.is_alive():        AssertionErrorif w.is_alive():\n",
      "\n",
      "self._shutdown_workers()Exception ignored in: assert self._parent_pid == os.getpid(), 'can only test a child process': \n",
      "  File \"/home-nfs/raphaelr/miniconda/lib/python3.8/multiprocessing/process.py\", line 160, in is_alive\n",
      "  File \"/home-nfs/raphaelr/miniconda/lib/python3.8/multiprocessing/process.py\", line 160, in is_alive\n",
      "<function _MultiProcessingDataLoaderIter.__del__ at 0x7f4fb2b53670>\n",
      "\n",
      "can only test a child process  File \"/home-nfs/raphaelr/miniconda/lib/python3.8/multiprocessing/process.py\", line 160, in is_alive\n",
      "    \n",
      "  File \"/home-nfs/raphaelr/miniconda/lib/python3.8/site-packages/torch/utils/data/dataloader.py\", line 1341, in _shutdown_workers\n",
      "    \n",
      "AssertionErrorassert self._parent_pid == os.getpid(), 'can only test a child process'Traceback (most recent call last):\n",
      "assert self._parent_pid == os.getpid(), 'can only test a child process'          File \"/home-nfs/raphaelr/miniconda/lib/python3.8/site-packages/torch/utils/data/dataloader.py\", line 1358, in __del__\n",
      "\n",
      ": \n",
      "if w.is_alive():assert self._parent_pid == os.getpid(), 'can only test a child process'AssertionErrorcan only test a child process\n",
      "AssertionError\n",
      "    : \n",
      "AssertionError  File \"/home-nfs/raphaelr/miniconda/lib/python3.8/multiprocessing/process.py\", line 160, in is_alive\n",
      "self._shutdown_workers(): can only test a child process: \n",
      "can only test a child process\n",
      "    Exception ignored in: can only test a child process  File \"/home-nfs/raphaelr/miniconda/lib/python3.8/site-packages/torch/utils/data/dataloader.py\", line 1341, in _shutdown_workers\n",
      "\n",
      "<function _MultiProcessingDataLoaderIter.__del__ at 0x7f4fb2b53670>assert self._parent_pid == os.getpid(), 'can only test a child process'\n",
      "Exception ignored in: \n",
      "\n",
      "    <function _MultiProcessingDataLoaderIter.__del__ at 0x7f4fb2b53670>Exception ignored in: AssertionErrorTraceback (most recent call last):\n",
      "if w.is_alive():\n",
      "<function _MultiProcessingDataLoaderIter.__del__ at 0x7f4fb2b53670>:   File \"/home-nfs/raphaelr/miniconda/lib/python3.8/site-packages/torch/utils/data/dataloader.py\", line 1358, in __del__\n",
      "Traceback (most recent call last):\n",
      "\n",
      "\n",
      "Exception ignored in: Exception ignored in:   File \"/home-nfs/raphaelr/miniconda/lib/python3.8/site-packages/torch/utils/data/dataloader.py\", line 1358, in __del__\n",
      "  File \"/home-nfs/raphaelr/miniconda/lib/python3.8/multiprocessing/process.py\", line 160, in is_alive\n",
      "can only test a child processTraceback (most recent call last):\n",
      "    <function _MultiProcessingDataLoaderIter.__del__ at 0x7f4fb2b53670><function _MultiProcessingDataLoaderIter.__del__ at 0x7f4fb2b53670>\n",
      "  File \"/home-nfs/raphaelr/miniconda/lib/python3.8/site-packages/torch/utils/data/dataloader.py\", line 1358, in __del__\n",
      "self._shutdown_workers()    \n",
      "\n",
      "\n",
      "    assert self._parent_pid == os.getpid(), 'can only test a child process'Traceback (most recent call last):\n",
      "    Traceback (most recent call last):\n",
      "  File \"/home-nfs/raphaelr/miniconda/lib/python3.8/site-packages/torch/utils/data/dataloader.py\", line 1341, in _shutdown_workers\n",
      "self._shutdown_workers()Exception ignored in: \n",
      "self._shutdown_workers()  File \"/home-nfs/raphaelr/miniconda/lib/python3.8/site-packages/torch/utils/data/dataloader.py\", line 1358, in __del__\n",
      "  File \"/home-nfs/raphaelr/miniconda/lib/python3.8/site-packages/torch/utils/data/dataloader.py\", line 1358, in __del__\n",
      "\n",
      "<function _MultiProcessingDataLoaderIter.__del__ at 0x7f4fb2b53670>AssertionError    \n",
      "  File \"/home-nfs/raphaelr/miniconda/lib/python3.8/site-packages/torch/utils/data/dataloader.py\", line 1341, in _shutdown_workers\n",
      "        if w.is_alive()::   File \"/home-nfs/raphaelr/miniconda/lib/python3.8/site-packages/torch/utils/data/dataloader.py\", line 1341, in _shutdown_workers\n",
      "\n",
      "self._shutdown_workers()self._shutdown_workers()    Traceback (most recent call last):\n",
      "\n",
      "can only test a child process\n",
      "      File \"/home-nfs/raphaelr/miniconda/lib/python3.8/site-packages/torch/utils/data/dataloader.py\", line 1358, in __del__\n",
      "if w.is_alive():  File \"/home-nfs/raphaelr/miniconda/lib/python3.8/multiprocessing/process.py\", line 160, in is_alive\n",
      "\n",
      "if w.is_alive():  File \"/home-nfs/raphaelr/miniconda/lib/python3.8/site-packages/torch/utils/data/dataloader.py\", line 1341, in _shutdown_workers\n",
      "\n",
      "\n",
      "          File \"/home-nfs/raphaelr/miniconda/lib/python3.8/site-packages/torch/utils/data/dataloader.py\", line 1341, in _shutdown_workers\n",
      "  File \"/home-nfs/raphaelr/miniconda/lib/python3.8/multiprocessing/process.py\", line 160, in is_alive\n",
      "\n",
      "assert self._parent_pid == os.getpid(), 'can only test a child process'self._shutdown_workers()  File \"/home-nfs/raphaelr/miniconda/lib/python3.8/multiprocessing/process.py\", line 160, in is_alive\n",
      "    \n",
      "\n",
      "    assert self._parent_pid == os.getpid(), 'can only test a child process'    AssertionError  File \"/home-nfs/raphaelr/miniconda/lib/python3.8/site-packages/torch/utils/data/dataloader.py\", line 1341, in _shutdown_workers\n",
      "if w.is_alive():\n",
      "\n",
      "    assert self._parent_pid == os.getpid(), 'can only test a child process'  File \"/home-nfs/raphaelr/miniconda/lib/python3.8/multiprocessing/process.py\", line 160, in is_alive\n",
      "    AssertionError\n",
      "if w.is_alive():    : AssertionError\n",
      "assert self._parent_pid == os.getpid(), 'can only test a child process'can only test a child process:   File \"/home-nfs/raphaelr/miniconda/lib/python3.8/multiprocessing/process.py\", line 160, in is_alive\n",
      "\n",
      "can only test a child process: \n",
      "AssertionError    \n",
      "can only test a child process: assert self._parent_pid == os.getpid(), 'can only test a child process'can only test a child process\n",
      "\n",
      "\n",
      "AssertionError: if w.is_alive():\n",
      "can only test a child process  File \"/home-nfs/raphaelr/miniconda/lib/python3.8/multiprocessing/process.py\", line 160, in is_alive\n",
      "    assert self._parent_pid == os.getpid(), 'can only test a child process'\n",
      "AssertionError\n",
      ": can only test a child process\n"
     ]
    },
    {
     "name": "stdout",
     "output_type": "stream",
     "text": [
      "----- Epoch = 9 -----\n",
      "Val loss = 0.4749\n",
      "Val acc = 0.8413\n",
      "\n",
      "New best epoch, acc = 0.8413\n",
      "\n"
     ]
    },
    {
     "data": {
      "application/vnd.jupyter.widget-view+json": {
       "model_id": "9ae7027a75544fa8ae600e2c86df66e1",
       "version_major": 2,
       "version_minor": 0
      },
      "text/plain": [
       "Training loop:   0%|          | 0/195 [00:00<?, ?it/s]"
      ]
     },
     "metadata": {},
     "output_type": "display_data"
    },
    {
     "name": "stdout",
     "output_type": "stream",
     "text": [
      "----- Epoch = 10 -----\n",
      "Val loss = 0.5339\n",
      "Val acc = 0.8247\n"
     ]
    },
    {
     "data": {
      "application/vnd.jupyter.widget-view+json": {
       "model_id": "5838c629e6894e0f951ba6f5408667e0",
       "version_major": 2,
       "version_minor": 0
      },
      "text/plain": [
       "Training loop:   0%|          | 0/195 [00:00<?, ?it/s]"
      ]
     },
     "metadata": {},
     "output_type": "display_data"
    },
    {
     "name": "stdout",
     "output_type": "stream",
     "text": [
      "----- Epoch = 11 -----\n",
      "Val loss = 0.4824\n",
      "Val acc = 0.8433\n",
      "\n",
      "New best epoch, acc = 0.8433\n",
      "\n"
     ]
    },
    {
     "data": {
      "application/vnd.jupyter.widget-view+json": {
       "model_id": "91ae54d5f55e4bf6a93262b04c0eabcc",
       "version_major": 2,
       "version_minor": 0
      },
      "text/plain": [
       "Training loop:   0%|          | 0/195 [00:00<?, ?it/s]"
      ]
     },
     "metadata": {},
     "output_type": "display_data"
    },
    {
     "name": "stdout",
     "output_type": "stream",
     "text": [
      "----- Epoch = 12 -----\n",
      "Val loss = 0.4649\n",
      "Val acc = 0.8498\n",
      "\n",
      "New best epoch, acc = 0.8498\n",
      "\n"
     ]
    },
    {
     "data": {
      "application/vnd.jupyter.widget-view+json": {
       "model_id": "5f78011911a34103b4e10295a7815cf8",
       "version_major": 2,
       "version_minor": 0
      },
      "text/plain": [
       "Training loop:   0%|          | 0/195 [00:00<?, ?it/s]"
      ]
     },
     "metadata": {},
     "output_type": "display_data"
    },
    {
     "name": "stdout",
     "output_type": "stream",
     "text": [
      "----- Epoch = 13 -----\n",
      "Val loss = 0.5108\n",
      "Val acc = 0.8434\n"
     ]
    },
    {
     "data": {
      "application/vnd.jupyter.widget-view+json": {
       "model_id": "a52a1ba773fe46b5b5aec92e39005e43",
       "version_major": 2,
       "version_minor": 0
      },
      "text/plain": [
       "Training loop:   0%|          | 0/195 [00:00<?, ?it/s]"
      ]
     },
     "metadata": {},
     "output_type": "display_data"
    },
    {
     "name": "stdout",
     "output_type": "stream",
     "text": [
      "----- Epoch = 14 -----\n",
      "Val loss = 0.4713\n",
      "Val acc = 0.8503\n",
      "\n",
      "New best epoch, acc = 0.8503\n",
      "\n"
     ]
    },
    {
     "data": {
      "application/vnd.jupyter.widget-view+json": {
       "model_id": "0ab4b841fe23488088f918348f4bb708",
       "version_major": 2,
       "version_minor": 0
      },
      "text/plain": [
       "Training loop:   0%|          | 0/195 [00:00<?, ?it/s]"
      ]
     },
     "metadata": {},
     "output_type": "display_data"
    },
    {
     "name": "stderr",
     "output_type": "stream",
     "text": [
      "Exception ignored in: Exception ignored in: <function _MultiProcessingDataLoaderIter.__del__ at 0x7f4fb2b53670><function _MultiProcessingDataLoaderIter.__del__ at 0x7f4fb2b53670>\n",
      "\n",
      "Traceback (most recent call last):\n",
      "Traceback (most recent call last):\n",
      "  File \"/home-nfs/raphaelr/miniconda/lib/python3.8/site-packages/torch/utils/data/dataloader.py\", line 1358, in __del__\n",
      "  File \"/home-nfs/raphaelr/miniconda/lib/python3.8/site-packages/torch/utils/data/dataloader.py\", line 1358, in __del__\n",
      "        self._shutdown_workers()self._shutdown_workers()\n",
      "\n",
      "  File \"/home-nfs/raphaelr/miniconda/lib/python3.8/site-packages/torch/utils/data/dataloader.py\", line 1341, in _shutdown_workers\n",
      "  File \"/home-nfs/raphaelr/miniconda/lib/python3.8/site-packages/torch/utils/data/dataloader.py\", line 1341, in _shutdown_workers\n",
      "        if w.is_alive():if w.is_alive():\n",
      "\n",
      "  File \"/home-nfs/raphaelr/miniconda/lib/python3.8/multiprocessing/process.py\", line 160, in is_alive\n",
      "  File \"/home-nfs/raphaelr/miniconda/lib/python3.8/multiprocessing/process.py\", line 160, in is_alive\n",
      "        assert self._parent_pid == os.getpid(), 'can only test a child process'assert self._parent_pid == os.getpid(), 'can only test a child process'\n",
      "\n",
      "AssertionErrorAssertionError: : can only test a child process\n",
      "can only test a child process\n",
      "Exception ignored in: Exception ignored in: Exception ignored in: <function _MultiProcessingDataLoaderIter.__del__ at 0x7f4fb2b53670><function _MultiProcessingDataLoaderIter.__del__ at 0x7f4fb2b53670>\n",
      "Traceback (most recent call last):\n",
      "  File \"/home-nfs/raphaelr/miniconda/lib/python3.8/site-packages/torch/utils/data/dataloader.py\", line 1358, in __del__\n",
      "    self._shutdown_workers()\n",
      "Traceback (most recent call last):\n",
      "  File \"/home-nfs/raphaelr/miniconda/lib/python3.8/site-packages/torch/utils/data/dataloader.py\", line 1358, in __del__\n",
      "\n",
      "    <function _MultiProcessingDataLoaderIter.__del__ at 0x7f4fb2b53670>\n",
      "self._shutdown_workers()\n",
      "  File \"/home-nfs/raphaelr/miniconda/lib/python3.8/site-packages/torch/utils/data/dataloader.py\", line 1341, in _shutdown_workers\n",
      "Traceback (most recent call last):\n",
      "    if w.is_alive():\n",
      "  File \"/home-nfs/raphaelr/miniconda/lib/python3.8/multiprocessing/process.py\", line 160, in is_alive\n",
      "    assert self._parent_pid == os.getpid(), 'can only test a child process'\n",
      "  File \"/home-nfs/raphaelr/miniconda/lib/python3.8/site-packages/torch/utils/data/dataloader.py\", line 1341, in _shutdown_workers\n",
      "AssertionError: can only test a child process\n",
      "  File \"/home-nfs/raphaelr/miniconda/lib/python3.8/site-packages/torch/utils/data/dataloader.py\", line 1358, in __del__\n",
      "    self._shutdown_workers()    \n",
      "  File \"/home-nfs/raphaelr/miniconda/lib/python3.8/site-packages/torch/utils/data/dataloader.py\", line 1341, in _shutdown_workers\n",
      "if w.is_alive():\n",
      "Exception ignored in:       File \"/home-nfs/raphaelr/miniconda/lib/python3.8/multiprocessing/process.py\", line 160, in is_alive\n",
      "<function _MultiProcessingDataLoaderIter.__del__ at 0x7f4fb2b53670>if w.is_alive():\n",
      "\n",
      "  File \"/home-nfs/raphaelr/miniconda/lib/python3.8/multiprocessing/process.py\", line 160, in is_alive\n",
      "Traceback (most recent call last):\n",
      "        assert self._parent_pid == os.getpid(), 'can only test a child process'assert self._parent_pid == os.getpid(), 'can only test a child process'  File \"/home-nfs/raphaelr/miniconda/lib/python3.8/site-packages/torch/utils/data/dataloader.py\", line 1358, in __del__\n",
      "\n",
      "AssertionError: \n",
      "    AssertionErrorcan only test a child processself._shutdown_workers(): \n",
      "\n",
      "  File \"/home-nfs/raphaelr/miniconda/lib/python3.8/site-packages/torch/utils/data/dataloader.py\", line 1341, in _shutdown_workers\n",
      "can only test a child process    \n",
      "if w.is_alive():Exception ignored in: \n",
      "  File \"/home-nfs/raphaelr/miniconda/lib/python3.8/multiprocessing/process.py\", line 160, in is_alive\n",
      "<function _MultiProcessingDataLoaderIter.__del__ at 0x7f4fb2b53670>\n",
      "    Traceback (most recent call last):\n",
      "Exception ignored in: assert self._parent_pid == os.getpid(), 'can only test a child process'  File \"/home-nfs/raphaelr/miniconda/lib/python3.8/site-packages/torch/utils/data/dataloader.py\", line 1358, in __del__\n",
      "<function _MultiProcessingDataLoaderIter.__del__ at 0x7f4fb2b53670>\n",
      "Exception ignored in:     Traceback (most recent call last):\n",
      "<function _MultiProcessingDataLoaderIter.__del__ at 0x7f4fb2b53670>self._shutdown_workers()  File \"/home-nfs/raphaelr/miniconda/lib/python3.8/site-packages/torch/utils/data/dataloader.py\", line 1358, in __del__\n",
      "\n",
      "\n",
      "\n",
      "Traceback (most recent call last):\n",
      "    AssertionError:   File \"/home-nfs/raphaelr/miniconda/lib/python3.8/site-packages/torch/utils/data/dataloader.py\", line 1341, in _shutdown_workers\n",
      "self._shutdown_workers()can only test a child process\n",
      "  File \"/home-nfs/raphaelr/miniconda/lib/python3.8/site-packages/torch/utils/data/dataloader.py\", line 1358, in __del__\n",
      "\n",
      "      File \"/home-nfs/raphaelr/miniconda/lib/python3.8/site-packages/torch/utils/data/dataloader.py\", line 1341, in _shutdown_workers\n",
      "    if w.is_alive():    self._shutdown_workers()\n",
      "  File \"/home-nfs/raphaelr/miniconda/lib/python3.8/multiprocessing/process.py\", line 160, in is_alive\n",
      "\n",
      "  File \"/home-nfs/raphaelr/miniconda/lib/python3.8/site-packages/torch/utils/data/dataloader.py\", line 1341, in _shutdown_workers\n",
      "    if w.is_alive():\n",
      "  File \"/home-nfs/raphaelr/miniconda/lib/python3.8/multiprocessing/process.py\", line 160, in is_alive\n",
      "if w.is_alive():Exception ignored in:     <function _MultiProcessingDataLoaderIter.__del__ at 0x7f4fb2b53670>\n",
      "\n",
      "Traceback (most recent call last):\n",
      "assert self._parent_pid == os.getpid(), 'can only test a child process'  File \"/home-nfs/raphaelr/miniconda/lib/python3.8/multiprocessing/process.py\", line 160, in is_alive\n",
      "  File \"/home-nfs/raphaelr/miniconda/lib/python3.8/site-packages/torch/utils/data/dataloader.py\", line 1358, in __del__\n",
      "\n",
      "    AssertionError        : assert self._parent_pid == os.getpid(), 'can only test a child process'self._shutdown_workers()can only test a child process\n",
      "\n",
      "\n",
      "  File \"/home-nfs/raphaelr/miniconda/lib/python3.8/site-packages/torch/utils/data/dataloader.py\", line 1341, in _shutdown_workers\n",
      "AssertionErrorassert self._parent_pid == os.getpid(), 'can only test a child process': can only test a child process\n",
      "    \n",
      "AssertionErrorif w.is_alive():Exception ignored in: : <function _MultiProcessingDataLoaderIter.__del__ at 0x7f4fb2b53670>can only test a child process\n",
      "\n",
      "\n",
      "Traceback (most recent call last):\n",
      "  File \"/home-nfs/raphaelr/miniconda/lib/python3.8/multiprocessing/process.py\", line 160, in is_alive\n",
      "Exception ignored in: <function _MultiProcessingDataLoaderIter.__del__ at 0x7f4fb2b53670>  File \"/home-nfs/raphaelr/miniconda/lib/python3.8/site-packages/torch/utils/data/dataloader.py\", line 1358, in __del__\n",
      "    \n",
      "assert self._parent_pid == os.getpid(), 'can only test a child process'    Exception ignored in: self._shutdown_workers()<function _MultiProcessingDataLoaderIter.__del__ at 0x7f4fb2b53670>\n",
      "Traceback (most recent call last):\n",
      "\n",
      "\n",
      "AssertionError  File \"/home-nfs/raphaelr/miniconda/lib/python3.8/site-packages/torch/utils/data/dataloader.py\", line 1358, in __del__\n",
      "  File \"/home-nfs/raphaelr/miniconda/lib/python3.8/site-packages/torch/utils/data/dataloader.py\", line 1341, in _shutdown_workers\n",
      "Traceback (most recent call last):\n",
      ":   File \"/home-nfs/raphaelr/miniconda/lib/python3.8/site-packages/torch/utils/data/dataloader.py\", line 1358, in __del__\n",
      "can only test a child process        \n",
      "    if w.is_alive():self._shutdown_workers()\n",
      "\n",
      "self._shutdown_workers()  File \"/home-nfs/raphaelr/miniconda/lib/python3.8/multiprocessing/process.py\", line 160, in is_alive\n",
      "  File \"/home-nfs/raphaelr/miniconda/lib/python3.8/site-packages/torch/utils/data/dataloader.py\", line 1341, in _shutdown_workers\n",
      "\n",
      "Exception ignored in:     <function _MultiProcessingDataLoaderIter.__del__ at 0x7f4fb2b53670>      File \"/home-nfs/raphaelr/miniconda/lib/python3.8/site-packages/torch/utils/data/dataloader.py\", line 1341, in _shutdown_workers\n",
      "\n",
      "assert self._parent_pid == os.getpid(), 'can only test a child process'if w.is_alive():Traceback (most recent call last):\n",
      "\n",
      "      File \"/home-nfs/raphaelr/miniconda/lib/python3.8/site-packages/torch/utils/data/dataloader.py\", line 1358, in __del__\n"
     ]
    },
    {
     "name": "stderr",
     "output_type": "stream",
     "text": [
      "AssertionErrorif w.is_alive():\n",
      ":   File \"/home-nfs/raphaelr/miniconda/lib/python3.8/multiprocessing/process.py\", line 160, in is_alive\n",
      "\n",
      "      File \"/home-nfs/raphaelr/miniconda/lib/python3.8/multiprocessing/process.py\", line 160, in is_alive\n",
      "self._shutdown_workers()    \n",
      "assert self._parent_pid == os.getpid(), 'can only test a child process'  File \"/home-nfs/raphaelr/miniconda/lib/python3.8/site-packages/torch/utils/data/dataloader.py\", line 1341, in _shutdown_workers\n",
      "\n",
      "AssertionError        can only test a child processassert self._parent_pid == os.getpid(), 'can only test a child process'\n",
      "\n",
      "AssertionError: can only test a child processException ignored in: \n",
      "<function _MultiProcessingDataLoaderIter.__del__ at 0x7f4fb2b53670>\n",
      "if w.is_alive():\n",
      "  File \"/home-nfs/raphaelr/miniconda/lib/python3.8/multiprocessing/process.py\", line 160, in is_alive\n",
      "Exception ignored in: <function _MultiProcessingDataLoaderIter.__del__ at 0x7f4fb2b53670>    \n",
      "assert self._parent_pid == os.getpid(), 'can only test a child process'Traceback (most recent call last):\n",
      "\n",
      "  File \"/home-nfs/raphaelr/miniconda/lib/python3.8/site-packages/torch/utils/data/dataloader.py\", line 1358, in __del__\n",
      "AssertionError: can only test a child process\n",
      ":     self._shutdown_workers()Traceback (most recent call last):\n",
      "\n",
      "  File \"/home-nfs/raphaelr/miniconda/lib/python3.8/site-packages/torch/utils/data/dataloader.py\", line 1358, in __del__\n",
      "  File \"/home-nfs/raphaelr/miniconda/lib/python3.8/site-packages/torch/utils/data/dataloader.py\", line 1341, in _shutdown_workers\n",
      "can only test a child process\n",
      "        self._shutdown_workers()\n",
      "if w.is_alive():  File \"/home-nfs/raphaelr/miniconda/lib/python3.8/site-packages/torch/utils/data/dataloader.py\", line 1341, in _shutdown_workers\n",
      "\n",
      "Exception ignored in:   File \"/home-nfs/raphaelr/miniconda/lib/python3.8/multiprocessing/process.py\", line 160, in is_alive\n",
      "    <function _MultiProcessingDataLoaderIter.__del__ at 0x7f4fb2b53670>    if w.is_alive():\n",
      "Traceback (most recent call last):\n",
      "assert self._parent_pid == os.getpid(), 'can only test a child process'\n",
      "\n",
      "  File \"/home-nfs/raphaelr/miniconda/lib/python3.8/site-packages/torch/utils/data/dataloader.py\", line 1358, in __del__\n",
      "  File \"/home-nfs/raphaelr/miniconda/lib/python3.8/multiprocessing/process.py\", line 160, in is_alive\n",
      "AssertionError: can only test a child process        assert self._parent_pid == os.getpid(), 'can only test a child process'\n",
      "self._shutdown_workers()\n",
      "\n",
      "AssertionError\n",
      "  File \"/home-nfs/raphaelr/miniconda/lib/python3.8/site-packages/torch/utils/data/dataloader.py\", line 1341, in _shutdown_workers\n",
      ": can only test a child process    if w.is_alive():\n",
      "  File \"/home-nfs/raphaelr/miniconda/lib/python3.8/multiprocessing/process.py\", line 160, in is_alive\n",
      "Exception ignored in: <function _MultiProcessingDataLoaderIter.__del__ at 0x7f4fb2b53670>    \n",
      "Traceback (most recent call last):\n",
      "assert self._parent_pid == os.getpid(), 'can only test a child process'  File \"/home-nfs/raphaelr/miniconda/lib/python3.8/site-packages/torch/utils/data/dataloader.py\", line 1358, in __del__\n",
      "\n",
      "AssertionError:     can only test a child processself._shutdown_workers()\n",
      "\n",
      "  File \"/home-nfs/raphaelr/miniconda/lib/python3.8/site-packages/torch/utils/data/dataloader.py\", line 1341, in _shutdown_workers\n",
      "    if w.is_alive():Exception ignored in: \n",
      "  File \"/home-nfs/raphaelr/miniconda/lib/python3.8/multiprocessing/process.py\", line 160, in is_alive\n",
      "<function _MultiProcessingDataLoaderIter.__del__ at 0x7f4fb2b53670>\n",
      "    Traceback (most recent call last):\n",
      "assert self._parent_pid == os.getpid(), 'can only test a child process'  File \"/home-nfs/raphaelr/miniconda/lib/python3.8/site-packages/torch/utils/data/dataloader.py\", line 1358, in __del__\n",
      "\n",
      "AssertionError:     can only test a child processself._shutdown_workers()\n",
      "\n",
      "  File \"/home-nfs/raphaelr/miniconda/lib/python3.8/site-packages/torch/utils/data/dataloader.py\", line 1341, in _shutdown_workers\n",
      "    Exception ignored in: if w.is_alive():<function _MultiProcessingDataLoaderIter.__del__ at 0x7f4fb2b53670>\n",
      "\n",
      "  File \"/home-nfs/raphaelr/miniconda/lib/python3.8/multiprocessing/process.py\", line 160, in is_alive\n",
      "Traceback (most recent call last):\n",
      "  File \"/home-nfs/raphaelr/miniconda/lib/python3.8/site-packages/torch/utils/data/dataloader.py\", line 1358, in __del__\n",
      "    assert self._parent_pid == os.getpid(), 'can only test a child process'    \n",
      "self._shutdown_workers()AssertionError\n",
      ": can only test a child process  File \"/home-nfs/raphaelr/miniconda/lib/python3.8/site-packages/torch/utils/data/dataloader.py\", line 1341, in _shutdown_workers\n",
      "\n",
      "    if w.is_alive():\n",
      "  File \"/home-nfs/raphaelr/miniconda/lib/python3.8/multiprocessing/process.py\", line 160, in is_alive\n",
      "    assert self._parent_pid == os.getpid(), 'can only test a child process'\n",
      "AssertionError: can only test a child process\n",
      "Exception ignored in: <function _MultiProcessingDataLoaderIter.__del__ at 0x7f4fb2b53670>\n",
      "Traceback (most recent call last):\n",
      "  File \"/home-nfs/raphaelr/miniconda/lib/python3.8/site-packages/torch/utils/data/dataloader.py\", line 1358, in __del__\n",
      "    self._shutdown_workers()\n",
      "  File \"/home-nfs/raphaelr/miniconda/lib/python3.8/site-packages/torch/utils/data/dataloader.py\", line 1341, in _shutdown_workers\n",
      "    if w.is_alive():\n",
      "  File \"/home-nfs/raphaelr/miniconda/lib/python3.8/multiprocessing/process.py\", line 160, in is_alive\n",
      "    assert self._parent_pid == os.getpid(), 'can only test a child process'\n",
      "AssertionError: Exception ignored in: can only test a child process<function _MultiProcessingDataLoaderIter.__del__ at 0x7f4fb2b53670>\n",
      "\n",
      "Traceback (most recent call last):\n",
      "  File \"/home-nfs/raphaelr/miniconda/lib/python3.8/site-packages/torch/utils/data/dataloader.py\", line 1358, in __del__\n",
      "    Exception ignored in: self._shutdown_workers()<function _MultiProcessingDataLoaderIter.__del__ at 0x7f4fb2b53670>\n",
      "  File \"/home-nfs/raphaelr/miniconda/lib/python3.8/site-packages/torch/utils/data/dataloader.py\", line 1341, in _shutdown_workers\n",
      "\n",
      "Traceback (most recent call last):\n",
      "      File \"/home-nfs/raphaelr/miniconda/lib/python3.8/site-packages/torch/utils/data/dataloader.py\", line 1358, in __del__\n",
      "if w.is_alive():\n",
      "  File \"/home-nfs/raphaelr/miniconda/lib/python3.8/multiprocessing/process.py\", line 160, in is_alive\n",
      "        self._shutdown_workers()assert self._parent_pid == os.getpid(), 'can only test a child process'\n",
      "\n",
      "AssertionError  File \"/home-nfs/raphaelr/miniconda/lib/python3.8/site-packages/torch/utils/data/dataloader.py\", line 1341, in _shutdown_workers\n",
      ": can only test a child process    \n",
      "if w.is_alive():\n",
      "  File \"/home-nfs/raphaelr/miniconda/lib/python3.8/multiprocessing/process.py\", line 160, in is_alive\n",
      "    Exception ignored in: assert self._parent_pid == os.getpid(), 'can only test a child process'<function _MultiProcessingDataLoaderIter.__del__ at 0x7f4fb2b53670>\n",
      "\n",
      "AssertionErrorTraceback (most recent call last):\n",
      ":   File \"/home-nfs/raphaelr/miniconda/lib/python3.8/site-packages/torch/utils/data/dataloader.py\", line 1358, in __del__\n",
      "can only test a child process\n",
      "    self._shutdown_workers()\n",
      "  File \"/home-nfs/raphaelr/miniconda/lib/python3.8/site-packages/torch/utils/data/dataloader.py\", line 1341, in _shutdown_workers\n",
      "Exception ignored in: Exception ignored in:     Exception ignored in: <function _MultiProcessingDataLoaderIter.__del__ at 0x7f4fb2b53670><function _MultiProcessingDataLoaderIter.__del__ at 0x7f4fb2b53670>if w.is_alive():\n",
      "<function _MultiProcessingDataLoaderIter.__del__ at 0x7f4fb2b53670>\n",
      "\n",
      "Traceback (most recent call last):\n",
      "\n",
      "Traceback (most recent call last):\n",
      "  File \"/home-nfs/raphaelr/miniconda/lib/python3.8/site-packages/torch/utils/data/dataloader.py\", line 1358, in __del__\n",
      "  File \"/home-nfs/raphaelr/miniconda/lib/python3.8/multiprocessing/process.py\", line 160, in is_alive\n",
      "Traceback (most recent call last):\n",
      "  File \"/home-nfs/raphaelr/miniconda/lib/python3.8/site-packages/torch/utils/data/dataloader.py\", line 1358, in __del__\n",
      "  File \"/home-nfs/raphaelr/miniconda/lib/python3.8/site-packages/torch/utils/data/dataloader.py\", line 1358, in __del__\n",
      "            assert self._parent_pid == os.getpid(), 'can only test a child process'self._shutdown_workers()    self._shutdown_workers()\n",
      "\n",
      "self._shutdown_workers()\n"
     ]
    },
    {
     "name": "stderr",
     "output_type": "stream",
     "text": [
      "AssertionError  File \"/home-nfs/raphaelr/miniconda/lib/python3.8/site-packages/torch/utils/data/dataloader.py\", line 1341, in _shutdown_workers\n",
      "\n",
      "  File \"/home-nfs/raphaelr/miniconda/lib/python3.8/site-packages/torch/utils/data/dataloader.py\", line 1341, in _shutdown_workers\n",
      ":   File \"/home-nfs/raphaelr/miniconda/lib/python3.8/site-packages/torch/utils/data/dataloader.py\", line 1341, in _shutdown_workers\n",
      "can only test a child process        \n",
      "if w.is_alive():if w.is_alive():    \n",
      "\n",
      "if w.is_alive():  File \"/home-nfs/raphaelr/miniconda/lib/python3.8/multiprocessing/process.py\", line 160, in is_alive\n",
      "  File \"/home-nfs/raphaelr/miniconda/lib/python3.8/multiprocessing/process.py\", line 160, in is_alive\n",
      "\n",
      "      File \"/home-nfs/raphaelr/miniconda/lib/python3.8/multiprocessing/process.py\", line 160, in is_alive\n",
      "    Exception ignored in: assert self._parent_pid == os.getpid(), 'can only test a child process'assert self._parent_pid == os.getpid(), 'can only test a child process'<function _MultiProcessingDataLoaderIter.__del__ at 0x7f4fb2b53670>    \n",
      "\n",
      "\n",
      "assert self._parent_pid == os.getpid(), 'can only test a child process'AssertionErrorTraceback (most recent call last):\n",
      "AssertionError\n",
      ": :   File \"/home-nfs/raphaelr/miniconda/lib/python3.8/site-packages/torch/utils/data/dataloader.py\", line 1358, in __del__\n",
      "AssertionErrorcan only test a child processcan only test a child process: \n",
      "    \n",
      "can only test a child processself._shutdown_workers()\n",
      "\n",
      "  File \"/home-nfs/raphaelr/miniconda/lib/python3.8/site-packages/torch/utils/data/dataloader.py\", line 1341, in _shutdown_workers\n",
      "    Exception ignored in: Exception ignored in: if w.is_alive():<function _MultiProcessingDataLoaderIter.__del__ at 0x7f4fb2b53670><function _MultiProcessingDataLoaderIter.__del__ at 0x7f4fb2b53670>\n",
      "\n",
      "Exception ignored in: \n",
      "  File \"/home-nfs/raphaelr/miniconda/lib/python3.8/multiprocessing/process.py\", line 160, in is_alive\n",
      "Traceback (most recent call last):\n",
      "<function _MultiProcessingDataLoaderIter.__del__ at 0x7f4fb2b53670>Traceback (most recent call last):\n",
      "  File \"/home-nfs/raphaelr/miniconda/lib/python3.8/site-packages/torch/utils/data/dataloader.py\", line 1358, in __del__\n",
      "\n",
      "      File \"/home-nfs/raphaelr/miniconda/lib/python3.8/site-packages/torch/utils/data/dataloader.py\", line 1358, in __del__\n",
      "assert self._parent_pid == os.getpid(), 'can only test a child process'Traceback (most recent call last):\n",
      "    \n",
      "  File \"/home-nfs/raphaelr/miniconda/lib/python3.8/site-packages/torch/utils/data/dataloader.py\", line 1358, in __del__\n",
      "    AssertionErrorself._shutdown_workers()self._shutdown_workers()    : \n",
      "\n",
      "can only test a child processself._shutdown_workers()  File \"/home-nfs/raphaelr/miniconda/lib/python3.8/site-packages/torch/utils/data/dataloader.py\", line 1341, in _shutdown_workers\n",
      "  File \"/home-nfs/raphaelr/miniconda/lib/python3.8/site-packages/torch/utils/data/dataloader.py\", line 1341, in _shutdown_workers\n",
      "\n",
      "\n",
      "  File \"/home-nfs/raphaelr/miniconda/lib/python3.8/site-packages/torch/utils/data/dataloader.py\", line 1341, in _shutdown_workers\n",
      "        if w.is_alive():if w.is_alive():    \n",
      "\n",
      "if w.is_alive():  File \"/home-nfs/raphaelr/miniconda/lib/python3.8/multiprocessing/process.py\", line 160, in is_alive\n",
      "  File \"/home-nfs/raphaelr/miniconda/lib/python3.8/multiprocessing/process.py\", line 160, in is_alive\n",
      "Exception ignored in: \n",
      "    <function _MultiProcessingDataLoaderIter.__del__ at 0x7f4fb2b53670>  File \"/home-nfs/raphaelr/miniconda/lib/python3.8/multiprocessing/process.py\", line 160, in is_alive\n",
      "    assert self._parent_pid == os.getpid(), 'can only test a child process'\n",
      "assert self._parent_pid == os.getpid(), 'can only test a child process'\n",
      "Traceback (most recent call last):\n",
      "    \n",
      "AssertionError  File \"/home-nfs/raphaelr/miniconda/lib/python3.8/site-packages/torch/utils/data/dataloader.py\", line 1358, in __del__\n",
      "assert self._parent_pid == os.getpid(), 'can only test a child process'AssertionError: : \n",
      "    can only test a child processcan only test a child processAssertionError\n",
      "self._shutdown_workers()\n",
      ": \n",
      "  File \"/home-nfs/raphaelr/miniconda/lib/python3.8/site-packages/torch/utils/data/dataloader.py\", line 1341, in _shutdown_workers\n",
      "can only test a child process\n",
      "    Exception ignored in: if w.is_alive():Exception ignored in: <function _MultiProcessingDataLoaderIter.__del__ at 0x7f4fb2b53670>\n",
      "<function _MultiProcessingDataLoaderIter.__del__ at 0x7f4fb2b53670>\n",
      "  File \"/home-nfs/raphaelr/miniconda/lib/python3.8/multiprocessing/process.py\", line 160, in is_alive\n",
      "\n",
      "Traceback (most recent call last):\n",
      "Exception ignored in:     Traceback (most recent call last):\n",
      "  File \"/home-nfs/raphaelr/miniconda/lib/python3.8/site-packages/torch/utils/data/dataloader.py\", line 1358, in __del__\n",
      "<function _MultiProcessingDataLoaderIter.__del__ at 0x7f4fb2b53670>assert self._parent_pid == os.getpid(), 'can only test a child process'  File \"/home-nfs/raphaelr/miniconda/lib/python3.8/site-packages/torch/utils/data/dataloader.py\", line 1358, in __del__\n",
      "\n",
      "\n",
      "    Traceback (most recent call last):\n",
      "AssertionErrorself._shutdown_workers()      File \"/home-nfs/raphaelr/miniconda/lib/python3.8/site-packages/torch/utils/data/dataloader.py\", line 1358, in __del__\n",
      "\n",
      "self._shutdown_workers():   File \"/home-nfs/raphaelr/miniconda/lib/python3.8/site-packages/torch/utils/data/dataloader.py\", line 1341, in _shutdown_workers\n",
      "\n",
      "can only test a child process      File \"/home-nfs/raphaelr/miniconda/lib/python3.8/site-packages/torch/utils/data/dataloader.py\", line 1341, in _shutdown_workers\n",
      "\n",
      "self._shutdown_workers()    \n",
      "if w.is_alive():      File \"/home-nfs/raphaelr/miniconda/lib/python3.8/site-packages/torch/utils/data/dataloader.py\", line 1341, in _shutdown_workers\n",
      "\n",
      "if w.is_alive():  File \"/home-nfs/raphaelr/miniconda/lib/python3.8/multiprocessing/process.py\", line 160, in is_alive\n",
      "\n",
      "    Exception ignored in:   File \"/home-nfs/raphaelr/miniconda/lib/python3.8/multiprocessing/process.py\", line 160, in is_alive\n",
      "if w.is_alive():    <function _MultiProcessingDataLoaderIter.__del__ at 0x7f4fb2b53670>\n",
      "assert self._parent_pid == os.getpid(), 'can only test a child process'\n",
      "      File \"/home-nfs/raphaelr/miniconda/lib/python3.8/multiprocessing/process.py\", line 160, in is_alive\n",
      "\n",
      "Traceback (most recent call last):\n",
      "assert self._parent_pid == os.getpid(), 'can only test a child process'AssertionError  File \"/home-nfs/raphaelr/miniconda/lib/python3.8/site-packages/torch/utils/data/dataloader.py\", line 1358, in __del__\n",
      "    \n",
      ": assert self._parent_pid == os.getpid(), 'can only test a child process'AssertionError    can only test a child process\n",
      ": self._shutdown_workers()\n",
      "AssertionErrorcan only test a child process\n",
      "\n",
      "  File \"/home-nfs/raphaelr/miniconda/lib/python3.8/site-packages/torch/utils/data/dataloader.py\", line 1341, in _shutdown_workers\n",
      ": can only test a child process    \n",
      "Exception ignored in: if w.is_alive():<function _MultiProcessingDataLoaderIter.__del__ at 0x7f4fb2b53670>\n",
      "Exception ignored in: \n",
      "  File \"/home-nfs/raphaelr/miniconda/lib/python3.8/multiprocessing/process.py\", line 160, in is_alive\n",
      "<function _MultiProcessingDataLoaderIter.__del__ at 0x7f4fb2b53670>Traceback (most recent call last):\n",
      "\n",
      "      File \"/home-nfs/raphaelr/miniconda/lib/python3.8/site-packages/torch/utils/data/dataloader.py\", line 1358, in __del__\n",
      "Exception ignored in: Traceback (most recent call last):\n",
      "assert self._parent_pid == os.getpid(), 'can only test a child process'<function _MultiProcessingDataLoaderIter.__del__ at 0x7f4fb2b53670>  File \"/home-nfs/raphaelr/miniconda/lib/python3.8/site-packages/torch/utils/data/dataloader.py\", line 1358, in __del__\n",
      "\n",
      "    \n",
      "AssertionErrorself._shutdown_workers()Traceback (most recent call last):\n",
      ":     \n",
      "  File \"/home-nfs/raphaelr/miniconda/lib/python3.8/site-packages/torch/utils/data/dataloader.py\", line 1358, in __del__\n",
      "can only test a child processself._shutdown_workers()  File \"/home-nfs/raphaelr/miniconda/lib/python3.8/site-packages/torch/utils/data/dataloader.py\", line 1341, in _shutdown_workers\n",
      "\n",
      "\n",
      "          File \"/home-nfs/raphaelr/miniconda/lib/python3.8/site-packages/torch/utils/data/dataloader.py\", line 1341, in _shutdown_workers\n",
      "self._shutdown_workers()if w.is_alive():\n",
      "\n",
      "      File \"/home-nfs/raphaelr/miniconda/lib/python3.8/site-packages/torch/utils/data/dataloader.py\", line 1341, in _shutdown_workers\n"
     ]
    },
    {
     "name": "stderr",
     "output_type": "stream",
     "text": [
      "  File \"/home-nfs/raphaelr/miniconda/lib/python3.8/multiprocessing/process.py\", line 160, in is_alive\n",
      "Exception ignored in: if w.is_alive():<function _MultiProcessingDataLoaderIter.__del__ at 0x7f4fb2b53670>    \n",
      "    assert self._parent_pid == os.getpid(), 'can only test a child process'  File \"/home-nfs/raphaelr/miniconda/lib/python3.8/multiprocessing/process.py\", line 160, in is_alive\n",
      "\n",
      "if w.is_alive():\n",
      "Traceback (most recent call last):\n",
      "    \n",
      "assert self._parent_pid == os.getpid(), 'can only test a child process'AssertionError  File \"/home-nfs/raphaelr/miniconda/lib/python3.8/multiprocessing/process.py\", line 160, in is_alive\n",
      "  File \"/home-nfs/raphaelr/miniconda/lib/python3.8/site-packages/torch/utils/data/dataloader.py\", line 1358, in __del__\n",
      "\n",
      ": AssertionError    can only test a child process    : \n",
      "assert self._parent_pid == os.getpid(), 'can only test a child process'self._shutdown_workers()can only test a child process\n",
      "\n",
      "\n",
      "AssertionError  File \"/home-nfs/raphaelr/miniconda/lib/python3.8/site-packages/torch/utils/data/dataloader.py\", line 1341, in _shutdown_workers\n",
      ": can only test a child process    \n",
      "Exception ignored in: Exception ignored in: <function _MultiProcessingDataLoaderIter.__del__ at 0x7f4fb2b53670>if w.is_alive():<function _MultiProcessingDataLoaderIter.__del__ at 0x7f4fb2b53670>\n",
      "\n",
      "\n",
      "Traceback (most recent call last):\n",
      "  File \"/home-nfs/raphaelr/miniconda/lib/python3.8/multiprocessing/process.py\", line 160, in is_alive\n",
      "Traceback (most recent call last):\n",
      "  File \"/home-nfs/raphaelr/miniconda/lib/python3.8/site-packages/torch/utils/data/dataloader.py\", line 1358, in __del__\n",
      "      File \"/home-nfs/raphaelr/miniconda/lib/python3.8/site-packages/torch/utils/data/dataloader.py\", line 1358, in __del__\n",
      "assert self._parent_pid == os.getpid(), 'can only test a child process'    \n",
      "self._shutdown_workers()    AssertionError\n",
      "self._shutdown_workers():   File \"/home-nfs/raphaelr/miniconda/lib/python3.8/site-packages/torch/utils/data/dataloader.py\", line 1341, in _shutdown_workers\n",
      "can only test a child process\n",
      "    if w.is_alive():\n",
      "\n",
      "  File \"/home-nfs/raphaelr/miniconda/lib/python3.8/multiprocessing/process.py\", line 160, in is_alive\n",
      "  File \"/home-nfs/raphaelr/miniconda/lib/python3.8/site-packages/torch/utils/data/dataloader.py\", line 1341, in _shutdown_workers\n",
      "        assert self._parent_pid == os.getpid(), 'can only test a child process'\n",
      "if w.is_alive():AssertionError\n",
      ":   File \"/home-nfs/raphaelr/miniconda/lib/python3.8/multiprocessing/process.py\", line 160, in is_alive\n",
      "can only test a child process    \n",
      "assert self._parent_pid == os.getpid(), 'can only test a child process'\n",
      "Exception ignored in: AssertionError<function _MultiProcessingDataLoaderIter.__del__ at 0x7f4fb2b53670>: \n",
      "can only test a child processTraceback (most recent call last):\n",
      "\n",
      "  File \"/home-nfs/raphaelr/miniconda/lib/python3.8/site-packages/torch/utils/data/dataloader.py\", line 1358, in __del__\n",
      "Exception ignored in: <function _MultiProcessingDataLoaderIter.__del__ at 0x7f4fb2b53670>\n",
      "Traceback (most recent call last):\n",
      "  File \"/home-nfs/raphaelr/miniconda/lib/python3.8/site-packages/torch/utils/data/dataloader.py\", line 1358, in __del__\n",
      "    self._shutdown_workers()    \n",
      "self._shutdown_workers()  File \"/home-nfs/raphaelr/miniconda/lib/python3.8/site-packages/torch/utils/data/dataloader.py\", line 1341, in _shutdown_workers\n",
      "\n",
      "  File \"/home-nfs/raphaelr/miniconda/lib/python3.8/site-packages/torch/utils/data/dataloader.py\", line 1341, in _shutdown_workers\n",
      "    if w.is_alive():    \n",
      "if w.is_alive():  File \"/home-nfs/raphaelr/miniconda/lib/python3.8/multiprocessing/process.py\", line 160, in is_alive\n",
      "\n",
      "  File \"/home-nfs/raphaelr/miniconda/lib/python3.8/multiprocessing/process.py\", line 160, in is_alive\n",
      "    assert self._parent_pid == os.getpid(), 'can only test a child process'    \n",
      "assert self._parent_pid == os.getpid(), 'can only test a child process'AssertionError\n",
      ": AssertionErrorcan only test a child process: \n",
      "can only test a child process\n"
     ]
    },
    {
     "name": "stdout",
     "output_type": "stream",
     "text": [
      "----- Epoch = 15 -----\n",
      "Val loss = 0.4963\n",
      "Val acc = 0.8443\n"
     ]
    },
    {
     "data": {
      "application/vnd.jupyter.widget-view+json": {
       "model_id": "a4dd3b87686049ba9e1db3b7578b39c0",
       "version_major": 2,
       "version_minor": 0
      },
      "text/plain": [
       "Training loop:   0%|          | 0/195 [00:00<?, ?it/s]"
      ]
     },
     "metadata": {},
     "output_type": "display_data"
    },
    {
     "name": "stderr",
     "output_type": "stream",
     "text": [
      "Exception ignored in: <function _MultiProcessingDataLoaderIter.__del__ at 0x7f4fb2b53670>\n",
      "Traceback (most recent call last):\n",
      "  File \"/home-nfs/raphaelr/miniconda/lib/python3.8/site-packages/torch/utils/data/dataloader.py\", line 1358, in __del__\n",
      "    self._shutdown_workers()\n",
      "  File \"/home-nfs/raphaelr/miniconda/lib/python3.8/site-packages/torch/utils/data/dataloader.py\", line 1341, in _shutdown_workers\n",
      "    if w.is_alive():Exception ignored in: \n",
      "<function _MultiProcessingDataLoaderIter.__del__ at 0x7f4fb2b53670>  File \"/home-nfs/raphaelr/miniconda/lib/python3.8/multiprocessing/process.py\", line 160, in is_alive\n",
      "\n",
      "    Traceback (most recent call last):\n",
      "assert self._parent_pid == os.getpid(), 'can only test a child process'  File \"/home-nfs/raphaelr/miniconda/lib/python3.8/site-packages/torch/utils/data/dataloader.py\", line 1358, in __del__\n",
      "\n",
      "AssertionError:     can only test a child processself._shutdown_workers()\n",
      "\n",
      "  File \"/home-nfs/raphaelr/miniconda/lib/python3.8/site-packages/torch/utils/data/dataloader.py\", line 1341, in _shutdown_workers\n",
      "    if w.is_alive():Exception ignored in: \n",
      "<function _MultiProcessingDataLoaderIter.__del__ at 0x7f4fb2b53670>  File \"/home-nfs/raphaelr/miniconda/lib/python3.8/multiprocessing/process.py\", line 160, in is_alive\n",
      "\n",
      "Traceback (most recent call last):\n",
      "      File \"/home-nfs/raphaelr/miniconda/lib/python3.8/site-packages/torch/utils/data/dataloader.py\", line 1358, in __del__\n",
      "assert self._parent_pid == os.getpid(), 'can only test a child process'\n",
      "    AssertionErrorself._shutdown_workers(): \n",
      "can only test a child process  File \"/home-nfs/raphaelr/miniconda/lib/python3.8/site-packages/torch/utils/data/dataloader.py\", line 1341, in _shutdown_workers\n",
      "\n",
      "    if w.is_alive():\n",
      "  File \"/home-nfs/raphaelr/miniconda/lib/python3.8/multiprocessing/process.py\", line 160, in is_alive\n",
      "Exception ignored in:     <function _MultiProcessingDataLoaderIter.__del__ at 0x7f4fb2b53670>assert self._parent_pid == os.getpid(), 'can only test a child process'\n",
      "\n",
      "Exception ignored in: Traceback (most recent call last):\n",
      "AssertionError<function _MultiProcessingDataLoaderIter.__del__ at 0x7f4fb2b53670>  File \"/home-nfs/raphaelr/miniconda/lib/python3.8/site-packages/torch/utils/data/dataloader.py\", line 1358, in __del__\n",
      ": \n",
      "can only test a child process    Traceback (most recent call last):\n",
      "\n",
      "self._shutdown_workers()  File \"/home-nfs/raphaelr/miniconda/lib/python3.8/site-packages/torch/utils/data/dataloader.py\", line 1358, in __del__\n",
      "Exception ignored in: Exception ignored in: \n",
      "Exception ignored in: <function _MultiProcessingDataLoaderIter.__del__ at 0x7f4fb2b53670><function _MultiProcessingDataLoaderIter.__del__ at 0x7f4fb2b53670><function _MultiProcessingDataLoaderIter.__del__ at 0x7f4fb2b53670>\n",
      "  File \"/home-nfs/raphaelr/miniconda/lib/python3.8/site-packages/torch/utils/data/dataloader.py\", line 1341, in _shutdown_workers\n",
      "    \n",
      "\n",
      "Traceback (most recent call last):\n",
      "self._shutdown_workers()Traceback (most recent call last):\n",
      "Traceback (most recent call last):\n",
      "Exception ignored in:   File \"/home-nfs/raphaelr/miniconda/lib/python3.8/site-packages/torch/utils/data/dataloader.py\", line 1358, in __del__\n",
      "    \n",
      "  File \"/home-nfs/raphaelr/miniconda/lib/python3.8/site-packages/torch/utils/data/dataloader.py\", line 1358, in __del__\n",
      "  File \"/home-nfs/raphaelr/miniconda/lib/python3.8/site-packages/torch/utils/data/dataloader.py\", line 1358, in __del__\n",
      "<function _MultiProcessingDataLoaderIter.__del__ at 0x7f4fb2b53670>if w.is_alive():  File \"/home-nfs/raphaelr/miniconda/lib/python3.8/site-packages/torch/utils/data/dataloader.py\", line 1341, in _shutdown_workers\n",
      "    \n",
      "\n",
      "    self._shutdown_workers()        Traceback (most recent call last):\n",
      "  File \"/home-nfs/raphaelr/miniconda/lib/python3.8/multiprocessing/process.py\", line 160, in is_alive\n",
      "self._shutdown_workers()\n",
      "self._shutdown_workers()  File \"/home-nfs/raphaelr/miniconda/lib/python3.8/site-packages/torch/utils/data/dataloader.py\", line 1358, in __del__\n",
      "if w.is_alive():\n",
      "    \n",
      "\n",
      "  File \"/home-nfs/raphaelr/miniconda/lib/python3.8/site-packages/torch/utils/data/dataloader.py\", line 1341, in _shutdown_workers\n",
      "assert self._parent_pid == os.getpid(), 'can only test a child process'  File \"/home-nfs/raphaelr/miniconda/lib/python3.8/site-packages/torch/utils/data/dataloader.py\", line 1341, in _shutdown_workers\n",
      "      File \"/home-nfs/raphaelr/miniconda/lib/python3.8/site-packages/torch/utils/data/dataloader.py\", line 1341, in _shutdown_workers\n",
      "  File \"/home-nfs/raphaelr/miniconda/lib/python3.8/multiprocessing/process.py\", line 160, in is_alive\n",
      "\n",
      "self._shutdown_workers()        AssertionError\n",
      "    if w.is_alive():    : if w.is_alive():  File \"/home-nfs/raphaelr/miniconda/lib/python3.8/site-packages/torch/utils/data/dataloader.py\", line 1341, in _shutdown_workers\n",
      "if w.is_alive():\n",
      "assert self._parent_pid == os.getpid(), 'can only test a child process'can only test a child process\n",
      "\n",
      "  File \"/home-nfs/raphaelr/miniconda/lib/python3.8/multiprocessing/process.py\", line 160, in is_alive\n",
      "\n",
      "  File \"/home-nfs/raphaelr/miniconda/lib/python3.8/multiprocessing/process.py\", line 160, in is_alive\n",
      "\n",
      "      File \"/home-nfs/raphaelr/miniconda/lib/python3.8/multiprocessing/process.py\", line 160, in is_alive\n",
      "AssertionError    if w.is_alive():    :     \n",
      "assert self._parent_pid == os.getpid(), 'can only test a child process'can only test a child processassert self._parent_pid == os.getpid(), 'can only test a child process'assert self._parent_pid == os.getpid(), 'can only test a child process'  File \"/home-nfs/raphaelr/miniconda/lib/python3.8/multiprocessing/process.py\", line 160, in is_alive\n",
      "\n",
      "\n",
      "\n",
      "    AssertionErrorAssertionErrorException ignored in: assert self._parent_pid == os.getpid(), 'can only test a child process': : <function _MultiProcessingDataLoaderIter.__del__ at 0x7f4fb2b53670>\n",
      "can only test a child process\n",
      "\n",
      "can only test a child processAssertionError\n",
      "AssertionErrorTraceback (most recent call last):\n",
      "Exception ignored in: : \n",
      ":   File \"/home-nfs/raphaelr/miniconda/lib/python3.8/site-packages/torch/utils/data/dataloader.py\", line 1358, in __del__\n",
      "<function _MultiProcessingDataLoaderIter.__del__ at 0x7f4fb2b53670>can only test a child processcan only test a child process\n",
      "\n",
      "\n",
      "Traceback (most recent call last):\n",
      "    Exception ignored in:   File \"/home-nfs/raphaelr/miniconda/lib/python3.8/site-packages/torch/utils/data/dataloader.py\", line 1358, in __del__\n",
      "self._shutdown_workers()<function _MultiProcessingDataLoaderIter.__del__ at 0x7f4fb2b53670>Exception ignored in: \n",
      "\n",
      "    <function _MultiProcessingDataLoaderIter.__del__ at 0x7f4fb2b53670>  File \"/home-nfs/raphaelr/miniconda/lib/python3.8/site-packages/torch/utils/data/dataloader.py\", line 1341, in _shutdown_workers\n",
      "Traceback (most recent call last):\n",
      "Exception ignored in: self._shutdown_workers()Exception ignored in:   File \"/home-nfs/raphaelr/miniconda/lib/python3.8/site-packages/torch/utils/data/dataloader.py\", line 1358, in __del__\n",
      "\n",
      "<function _MultiProcessingDataLoaderIter.__del__ at 0x7f4fb2b53670>    \n",
      "<function _MultiProcessingDataLoaderIter.__del__ at 0x7f4fb2b53670>Traceback (most recent call last):\n",
      "    \n",
      "if w.is_alive():  File \"/home-nfs/raphaelr/miniconda/lib/python3.8/site-packages/torch/utils/data/dataloader.py\", line 1341, in _shutdown_workers\n",
      "\n",
      "  File \"/home-nfs/raphaelr/miniconda/lib/python3.8/site-packages/torch/utils/data/dataloader.py\", line 1358, in __del__\n",
      "Traceback (most recent call last):\n",
      "\n",
      "self._shutdown_workers()Traceback (most recent call last):\n",
      "    \n",
      "  File \"/home-nfs/raphaelr/miniconda/lib/python3.8/multiprocessing/process.py\", line 160, in is_alive\n",
      "  File \"/home-nfs/raphaelr/miniconda/lib/python3.8/site-packages/torch/utils/data/dataloader.py\", line 1358, in __del__\n",
      "      File \"/home-nfs/raphaelr/miniconda/lib/python3.8/site-packages/torch/utils/data/dataloader.py\", line 1358, in __del__\n",
      "if w.is_alive():  File \"/home-nfs/raphaelr/miniconda/lib/python3.8/site-packages/torch/utils/data/dataloader.py\", line 1341, in _shutdown_workers\n",
      "self._shutdown_workers()\n",
      "    Exception ignored in:         \n",
      "  File \"/home-nfs/raphaelr/miniconda/lib/python3.8/multiprocessing/process.py\", line 160, in is_alive\n"
     ]
    },
    {
     "name": "stderr",
     "output_type": "stream",
     "text": [
      "    assert self._parent_pid == os.getpid(), 'can only test a child process'self._shutdown_workers()<function _MultiProcessingDataLoaderIter.__del__ at 0x7f4fb2b53670>  File \"/home-nfs/raphaelr/miniconda/lib/python3.8/site-packages/torch/utils/data/dataloader.py\", line 1341, in _shutdown_workers\n",
      "self._shutdown_workers()if w.is_alive():    \n",
      "\n",
      "\n",
      "\n",
      "assert self._parent_pid == os.getpid(), 'can only test a child process'\n",
      "AssertionError    Traceback (most recent call last):\n",
      "  File \"/home-nfs/raphaelr/miniconda/lib/python3.8/site-packages/torch/utils/data/dataloader.py\", line 1341, in _shutdown_workers\n",
      "  File \"/home-nfs/raphaelr/miniconda/lib/python3.8/site-packages/torch/utils/data/dataloader.py\", line 1341, in _shutdown_workers\n",
      "\n",
      "  File \"/home-nfs/raphaelr/miniconda/lib/python3.8/multiprocessing/process.py\", line 160, in is_alive\n",
      ": if w.is_alive():Exception ignored in:   File \"/home-nfs/raphaelr/miniconda/lib/python3.8/site-packages/torch/utils/data/dataloader.py\", line 1358, in __del__\n",
      "AssertionError        can only test a child process\n",
      "    <function _MultiProcessingDataLoaderIter.__del__ at 0x7f4fb2b53670>: if w.is_alive():if w.is_alive():  File \"/home-nfs/raphaelr/miniconda/lib/python3.8/multiprocessing/process.py\", line 160, in is_alive\n",
      "    assert self._parent_pid == os.getpid(), 'can only test a child process'\n",
      "\n",
      "\n",
      "\n",
      "can only test a child processself._shutdown_workers()\n",
      "      File \"/home-nfs/raphaelr/miniconda/lib/python3.8/multiprocessing/process.py\", line 160, in is_alive\n",
      "Traceback (most recent call last):\n",
      "  File \"/home-nfs/raphaelr/miniconda/lib/python3.8/multiprocessing/process.py\", line 160, in is_alive\n",
      "\n",
      "AssertionError\n",
      "assert self._parent_pid == os.getpid(), 'can only test a child process'  File \"/home-nfs/raphaelr/miniconda/lib/python3.8/site-packages/torch/utils/data/dataloader.py\", line 1358, in __del__\n",
      "    :       File \"/home-nfs/raphaelr/miniconda/lib/python3.8/site-packages/torch/utils/data/dataloader.py\", line 1341, in _shutdown_workers\n",
      "\n",
      "Exception ignored in: assert self._parent_pid == os.getpid(), 'can only test a child process'can only test a child processassert self._parent_pid == os.getpid(), 'can only test a child process'    AssertionError<function _MultiProcessingDataLoaderIter.__del__ at 0x7f4fb2b53670>\n",
      "self._shutdown_workers()\n",
      ":     \n",
      "Exception ignored in: \n",
      "AssertionErrorcan only test a child processAssertionErrorif w.is_alive():Traceback (most recent call last):\n",
      "\n",
      "<function _MultiProcessingDataLoaderIter.__del__ at 0x7f4fb2b53670>  File \"/home-nfs/raphaelr/miniconda/lib/python3.8/site-packages/torch/utils/data/dataloader.py\", line 1341, in _shutdown_workers\n",
      ": \n",
      ": \n",
      "  File \"/home-nfs/raphaelr/miniconda/lib/python3.8/site-packages/torch/utils/data/dataloader.py\", line 1358, in __del__\n",
      "\n",
      "can only test a child process  File \"/home-nfs/raphaelr/miniconda/lib/python3.8/multiprocessing/process.py\", line 160, in is_alive\n",
      "    can only test a child processTraceback (most recent call last):\n",
      "\n",
      "    if w.is_alive():    \n",
      "  File \"/home-nfs/raphaelr/miniconda/lib/python3.8/site-packages/torch/utils/data/dataloader.py\", line 1358, in __del__\n",
      "Exception ignored in: \n",
      "self._shutdown_workers()assert self._parent_pid == os.getpid(), 'can only test a child process'<function _MultiProcessingDataLoaderIter.__del__ at 0x7f4fb2b53670>  File \"/home-nfs/raphaelr/miniconda/lib/python3.8/multiprocessing/process.py\", line 160, in is_alive\n",
      "Exception ignored in: \n",
      "    \n",
      "\n",
      "<function _MultiProcessingDataLoaderIter.__del__ at 0x7f4fb2b53670>  File \"/home-nfs/raphaelr/miniconda/lib/python3.8/site-packages/torch/utils/data/dataloader.py\", line 1341, in _shutdown_workers\n",
      "self._shutdown_workers()    Exception ignored in: Traceback (most recent call last):\n",
      "AssertionError\n",
      "Exception ignored in: \n",
      "assert self._parent_pid == os.getpid(), 'can only test a child process'<function _MultiProcessingDataLoaderIter.__del__ at 0x7f4fb2b53670>  File \"/home-nfs/raphaelr/miniconda/lib/python3.8/site-packages/torch/utils/data/dataloader.py\", line 1358, in __del__\n",
      "    : <function _MultiProcessingDataLoaderIter.__del__ at 0x7f4fb2b53670>Traceback (most recent call last):\n",
      "\n",
      "  File \"/home-nfs/raphaelr/miniconda/lib/python3.8/site-packages/torch/utils/data/dataloader.py\", line 1341, in _shutdown_workers\n",
      "\n",
      "    if w.is_alive():can only test a child process\n",
      "  File \"/home-nfs/raphaelr/miniconda/lib/python3.8/site-packages/torch/utils/data/dataloader.py\", line 1358, in __del__\n",
      "AssertionErrorself._shutdown_workers()Traceback (most recent call last):\n",
      "\n",
      "    \n",
      "Traceback (most recent call last):\n",
      ": \n",
      "  File \"/home-nfs/raphaelr/miniconda/lib/python3.8/site-packages/torch/utils/data/dataloader.py\", line 1358, in __del__\n",
      "    if w.is_alive():  File \"/home-nfs/raphaelr/miniconda/lib/python3.8/multiprocessing/process.py\", line 160, in is_alive\n",
      "  File \"/home-nfs/raphaelr/miniconda/lib/python3.8/site-packages/torch/utils/data/dataloader.py\", line 1358, in __del__\n",
      "can only test a child process  File \"/home-nfs/raphaelr/miniconda/lib/python3.8/site-packages/torch/utils/data/dataloader.py\", line 1341, in _shutdown_workers\n",
      "self._shutdown_workers()\n",
      "    \n",
      "    \n",
      "  File \"/home-nfs/raphaelr/miniconda/lib/python3.8/multiprocessing/process.py\", line 160, in is_alive\n",
      "        self._shutdown_workers()assert self._parent_pid == os.getpid(), 'can only test a child process'  File \"/home-nfs/raphaelr/miniconda/lib/python3.8/site-packages/torch/utils/data/dataloader.py\", line 1341, in _shutdown_workers\n",
      "self._shutdown_workers()Exception ignored in: if w.is_alive():    \n",
      "\n",
      "\n",
      "<function _MultiProcessingDataLoaderIter.__del__ at 0x7f4fb2b53670>    assert self._parent_pid == os.getpid(), 'can only test a child process'AssertionError\n",
      "  File \"/home-nfs/raphaelr/miniconda/lib/python3.8/site-packages/torch/utils/data/dataloader.py\", line 1341, in _shutdown_workers\n",
      "\n",
      "  File \"/home-nfs/raphaelr/miniconda/lib/python3.8/site-packages/torch/utils/data/dataloader.py\", line 1341, in _shutdown_workers\n",
      "Exception ignored in: if w.is_alive():\n",
      ":   File \"/home-nfs/raphaelr/miniconda/lib/python3.8/multiprocessing/process.py\", line 160, in is_alive\n",
      "Traceback (most recent call last):\n",
      "<function _MultiProcessingDataLoaderIter.__del__ at 0x7f4fb2b53670>\n",
      "        can only test a child processAssertionError  File \"/home-nfs/raphaelr/miniconda/lib/python3.8/site-packages/torch/utils/data/dataloader.py\", line 1358, in __del__\n",
      "\n",
      "  File \"/home-nfs/raphaelr/miniconda/lib/python3.8/multiprocessing/process.py\", line 160, in is_alive\n",
      "    if w.is_alive():if w.is_alive():\n",
      ": Traceback (most recent call last):\n",
      "assert self._parent_pid == os.getpid(), 'can only test a child process'\n",
      "        can only test a child process  File \"/home-nfs/raphaelr/miniconda/lib/python3.8/site-packages/torch/utils/data/dataloader.py\", line 1358, in __del__\n",
      "  File \"/home-nfs/raphaelr/miniconda/lib/python3.8/multiprocessing/process.py\", line 160, in is_alive\n",
      "\n",
      "self._shutdown_workers()assert self._parent_pid == os.getpid(), 'can only test a child process'\n",
      "\n",
      "AssertionError\n",
      "    \n",
      "      File \"/home-nfs/raphaelr/miniconda/lib/python3.8/multiprocessing/process.py\", line 160, in is_alive\n",
      ":   File \"/home-nfs/raphaelr/miniconda/lib/python3.8/site-packages/torch/utils/data/dataloader.py\", line 1341, in _shutdown_workers\n",
      "Exception ignored in: assert self._parent_pid == os.getpid(), 'can only test a child process'AssertionErrorself._shutdown_workers()can only test a child process<function _MultiProcessingDataLoaderIter.__del__ at 0x7f4fb2b53670>    :     \n",
      "\n",
      "\n",
      "\n",
      "assert self._parent_pid == os.getpid(), 'can only test a child process'can only test a child processException ignored in: if w.is_alive():  File \"/home-nfs/raphaelr/miniconda/lib/python3.8/site-packages/torch/utils/data/dataloader.py\", line 1341, in _shutdown_workers\n",
      "AssertionErrorTraceback (most recent call last):\n",
      "\n",
      "\n",
      "\n",
      ":   File \"/home-nfs/raphaelr/miniconda/lib/python3.8/site-packages/torch/utils/data/dataloader.py\", line 1358, in __del__\n",
      "    AssertionError  File \"/home-nfs/raphaelr/miniconda/lib/python3.8/multiprocessing/process.py\", line 160, in is_alive\n",
      "can only test a child process: if w.is_alive():<function _MultiProcessingDataLoaderIter.__del__ at 0x7f4fb2b53670>Exception ignored in: \n",
      "    can only test a child process    \n",
      "\n"
     ]
    },
    {
     "name": "stderr",
     "output_type": "stream",
     "text": [
      "<function _MultiProcessingDataLoaderIter.__del__ at 0x7f4fb2b53670>self._shutdown_workers()\n",
      "assert self._parent_pid == os.getpid(), 'can only test a child process'Exception ignored in:   File \"/home-nfs/raphaelr/miniconda/lib/python3.8/multiprocessing/process.py\", line 160, in is_alive\n",
      "\n",
      "Traceback (most recent call last):\n",
      "\n",
      "\n",
      "<function _MultiProcessingDataLoaderIter.__del__ at 0x7f4fb2b53670>Traceback (most recent call last):\n",
      "      File \"/home-nfs/raphaelr/miniconda/lib/python3.8/site-packages/torch/utils/data/dataloader.py\", line 1358, in __del__\n",
      "  File \"/home-nfs/raphaelr/miniconda/lib/python3.8/site-packages/torch/utils/data/dataloader.py\", line 1341, in _shutdown_workers\n",
      "Exception ignored in: AssertionError\n",
      "  File \"/home-nfs/raphaelr/miniconda/lib/python3.8/site-packages/torch/utils/data/dataloader.py\", line 1358, in __del__\n",
      "assert self._parent_pid == os.getpid(), 'can only test a child process': <function _MultiProcessingDataLoaderIter.__del__ at 0x7f4fb2b53670>Exception ignored in:     Traceback (most recent call last):\n",
      "    \n",
      "can only test a child process\n",
      "    <function _MultiProcessingDataLoaderIter.__del__ at 0x7f4fb2b53670>self._shutdown_workers()  File \"/home-nfs/raphaelr/miniconda/lib/python3.8/site-packages/torch/utils/data/dataloader.py\", line 1358, in __del__\n",
      "if w.is_alive():AssertionError\n",
      "Traceback (most recent call last):\n",
      "self._shutdown_workers()\n",
      "\n",
      "\n",
      ":       File \"/home-nfs/raphaelr/miniconda/lib/python3.8/site-packages/torch/utils/data/dataloader.py\", line 1358, in __del__\n",
      "\n",
      "  File \"/home-nfs/raphaelr/miniconda/lib/python3.8/site-packages/torch/utils/data/dataloader.py\", line 1341, in _shutdown_workers\n",
      "Traceback (most recent call last):\n",
      "  File \"/home-nfs/raphaelr/miniconda/lib/python3.8/multiprocessing/process.py\", line 160, in is_alive\n",
      "  File \"/home-nfs/raphaelr/miniconda/lib/python3.8/site-packages/torch/utils/data/dataloader.py\", line 1341, in _shutdown_workers\n",
      "  File \"/home-nfs/raphaelr/miniconda/lib/python3.8/site-packages/torch/utils/data/dataloader.py\", line 1358, in __del__\n",
      "can only test a child process    self._shutdown_workers()        Exception ignored in: \n",
      "self._shutdown_workers()\n",
      "    if w.is_alive():assert self._parent_pid == os.getpid(), 'can only test a child process'    <function _MultiProcessingDataLoaderIter.__del__ at 0x7f4fb2b53670>\n",
      "  File \"/home-nfs/raphaelr/miniconda/lib/python3.8/site-packages/torch/utils/data/dataloader.py\", line 1341, in _shutdown_workers\n",
      "self._shutdown_workers()\n",
      "\n",
      "if w.is_alive():\n",
      "  File \"/home-nfs/raphaelr/miniconda/lib/python3.8/site-packages/torch/utils/data/dataloader.py\", line 1341, in _shutdown_workers\n",
      "\n",
      "  File \"/home-nfs/raphaelr/miniconda/lib/python3.8/multiprocessing/process.py\", line 160, in is_alive\n",
      "AssertionError\n",
      "    Traceback (most recent call last):\n",
      "  File \"/home-nfs/raphaelr/miniconda/lib/python3.8/site-packages/torch/utils/data/dataloader.py\", line 1341, in _shutdown_workers\n",
      "Exception ignored in: :           File \"/home-nfs/raphaelr/miniconda/lib/python3.8/multiprocessing/process.py\", line 160, in is_alive\n",
      "  File \"/home-nfs/raphaelr/miniconda/lib/python3.8/site-packages/torch/utils/data/dataloader.py\", line 1358, in __del__\n",
      "if w.is_alive():<function _MultiProcessingDataLoaderIter.__del__ at 0x7f4fb2b53670>if w.is_alive():can only test a child process    assert self._parent_pid == os.getpid(), 'can only test a child process'    \n",
      "\n",
      "    \n",
      "\n",
      "if w.is_alive():\n",
      "  File \"/home-nfs/raphaelr/miniconda/lib/python3.8/multiprocessing/process.py\", line 160, in is_alive\n",
      "assert self._parent_pid == os.getpid(), 'can only test a child process'Traceback (most recent call last):\n",
      "self._shutdown_workers()  File \"/home-nfs/raphaelr/miniconda/lib/python3.8/multiprocessing/process.py\", line 160, in is_alive\n",
      "\n",
      "AssertionError\n",
      "  File \"/home-nfs/raphaelr/miniconda/lib/python3.8/site-packages/torch/utils/data/dataloader.py\", line 1358, in __del__\n",
      "\n",
      "      File \"/home-nfs/raphaelr/miniconda/lib/python3.8/multiprocessing/process.py\", line 160, in is_alive\n",
      ":     AssertionError  File \"/home-nfs/raphaelr/miniconda/lib/python3.8/site-packages/torch/utils/data/dataloader.py\", line 1341, in _shutdown_workers\n",
      "assert self._parent_pid == os.getpid(), 'can only test a child process'can only test a child processassert self._parent_pid == os.getpid(), 'can only test a child process'    Exception ignored in: :     \n",
      "\n",
      "    \n",
      "assert self._parent_pid == os.getpid(), 'can only test a child process'<function _MultiProcessingDataLoaderIter.__del__ at 0x7f4fb2b53670>self._shutdown_workers()AssertionErrorcan only test a child processif w.is_alive():AssertionError\n",
      "\n",
      "\n",
      ": : \n",
      "\n",
      "AssertionError  File \"/home-nfs/raphaelr/miniconda/lib/python3.8/site-packages/torch/utils/data/dataloader.py\", line 1341, in _shutdown_workers\n",
      "Traceback (most recent call last):\n",
      "can only test a child process  File \"/home-nfs/raphaelr/miniconda/lib/python3.8/multiprocessing/process.py\", line 160, in is_alive\n",
      ": Exception ignored in: can only test a child process\n",
      "  File \"/home-nfs/raphaelr/miniconda/lib/python3.8/site-packages/torch/utils/data/dataloader.py\", line 1358, in __del__\n",
      "can only test a child process<function _MultiProcessingDataLoaderIter.__del__ at 0x7f4fb2b53670>\n",
      "        \n",
      "    assert self._parent_pid == os.getpid(), 'can only test a child process'if w.is_alive():Exception ignored in: self._shutdown_workers()\n",
      "\n",
      "Traceback (most recent call last):\n",
      "\n",
      "<function _MultiProcessingDataLoaderIter.__del__ at 0x7f4fb2b53670>\n",
      "AssertionErrorException ignored in:   File \"/home-nfs/raphaelr/miniconda/lib/python3.8/site-packages/torch/utils/data/dataloader.py\", line 1358, in __del__\n",
      "  File \"/home-nfs/raphaelr/miniconda/lib/python3.8/multiprocessing/process.py\", line 160, in is_alive\n",
      "\n",
      "  File \"/home-nfs/raphaelr/miniconda/lib/python3.8/site-packages/torch/utils/data/dataloader.py\", line 1341, in _shutdown_workers\n",
      ": <function _MultiProcessingDataLoaderIter.__del__ at 0x7f4fb2b53670>Traceback (most recent call last):\n",
      "        can only test a child process\n",
      "  File \"/home-nfs/raphaelr/miniconda/lib/python3.8/site-packages/torch/utils/data/dataloader.py\", line 1358, in __del__\n",
      "    assert self._parent_pid == os.getpid(), 'can only test a child process'Exception ignored in: self._shutdown_workers()Traceback (most recent call last):\n",
      "\n",
      "\n",
      "<function _MultiProcessingDataLoaderIter.__del__ at 0x7f4fb2b53670>if w.is_alive():\n",
      "      File \"/home-nfs/raphaelr/miniconda/lib/python3.8/site-packages/torch/utils/data/dataloader.py\", line 1358, in __del__\n",
      "AssertionError\n",
      "\n",
      "  File \"/home-nfs/raphaelr/miniconda/lib/python3.8/site-packages/torch/utils/data/dataloader.py\", line 1341, in _shutdown_workers\n",
      "self._shutdown_workers():   File \"/home-nfs/raphaelr/miniconda/lib/python3.8/multiprocessing/process.py\", line 160, in is_alive\n",
      "Traceback (most recent call last):\n",
      "    \n",
      "can only test a child process      File \"/home-nfs/raphaelr/miniconda/lib/python3.8/site-packages/torch/utils/data/dataloader.py\", line 1358, in __del__\n",
      "Exception ignored in: self._shutdown_workers()  File \"/home-nfs/raphaelr/miniconda/lib/python3.8/site-packages/torch/utils/data/dataloader.py\", line 1341, in _shutdown_workers\n",
      "\n",
      "    if w.is_alive():<function _MultiProcessingDataLoaderIter.__del__ at 0x7f4fb2b53670>\n",
      "    assert self._parent_pid == os.getpid(), 'can only test a child process'    \n",
      "\n",
      "  File \"/home-nfs/raphaelr/miniconda/lib/python3.8/site-packages/torch/utils/data/dataloader.py\", line 1341, in _shutdown_workers\n",
      "self._shutdown_workers()\n",
      "if w.is_alive():  File \"/home-nfs/raphaelr/miniconda/lib/python3.8/multiprocessing/process.py\", line 160, in is_alive\n",
      "Traceback (most recent call last):\n",
      "\n",
      "AssertionError    \n",
      "Exception ignored in:   File \"/home-nfs/raphaelr/miniconda/lib/python3.8/site-packages/torch/utils/data/dataloader.py\", line 1358, in __del__\n",
      "  File \"/home-nfs/raphaelr/miniconda/lib/python3.8/site-packages/torch/utils/data/dataloader.py\", line 1341, in _shutdown_workers\n",
      "    if w.is_alive():<function _MultiProcessingDataLoaderIter.__del__ at 0x7f4fb2b53670>  File \"/home-nfs/raphaelr/miniconda/lib/python3.8/multiprocessing/process.py\", line 160, in is_alive\n",
      ": assert self._parent_pid == os.getpid(), 'can only test a child process'\n",
      "\n",
      "    can only test a child process    \n",
      "      File \"/home-nfs/raphaelr/miniconda/lib/python3.8/multiprocessing/process.py\", line 160, in is_alive\n"
     ]
    },
    {
     "name": "stderr",
     "output_type": "stream",
     "text": [
      "Traceback (most recent call last):\n",
      "self._shutdown_workers()\n",
      "assert self._parent_pid == os.getpid(), 'can only test a child process'AssertionErrorif w.is_alive():  File \"/home-nfs/raphaelr/miniconda/lib/python3.8/site-packages/torch/utils/data/dataloader.py\", line 1358, in __del__\n",
      "\n",
      "    \n",
      ": \n",
      "  File \"/home-nfs/raphaelr/miniconda/lib/python3.8/site-packages/torch/utils/data/dataloader.py\", line 1341, in _shutdown_workers\n",
      "assert self._parent_pid == os.getpid(), 'can only test a child process'AssertionErrorcan only test a child process      File \"/home-nfs/raphaelr/miniconda/lib/python3.8/multiprocessing/process.py\", line 160, in is_alive\n",
      "\n",
      ": \n",
      "self._shutdown_workers()AssertionError        can only test a child process\n",
      "if w.is_alive():: \n",
      "assert self._parent_pid == os.getpid(), 'can only test a child process'  File \"/home-nfs/raphaelr/miniconda/lib/python3.8/site-packages/torch/utils/data/dataloader.py\", line 1341, in _shutdown_workers\n",
      "can only test a child process\n",
      "\n",
      "\n",
      "AssertionError  File \"/home-nfs/raphaelr/miniconda/lib/python3.8/multiprocessing/process.py\", line 160, in is_alive\n",
      "Exception ignored in:     : <function _MultiProcessingDataLoaderIter.__del__ at 0x7f4fb2b53670>if w.is_alive():    can only test a child process\n",
      "Exception ignored in: \n",
      "assert self._parent_pid == os.getpid(), 'can only test a child process'\n",
      "Traceback (most recent call last):\n",
      "<function _MultiProcessingDataLoaderIter.__del__ at 0x7f4fb2b53670>\n",
      "  File \"/home-nfs/raphaelr/miniconda/lib/python3.8/multiprocessing/process.py\", line 160, in is_alive\n",
      "Exception ignored in:   File \"/home-nfs/raphaelr/miniconda/lib/python3.8/site-packages/torch/utils/data/dataloader.py\", line 1358, in __del__\n",
      "\n",
      "AssertionError<function _MultiProcessingDataLoaderIter.__del__ at 0x7f4fb2b53670>    Traceback (most recent call last):\n",
      ": \n",
      "      File \"/home-nfs/raphaelr/miniconda/lib/python3.8/site-packages/torch/utils/data/dataloader.py\", line 1358, in __del__\n",
      "assert self._parent_pid == os.getpid(), 'can only test a child process'can only test a child processException ignored in: Traceback (most recent call last):\n",
      "self._shutdown_workers()\n",
      "\n",
      "<function _MultiProcessingDataLoaderIter.__del__ at 0x7f4fb2b53670>  File \"/home-nfs/raphaelr/miniconda/lib/python3.8/site-packages/torch/utils/data/dataloader.py\", line 1358, in __del__\n",
      "    \n",
      "AssertionError\n",
      "self._shutdown_workers()  File \"/home-nfs/raphaelr/miniconda/lib/python3.8/site-packages/torch/utils/data/dataloader.py\", line 1341, in _shutdown_workers\n",
      ": Traceback (most recent call last):\n",
      "    \n",
      "can only test a child process  File \"/home-nfs/raphaelr/miniconda/lib/python3.8/site-packages/torch/utils/data/dataloader.py\", line 1358, in __del__\n",
      "self._shutdown_workers()  File \"/home-nfs/raphaelr/miniconda/lib/python3.8/site-packages/torch/utils/data/dataloader.py\", line 1341, in _shutdown_workers\n",
      "\n",
      "\n",
      "        Exception ignored in:   File \"/home-nfs/raphaelr/miniconda/lib/python3.8/site-packages/torch/utils/data/dataloader.py\", line 1341, in _shutdown_workers\n",
      "if w.is_alive():self._shutdown_workers()    <function _MultiProcessingDataLoaderIter.__del__ at 0x7f4fb2b53670>\n",
      "\n",
      "if w.is_alive():    \n",
      "  File \"/home-nfs/raphaelr/miniconda/lib/python3.8/multiprocessing/process.py\", line 160, in is_alive\n",
      "  File \"/home-nfs/raphaelr/miniconda/lib/python3.8/site-packages/torch/utils/data/dataloader.py\", line 1341, in _shutdown_workers\n",
      "if w.is_alive():Exception ignored in: \n",
      "    \n",
      "<function _MultiProcessingDataLoaderIter.__del__ at 0x7f4fb2b53670>  File \"/home-nfs/raphaelr/miniconda/lib/python3.8/multiprocessing/process.py\", line 160, in is_alive\n",
      "Traceback (most recent call last):\n",
      "    assert self._parent_pid == os.getpid(), 'can only test a child process'  File \"/home-nfs/raphaelr/miniconda/lib/python3.8/multiprocessing/process.py\", line 160, in is_alive\n",
      "\n",
      "  File \"/home-nfs/raphaelr/miniconda/lib/python3.8/site-packages/torch/utils/data/dataloader.py\", line 1358, in __del__\n",
      "if w.is_alive():\n",
      "Traceback (most recent call last):\n",
      "    \n",
      "AssertionError    assert self._parent_pid == os.getpid(), 'can only test a child process'  File \"/home-nfs/raphaelr/miniconda/lib/python3.8/site-packages/torch/utils/data/dataloader.py\", line 1358, in __del__\n",
      "  File \"/home-nfs/raphaelr/miniconda/lib/python3.8/multiprocessing/process.py\", line 160, in is_alive\n",
      "    : self._shutdown_workers()\n",
      "    assert self._parent_pid == os.getpid(), 'can only test a child process'can only test a child process\n",
      "    AssertionError\n",
      "\n",
      "assert self._parent_pid == os.getpid(), 'can only test a child process'self._shutdown_workers()  File \"/home-nfs/raphaelr/miniconda/lib/python3.8/site-packages/torch/utils/data/dataloader.py\", line 1341, in _shutdown_workers\n",
      "AssertionError: \n",
      ": can only test a child process    \n",
      "AssertionError\n",
      "if w.is_alive():can only test a child process:   File \"/home-nfs/raphaelr/miniconda/lib/python3.8/site-packages/torch/utils/data/dataloader.py\", line 1341, in _shutdown_workers\n",
      "\n",
      "\n",
      "can only test a child process  File \"/home-nfs/raphaelr/miniconda/lib/python3.8/multiprocessing/process.py\", line 160, in is_alive\n",
      "    \n",
      "if w.is_alive():    \n",
      "assert self._parent_pid == os.getpid(), 'can only test a child process'  File \"/home-nfs/raphaelr/miniconda/lib/python3.8/multiprocessing/process.py\", line 160, in is_alive\n",
      "\n",
      "AssertionError    : assert self._parent_pid == os.getpid(), 'can only test a child process'can only test a child process\n",
      "\n",
      "AssertionError: can only test a child process\n",
      "Exception ignored in: <function _MultiProcessingDataLoaderIter.__del__ at 0x7f4fb2b53670>\n",
      "Exception ignored in: Traceback (most recent call last):\n",
      "<function _MultiProcessingDataLoaderIter.__del__ at 0x7f4fb2b53670>  File \"/home-nfs/raphaelr/miniconda/lib/python3.8/site-packages/torch/utils/data/dataloader.py\", line 1358, in __del__\n",
      "\n",
      "Traceback (most recent call last):\n",
      "      File \"/home-nfs/raphaelr/miniconda/lib/python3.8/site-packages/torch/utils/data/dataloader.py\", line 1358, in __del__\n",
      "self._shutdown_workers()\n",
      "      File \"/home-nfs/raphaelr/miniconda/lib/python3.8/site-packages/torch/utils/data/dataloader.py\", line 1341, in _shutdown_workers\n",
      "self._shutdown_workers()\n",
      "      File \"/home-nfs/raphaelr/miniconda/lib/python3.8/site-packages/torch/utils/data/dataloader.py\", line 1341, in _shutdown_workers\n",
      "if w.is_alive():\n",
      "      File \"/home-nfs/raphaelr/miniconda/lib/python3.8/multiprocessing/process.py\", line 160, in is_alive\n",
      "if w.is_alive():\n",
      "      File \"/home-nfs/raphaelr/miniconda/lib/python3.8/multiprocessing/process.py\", line 160, in is_alive\n",
      "assert self._parent_pid == os.getpid(), 'can only test a child process'\n",
      "    AssertionErrorassert self._parent_pid == os.getpid(), 'can only test a child process': \n",
      "can only test a child processAssertionError\n",
      ": can only test a child process\n",
      "Exception ignored in: Exception ignored in: <function _MultiProcessingDataLoaderIter.__del__ at 0x7f4fb2b53670><function _MultiProcessingDataLoaderIter.__del__ at 0x7f4fb2b53670>\n",
      "\n",
      "Traceback (most recent call last):\n",
      "Traceback (most recent call last):\n",
      "  File \"/home-nfs/raphaelr/miniconda/lib/python3.8/site-packages/torch/utils/data/dataloader.py\", line 1358, in __del__\n",
      "  File \"/home-nfs/raphaelr/miniconda/lib/python3.8/site-packages/torch/utils/data/dataloader.py\", line 1358, in __del__\n",
      "    self._shutdown_workers()    \n",
      "self._shutdown_workers()  File \"/home-nfs/raphaelr/miniconda/lib/python3.8/site-packages/torch/utils/data/dataloader.py\", line 1341, in _shutdown_workers\n",
      "\n",
      "  File \"/home-nfs/raphaelr/miniconda/lib/python3.8/site-packages/torch/utils/data/dataloader.py\", line 1341, in _shutdown_workers\n",
      "        if w.is_alive():if w.is_alive():\n",
      "\n",
      "  File \"/home-nfs/raphaelr/miniconda/lib/python3.8/multiprocessing/process.py\", line 160, in is_alive\n",
      "  File \"/home-nfs/raphaelr/miniconda/lib/python3.8/multiprocessing/process.py\", line 160, in is_alive\n",
      "        assert self._parent_pid == os.getpid(), 'can only test a child process'assert self._parent_pid == os.getpid(), 'can only test a child process'\n",
      "\n",
      "AssertionErrorAssertionErrorException ignored in: : : can only test a child process<function _MultiProcessingDataLoaderIter.__del__ at 0x7f4fb2b53670>can only test a child process\n",
      "\n",
      "\n",
      "Traceback (most recent call last):\n",
      "  File \"/home-nfs/raphaelr/miniconda/lib/python3.8/site-packages/torch/utils/data/dataloader.py\", line 1358, in __del__\n"
     ]
    },
    {
     "name": "stderr",
     "output_type": "stream",
     "text": [
      "    self._shutdown_workers()Exception ignored in: \n",
      "Exception ignored in: <function _MultiProcessingDataLoaderIter.__del__ at 0x7f4fb2b53670>  File \"/home-nfs/raphaelr/miniconda/lib/python3.8/site-packages/torch/utils/data/dataloader.py\", line 1341, in _shutdown_workers\n",
      "<function _MultiProcessingDataLoaderIter.__del__ at 0x7f4fb2b53670>\n",
      "\n",
      "Traceback (most recent call last):\n",
      "    Traceback (most recent call last):\n",
      "  File \"/home-nfs/raphaelr/miniconda/lib/python3.8/site-packages/torch/utils/data/dataloader.py\", line 1358, in __del__\n",
      "if w.is_alive():  File \"/home-nfs/raphaelr/miniconda/lib/python3.8/site-packages/torch/utils/data/dataloader.py\", line 1358, in __del__\n",
      "\n",
      "  File \"/home-nfs/raphaelr/miniconda/lib/python3.8/multiprocessing/process.py\", line 160, in is_alive\n",
      "        self._shutdown_workers()self._shutdown_workers()    \n",
      "\n",
      "assert self._parent_pid == os.getpid(), 'can only test a child process'  File \"/home-nfs/raphaelr/miniconda/lib/python3.8/site-packages/torch/utils/data/dataloader.py\", line 1341, in _shutdown_workers\n",
      "  File \"/home-nfs/raphaelr/miniconda/lib/python3.8/site-packages/torch/utils/data/dataloader.py\", line 1341, in _shutdown_workers\n",
      "\n",
      "AssertionError        : if w.is_alive():if w.is_alive():can only test a child process\n",
      "\n",
      "  File \"/home-nfs/raphaelr/miniconda/lib/python3.8/multiprocessing/process.py\", line 160, in is_alive\n",
      "\n",
      "  File \"/home-nfs/raphaelr/miniconda/lib/python3.8/multiprocessing/process.py\", line 160, in is_alive\n",
      "    assert self._parent_pid == os.getpid(), 'can only test a child process'    \n",
      "assert self._parent_pid == os.getpid(), 'can only test a child process'AssertionError\n",
      ": AssertionErrorcan only test a child processException ignored in: : \n",
      "<function _MultiProcessingDataLoaderIter.__del__ at 0x7f4fb2b53670>can only test a child process\n",
      "\n",
      "Traceback (most recent call last):\n",
      "  File \"/home-nfs/raphaelr/miniconda/lib/python3.8/site-packages/torch/utils/data/dataloader.py\", line 1358, in __del__\n",
      "Exception ignored in: Exception ignored in: <function _MultiProcessingDataLoaderIter.__del__ at 0x7f4fb2b53670><function _MultiProcessingDataLoaderIter.__del__ at 0x7f4fb2b53670>    \n",
      "\n",
      "self._shutdown_workers()Exception ignored in: Traceback (most recent call last):\n",
      "Traceback (most recent call last):\n",
      "\n",
      "<function _MultiProcessingDataLoaderIter.__del__ at 0x7f4fb2b53670>  File \"/home-nfs/raphaelr/miniconda/lib/python3.8/site-packages/torch/utils/data/dataloader.py\", line 1358, in __del__\n",
      "  File \"/home-nfs/raphaelr/miniconda/lib/python3.8/site-packages/torch/utils/data/dataloader.py\", line 1358, in __del__\n",
      "  File \"/home-nfs/raphaelr/miniconda/lib/python3.8/site-packages/torch/utils/data/dataloader.py\", line 1341, in _shutdown_workers\n",
      "\n",
      "Traceback (most recent call last):\n",
      "            self._shutdown_workers()  File \"/home-nfs/raphaelr/miniconda/lib/python3.8/site-packages/torch/utils/data/dataloader.py\", line 1358, in __del__\n",
      "self._shutdown_workers()if w.is_alive():\n",
      "\n",
      "\n",
      "  File \"/home-nfs/raphaelr/miniconda/lib/python3.8/site-packages/torch/utils/data/dataloader.py\", line 1341, in _shutdown_workers\n",
      "      File \"/home-nfs/raphaelr/miniconda/lib/python3.8/site-packages/torch/utils/data/dataloader.py\", line 1341, in _shutdown_workers\n",
      "  File \"/home-nfs/raphaelr/miniconda/lib/python3.8/multiprocessing/process.py\", line 160, in is_alive\n",
      "self._shutdown_workers()        \n",
      "    if w.is_alive():  File \"/home-nfs/raphaelr/miniconda/lib/python3.8/site-packages/torch/utils/data/dataloader.py\", line 1341, in _shutdown_workers\n",
      "if w.is_alive():assert self._parent_pid == os.getpid(), 'can only test a child process'\n",
      "\n",
      "  File \"/home-nfs/raphaelr/miniconda/lib/python3.8/multiprocessing/process.py\", line 160, in is_alive\n",
      "\n",
      "      File \"/home-nfs/raphaelr/miniconda/lib/python3.8/multiprocessing/process.py\", line 160, in is_alive\n",
      "AssertionErrorif w.is_alive():    :     \n",
      "assert self._parent_pid == os.getpid(), 'can only test a child process'can only test a child processassert self._parent_pid == os.getpid(), 'can only test a child process'  File \"/home-nfs/raphaelr/miniconda/lib/python3.8/multiprocessing/process.py\", line 160, in is_alive\n",
      "\n",
      "\n",
      "\n",
      "AssertionErrorAssertionError    : : assert self._parent_pid == os.getpid(), 'can only test a child process'can only test a child processcan only test a child process\n",
      "\n",
      "\n",
      "AssertionErrorException ignored in: : <function _MultiProcessingDataLoaderIter.__del__ at 0x7f4fb2b53670>can only test a child process\n",
      "\n",
      "Traceback (most recent call last):\n",
      "  File \"/home-nfs/raphaelr/miniconda/lib/python3.8/site-packages/torch/utils/data/dataloader.py\", line 1358, in __del__\n",
      "Exception ignored in: Exception ignored in: <function _MultiProcessingDataLoaderIter.__del__ at 0x7f4fb2b53670><function _MultiProcessingDataLoaderIter.__del__ at 0x7f4fb2b53670>    \n",
      "\n",
      "self._shutdown_workers()Traceback (most recent call last):\n",
      "Traceback (most recent call last):\n",
      "Exception ignored in: \n",
      "  File \"/home-nfs/raphaelr/miniconda/lib/python3.8/site-packages/torch/utils/data/dataloader.py\", line 1358, in __del__\n",
      "  File \"/home-nfs/raphaelr/miniconda/lib/python3.8/site-packages/torch/utils/data/dataloader.py\", line 1358, in __del__\n",
      "<function _MultiProcessingDataLoaderIter.__del__ at 0x7f4fb2b53670>  File \"/home-nfs/raphaelr/miniconda/lib/python3.8/site-packages/torch/utils/data/dataloader.py\", line 1341, in _shutdown_workers\n",
      "\n",
      "        Traceback (most recent call last):\n",
      "    self._shutdown_workers()self._shutdown_workers()  File \"/home-nfs/raphaelr/miniconda/lib/python3.8/site-packages/torch/utils/data/dataloader.py\", line 1358, in __del__\n",
      "if w.is_alive():\n",
      "\n",
      "\n",
      "  File \"/home-nfs/raphaelr/miniconda/lib/python3.8/site-packages/torch/utils/data/dataloader.py\", line 1341, in _shutdown_workers\n",
      "  File \"/home-nfs/raphaelr/miniconda/lib/python3.8/site-packages/torch/utils/data/dataloader.py\", line 1341, in _shutdown_workers\n",
      "      File \"/home-nfs/raphaelr/miniconda/lib/python3.8/multiprocessing/process.py\", line 160, in is_alive\n",
      "self._shutdown_workers()    \n",
      "        if w.is_alive():if w.is_alive():  File \"/home-nfs/raphaelr/miniconda/lib/python3.8/site-packages/torch/utils/data/dataloader.py\", line 1341, in _shutdown_workers\n",
      "assert self._parent_pid == os.getpid(), 'can only test a child process'\n",
      "\n",
      "\n",
      "  File \"/home-nfs/raphaelr/miniconda/lib/python3.8/multiprocessing/process.py\", line 160, in is_alive\n",
      "  File \"/home-nfs/raphaelr/miniconda/lib/python3.8/multiprocessing/process.py\", line 160, in is_alive\n",
      "    AssertionErrorif w.is_alive():        : \n",
      "assert self._parent_pid == os.getpid(), 'can only test a child process'assert self._parent_pid == os.getpid(), 'can only test a child process'can only test a child process  File \"/home-nfs/raphaelr/miniconda/lib/python3.8/multiprocessing/process.py\", line 160, in is_alive\n",
      "\n",
      "\n",
      "\n",
      "AssertionError    AssertionError: assert self._parent_pid == os.getpid(), 'can only test a child process': can only test a child processcan only test a child process\n",
      "\n",
      "\n",
      "AssertionErrorException ignored in: : <function _MultiProcessingDataLoaderIter.__del__ at 0x7f4fb2b53670>can only test a child process\n",
      "\n",
      "Traceback (most recent call last):\n",
      "Exception ignored in:   File \"/home-nfs/raphaelr/miniconda/lib/python3.8/site-packages/torch/utils/data/dataloader.py\", line 1358, in __del__\n",
      "Exception ignored in: <function _MultiProcessingDataLoaderIter.__del__ at 0x7f4fb2b53670><function _MultiProcessingDataLoaderIter.__del__ at 0x7f4fb2b53670>\n",
      "    \n",
      "Traceback (most recent call last):\n",
      "self._shutdown_workers()Exception ignored in:   File \"/home-nfs/raphaelr/miniconda/lib/python3.8/site-packages/torch/utils/data/dataloader.py\", line 1358, in __del__\n",
      "Traceback (most recent call last):\n",
      "\n",
      "<function _MultiProcessingDataLoaderIter.__del__ at 0x7f4fb2b53670>  File \"/home-nfs/raphaelr/miniconda/lib/python3.8/site-packages/torch/utils/data/dataloader.py\", line 1358, in __del__\n",
      "  File \"/home-nfs/raphaelr/miniconda/lib/python3.8/site-packages/torch/utils/data/dataloader.py\", line 1341, in _shutdown_workers\n",
      "\n",
      "    Traceback (most recent call last):\n",
      "    self._shutdown_workers()      File \"/home-nfs/raphaelr/miniconda/lib/python3.8/site-packages/torch/utils/data/dataloader.py\", line 1358, in __del__\n",
      "self._shutdown_workers()\n",
      "if w.is_alive():  File \"/home-nfs/raphaelr/miniconda/lib/python3.8/site-packages/torch/utils/data/dataloader.py\", line 1341, in _shutdown_workers\n"
     ]
    },
    {
     "name": "stderr",
     "output_type": "stream",
     "text": [
      "\n",
      "\n",
      "      File \"/home-nfs/raphaelr/miniconda/lib/python3.8/site-packages/torch/utils/data/dataloader.py\", line 1341, in _shutdown_workers\n",
      "  File \"/home-nfs/raphaelr/miniconda/lib/python3.8/multiprocessing/process.py\", line 160, in is_alive\n",
      "self._shutdown_workers()    \n",
      "        if w.is_alive():  File \"/home-nfs/raphaelr/miniconda/lib/python3.8/site-packages/torch/utils/data/dataloader.py\", line 1341, in _shutdown_workers\n",
      "assert self._parent_pid == os.getpid(), 'can only test a child process'\n",
      "if w.is_alive():\n",
      "  File \"/home-nfs/raphaelr/miniconda/lib/python3.8/multiprocessing/process.py\", line 160, in is_alive\n",
      "\n",
      "    AssertionError  File \"/home-nfs/raphaelr/miniconda/lib/python3.8/multiprocessing/process.py\", line 160, in is_alive\n",
      "    if w.is_alive():: assert self._parent_pid == os.getpid(), 'can only test a child process'\n",
      "    can only test a child process\n",
      "  File \"/home-nfs/raphaelr/miniconda/lib/python3.8/multiprocessing/process.py\", line 160, in is_alive\n",
      "assert self._parent_pid == os.getpid(), 'can only test a child process'\n",
      "AssertionError\n",
      "    : AssertionErrorassert self._parent_pid == os.getpid(), 'can only test a child process'can only test a child process: \n",
      "\n",
      "can only test a child processAssertionError\n",
      "Exception ignored in: : <function _MultiProcessingDataLoaderIter.__del__ at 0x7f4fb2b53670>can only test a child process\n",
      "\n",
      "Traceback (most recent call last):\n",
      "Exception ignored in:   File \"/home-nfs/raphaelr/miniconda/lib/python3.8/site-packages/torch/utils/data/dataloader.py\", line 1358, in __del__\n",
      "<function _MultiProcessingDataLoaderIter.__del__ at 0x7f4fb2b53670>Exception ignored in: \n",
      "<function _MultiProcessingDataLoaderIter.__del__ at 0x7f4fb2b53670>    Traceback (most recent call last):\n",
      "\n",
      "self._shutdown_workers()Exception ignored in:   File \"/home-nfs/raphaelr/miniconda/lib/python3.8/site-packages/torch/utils/data/dataloader.py\", line 1358, in __del__\n",
      "Traceback (most recent call last):\n",
      "\n",
      "<function _MultiProcessingDataLoaderIter.__del__ at 0x7f4fb2b53670>  File \"/home-nfs/raphaelr/miniconda/lib/python3.8/site-packages/torch/utils/data/dataloader.py\", line 1358, in __del__\n",
      "  File \"/home-nfs/raphaelr/miniconda/lib/python3.8/site-packages/torch/utils/data/dataloader.py\", line 1341, in _shutdown_workers\n",
      "\n",
      "    Traceback (most recent call last):\n",
      "self._shutdown_workers()          File \"/home-nfs/raphaelr/miniconda/lib/python3.8/site-packages/torch/utils/data/dataloader.py\", line 1358, in __del__\n",
      "\n",
      "if w.is_alive():self._shutdown_workers()  File \"/home-nfs/raphaelr/miniconda/lib/python3.8/site-packages/torch/utils/data/dataloader.py\", line 1341, in _shutdown_workers\n",
      "\n",
      "\n",
      "      File \"/home-nfs/raphaelr/miniconda/lib/python3.8/multiprocessing/process.py\", line 160, in is_alive\n",
      "  File \"/home-nfs/raphaelr/miniconda/lib/python3.8/site-packages/torch/utils/data/dataloader.py\", line 1341, in _shutdown_workers\n",
      "self._shutdown_workers()    \n",
      "    if w.is_alive():      File \"/home-nfs/raphaelr/miniconda/lib/python3.8/site-packages/torch/utils/data/dataloader.py\", line 1341, in _shutdown_workers\n",
      "assert self._parent_pid == os.getpid(), 'can only test a child process'\n",
      "if w.is_alive():\n",
      "  File \"/home-nfs/raphaelr/miniconda/lib/python3.8/multiprocessing/process.py\", line 160, in is_alive\n",
      "\n",
      "    AssertionError  File \"/home-nfs/raphaelr/miniconda/lib/python3.8/multiprocessing/process.py\", line 160, in is_alive\n",
      "    if w.is_alive():: assert self._parent_pid == os.getpid(), 'can only test a child process'\n",
      "    can only test a child process\n",
      "  File \"/home-nfs/raphaelr/miniconda/lib/python3.8/multiprocessing/process.py\", line 160, in is_alive\n",
      "assert self._parent_pid == os.getpid(), 'can only test a child process'\n",
      "AssertionError\n",
      "    : AssertionErrorassert self._parent_pid == os.getpid(), 'can only test a child process'can only test a child process: \n",
      "\n",
      "can only test a child processAssertionErrorException ignored in: \n",
      ": <function _MultiProcessingDataLoaderIter.__del__ at 0x7f4fb2b53670>can only test a child process\n",
      "\n",
      "Traceback (most recent call last):\n",
      "  File \"/home-nfs/raphaelr/miniconda/lib/python3.8/site-packages/torch/utils/data/dataloader.py\", line 1358, in __del__\n",
      "Exception ignored in: <function _MultiProcessingDataLoaderIter.__del__ at 0x7f4fb2b53670>\n",
      "Exception ignored in: <function _MultiProcessingDataLoaderIter.__del__ at 0x7f4fb2b53670>    Exception ignored in: Traceback (most recent call last):\n",
      "self._shutdown_workers()<function _MultiProcessingDataLoaderIter.__del__ at 0x7f4fb2b53670>\n",
      "\n",
      "\n",
      "Traceback (most recent call last):\n",
      "  File \"/home-nfs/raphaelr/miniconda/lib/python3.8/site-packages/torch/utils/data/dataloader.py\", line 1358, in __del__\n",
      "  File \"/home-nfs/raphaelr/miniconda/lib/python3.8/site-packages/torch/utils/data/dataloader.py\", line 1341, in _shutdown_workers\n",
      "Traceback (most recent call last):\n",
      "  File \"/home-nfs/raphaelr/miniconda/lib/python3.8/site-packages/torch/utils/data/dataloader.py\", line 1358, in __del__\n",
      "  File \"/home-nfs/raphaelr/miniconda/lib/python3.8/site-packages/torch/utils/data/dataloader.py\", line 1358, in __del__\n",
      "            self._shutdown_workers()if w.is_alive():    self._shutdown_workers()\n",
      "\n",
      "self._shutdown_workers()\n",
      "  File \"/home-nfs/raphaelr/miniconda/lib/python3.8/site-packages/torch/utils/data/dataloader.py\", line 1341, in _shutdown_workers\n",
      "  File \"/home-nfs/raphaelr/miniconda/lib/python3.8/multiprocessing/process.py\", line 160, in is_alive\n",
      "\n",
      "  File \"/home-nfs/raphaelr/miniconda/lib/python3.8/site-packages/torch/utils/data/dataloader.py\", line 1341, in _shutdown_workers\n",
      "  File \"/home-nfs/raphaelr/miniconda/lib/python3.8/site-packages/torch/utils/data/dataloader.py\", line 1341, in _shutdown_workers\n",
      "            assert self._parent_pid == os.getpid(), 'can only test a child process'if w.is_alive():    if w.is_alive():\n",
      "\n",
      "if w.is_alive():\n",
      "AssertionError  File \"/home-nfs/raphaelr/miniconda/lib/python3.8/multiprocessing/process.py\", line 160, in is_alive\n",
      "\n",
      "  File \"/home-nfs/raphaelr/miniconda/lib/python3.8/multiprocessing/process.py\", line 160, in is_alive\n",
      ":   File \"/home-nfs/raphaelr/miniconda/lib/python3.8/multiprocessing/process.py\", line 160, in is_alive\n",
      "can only test a child process            \n",
      "assert self._parent_pid == os.getpid(), 'can only test a child process'assert self._parent_pid == os.getpid(), 'can only test a child process'assert self._parent_pid == os.getpid(), 'can only test a child process'\n",
      "\n",
      "\n",
      "AssertionErrorAssertionErrorAssertionError: : : can only test a child processException ignored in: can only test a child processcan only test a child process\n",
      "<function _MultiProcessingDataLoaderIter.__del__ at 0x7f4fb2b53670>\n",
      "\n",
      "\n",
      "Traceback (most recent call last):\n",
      "  File \"/home-nfs/raphaelr/miniconda/lib/python3.8/site-packages/torch/utils/data/dataloader.py\", line 1358, in __del__\n",
      "Exception ignored in:     <function _MultiProcessingDataLoaderIter.__del__ at 0x7f4fb2b53670>self._shutdown_workers()\n",
      "\n",
      "Traceback (most recent call last):\n",
      "  File \"/home-nfs/raphaelr/miniconda/lib/python3.8/site-packages/torch/utils/data/dataloader.py\", line 1341, in _shutdown_workers\n",
      "  File \"/home-nfs/raphaelr/miniconda/lib/python3.8/site-packages/torch/utils/data/dataloader.py\", line 1358, in __del__\n",
      "        if w.is_alive():self._shutdown_workers()\n",
      "\n",
      "  File \"/home-nfs/raphaelr/miniconda/lib/python3.8/multiprocessing/process.py\", line 160, in is_alive\n",
      "  File \"/home-nfs/raphaelr/miniconda/lib/python3.8/site-packages/torch/utils/data/dataloader.py\", line 1341, in _shutdown_workers\n",
      "        assert self._parent_pid == os.getpid(), 'can only test a child process'if w.is_alive():\n",
      "\n",
      "AssertionError  File \"/home-nfs/raphaelr/miniconda/lib/python3.8/multiprocessing/process.py\", line 160, in is_alive\n",
      ":     can only test a child processassert self._parent_pid == os.getpid(), 'can only test a child process'\n",
      "\n",
      "AssertionError: can only test a child process\n",
      "Exception ignored in: <function _MultiProcessingDataLoaderIter.__del__ at 0x7f4fb2b53670>\n",
      "Traceback (most recent call last):\n",
      "  File \"/home-nfs/raphaelr/miniconda/lib/python3.8/site-packages/torch/utils/data/dataloader.py\", line 1358, in __del__\n",
      "    self._shutdown_workers()\n",
      "  File \"/home-nfs/raphaelr/miniconda/lib/python3.8/site-packages/torch/utils/data/dataloader.py\", line 1341, in _shutdown_workers\n",
      "    if w.is_alive():\n",
      "  File \"/home-nfs/raphaelr/miniconda/lib/python3.8/multiprocessing/process.py\", line 160, in is_alive\n"
     ]
    },
    {
     "name": "stderr",
     "output_type": "stream",
     "text": [
      "    assert self._parent_pid == os.getpid(), 'can only test a child process'\n",
      "AssertionError: can only test a child process\n"
     ]
    },
    {
     "name": "stdout",
     "output_type": "stream",
     "text": [
      "----- Epoch = 16 -----\n",
      "Val loss = 0.4936\n",
      "Val acc = 0.8515\n",
      "\n",
      "New best epoch, acc = 0.8515\n",
      "\n"
     ]
    },
    {
     "data": {
      "application/vnd.jupyter.widget-view+json": {
       "model_id": "1b48e0cab44645e4a3d95f23fa28d114",
       "version_major": 2,
       "version_minor": 0
      },
      "text/plain": [
       "Training loop:   0%|          | 0/195 [00:00<?, ?it/s]"
      ]
     },
     "metadata": {},
     "output_type": "display_data"
    },
    {
     "name": "stdout",
     "output_type": "stream",
     "text": [
      "----- Epoch = 17 -----\n",
      "Val loss = 0.5165\n",
      "Val acc = 0.8507\n"
     ]
    },
    {
     "data": {
      "application/vnd.jupyter.widget-view+json": {
       "model_id": "03c59beb95c940a084c00d62b17f2eb0",
       "version_major": 2,
       "version_minor": 0
      },
      "text/plain": [
       "Training loop:   0%|          | 0/195 [00:00<?, ?it/s]"
      ]
     },
     "metadata": {},
     "output_type": "display_data"
    },
    {
     "name": "stdout",
     "output_type": "stream",
     "text": [
      "----- Epoch = 18 -----\n",
      "Val loss = 0.4900\n",
      "Val acc = 0.8616\n",
      "\n",
      "New best epoch, acc = 0.8616\n",
      "\n"
     ]
    },
    {
     "data": {
      "application/vnd.jupyter.widget-view+json": {
       "model_id": "63f92c6c6a054e41bb8d01d2e224bd50",
       "version_major": 2,
       "version_minor": 0
      },
      "text/plain": [
       "Training loop:   0%|          | 0/195 [00:00<?, ?it/s]"
      ]
     },
     "metadata": {},
     "output_type": "display_data"
    },
    {
     "name": "stdout",
     "output_type": "stream",
     "text": [
      "----- Epoch = 19 -----\n",
      "Val loss = 0.5391\n",
      "Val acc = 0.8559\n"
     ]
    },
    {
     "data": {
      "application/vnd.jupyter.widget-view+json": {
       "model_id": "fa691d002a9d4e10856c2faa4974ff3e",
       "version_major": 2,
       "version_minor": 0
      },
      "text/plain": [
       "Training loop:   0%|          | 0/195 [00:00<?, ?it/s]"
      ]
     },
     "metadata": {},
     "output_type": "display_data"
    },
    {
     "name": "stdout",
     "output_type": "stream",
     "text": [
      "----- Epoch = 20 -----\n",
      "Val loss = 0.5383\n",
      "Val acc = 0.8583\n"
     ]
    }
   ],
   "source": [
    "c.train(nepoch=20, batch_size=256, experiment_name=main_name)"
   ]
  },
  {
   "cell_type": "code",
   "execution_count": 8,
   "id": "d84bbc3f",
   "metadata": {},
   "outputs": [
    {
     "data": {
      "text/plain": [
       "2"
      ]
     },
     "execution_count": 8,
     "metadata": {},
     "output_type": "execute_result"
    }
   ],
   "source": [
    "1+1"
   ]
  },
  {
   "cell_type": "code",
   "execution_count": null,
   "id": "7d5639a1",
   "metadata": {},
   "outputs": [],
   "source": []
  },
  {
   "cell_type": "code",
   "execution_count": 9,
   "id": "5569e4c9",
   "metadata": {},
   "outputs": [],
   "source": [
    "# train_hist = []\n",
    "# with open(main_name+\"train_hist.txt\", \"r\") as f:\n",
    "#   for line in f:\n",
    "#     train_hist.append(float(line.strip()))\n",
    "    \n",
    "# val_hist = []\n",
    "# with open(main_name+\"val_hist.txt\", \"r\") as f:\n",
    "#   for line in f:\n",
    "#     val_hist.append(float(line.strip()))\n",
    "\n",
    "# train_hist\n",
    "\n",
    "# val_hist"
   ]
  },
  {
   "cell_type": "code",
   "execution_count": 10,
   "id": "987f7213",
   "metadata": {},
   "outputs": [],
   "source": [
    "# import torch\n",
    "# torch.load('testcifar resnet.pt').to('cuda')"
   ]
  },
  {
   "cell_type": "code",
   "execution_count": 11,
   "id": "d9d37b2c",
   "metadata": {
    "scrolled": true
   },
   "outputs": [
    {
     "data": {
      "application/vnd.jupyter.widget-view+json": {
       "model_id": "1306e5941d3140cfb381281bba0151a1",
       "version_major": 2,
       "version_minor": 0
      },
      "text/plain": [
       "Training epoch:   0%|          | 0/196 [00:00<?, ?it/s]"
      ]
     },
     "metadata": {},
     "output_type": "display_data"
    },
    {
     "name": "stdout",
     "output_type": "stream",
     "text": [
      "----- Epoch = 1 -----\n",
      "Val loss = 1.5325\n",
      "\n",
      "New best epoch, loss = 1.5325\n",
      "\n"
     ]
    },
    {
     "data": {
      "application/vnd.jupyter.widget-view+json": {
       "model_id": "fbb8cd7c9624432bbae1783e58d33548",
       "version_major": 2,
       "version_minor": 0
      },
      "text/plain": [
       "Training epoch:   0%|          | 0/196 [00:00<?, ?it/s]"
      ]
     },
     "metadata": {},
     "output_type": "display_data"
    },
    {
     "name": "stdout",
     "output_type": "stream",
     "text": [
      "----- Epoch = 2 -----\n",
      "Val loss = 1.1932\n",
      "\n",
      "New best epoch, loss = 1.1932\n",
      "\n"
     ]
    },
    {
     "data": {
      "application/vnd.jupyter.widget-view+json": {
       "model_id": "f8f5421c23a84911974a32cd85c14bcf",
       "version_major": 2,
       "version_minor": 0
      },
      "text/plain": [
       "Training epoch:   0%|          | 0/196 [00:00<?, ?it/s]"
      ]
     },
     "metadata": {},
     "output_type": "display_data"
    },
    {
     "name": "stdout",
     "output_type": "stream",
     "text": [
      "----- Epoch = 3 -----\n",
      "Val loss = 1.0959\n",
      "\n",
      "New best epoch, loss = 1.0959\n",
      "\n"
     ]
    },
    {
     "data": {
      "application/vnd.jupyter.widget-view+json": {
       "model_id": "0d80eedd5e044b829a017570dadd3ca6",
       "version_major": 2,
       "version_minor": 0
      },
      "text/plain": [
       "Training epoch:   0%|          | 0/196 [00:00<?, ?it/s]"
      ]
     },
     "metadata": {},
     "output_type": "display_data"
    },
    {
     "name": "stdout",
     "output_type": "stream",
     "text": [
      "----- Epoch = 4 -----\n",
      "Val loss = 0.9807\n",
      "\n",
      "New best epoch, loss = 0.9807\n",
      "\n"
     ]
    },
    {
     "data": {
      "application/vnd.jupyter.widget-view+json": {
       "model_id": "bd45ead3fa0449cf897cbd44aded0224",
       "version_major": 2,
       "version_minor": 0
      },
      "text/plain": [
       "Training epoch:   0%|          | 0/196 [00:00<?, ?it/s]"
      ]
     },
     "metadata": {},
     "output_type": "display_data"
    },
    {
     "name": "stdout",
     "output_type": "stream",
     "text": [
      "----- Epoch = 5 -----\n",
      "Val loss = 0.7974\n",
      "\n",
      "New best epoch, loss = 0.7974\n",
      "\n"
     ]
    },
    {
     "data": {
      "application/vnd.jupyter.widget-view+json": {
       "model_id": "1028cc5a7fb4454ba39ae80ac8467d31",
       "version_major": 2,
       "version_minor": 0
      },
      "text/plain": [
       "Training epoch:   0%|          | 0/196 [00:00<?, ?it/s]"
      ]
     },
     "metadata": {},
     "output_type": "display_data"
    },
    {
     "name": "stdout",
     "output_type": "stream",
     "text": [
      "----- Epoch = 6 -----\n",
      "Val loss = 0.7924\n",
      "\n",
      "New best epoch, loss = 0.7924\n",
      "\n"
     ]
    },
    {
     "data": {
      "application/vnd.jupyter.widget-view+json": {
       "model_id": "e3d44042ff2148fcb4883fb2f7ec5a6f",
       "version_major": 2,
       "version_minor": 0
      },
      "text/plain": [
       "Training epoch:   0%|          | 0/196 [00:00<?, ?it/s]"
      ]
     },
     "metadata": {},
     "output_type": "display_data"
    },
    {
     "name": "stdout",
     "output_type": "stream",
     "text": [
      "----- Epoch = 7 -----\n",
      "Val loss = 0.7300\n",
      "\n",
      "New best epoch, loss = 0.7300\n",
      "\n"
     ]
    },
    {
     "data": {
      "application/vnd.jupyter.widget-view+json": {
       "model_id": "42b4a88fc03c47b2a4258ed32e415732",
       "version_major": 2,
       "version_minor": 0
      },
      "text/plain": [
       "Training epoch:   0%|          | 0/196 [00:00<?, ?it/s]"
      ]
     },
     "metadata": {},
     "output_type": "display_data"
    },
    {
     "name": "stdout",
     "output_type": "stream",
     "text": [
      "----- Epoch = 8 -----\n",
      "Val loss = 0.7302\n",
      "\n"
     ]
    },
    {
     "data": {
      "application/vnd.jupyter.widget-view+json": {
       "model_id": "cf19965a89604d178f2ea50c400f09de",
       "version_major": 2,
       "version_minor": 0
      },
      "text/plain": [
       "Training epoch:   0%|          | 0/196 [00:00<?, ?it/s]"
      ]
     },
     "metadata": {},
     "output_type": "display_data"
    },
    {
     "name": "stdout",
     "output_type": "stream",
     "text": [
      "----- Epoch = 9 -----\n",
      "Val loss = 0.6979\n",
      "\n",
      "New best epoch, loss = 0.6979\n",
      "\n"
     ]
    },
    {
     "data": {
      "application/vnd.jupyter.widget-view+json": {
       "model_id": "7833e52e7a144b95b0dccbed3d859974",
       "version_major": 2,
       "version_minor": 0
      },
      "text/plain": [
       "Training epoch:   0%|          | 0/196 [00:00<?, ?it/s]"
      ]
     },
     "metadata": {},
     "output_type": "display_data"
    },
    {
     "name": "stdout",
     "output_type": "stream",
     "text": [
      "----- Epoch = 10 -----\n",
      "Val loss = 0.6209\n",
      "\n",
      "New best epoch, loss = 0.6209\n",
      "\n"
     ]
    },
    {
     "data": {
      "application/vnd.jupyter.widget-view+json": {
       "model_id": "7882dbd14e55404183ebd8c868f383c9",
       "version_major": 2,
       "version_minor": 0
      },
      "text/plain": [
       "Training epoch:   0%|          | 0/196 [00:00<?, ?it/s]"
      ]
     },
     "metadata": {},
     "output_type": "display_data"
    },
    {
     "name": "stdout",
     "output_type": "stream",
     "text": [
      "----- Epoch = 11 -----\n",
      "Val loss = 0.6321\n",
      "\n"
     ]
    },
    {
     "data": {
      "application/vnd.jupyter.widget-view+json": {
       "model_id": "625604b575f04dafba3f6040969827ad",
       "version_major": 2,
       "version_minor": 0
      },
      "text/plain": [
       "Training epoch:   0%|          | 0/196 [00:00<?, ?it/s]"
      ]
     },
     "metadata": {},
     "output_type": "display_data"
    },
    {
     "name": "stdout",
     "output_type": "stream",
     "text": [
      "----- Epoch = 12 -----\n",
      "Val loss = 0.7007\n",
      "\n"
     ]
    },
    {
     "data": {
      "application/vnd.jupyter.widget-view+json": {
       "model_id": "a8046aa2c2334880b1ed61434cd729b4",
       "version_major": 2,
       "version_minor": 0
      },
      "text/plain": [
       "Training epoch:   0%|          | 0/196 [00:00<?, ?it/s]"
      ]
     },
     "metadata": {},
     "output_type": "display_data"
    },
    {
     "name": "stdout",
     "output_type": "stream",
     "text": [
      "----- Epoch = 13 -----\n",
      "Val loss = 0.5742\n",
      "\n",
      "New best epoch, loss = 0.5742\n",
      "\n"
     ]
    },
    {
     "data": {
      "application/vnd.jupyter.widget-view+json": {
       "model_id": "71951feff27e4876b5e837ed216c4a60",
       "version_major": 2,
       "version_minor": 0
      },
      "text/plain": [
       "Training epoch:   0%|          | 0/196 [00:00<?, ?it/s]"
      ]
     },
     "metadata": {},
     "output_type": "display_data"
    },
    {
     "name": "stdout",
     "output_type": "stream",
     "text": [
      "----- Epoch = 14 -----\n",
      "Val loss = 0.5798\n",
      "\n"
     ]
    },
    {
     "data": {
      "application/vnd.jupyter.widget-view+json": {
       "model_id": "138f55ccdd744715a6a527ba06b7f212",
       "version_major": 2,
       "version_minor": 0
      },
      "text/plain": [
       "Training epoch:   0%|          | 0/196 [00:00<?, ?it/s]"
      ]
     },
     "metadata": {},
     "output_type": "display_data"
    },
    {
     "name": "stdout",
     "output_type": "stream",
     "text": [
      "----- Epoch = 15 -----\n",
      "Val loss = 0.5673\n",
      "\n",
      "New best epoch, loss = 0.5673\n",
      "\n"
     ]
    },
    {
     "data": {
      "application/vnd.jupyter.widget-view+json": {
       "model_id": "c81d5932c07f41fdbe00a6d818748a25",
       "version_major": 2,
       "version_minor": 0
      },
      "text/plain": [
       "Training epoch:   0%|          | 0/196 [00:00<?, ?it/s]"
      ]
     },
     "metadata": {},
     "output_type": "display_data"
    },
    {
     "name": "stdout",
     "output_type": "stream",
     "text": [
      "----- Epoch = 16 -----\n",
      "Val loss = 0.5180\n",
      "\n",
      "New best epoch, loss = 0.5180\n",
      "\n"
     ]
    },
    {
     "data": {
      "application/vnd.jupyter.widget-view+json": {
       "model_id": "09a7061d61f1488fa4f235077afcfd9d",
       "version_major": 2,
       "version_minor": 0
      },
      "text/plain": [
       "Training epoch:   0%|          | 0/196 [00:00<?, ?it/s]"
      ]
     },
     "metadata": {},
     "output_type": "display_data"
    },
    {
     "name": "stdout",
     "output_type": "stream",
     "text": [
      "----- Epoch = 17 -----\n",
      "Val loss = 0.5374\n",
      "\n"
     ]
    },
    {
     "data": {
      "application/vnd.jupyter.widget-view+json": {
       "model_id": "263b0b03fd844bc0ad3a1cec68e2beb9",
       "version_major": 2,
       "version_minor": 0
      },
      "text/plain": [
       "Training epoch:   0%|          | 0/196 [00:00<?, ?it/s]"
      ]
     },
     "metadata": {},
     "output_type": "display_data"
    },
    {
     "name": "stdout",
     "output_type": "stream",
     "text": [
      "----- Epoch = 18 -----\n",
      "Val loss = 0.6219\n",
      "\n"
     ]
    },
    {
     "data": {
      "application/vnd.jupyter.widget-view+json": {
       "model_id": "92de1d6cf8934e00a883a4d9daf4459e",
       "version_major": 2,
       "version_minor": 0
      },
      "text/plain": [
       "Training epoch:   0%|          | 0/196 [00:00<?, ?it/s]"
      ]
     },
     "metadata": {},
     "output_type": "display_data"
    },
    {
     "name": "stdout",
     "output_type": "stream",
     "text": [
      "----- Epoch = 19 -----\n",
      "Val loss = 0.5409\n",
      "\n"
     ]
    },
    {
     "data": {
      "application/vnd.jupyter.widget-view+json": {
       "model_id": "d48d48b915c04dceb33fe28c077f7482",
       "version_major": 2,
       "version_minor": 0
      },
      "text/plain": [
       "Training epoch:   0%|          | 0/196 [00:00<?, ?it/s]"
      ]
     },
     "metadata": {},
     "output_type": "display_data"
    },
    {
     "name": "stdout",
     "output_type": "stream",
     "text": [
      "----- Epoch = 20 -----\n",
      "Val loss = 0.5767\n",
      "\n"
     ]
    },
    {
     "data": {
      "application/vnd.jupyter.widget-view+json": {
       "model_id": "4a3e0336054d470384c798f9bb82fbcb",
       "version_major": 2,
       "version_minor": 0
      },
      "text/plain": [
       "Training epoch:   0%|          | 0/390 [00:00<?, ?it/s]"
      ]
     },
     "metadata": {},
     "output_type": "display_data"
    },
    {
     "name": "stdout",
     "output_type": "stream",
     "text": [
      "----- Epoch = 1 -----\n",
      "Val loss = 1755.250366\n",
      "\n",
      "New best epoch, loss = 1755.250366\n",
      "\n"
     ]
    },
    {
     "data": {
      "application/vnd.jupyter.widget-view+json": {
       "model_id": "87faf3636de644fa86a51408d2b26ac7",
       "version_major": 2,
       "version_minor": 0
      },
      "text/plain": [
       "Training epoch:   0%|          | 0/390 [00:00<?, ?it/s]"
      ]
     },
     "metadata": {},
     "output_type": "display_data"
    },
    {
     "name": "stdout",
     "output_type": "stream",
     "text": [
      "----- Epoch = 2 -----\n",
      "Val loss = 1473.537476\n",
      "\n",
      "New best epoch, loss = 1473.537476\n",
      "\n"
     ]
    },
    {
     "data": {
      "application/vnd.jupyter.widget-view+json": {
       "model_id": "7d0a06b7762447259857cd8d8698a931",
       "version_major": 2,
       "version_minor": 0
      },
      "text/plain": [
       "Training epoch:   0%|          | 0/390 [00:00<?, ?it/s]"
      ]
     },
     "metadata": {},
     "output_type": "display_data"
    },
    {
     "name": "stdout",
     "output_type": "stream",
     "text": [
      "----- Epoch = 3 -----\n",
      "Val loss = 1304.510742\n",
      "\n",
      "New best epoch, loss = 1304.510742\n",
      "\n"
     ]
    },
    {
     "data": {
      "application/vnd.jupyter.widget-view+json": {
       "model_id": "495f9d914ecd4295a86c1b5d385d04b5",
       "version_major": 2,
       "version_minor": 0
      },
      "text/plain": [
       "Training epoch:   0%|          | 0/390 [00:00<?, ?it/s]"
      ]
     },
     "metadata": {},
     "output_type": "display_data"
    },
    {
     "name": "stdout",
     "output_type": "stream",
     "text": [
      "----- Epoch = 4 -----\n",
      "Val loss = 1239.290039\n",
      "\n",
      "New best epoch, loss = 1239.290039\n",
      "\n"
     ]
    },
    {
     "data": {
      "application/vnd.jupyter.widget-view+json": {
       "model_id": "3c5a4ebc8b9c4e97a8c6c6f7ca87cef6",
       "version_major": 2,
       "version_minor": 0
      },
      "text/plain": [
       "Training epoch:   0%|          | 0/390 [00:00<?, ?it/s]"
      ]
     },
     "metadata": {},
     "output_type": "display_data"
    },
    {
     "name": "stdout",
     "output_type": "stream",
     "text": [
      "----- Epoch = 5 -----\n",
      "Val loss = 1111.576050\n",
      "\n",
      "New best epoch, loss = 1111.576050\n",
      "\n"
     ]
    },
    {
     "data": {
      "application/vnd.jupyter.widget-view+json": {
       "model_id": "db570f652c8049bd84db9c4dcc9cdcf1",
       "version_major": 2,
       "version_minor": 0
      },
      "text/plain": [
       "Training epoch:   0%|          | 0/390 [00:00<?, ?it/s]"
      ]
     },
     "metadata": {},
     "output_type": "display_data"
    },
    {
     "name": "stdout",
     "output_type": "stream",
     "text": [
      "----- Epoch = 6 -----\n",
      "Val loss = 1076.123901\n",
      "\n",
      "New best epoch, loss = 1076.123901\n",
      "\n"
     ]
    },
    {
     "data": {
      "application/vnd.jupyter.widget-view+json": {
       "model_id": "c97586e250e947e09335b00201cd978e",
       "version_major": 2,
       "version_minor": 0
      },
      "text/plain": [
       "Training epoch:   0%|          | 0/390 [00:00<?, ?it/s]"
      ]
     },
     "metadata": {},
     "output_type": "display_data"
    },
    {
     "name": "stdout",
     "output_type": "stream",
     "text": [
      "----- Epoch = 7 -----\n",
      "Val loss = 934.692078\n",
      "\n",
      "New best epoch, loss = 934.692078\n",
      "\n"
     ]
    },
    {
     "data": {
      "application/vnd.jupyter.widget-view+json": {
       "model_id": "7c085d0ac4844bf992468cd5d8284bb9",
       "version_major": 2,
       "version_minor": 0
      },
      "text/plain": [
       "Training epoch:   0%|          | 0/390 [00:00<?, ?it/s]"
      ]
     },
     "metadata": {},
     "output_type": "display_data"
    },
    {
     "name": "stdout",
     "output_type": "stream",
     "text": [
      "----- Epoch = 8 -----\n",
      "Val loss = 980.694336\n",
      "\n"
     ]
    },
    {
     "data": {
      "application/vnd.jupyter.widget-view+json": {
       "model_id": "e97a704965b548948331671f39acddd3",
       "version_major": 2,
       "version_minor": 0
      },
      "text/plain": [
       "Training epoch:   0%|          | 0/390 [00:00<?, ?it/s]"
      ]
     },
     "metadata": {},
     "output_type": "display_data"
    },
    {
     "name": "stdout",
     "output_type": "stream",
     "text": [
      "----- Epoch = 9 -----\n",
      "Val loss = 899.454529\n",
      "\n",
      "New best epoch, loss = 899.454529\n",
      "\n"
     ]
    },
    {
     "data": {
      "application/vnd.jupyter.widget-view+json": {
       "model_id": "0badcb4e7de24373bd7f91a41744bccf",
       "version_major": 2,
       "version_minor": 0
      },
      "text/plain": [
       "Training epoch:   0%|          | 0/390 [00:00<?, ?it/s]"
      ]
     },
     "metadata": {},
     "output_type": "display_data"
    },
    {
     "name": "stdout",
     "output_type": "stream",
     "text": [
      "----- Epoch = 10 -----\n",
      "Val loss = 784.723877\n",
      "\n",
      "New best epoch, loss = 784.723877\n",
      "\n"
     ]
    },
    {
     "data": {
      "application/vnd.jupyter.widget-view+json": {
       "model_id": "d96e7ad18c374efd85d74eb653202031",
       "version_major": 2,
       "version_minor": 0
      },
      "text/plain": [
       "Training epoch:   0%|          | 0/390 [00:00<?, ?it/s]"
      ]
     },
     "metadata": {},
     "output_type": "display_data"
    },
    {
     "name": "stdout",
     "output_type": "stream",
     "text": [
      "----- Epoch = 11 -----\n",
      "Val loss = 760.188232\n",
      "\n",
      "New best epoch, loss = 760.188232\n",
      "\n"
     ]
    },
    {
     "data": {
      "application/vnd.jupyter.widget-view+json": {
       "model_id": "4878a8e839f34851a2892922e4f7ba1e",
       "version_major": 2,
       "version_minor": 0
      },
      "text/plain": [
       "Training epoch:   0%|          | 0/390 [00:00<?, ?it/s]"
      ]
     },
     "metadata": {},
     "output_type": "display_data"
    },
    {
     "name": "stdout",
     "output_type": "stream",
     "text": [
      "----- Epoch = 12 -----\n",
      "Val loss = 909.119934\n",
      "\n"
     ]
    },
    {
     "data": {
      "application/vnd.jupyter.widget-view+json": {
       "model_id": "f2ee1b7b8df64b5e962203401f00849c",
       "version_major": 2,
       "version_minor": 0
      },
      "text/plain": [
       "Training epoch:   0%|          | 0/390 [00:00<?, ?it/s]"
      ]
     },
     "metadata": {},
     "output_type": "display_data"
    },
    {
     "name": "stdout",
     "output_type": "stream",
     "text": [
      "----- Epoch = 13 -----\n",
      "Val loss = 727.318176\n",
      "\n",
      "New best epoch, loss = 727.318176\n",
      "\n"
     ]
    },
    {
     "data": {
      "application/vnd.jupyter.widget-view+json": {
       "model_id": "14fc2563535441d09e6442acf2748fc8",
       "version_major": 2,
       "version_minor": 0
      },
      "text/plain": [
       "Training epoch:   0%|          | 0/390 [00:00<?, ?it/s]"
      ]
     },
     "metadata": {},
     "output_type": "display_data"
    },
    {
     "name": "stdout",
     "output_type": "stream",
     "text": [
      "----- Epoch = 14 -----\n",
      "Val loss = 651.867310\n",
      "\n",
      "New best epoch, loss = 651.867310\n",
      "\n"
     ]
    },
    {
     "data": {
      "application/vnd.jupyter.widget-view+json": {
       "model_id": "559967bb46a54865be9006e067a4dac4",
       "version_major": 2,
       "version_minor": 0
      },
      "text/plain": [
       "Training epoch:   0%|          | 0/390 [00:00<?, ?it/s]"
      ]
     },
     "metadata": {},
     "output_type": "display_data"
    },
    {
     "name": "stdout",
     "output_type": "stream",
     "text": [
      "----- Epoch = 15 -----\n",
      "Val loss = 698.262878\n",
      "\n"
     ]
    },
    {
     "data": {
      "application/vnd.jupyter.widget-view+json": {
       "model_id": "52c35c6e070a42efb8dd81985e75fd0d",
       "version_major": 2,
       "version_minor": 0
      },
      "text/plain": [
       "Training epoch:   0%|          | 0/390 [00:00<?, ?it/s]"
      ]
     },
     "metadata": {},
     "output_type": "display_data"
    },
    {
     "name": "stdout",
     "output_type": "stream",
     "text": [
      "----- Epoch = 16 -----\n",
      "Val loss = 683.766785\n",
      "\n"
     ]
    },
    {
     "data": {
      "application/vnd.jupyter.widget-view+json": {
       "model_id": "3b1497ca772f4bdfa1e39bebc88e9460",
       "version_major": 2,
       "version_minor": 0
      },
      "text/plain": [
       "Training epoch:   0%|          | 0/390 [00:00<?, ?it/s]"
      ]
     },
     "metadata": {},
     "output_type": "display_data"
    },
    {
     "name": "stdout",
     "output_type": "stream",
     "text": [
      "----- Epoch = 17 -----\n",
      "Val loss = 643.534241\n",
      "\n",
      "New best epoch, loss = 643.534241\n",
      "\n"
     ]
    },
    {
     "data": {
      "application/vnd.jupyter.widget-view+json": {
       "model_id": "a5ede3b903084483b18101c1d3e7ae57",
       "version_major": 2,
       "version_minor": 0
      },
      "text/plain": [
       "Training epoch:   0%|          | 0/390 [00:00<?, ?it/s]"
      ]
     },
     "metadata": {},
     "output_type": "display_data"
    },
    {
     "name": "stdout",
     "output_type": "stream",
     "text": [
      "----- Epoch = 18 -----\n",
      "Val loss = 583.704102\n",
      "\n",
      "New best epoch, loss = 583.704102\n",
      "\n"
     ]
    },
    {
     "data": {
      "application/vnd.jupyter.widget-view+json": {
       "model_id": "149bb1b1c8894fdf859aff8b6e0d46c7",
       "version_major": 2,
       "version_minor": 0
      },
      "text/plain": [
       "Training epoch:   0%|          | 0/390 [00:00<?, ?it/s]"
      ]
     },
     "metadata": {},
     "output_type": "display_data"
    },
    {
     "name": "stdout",
     "output_type": "stream",
     "text": [
      "----- Epoch = 19 -----\n",
      "Val loss = 634.859192\n",
      "\n"
     ]
    },
    {
     "data": {
      "application/vnd.jupyter.widget-view+json": {
       "model_id": "ed282f2625fa4b5da5390fcf99a053a5",
       "version_major": 2,
       "version_minor": 0
      },
      "text/plain": [
       "Training epoch:   0%|          | 0/390 [00:00<?, ?it/s]"
      ]
     },
     "metadata": {},
     "output_type": "display_data"
    },
    {
     "name": "stdout",
     "output_type": "stream",
     "text": [
      "----- Epoch = 20 -----\n",
      "Val loss = 599.302490\n",
      "\n",
      "CPU times: user 29min 20s, sys: 37.8 s, total: 29min 58s\n",
      "Wall time: 31min 52s\n"
     ]
    }
   ],
   "source": [
    "%%time\n",
    "results = fw.fastshap_wrapper(c.model, c.train_set, c.test_set, surrogate_epochs=20, explainer_epochs=20, experiment_name=main_name)"
   ]
  },
  {
   "cell_type": "code",
   "execution_count": 12,
   "id": "6fc8043e",
   "metadata": {},
   "outputs": [
    {
     "name": "stdout",
     "output_type": "stream",
     "text": [
      "CPU times: user 16.3 s, sys: 11.5 s, total: 27.8 s\n",
      "Wall time: 28.1 s\n"
     ]
    }
   ],
   "source": [
    "%%time\n",
    "import numpy as np\n",
    "np.save(main_name+'shapley_values.npy',results.plot_results(c.test_set, return_raw=True, num_samples=50))"
   ]
  },
  {
   "cell_type": "code",
   "execution_count": 15,
   "id": "e9258f74",
   "metadata": {},
   "outputs": [
    {
     "data": {
      "image/png": "[encoded data removed]",
      "text/plain": [
       "<Figure size 1584x1440 with 110 Axes>"
      ]
     },
     "metadata": {},
     "output_type": "display_data"
    }
   ],
   "source": [
    "results.plot_results(c.test_set)"
   ]
  },
  {
   "cell_type": "code",
   "execution_count": 16,
   "id": "3ff86598",
   "metadata": {},
   "outputs": [
    {
     "data": {
      "text/plain": [
       "<AxesSubplot:ylabel='Density'>"
      ]
     },
     "execution_count": 16,
     "metadata": {},
     "output_type": "execute_result"
    },
    {
     "data": {
      "image/png": "[encoded data removed]",
      "text/plain": [
       "<Figure size 432x288 with 1 Axes>"
      ]
     },
     "metadata": {},
     "output_type": "display_data"
    }
   ],
   "source": [
    "import numpy as np\n",
    "import seaborn as sns\n",
    "sns.set_style('whitegrid')\n",
    "shapley_values = results.plot_results(c.test_set, return_raw=True, num_samples=50).reshape(-1)\n",
    "sns.kdeplot(shapley_values, bw_adjust=0.5)"
   ]
  },
  {
   "cell_type": "code",
   "execution_count": 17,
   "id": "6c6cbbbd",
   "metadata": {},
   "outputs": [
    {
     "data": {
      "text/plain": [
       "0    0.51103\n",
       "dtype: float32"
      ]
     },
     "execution_count": 17,
     "metadata": {},
     "output_type": "execute_result"
    }
   ],
   "source": [
    "import pandas as pd\n",
    "pd.DataFrame(shapley_values).skew()"
   ]
  },
  {
   "cell_type": "code",
   "execution_count": 18,
   "id": "65158ecb",
   "metadata": {},
   "outputs": [
    {
     "data": {
      "text/plain": [
       "0    1.407219\n",
       "dtype: float32"
      ]
     },
     "execution_count": 18,
     "metadata": {},
     "output_type": "execute_result"
    }
   ],
   "source": [
    "import pandas as pd\n",
    "pd.DataFrame(shapley_values).kurtosis()"
   ]
  },
  {
   "cell_type": "code",
   "execution_count": 19,
   "id": "ab42e588",
   "metadata": {},
   "outputs": [
    {
     "data": {
      "text/html": [
       "<div>\n",
       "<style scoped>\n",
       "    .dataframe tbody tr th:only-of-type {\n",
       "        vertical-align: middle;\n",
       "    }\n",
       "\n",
       "    .dataframe tbody tr th {\n",
       "        vertical-align: top;\n",
       "    }\n",
       "\n",
       "    .dataframe thead th {\n",
       "        text-align: right;\n",
       "    }\n",
       "</style>\n",
       "<table border=\"1\" class=\"dataframe\">\n",
       "  <thead>\n",
       "    <tr style=\"text-align: right;\">\n",
       "      <th></th>\n",
       "      <th>0</th>\n",
       "    </tr>\n",
       "  </thead>\n",
       "  <tbody>\n",
       "    <tr>\n",
       "      <th>count</th>\n",
       "      <td>128000.000000</td>\n",
       "    </tr>\n",
       "    <tr>\n",
       "      <th>mean</th>\n",
       "      <td>0.008599</td>\n",
       "    </tr>\n",
       "    <tr>\n",
       "      <th>std</th>\n",
       "      <td>0.019297</td>\n",
       "    </tr>\n",
       "    <tr>\n",
       "      <th>min</th>\n",
       "      <td>-0.111009</td>\n",
       "    </tr>\n",
       "    <tr>\n",
       "      <th>25%</th>\n",
       "      <td>-0.003766</td>\n",
       "    </tr>\n",
       "    <tr>\n",
       "      <th>50%</th>\n",
       "      <td>0.007289</td>\n",
       "    </tr>\n",
       "    <tr>\n",
       "      <th>75%</th>\n",
       "      <td>0.019145</td>\n",
       "    </tr>\n",
       "    <tr>\n",
       "      <th>max</th>\n",
       "      <td>0.154123</td>\n",
       "    </tr>\n",
       "  </tbody>\n",
       "</table>\n",
       "</div>"
      ],
      "text/plain": [
       "                   0\n",
       "count  128000.000000\n",
       "mean        0.008599\n",
       "std         0.019297\n",
       "min        -0.111009\n",
       "25%        -0.003766\n",
       "50%         0.007289\n",
       "75%         0.019145\n",
       "max         0.154123"
      ]
     },
     "execution_count": 19,
     "metadata": {},
     "output_type": "execute_result"
    }
   ],
   "source": [
    "pd.DataFrame(shapley_values).describe()"
   ]
  },
  {
   "cell_type": "code",
   "execution_count": 20,
   "id": "b42b164b",
   "metadata": {},
   "outputs": [
    {
     "name": "stderr",
     "output_type": "stream",
     "text": [
      "/home-nfs/raphaelr/miniconda/lib/python3.8/site-packages/sklearn/feature_extraction/image.py:167: DeprecationWarning: `np.int` is a deprecated alias for the builtin `int`. To silence this warning, use `int` by itself. Doing this will not modify any behavior and is safe. When replacing `np.int`, you may wish to use e.g. `np.int64` or `np.int32` to specify the precision. If you wish to review your current use, check the release note link for additional information.\n",
      "Deprecated in NumPy 1.20; for more details and guidance: https://numpy.org/devdocs/release/1.20.0-notes.html#deprecations\n",
      "  dtype=np.int):\n",
      "/home-nfs/raphaelr/miniconda/lib/python3.8/site-packages/sklearn/linear_model/least_angle.py:30: DeprecationWarning: `np.float` is a deprecated alias for the builtin `float`. To silence this warning, use `float` by itself. Doing this will not modify any behavior and is safe. If you specifically wanted the numpy scalar type, use `np.float64` here.\n",
      "Deprecated in NumPy 1.20; for more details and guidance: https://numpy.org/devdocs/release/1.20.0-notes.html#deprecations\n",
      "  method='lar', copy_X=True, eps=np.finfo(np.float).eps,\n",
      "/home-nfs/raphaelr/miniconda/lib/python3.8/site-packages/sklearn/linear_model/least_angle.py:167: DeprecationWarning: `np.float` is a deprecated alias for the builtin `float`. To silence this warning, use `float` by itself. Doing this will not modify any behavior and is safe. If you specifically wanted the numpy scalar type, use `np.float64` here.\n",
      "Deprecated in NumPy 1.20; for more details and guidance: https://numpy.org/devdocs/release/1.20.0-notes.html#deprecations\n",
      "  method='lar', copy_X=True, eps=np.finfo(np.float).eps,\n",
      "/home-nfs/raphaelr/miniconda/lib/python3.8/site-packages/sklearn/linear_model/least_angle.py:284: DeprecationWarning: `np.float` is a deprecated alias for the builtin `float`. To silence this warning, use `float` by itself. Doing this will not modify any behavior and is safe. If you specifically wanted the numpy scalar type, use `np.float64` here.\n",
      "Deprecated in NumPy 1.20; for more details and guidance: https://numpy.org/devdocs/release/1.20.0-notes.html#deprecations\n",
      "  eps=np.finfo(np.float).eps, copy_Gram=True, verbose=0,\n",
      "/home-nfs/raphaelr/miniconda/lib/python3.8/site-packages/sklearn/linear_model/least_angle.py:862: DeprecationWarning: `np.float` is a deprecated alias for the builtin `float`. To silence this warning, use `float` by itself. Doing this will not modify any behavior and is safe. If you specifically wanted the numpy scalar type, use `np.float64` here.\n",
      "Deprecated in NumPy 1.20; for more details and guidance: https://numpy.org/devdocs/release/1.20.0-notes.html#deprecations\n",
      "  eps=np.finfo(np.float).eps, copy_X=True, fit_path=True,\n",
      "/home-nfs/raphaelr/miniconda/lib/python3.8/site-packages/sklearn/linear_model/least_angle.py:1101: DeprecationWarning: `np.float` is a deprecated alias for the builtin `float`. To silence this warning, use `float` by itself. Doing this will not modify any behavior and is safe. If you specifically wanted the numpy scalar type, use `np.float64` here.\n",
      "Deprecated in NumPy 1.20; for more details and guidance: https://numpy.org/devdocs/release/1.20.0-notes.html#deprecations\n",
      "  eps=np.finfo(np.float).eps, copy_X=True, fit_path=True,\n",
      "/home-nfs/raphaelr/miniconda/lib/python3.8/site-packages/sklearn/linear_model/least_angle.py:1127: DeprecationWarning: `np.float` is a deprecated alias for the builtin `float`. To silence this warning, use `float` by itself. Doing this will not modify any behavior and is safe. If you specifically wanted the numpy scalar type, use `np.float64` here.\n",
      "Deprecated in NumPy 1.20; for more details and guidance: https://numpy.org/devdocs/release/1.20.0-notes.html#deprecations\n",
      "  eps=np.finfo(np.float).eps, positive=False):\n",
      "/home-nfs/raphaelr/miniconda/lib/python3.8/site-packages/sklearn/linear_model/least_angle.py:1362: DeprecationWarning: `np.float` is a deprecated alias for the builtin `float`. To silence this warning, use `float` by itself. Doing this will not modify any behavior and is safe. If you specifically wanted the numpy scalar type, use `np.float64` here.\n",
      "Deprecated in NumPy 1.20; for more details and guidance: https://numpy.org/devdocs/release/1.20.0-notes.html#deprecations\n",
      "  max_n_alphas=1000, n_jobs=None, eps=np.finfo(np.float).eps,\n",
      "/home-nfs/raphaelr/miniconda/lib/python3.8/site-packages/sklearn/linear_model/least_angle.py:1602: DeprecationWarning: `np.float` is a deprecated alias for the builtin `float`. To silence this warning, use `float` by itself. Doing this will not modify any behavior and is safe. If you specifically wanted the numpy scalar type, use `np.float64` here.\n",
      "Deprecated in NumPy 1.20; for more details and guidance: https://numpy.org/devdocs/release/1.20.0-notes.html#deprecations\n",
      "  max_n_alphas=1000, n_jobs=None, eps=np.finfo(np.float).eps,\n",
      "/home-nfs/raphaelr/miniconda/lib/python3.8/site-packages/sklearn/linear_model/least_angle.py:1738: DeprecationWarning: `np.float` is a deprecated alias for the builtin `float`. To silence this warning, use `float` by itself. Doing this will not modify any behavior and is safe. If you specifically wanted the numpy scalar type, use `np.float64` here.\n",
      "Deprecated in NumPy 1.20; for more details and guidance: https://numpy.org/devdocs/release/1.20.0-notes.html#deprecations\n",
      "  eps=np.finfo(np.float).eps, copy_X=True, positive=False):\n",
      "/home-nfs/raphaelr/miniconda/lib/python3.8/site-packages/sklearn/decomposition/online_lda.py:29: DeprecationWarning: `np.float` is a deprecated alias for the builtin `float`. To silence this warning, use `float` by itself. Doing this will not modify any behavior and is safe. If you specifically wanted the numpy scalar type, use `np.float64` here.\n",
      "Deprecated in NumPy 1.20; for more details and guidance: https://numpy.org/devdocs/release/1.20.0-notes.html#deprecations\n",
      "  EPS = np.finfo(np.float).eps\n"
     ]
    },
    {
     "name": "stdout",
     "output_type": "stream",
     "text": [
      "best bandwidth: 0.1\n"
     ]
    },
    {
     "name": "stderr",
     "output_type": "stream",
     "text": [
      "/home-nfs/raphaelr/miniconda/lib/python3.8/site-packages/sklearn/model_selection/_split.py:1978: FutureWarning: The default value of cv will change from 3 to 5 in version 0.22. Specify it explicitly to silence this warning.\n",
      "  warnings.warn(CV_WARNING, FutureWarning)\n",
      "/home-nfs/raphaelr/miniconda/lib/python3.8/site-packages/sklearn/model_selection/_split.py:442: DeprecationWarning: `np.int` is a deprecated alias for the builtin `int`. To silence this warning, use `int` by itself. Doing this will not modify any behavior and is safe. When replacing `np.int`, you may wish to use e.g. `np.int64` or `np.int32` to specify the precision. If you wish to review your current use, check the release note link for additional information.\n",
      "Deprecated in NumPy 1.20; for more details and guidance: https://numpy.org/devdocs/release/1.20.0-notes.html#deprecations\n",
      "  fold_sizes = np.full(n_splits, n_samples // n_splits, dtype=np.int)\n",
      "/home-nfs/raphaelr/miniconda/lib/python3.8/site-packages/sklearn/model_selection/_split.py:102: DeprecationWarning: `np.bool` is a deprecated alias for the builtin `bool`. To silence this warning, use `bool` by itself. Doing this will not modify any behavior and is safe. If you specifically wanted the numpy scalar type, use `np.bool_` here.\n",
      "Deprecated in NumPy 1.20; for more details and guidance: https://numpy.org/devdocs/release/1.20.0-notes.html#deprecations\n",
      "  test_mask = np.zeros(_num_samples(X), dtype=np.bool)\n",
      "/home-nfs/raphaelr/miniconda/lib/python3.8/site-packages/sklearn/model_selection/_split.py:102: DeprecationWarning: `np.bool` is a deprecated alias for the builtin `bool`. To silence this warning, use `bool` by itself. Doing this will not modify any behavior and is safe. If you specifically wanted the numpy scalar type, use `np.bool_` here.\n",
      "Deprecated in NumPy 1.20; for more details and guidance: https://numpy.org/devdocs/release/1.20.0-notes.html#deprecations\n",
      "  test_mask = np.zeros(_num_samples(X), dtype=np.bool)\n",
      "/home-nfs/raphaelr/miniconda/lib/python3.8/site-packages/sklearn/model_selection/_split.py:102: DeprecationWarning: `np.bool` is a deprecated alias for the builtin `bool`. To silence this warning, use `bool` by itself. Doing this will not modify any behavior and is safe. If you specifically wanted the numpy scalar type, use `np.bool_` here.\n",
      "Deprecated in NumPy 1.20; for more details and guidance: https://numpy.org/devdocs/release/1.20.0-notes.html#deprecations\n",
      "  test_mask = np.zeros(_num_samples(X), dtype=np.bool)\n",
      "/home-nfs/raphaelr/miniconda/lib/python3.8/site-packages/sklearn/model_selection/_search.py:794: DeprecationWarning: `np.int` is a deprecated alias for the builtin `int`. To silence this warning, use `int` by itself. Doing this will not modify any behavior and is safe. When replacing `np.int`, you may wish to use e.g. `np.int64` or `np.int32` to specify the precision. If you wish to review your current use, check the release note link for additional information.\n",
      "Deprecated in NumPy 1.20; for more details and guidance: https://numpy.org/devdocs/release/1.20.0-notes.html#deprecations\n",
      "  dtype=np.int)\n",
      "/home-nfs/raphaelr/miniconda/lib/python3.8/site-packages/sklearn/model_selection/_search.py:810: DeprecationWarning: The default of the `iid` parameter will change from True to False in version 0.22 and will be removed in 0.24. This will change numeric results when test-set sizes are unequal.\n",
      "  warnings.warn(\"The default of the `iid` parameter will change \"\n"
     ]
    }
   ],
   "source": [
    "import numpy as np\n",
    "import matplotlib.pyplot as plt\n",
    "\n",
    "from sklearn.datasets import load_digits\n",
    "from sklearn.neighbors import KernelDensity\n",
    "from sklearn.decomposition import PCA\n",
    "from sklearn.model_selection import GridSearchCV\n",
    "\n",
    "# load the data\n",
    "digits = results.plot_results(c.test_set, return_raw=True, num_samples=10).reshape(100,-1)\n",
    "\n",
    "# project the 64-dimensional data to a lower dimension\n",
    "pca = PCA(n_components=15, whiten=False)\n",
    "data = pca.fit_transform(digits)\n",
    "\n",
    "# use grid search cross-validation to optimize the bandwidth\n",
    "params = {\"bandwidth\": np.logspace(-1, 1, 20)}\n",
    "grid = GridSearchCV(KernelDensity(), params)\n",
    "grid.fit(data)\n",
    "\n",
    "print(\"best bandwidth: {0}\".format(grid.best_estimator_.bandwidth))\n",
    "\n",
    "# use the best estimator to compute the kernel density estimate\n",
    "kde = grid.best_estimator_\n",
    "\n",
    "# # sample 44 new points from the data\n",
    "# new_data = kde.sample(44, random_state=0)\n",
    "# new_data = pca.inverse_transform(new_data)\n",
    "\n",
    "# # turn data into a 4x11 grid\n",
    "# new_data = new_data.reshape((4, 11, -1))\n",
    "# # real_data = digits.data[:44].reshape((4, 11, -1))\n",
    "\n",
    "# # plot real digits and resampled digits\n",
    "# fig, ax = plt.subplots(9, 11, subplot_kw=dict(xticks=[], yticks=[]))\n",
    "# for j in range(11):\n",
    "#     ax[4, j].set_visible(False)\n",
    "#     for i in range(4):\n",
    "# #         im = ax[i, j].imshow(\n",
    "# #             real_data[i, j].reshape((8, 8)), cmap=plt.cm.binary, interpolation=\"nearest\"\n",
    "# #         )\n",
    "# #         im.set_clim(0, 16)\n",
    "#         im = ax[i + 5, j].imshow(\n",
    "#             new_data[i, j].reshape((8, 8)), cmap=plt.cm.binary, interpolation=\"nearest\"\n",
    "#         )\n",
    "#         im.set_clim(0, 16)\n",
    "\n",
    "# ax[0, 5].set_title(\"Selection from the input data\")\n",
    "# ax[5, 5].set_title('\"New\" digits drawn from the kernel density model')\n",
    "\n",
    "# plt.show()"
   ]
  },
  {
   "cell_type": "code",
   "execution_count": null,
   "id": "ba39c589",
   "metadata": {},
   "outputs": [],
   "source": []
  }
 ],
 "metadata": {
  "interpreter": {
   "hash": "d08574dbe1e032a77862499250ef1ebb208dc943688f68b63b9f4908607a83c3"
  },
  "kernelspec": {
   "display_name": "Python 3",
   "language": "python",
   "name": "python3"
  },
  "language_info": {
   "codemirror_mode": {
    "name": "ipython",
    "version": 3
   },
   "file_extension": ".py",
   "mimetype": "text/x-python",
   "name": "python",
   "nbconvert_exporter": "python",
   "pygments_lexer": "ipython3",
   "version": "3.8.5"
  }
 },
 "nbformat": 4,
 "nbformat_minor": 5
}
