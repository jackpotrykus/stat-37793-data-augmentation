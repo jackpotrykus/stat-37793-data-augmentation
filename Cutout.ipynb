{
 "cells": [
  {
   "cell_type": "code",
   "execution_count": 1,
   "metadata": {},
   "outputs": [],
   "source": [
    "from cifar10_experiment import CIFAR10AugmentationExperiment\n",
    "import torch\n",
    "import torchvision"
   ]
  },
  {
   "cell_type": "code",
   "execution_count": 2,
   "metadata": {},
   "outputs": [
    {
     "name": "stdout",
     "output_type": "stream",
     "text": [
      "Files already downloaded and verified\n",
      "Files already downloaded and verified\n"
     ]
    },
    {
     "name": "stderr",
     "output_type": "stream",
     "text": [
      "Using cache found in /Users/jarroddominguez/.cache/torch/hub/pytorch_vision_v0.10.0\n",
      "Training loop: 100%|██████████| 195/195 [08:11<00:00,  2.52s/it]\n"
     ]
    },
    {
     "name": "stdout",
     "output_type": "stream",
     "text": [
      "[0.562940705128205]\n",
      "----- Epoch = 1 -----\n",
      "Val loss = 1.1447\n",
      "Val acc = 0.5923\n",
      "[0.5923000000000003]\n",
      "\n",
      "New best epoch, acc = 0.5923\n",
      "\n"
     ]
    },
    {
     "name": "stderr",
     "output_type": "stream",
     "text": [
      "Training loop:   0%|          | 0/195 [00:00<?, ?it/s]"
     ]
    }
   ],
   "source": [
    "transform = torchvision.transforms.Compose(\n",
    "        [\n",
    "            torchvision.transforms.ToTensor(),\n",
    "            torchvision.transforms.RandomErasing(),\n",
    "            torchvision.transforms.Normalize((0.5, 0.5, 0.5), (0.5, 0.5, 0.5)),\n",
    "        ]\n",
    "    )\n",
    "\n",
    "c = CIFAR10AugmentationExperiment(transform)\n",
    "c.train(nepoch=50, batch_size=256)\n",
    "print(type(c.model))\n",
    "# c.evaluate_model  # NOT IMPLEMENTED"
   ]
  }
 ],
 "metadata": {
  "interpreter": {
   "hash": "d79ac3c9cf43e60dd919e585cf89913ce78d6debca1c28de23126382aff6e51e"
  },
  "kernelspec": {
   "display_name": "Python 3.8.6 64-bit ('3.8.6')",
   "language": "python",
   "name": "python3"
  },
  "language_info": {
   "codemirror_mode": {
    "name": "ipython",
    "version": 3
   },
   "file_extension": ".py",
   "mimetype": "text/x-python",
   "name": "python",
   "nbconvert_exporter": "python",
   "pygments_lexer": "ipython3",
   "version": "3.8.6"
  },
  "orig_nbformat": 4
 },
 "nbformat": 4,
 "nbformat_minor": 2
}
