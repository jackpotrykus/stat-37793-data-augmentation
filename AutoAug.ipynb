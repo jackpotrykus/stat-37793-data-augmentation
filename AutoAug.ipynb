{
 "cells": [
  {
   "cell_type": "code",
   "execution_count": 1,
   "metadata": {},
   "outputs": [],
   "source": [
    "from cifar10_experiment import CIFAR10AugmentationExperiment\n",
    "import torch\n",
    "import torchvision"
   ]
  },
  {
   "cell_type": "code",
   "execution_count": 2,
   "metadata": {},
   "outputs": [
    {
     "name": "stdout",
     "output_type": "stream",
     "text": [
      "Files already downloaded and verified\n",
      "Files already downloaded and verified\n"
     ]
    },
    {
     "data": {
      "application/vnd.jupyter.widget-view+json": {
       "model_id": "b0c4b37b14cf4514935d1a90ea605529",
       "version_major": 2,
       "version_minor": 0
      },
      "text/plain": [
       "Training loop:   0%|          | 0/195 [00:00<?, ?it/s]"
      ]
     },
     "metadata": {},
     "output_type": "display_data"
    },
    {
     "name": "stdout",
     "output_type": "stream",
     "text": [
      "----- Epoch = 1 -----\n",
      "Val loss = 1.1648\n",
      "Val acc = 0.5873\n",
      "\n",
      "New best epoch, acc = 0.5873\n",
      "\n"
     ]
    },
    {
     "data": {
      "application/vnd.jupyter.widget-view+json": {
       "model_id": "a6838cbdb26740dd8e77d697be788acf",
       "version_major": 2,
       "version_minor": 0
      },
      "text/plain": [
       "Training loop:   0%|          | 0/195 [00:00<?, ?it/s]"
      ]
     },
     "metadata": {},
     "output_type": "display_data"
    },
    {
     "name": "stdout",
     "output_type": "stream",
     "text": [
      "----- Epoch = 2 -----\n",
      "Val loss = 0.8939\n",
      "Val acc = 0.6771\n",
      "\n",
      "New best epoch, acc = 0.6771\n",
      "\n"
     ]
    },
    {
     "data": {
      "application/vnd.jupyter.widget-view+json": {
       "model_id": "7faec1b57b0a43f0aa78ab4e47284ab8",
       "version_major": 2,
       "version_minor": 0
      },
      "text/plain": [
       "Training loop:   0%|          | 0/195 [00:00<?, ?it/s]"
      ]
     },
     "metadata": {},
     "output_type": "display_data"
    },
    {
     "name": "stderr",
     "output_type": "stream",
     "text": [
      "Exception ignored in: <function _MultiProcessingDataLoaderIter.__del__ at 0x7f12205b0ee0>Exception ignored in: <function _MultiProcessingDataLoaderIter.__del__ at 0x7f12205b0ee0>\n",
      "Traceback (most recent call last):\n",
      "\n",
      "  File \"/home-nfs/raphaelr/miniconda/lib/python3.8/site-packages/torch/utils/data/dataloader.py\", line 1358, in __del__\n",
      "    self._shutdown_workers()\n",
      "  File \"/home-nfs/raphaelr/miniconda/lib/python3.8/site-packages/torch/utils/data/dataloader.py\", line 1341, in _shutdown_workers\n",
      "    if w.is_alive():\n",
      "  File \"/home-nfs/raphaelr/miniconda/lib/python3.8/multiprocessing/process.py\", line 160, in is_alive\n",
      "    assert self._parent_pid == os.getpid(), 'can only test a child process'\n",
      "Traceback (most recent call last):\n",
      "AssertionError: can only test a child process\n",
      "  File \"/home-nfs/raphaelr/miniconda/lib/python3.8/site-packages/torch/utils/data/dataloader.py\", line 1358, in __del__\n",
      "Exception ignored in: <function _MultiProcessingDataLoaderIter.__del__ at 0x7f12205b0ee0>    \n",
      "self._shutdown_workers()Traceback (most recent call last):\n",
      "  File \"/home-nfs/raphaelr/miniconda/lib/python3.8/site-packages/torch/utils/data/dataloader.py\", line 1358, in __del__\n",
      "    self._shutdown_workers()\n",
      "  File \"/home-nfs/raphaelr/miniconda/lib/python3.8/site-packages/torch/utils/data/dataloader.py\", line 1341, in _shutdown_workers\n",
      "    if w.is_alive():\n",
      "\n",
      "Exception ignored in:   File \"/home-nfs/raphaelr/miniconda/lib/python3.8/site-packages/torch/utils/data/dataloader.py\", line 1341, in _shutdown_workers\n",
      "<function _MultiProcessingDataLoaderIter.__del__ at 0x7f12205b0ee0>  File \"/home-nfs/raphaelr/miniconda/lib/python3.8/multiprocessing/process.py\", line 160, in is_alive\n",
      "\n",
      "        Traceback (most recent call last):\n",
      "  File \"/home-nfs/raphaelr/miniconda/lib/python3.8/site-packages/torch/utils/data/dataloader.py\", line 1358, in __del__\n",
      "if w.is_alive():assert self._parent_pid == os.getpid(), 'can only test a child process'\n",
      "\n",
      "      File \"/home-nfs/raphaelr/miniconda/lib/python3.8/multiprocessing/process.py\", line 160, in is_alive\n",
      "self._shutdown_workers()AssertionError\n",
      ":   File \"/home-nfs/raphaelr/miniconda/lib/python3.8/site-packages/torch/utils/data/dataloader.py\", line 1341, in _shutdown_workers\n",
      "    assert self._parent_pid == os.getpid(), 'can only test a child process'    \n",
      "can only test a child processif w.is_alive():AssertionError\n",
      ": \n",
      "can only test a child process  File \"/home-nfs/raphaelr/miniconda/lib/python3.8/multiprocessing/process.py\", line 160, in is_alive\n",
      "    assert self._parent_pid == os.getpid(), 'can only test a child process'\n",
      "AssertionError: can only test a child process\n",
      "Exception ignored in: <function _MultiProcessingDataLoaderIter.__del__ at 0x7f12205b0ee0>\n",
      "Traceback (most recent call last):\n",
      "  File \"/home-nfs/raphaelr/miniconda/lib/python3.8/site-packages/torch/utils/data/dataloader.py\", line 1358, in __del__\n",
      "\n",
      "    self._shutdown_workers()\n",
      "  File \"/home-nfs/raphaelr/miniconda/lib/python3.8/site-packages/torch/utils/data/dataloader.py\", line 1341, in _shutdown_workers\n",
      "Exception ignored in:     <function _MultiProcessingDataLoaderIter.__del__ at 0x7f12205b0ee0>if w.is_alive():\n",
      "\n",
      "Traceback (most recent call last):\n",
      "  File \"/home-nfs/raphaelr/miniconda/lib/python3.8/multiprocessing/process.py\", line 160, in is_alive\n",
      "  File \"/home-nfs/raphaelr/miniconda/lib/python3.8/site-packages/torch/utils/data/dataloader.py\", line 1358, in __del__\n",
      "    assert self._parent_pid == os.getpid(), 'can only test a child process'\n",
      "    AssertionErrorself._shutdown_workers()\n",
      ": can only test a child process  File \"/home-nfs/raphaelr/miniconda/lib/python3.8/site-packages/torch/utils/data/dataloader.py\", line 1341, in _shutdown_workers\n",
      "\n",
      "    if w.is_alive():\n",
      "  File \"/home-nfs/raphaelr/miniconda/lib/python3.8/multiprocessing/process.py\", line 160, in is_alive\n",
      "    Exception ignored in: assert self._parent_pid == os.getpid(), 'can only test a child process'<function _MultiProcessingDataLoaderIter.__del__ at 0x7f12205b0ee0>\n",
      "\n",
      "AssertionErrorTraceback (most recent call last):\n",
      ":   File \"/home-nfs/raphaelr/miniconda/lib/python3.8/site-packages/torch/utils/data/dataloader.py\", line 1358, in __del__\n",
      "can only test a child process\n",
      "    self._shutdown_workers()\n",
      "  File \"/home-nfs/raphaelr/miniconda/lib/python3.8/site-packages/torch/utils/data/dataloader.py\", line 1341, in _shutdown_workers\n",
      "    if w.is_alive():\n",
      "  File \"/home-nfs/raphaelr/miniconda/lib/python3.8/multiprocessing/process.py\", line 160, in is_alive\n",
      "    assert self._parent_pid == os.getpid(), 'can only test a child process'\n",
      "AssertionError: can only test a child processException ignored in: \n",
      "<function _MultiProcessingDataLoaderIter.__del__ at 0x7f12205b0ee0>\n",
      "Traceback (most recent call last):\n",
      "  File \"/home-nfs/raphaelr/miniconda/lib/python3.8/site-packages/torch/utils/data/dataloader.py\", line 1358, in __del__\n",
      "Exception ignored in:     <function _MultiProcessingDataLoaderIter.__del__ at 0x7f12205b0ee0>self._shutdown_workers()Exception ignored in: \n",
      "\n",
      "<function _MultiProcessingDataLoaderIter.__del__ at 0x7f12205b0ee0>Traceback (most recent call last):\n",
      "  File \"/home-nfs/raphaelr/miniconda/lib/python3.8/site-packages/torch/utils/data/dataloader.py\", line 1341, in _shutdown_workers\n",
      "\n",
      "  File \"/home-nfs/raphaelr/miniconda/lib/python3.8/site-packages/torch/utils/data/dataloader.py\", line 1358, in __del__\n",
      "Traceback (most recent call last):\n",
      "        if w.is_alive():  File \"/home-nfs/raphaelr/miniconda/lib/python3.8/site-packages/torch/utils/data/dataloader.py\", line 1358, in __del__\n",
      "self._shutdown_workers()\n",
      "\n",
      "  File \"/home-nfs/raphaelr/miniconda/lib/python3.8/multiprocessing/process.py\", line 160, in is_alive\n",
      "      File \"/home-nfs/raphaelr/miniconda/lib/python3.8/site-packages/torch/utils/data/dataloader.py\", line 1341, in _shutdown_workers\n",
      "    self._shutdown_workers()assert self._parent_pid == os.getpid(), 'can only test a child process'    \n",
      "\n",
      "if w.is_alive():AssertionError  File \"/home-nfs/raphaelr/miniconda/lib/python3.8/site-packages/torch/utils/data/dataloader.py\", line 1341, in _shutdown_workers\n",
      "\n",
      ":   File \"/home-nfs/raphaelr/miniconda/lib/python3.8/multiprocessing/process.py\", line 160, in is_alive\n",
      "can only test a child process    \n",
      "if w.is_alive():    \n",
      "assert self._parent_pid == os.getpid(), 'can only test a child process'  File \"/home-nfs/raphaelr/miniconda/lib/python3.8/multiprocessing/process.py\", line 160, in is_alive\n",
      "\n",
      "    AssertionErrorException ignored in: : <function _MultiProcessingDataLoaderIter.__del__ at 0x7f12205b0ee0>assert self._parent_pid == os.getpid(), 'can only test a child process'can only test a child process\n",
      "\n",
      "\n",
      "AssertionErrorTraceback (most recent call last):\n",
      ":   File \"/home-nfs/raphaelr/miniconda/lib/python3.8/site-packages/torch/utils/data/dataloader.py\", line 1358, in __del__\n",
      "can only test a child process\n",
      "    self._shutdown_workers()\n",
      "  File \"/home-nfs/raphaelr/miniconda/lib/python3.8/site-packages/torch/utils/data/dataloader.py\", line 1341, in _shutdown_workers\n",
      "Exception ignored in:     <function _MultiProcessingDataLoaderIter.__del__ at 0x7f12205b0ee0>if w.is_alive():\n",
      "\n",
      "Traceback (most recent call last):\n",
      "  File \"/home-nfs/raphaelr/miniconda/lib/python3.8/multiprocessing/process.py\", line 160, in is_alive\n",
      "Exception ignored in:   File \"/home-nfs/raphaelr/miniconda/lib/python3.8/site-packages/torch/utils/data/dataloader.py\", line 1358, in __del__\n",
      "<function _MultiProcessingDataLoaderIter.__del__ at 0x7f12205b0ee0>    \n",
      "assert self._parent_pid == os.getpid(), 'can only test a child process'    Traceback (most recent call last):\n",
      "\n",
      "self._shutdown_workers()  File \"/home-nfs/raphaelr/miniconda/lib/python3.8/site-packages/torch/utils/data/dataloader.py\", line 1358, in __del__\n",
      "AssertionError\n",
      ":   File \"/home-nfs/raphaelr/miniconda/lib/python3.8/site-packages/torch/utils/data/dataloader.py\", line 1341, in _shutdown_workers\n",
      "can only test a child process    \n",
      "self._shutdown_workers()    \n",
      "if w.is_alive():  File \"/home-nfs/raphaelr/miniconda/lib/python3.8/site-packages/torch/utils/data/dataloader.py\", line 1341, in _shutdown_workers\n",
      "\n",
      "  File \"/home-nfs/raphaelr/miniconda/lib/python3.8/multiprocessing/process.py\", line 160, in is_alive\n",
      "    if w.is_alive():    \n",
      "assert self._parent_pid == os.getpid(), 'can only test a child process'  File \"/home-nfs/raphaelr/miniconda/lib/python3.8/multiprocessing/process.py\", line 160, in is_alive\n"
     ]
    },
    {
     "name": "stderr",
     "output_type": "stream",
     "text": [
      "\n",
      "AssertionError: can only test a child process\n",
      "    assert self._parent_pid == os.getpid(), 'can only test a child process'\n",
      "AssertionError: can only test a child process\n",
      "Exception ignored in: <function _MultiProcessingDataLoaderIter.__del__ at 0x7f12205b0ee0>\n",
      "Traceback (most recent call last):\n",
      "  File \"/home-nfs/raphaelr/miniconda/lib/python3.8/site-packages/torch/utils/data/dataloader.py\", line 1358, in __del__\n",
      "    self._shutdown_workers()\n",
      "  File \"/home-nfs/raphaelr/miniconda/lib/python3.8/site-packages/torch/utils/data/dataloader.py\", line 1341, in _shutdown_workers\n",
      "    if w.is_alive():\n",
      "  File \"/home-nfs/raphaelr/miniconda/lib/python3.8/multiprocessing/process.py\", line 160, in is_alive\n",
      "    assert self._parent_pid == os.getpid(), 'can only test a child process'\n",
      "AssertionError: can only test a child process\n",
      "Exception ignored in: <function _MultiProcessingDataLoaderIter.__del__ at 0x7f12205b0ee0>\n",
      "Traceback (most recent call last):\n",
      "  File \"/home-nfs/raphaelr/miniconda/lib/python3.8/site-packages/torch/utils/data/dataloader.py\", line 1358, in __del__\n",
      "    self._shutdown_workers()\n",
      "  File \"/home-nfs/raphaelr/miniconda/lib/python3.8/site-packages/torch/utils/data/dataloader.py\", line 1341, in _shutdown_workers\n",
      "    if w.is_alive():\n",
      "  File \"/home-nfs/raphaelr/miniconda/lib/python3.8/multiprocessing/process.py\", line 160, in is_alive\n",
      "    assert self._parent_pid == os.getpid(), 'can only test a child process'\n",
      "AssertionError: can only test a child process\n",
      "Exception ignored in: <function _MultiProcessingDataLoaderIter.__del__ at 0x7f12205b0ee0>\n",
      "Traceback (most recent call last):\n",
      "  File \"/home-nfs/raphaelr/miniconda/lib/python3.8/site-packages/torch/utils/data/dataloader.py\", line 1358, in __del__\n",
      "    self._shutdown_workers()\n",
      "  File \"/home-nfs/raphaelr/miniconda/lib/python3.8/site-packages/torch/utils/data/dataloader.py\", line 1341, in _shutdown_workers\n",
      "    if w.is_alive():\n",
      "  File \"/home-nfs/raphaelr/miniconda/lib/python3.8/multiprocessing/process.py\", line 160, in is_alive\n",
      "    assert self._parent_pid == os.getpid(), 'can only test a child process'\n",
      "AssertionError: can only test a child process\n",
      "Exception ignored in: Exception ignored in: <function _MultiProcessingDataLoaderIter.__del__ at 0x7f12205b0ee0><function _MultiProcessingDataLoaderIter.__del__ at 0x7f12205b0ee0>\n",
      "\n",
      "Traceback (most recent call last):\n",
      "Traceback (most recent call last):\n",
      "  File \"/home-nfs/raphaelr/miniconda/lib/python3.8/site-packages/torch/utils/data/dataloader.py\", line 1358, in __del__\n",
      "  File \"/home-nfs/raphaelr/miniconda/lib/python3.8/site-packages/torch/utils/data/dataloader.py\", line 1358, in __del__\n",
      "        self._shutdown_workers()self._shutdown_workers()\n",
      "Exception ignored in: \n",
      "<function _MultiProcessingDataLoaderIter.__del__ at 0x7f12205b0ee0>  File \"/home-nfs/raphaelr/miniconda/lib/python3.8/site-packages/torch/utils/data/dataloader.py\", line 1341, in _shutdown_workers\n",
      "  File \"/home-nfs/raphaelr/miniconda/lib/python3.8/site-packages/torch/utils/data/dataloader.py\", line 1341, in _shutdown_workers\n",
      "\n",
      "Traceback (most recent call last):\n",
      "  File \"/home-nfs/raphaelr/miniconda/lib/python3.8/site-packages/torch/utils/data/dataloader.py\", line 1358, in __del__\n",
      "            self._shutdown_workers()if w.is_alive():if w.is_alive():\n",
      "\n",
      "\n",
      "  File \"/home-nfs/raphaelr/miniconda/lib/python3.8/site-packages/torch/utils/data/dataloader.py\", line 1341, in _shutdown_workers\n",
      "  File \"/home-nfs/raphaelr/miniconda/lib/python3.8/multiprocessing/process.py\", line 160, in is_alive\n",
      "  File \"/home-nfs/raphaelr/miniconda/lib/python3.8/multiprocessing/process.py\", line 160, in is_alive\n",
      "            assert self._parent_pid == os.getpid(), 'can only test a child process'if w.is_alive():assert self._parent_pid == os.getpid(), 'can only test a child process'\n",
      "\n",
      "\n",
      "AssertionErrorAssertionError  File \"/home-nfs/raphaelr/miniconda/lib/python3.8/multiprocessing/process.py\", line 160, in is_alive\n",
      ": : can only test a child processcan only test a child process    \n",
      "\n",
      "assert self._parent_pid == os.getpid(), 'can only test a child process'\n",
      "AssertionError: can only test a child processException ignored in: Exception ignored in: \n",
      "<function _MultiProcessingDataLoaderIter.__del__ at 0x7f12205b0ee0><function _MultiProcessingDataLoaderIter.__del__ at 0x7f12205b0ee0>\n",
      "\n",
      "Exception ignored in: Traceback (most recent call last):\n",
      "Traceback (most recent call last):\n",
      "<function _MultiProcessingDataLoaderIter.__del__ at 0x7f12205b0ee0>  File \"/home-nfs/raphaelr/miniconda/lib/python3.8/site-packages/torch/utils/data/dataloader.py\", line 1358, in __del__\n",
      "  File \"/home-nfs/raphaelr/miniconda/lib/python3.8/site-packages/torch/utils/data/dataloader.py\", line 1358, in __del__\n",
      "\n",
      "Traceback (most recent call last):\n",
      "Exception ignored in:   File \"/home-nfs/raphaelr/miniconda/lib/python3.8/site-packages/torch/utils/data/dataloader.py\", line 1358, in __del__\n",
      "<function _MultiProcessingDataLoaderIter.__del__ at 0x7f12205b0ee0>\n",
      "            Traceback (most recent call last):\n",
      "self._shutdown_workers()self._shutdown_workers()self._shutdown_workers()  File \"/home-nfs/raphaelr/miniconda/lib/python3.8/site-packages/torch/utils/data/dataloader.py\", line 1358, in __del__\n",
      "\n",
      "\n",
      "\n",
      "  File \"/home-nfs/raphaelr/miniconda/lib/python3.8/site-packages/torch/utils/data/dataloader.py\", line 1341, in _shutdown_workers\n",
      "  File \"/home-nfs/raphaelr/miniconda/lib/python3.8/site-packages/torch/utils/data/dataloader.py\", line 1341, in _shutdown_workers\n",
      "      File \"/home-nfs/raphaelr/miniconda/lib/python3.8/site-packages/torch/utils/data/dataloader.py\", line 1341, in _shutdown_workers\n",
      "self._shutdown_workers()            \n",
      "if w.is_alive():if w.is_alive():if w.is_alive():  File \"/home-nfs/raphaelr/miniconda/lib/python3.8/site-packages/torch/utils/data/dataloader.py\", line 1341, in _shutdown_workers\n",
      "\n",
      "\n",
      "\n",
      "  File \"/home-nfs/raphaelr/miniconda/lib/python3.8/multiprocessing/process.py\", line 160, in is_alive\n",
      "  File \"/home-nfs/raphaelr/miniconda/lib/python3.8/multiprocessing/process.py\", line 160, in is_alive\n",
      "  File \"/home-nfs/raphaelr/miniconda/lib/python3.8/multiprocessing/process.py\", line 160, in is_alive\n",
      "        if w.is_alive():        assert self._parent_pid == os.getpid(), 'can only test a child process'assert self._parent_pid == os.getpid(), 'can only test a child process'\n",
      "assert self._parent_pid == os.getpid(), 'can only test a child process'\n",
      "\n",
      "  File \"/home-nfs/raphaelr/miniconda/lib/python3.8/multiprocessing/process.py\", line 160, in is_alive\n",
      "\n",
      "AssertionErrorAssertionErrorAssertionError    : : : assert self._parent_pid == os.getpid(), 'can only test a child process'can only test a child processcan only test a child processcan only test a child process\n",
      "\n",
      "\n",
      "\n",
      "AssertionError: can only test a child process\n",
      "Exception ignored in: Exception ignored in: Exception ignored in: <function _MultiProcessingDataLoaderIter.__del__ at 0x7f12205b0ee0><function _MultiProcessingDataLoaderIter.__del__ at 0x7f12205b0ee0>\n",
      "<function _MultiProcessingDataLoaderIter.__del__ at 0x7f12205b0ee0>\n",
      "Traceback (most recent call last):\n",
      "Exception ignored in: \n",
      "  File \"/home-nfs/raphaelr/miniconda/lib/python3.8/site-packages/torch/utils/data/dataloader.py\", line 1358, in __del__\n",
      "<function _MultiProcessingDataLoaderIter.__del__ at 0x7f12205b0ee0>Traceback (most recent call last):\n",
      "Traceback (most recent call last):\n",
      "\n",
      "  File \"/home-nfs/raphaelr/miniconda/lib/python3.8/site-packages/torch/utils/data/dataloader.py\", line 1358, in __del__\n",
      "  File \"/home-nfs/raphaelr/miniconda/lib/python3.8/site-packages/torch/utils/data/dataloader.py\", line 1358, in __del__\n",
      "Traceback (most recent call last):\n",
      "  File \"/home-nfs/raphaelr/miniconda/lib/python3.8/site-packages/torch/utils/data/dataloader.py\", line 1358, in __del__\n",
      "                self._shutdown_workers()self._shutdown_workers()self._shutdown_workers()\n",
      "\n",
      "  File \"/home-nfs/raphaelr/miniconda/lib/python3.8/site-packages/torch/utils/data/dataloader.py\", line 1341, in _shutdown_workers\n",
      "\n",
      "  File \"/home-nfs/raphaelr/miniconda/lib/python3.8/site-packages/torch/utils/data/dataloader.py\", line 1341, in _shutdown_workers\n",
      "  File \"/home-nfs/raphaelr/miniconda/lib/python3.8/site-packages/torch/utils/data/dataloader.py\", line 1341, in _shutdown_workers\n",
      "    if w.is_alive():self._shutdown_workers()        \n",
      "\n",
      "if w.is_alive():if w.is_alive():  File \"/home-nfs/raphaelr/miniconda/lib/python3.8/multiprocessing/process.py\", line 160, in is_alive\n",
      "  File \"/home-nfs/raphaelr/miniconda/lib/python3.8/site-packages/torch/utils/data/dataloader.py\", line 1341, in _shutdown_workers\n",
      "\n",
      "\n",
      "  File \"/home-nfs/raphaelr/miniconda/lib/python3.8/multiprocessing/process.py\", line 160, in is_alive\n",
      "      File \"/home-nfs/raphaelr/miniconda/lib/python3.8/multiprocessing/process.py\", line 160, in is_alive\n",
      "    assert self._parent_pid == os.getpid(), 'can only test a child process'        if w.is_alive():\n",
      "assert self._parent_pid == os.getpid(), 'can only test a child process'assert self._parent_pid == os.getpid(), 'can only test a child process'\n",
      "AssertionError\n",
      "  File \"/home-nfs/raphaelr/miniconda/lib/python3.8/multiprocessing/process.py\", line 160, in is_alive\n",
      ": \n",
      "AssertionErrorcan only test a child process    AssertionError: \n",
      "assert self._parent_pid == os.getpid(), 'can only test a child process': can only test a child processcan only test a child process\n",
      "\n",
      "\n",
      "AssertionError: can only test a child process\n",
      "Exception ignored in: <function _MultiProcessingDataLoaderIter.__del__ at 0x7f12205b0ee0>\n",
      "Traceback (most recent call last):\n",
      "  File \"/home-nfs/raphaelr/miniconda/lib/python3.8/site-packages/torch/utils/data/dataloader.py\", line 1358, in __del__\n",
      "    self._shutdown_workers()\n",
      "  File \"/home-nfs/raphaelr/miniconda/lib/python3.8/site-packages/torch/utils/data/dataloader.py\", line 1341, in _shutdown_workers\n",
      "    if w.is_alive():\n",
      "  File \"/home-nfs/raphaelr/miniconda/lib/python3.8/multiprocessing/process.py\", line 160, in is_alive\n",
      "    assert self._parent_pid == os.getpid(), 'can only test a child process'\n",
      "AssertionError: can only test a child process\n"
     ]
    },
    {
     "name": "stdout",
     "output_type": "stream",
     "text": [
      "----- Epoch = 3 -----\n",
      "Val loss = 0.7109\n",
      "Val acc = 0.7525\n",
      "\n",
      "New best epoch, acc = 0.7525\n",
      "\n"
     ]
    },
    {
     "data": {
      "application/vnd.jupyter.widget-view+json": {
       "model_id": "75b7146fc03c48d28e56636fa4c49491",
       "version_major": 2,
       "version_minor": 0
      },
      "text/plain": [
       "Training loop:   0%|          | 0/195 [00:00<?, ?it/s]"
      ]
     },
     "metadata": {},
     "output_type": "display_data"
    },
    {
     "name": "stdout",
     "output_type": "stream",
     "text": [
      "----- Epoch = 4 -----\n",
      "Val loss = 0.6622\n",
      "Val acc = 0.7713\n",
      "\n",
      "New best epoch, acc = 0.7713\n",
      "\n"
     ]
    },
    {
     "data": {
      "application/vnd.jupyter.widget-view+json": {
       "model_id": "da12d91f91ca4f97a1a84368be811b9f",
       "version_major": 2,
       "version_minor": 0
      },
      "text/plain": [
       "Training loop:   0%|          | 0/195 [00:00<?, ?it/s]"
      ]
     },
     "metadata": {},
     "output_type": "display_data"
    },
    {
     "name": "stdout",
     "output_type": "stream",
     "text": [
      "----- Epoch = 5 -----\n",
      "Val loss = 0.6193\n",
      "Val acc = 0.7901\n",
      "\n",
      "New best epoch, acc = 0.7901\n",
      "\n"
     ]
    },
    {
     "data": {
      "application/vnd.jupyter.widget-view+json": {
       "model_id": "70ceff486b1243a6b6dda02ede9244e9",
       "version_major": 2,
       "version_minor": 0
      },
      "text/plain": [
       "Training loop:   0%|          | 0/195 [00:00<?, ?it/s]"
      ]
     },
     "metadata": {},
     "output_type": "display_data"
    },
    {
     "ename": "KeyboardInterrupt",
     "evalue": "",
     "output_type": "error",
     "traceback": [
      "\u001b[0;31m---------------------------------------------------------------------------\u001b[0m",
      "\u001b[0;31mKeyboardInterrupt\u001b[0m                         Traceback (most recent call last)",
      "\u001b[0;32m<ipython-input-2-4dc2434f2f01>\u001b[0m in \u001b[0;36m<module>\u001b[0;34m\u001b[0m\n\u001b[1;32m      9\u001b[0m \u001b[0;34m\u001b[0m\u001b[0m\n\u001b[1;32m     10\u001b[0m \u001b[0mc\u001b[0m \u001b[0;34m=\u001b[0m \u001b[0mCIFAR10AugmentationExperiment\u001b[0m\u001b[0;34m(\u001b[0m\u001b[0mtransform\u001b[0m\u001b[0;34m)\u001b[0m\u001b[0;34m\u001b[0m\u001b[0;34m\u001b[0m\u001b[0m\n\u001b[0;32m---> 11\u001b[0;31m \u001b[0mc\u001b[0m\u001b[0;34m.\u001b[0m\u001b[0mtrain\u001b[0m\u001b[0;34m(\u001b[0m\u001b[0mnepoch\u001b[0m\u001b[0;34m=\u001b[0m\u001b[0;36m50\u001b[0m\u001b[0;34m,\u001b[0m \u001b[0mbatch_size\u001b[0m\u001b[0;34m=\u001b[0m\u001b[0;36m256\u001b[0m\u001b[0;34m)\u001b[0m\u001b[0;34m\u001b[0m\u001b[0;34m\u001b[0m\u001b[0m\n\u001b[0m\u001b[1;32m     12\u001b[0m \u001b[0mprint\u001b[0m\u001b[0;34m(\u001b[0m\u001b[0mtype\u001b[0m\u001b[0;34m(\u001b[0m\u001b[0mc\u001b[0m\u001b[0;34m.\u001b[0m\u001b[0mmodel\u001b[0m\u001b[0;34m)\u001b[0m\u001b[0;34m)\u001b[0m\u001b[0;34m\u001b[0m\u001b[0;34m\u001b[0m\u001b[0m\n\u001b[1;32m     13\u001b[0m \u001b[0;31m# c.evaluate_model  # NOT IMPLEMENTED\u001b[0m\u001b[0;34m\u001b[0m\u001b[0;34m\u001b[0m\u001b[0;34m\u001b[0m\u001b[0m\n",
      "\u001b[0;32m~/stat-37793-data-augmentation/cifar10_experiment.py\u001b[0m in \u001b[0;36mtrain\u001b[0;34m(self, nepoch, batch_size, *args, **kwargs)\u001b[0m\n\u001b[1;32m    173\u001b[0m \u001b[0;34m\u001b[0m\u001b[0m\n\u001b[1;32m    174\u001b[0m                 \u001b[0;31m# Update loss.\u001b[0m\u001b[0;34m\u001b[0m\u001b[0;34m\u001b[0m\u001b[0;34m\u001b[0m\u001b[0m\n\u001b[0;32m--> 175\u001b[0;31m                 \u001b[0mloss\u001b[0m \u001b[0;34m=\u001b[0m \u001b[0mloss_fn\u001b[0m\u001b[0;34m(\u001b[0m\u001b[0mpred\u001b[0m\u001b[0;34m,\u001b[0m \u001b[0my\u001b[0m\u001b[0;34m)\u001b[0m\u001b[0;34m.\u001b[0m\u001b[0mitem\u001b[0m\u001b[0;34m(\u001b[0m\u001b[0;34m)\u001b[0m\u001b[0;34m\u001b[0m\u001b[0;34m\u001b[0m\u001b[0m\n\u001b[0m\u001b[1;32m    176\u001b[0m                 \u001b[0mmean_loss\u001b[0m \u001b[0;34m+=\u001b[0m \u001b[0mlen\u001b[0m\u001b[0;34m(\u001b[0m\u001b[0mx\u001b[0m\u001b[0;34m)\u001b[0m \u001b[0;34m*\u001b[0m \u001b[0;34m(\u001b[0m\u001b[0mloss\u001b[0m \u001b[0;34m-\u001b[0m \u001b[0mmean_loss\u001b[0m\u001b[0;34m)\u001b[0m \u001b[0;34m/\u001b[0m \u001b[0mn\u001b[0m\u001b[0;34m\u001b[0m\u001b[0;34m\u001b[0m\u001b[0m\n\u001b[1;32m    177\u001b[0m \u001b[0;34m\u001b[0m\u001b[0m\n",
      "\u001b[0;31mKeyboardInterrupt\u001b[0m: "
     ]
    }
   ],
   "source": [
    "transform = torchvision.transforms.Compose(\n",
    "        [\n",
    "            torchvision.transforms.AutoAugment(),\n",
    "            torchvision.transforms.ToTensor(),\n",
    "            \n",
    "            torchvision.transforms.Normalize((0.5, 0.5, 0.5), (0.5, 0.5, 0.5)),\n",
    "        ]\n",
    "    )\n",
    "\n",
    "c = CIFAR10AugmentationExperiment(transform)\n",
    "c.train(nepoch=50, batch_size=256)\n",
    "print(type(c.model))\n",
    "# c.evaluate_model  # NOT IMPLEMENTED"
   ]
  },
  {
   "cell_type": "code",
   "execution_count": null,
   "metadata": {},
   "outputs": [],
   "source": []
  }
 ],
 "metadata": {
  "interpreter": {
   "hash": "d79ac3c9cf43e60dd919e585cf89913ce78d6debca1c28de23126382aff6e51e"
  },
  "kernelspec": {
   "display_name": "Python 3",
   "language": "python",
   "name": "python3"
  },
  "language_info": {
   "codemirror_mode": {
    "name": "ipython",
    "version": 3
   },
   "file_extension": ".py",
   "mimetype": "text/x-python",
   "name": "python",
   "nbconvert_exporter": "python",
   "pygments_lexer": "ipython3",
   "version": "3.8.5"
  }
 },
 "nbformat": 4,
 "nbformat_minor": 2
}
