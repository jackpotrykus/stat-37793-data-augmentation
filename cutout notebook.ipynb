{
 "cells": [
  {
   "cell_type": "code",
   "execution_count": 2,
   "id": "0de44c6a",
   "metadata": {},
   "outputs": [],
   "source": [
    "main_name= 'cutout_'"
   ]
  },
  {
   "cell_type": "code",
   "execution_count": 2,
   "id": "1114c003",
   "metadata": {},
   "outputs": [],
   "source": [
    "import os\n",
    "os.environ['WANDB_CONSOLE'] = 'off'"
   ]
  },
  {
   "cell_type": "code",
   "execution_count": 3,
   "id": "add42074",
   "metadata": {
    "scrolled": true
   },
   "outputs": [],
   "source": [
    "import fastshap_wrapper as fw"
   ]
  },
  {
   "cell_type": "code",
   "execution_count": 4,
   "id": "1874fd0b",
   "metadata": {},
   "outputs": [],
   "source": [
    "from cifar10_experiment import CIFAR10AugmentationExperiment"
   ]
  },
  {
   "cell_type": "code",
   "execution_count": 5,
   "id": "deb02423",
   "metadata": {},
   "outputs": [],
   "source": [
    "import torchvision"
   ]
  },
  {
   "cell_type": "code",
   "execution_count": 6,
   "id": "767268ad",
   "metadata": {},
   "outputs": [],
   "source": [
    "transform = torchvision.transforms.Compose(\n",
    "        [\n",
    "            torchvision.transforms.ToTensor(),\n",
    "            torchvision.transforms.RandomErasing(),\n",
    "            torchvision.transforms.Normalize((0.5, 0.5, 0.5), (0.5, 0.5, 0.5)),\n",
    "        ]\n",
    "    )"
   ]
  },
  {
   "cell_type": "code",
   "execution_count": 7,
   "id": "22f779b7",
   "metadata": {},
   "outputs": [
    {
     "name": "stdout",
     "output_type": "stream",
     "text": [
      "Files already downloaded and verified\n",
      "Files already downloaded and verified\n"
     ]
    }
   ],
   "source": [
    "c = CIFAR10AugmentationExperiment(transform)"
   ]
  },
  {
   "cell_type": "code",
   "execution_count": 8,
   "id": "326d30d4",
   "metadata": {},
   "outputs": [
    {
     "data": {
      "application/vnd.jupyter.widget-view+json": {
       "model_id": "fe63e721955543988c6baf124b735c49",
       "version_major": 2,
       "version_minor": 0
      },
      "text/plain": [
       "Training loop:   0%|          | 0/390 [00:00<?, ?it/s]"
      ]
     },
     "metadata": {},
     "output_type": "display_data"
    },
    {
     "name": "stdout",
     "output_type": "stream",
     "text": [
      "----- Epoch = 1 -----\n",
      "Val loss = 1.2063\n",
      "Val acc = 0.5701\n",
      "\n",
      "New best epoch, acc = 0.5701\n",
      "\n"
     ]
    },
    {
     "data": {
      "application/vnd.jupyter.widget-view+json": {
       "model_id": "fd25de29b5a145c7a52982d4cc49833d",
       "version_major": 2,
       "version_minor": 0
      },
      "text/plain": [
       "Training loop:   0%|          | 0/390 [00:00<?, ?it/s]"
      ]
     },
     "metadata": {},
     "output_type": "display_data"
    },
    {
     "name": "stderr",
     "output_type": "stream",
     "text": [
      "Exception ignored in: <function _MultiProcessingDataLoaderIter.__del__ at 0x7ff350fffaf0>\n",
      "Traceback (most recent call last):\n",
      "  File \"/home-nfs/raphaelr/miniconda/lib/python3.8/site-packages/torch/utils/data/dataloader.py\", line 1358, in __del__\n",
      "    self._shutdown_workers()\n",
      "  File \"/home-nfs/raphaelr/miniconda/lib/python3.8/site-packages/torch/utils/data/dataloader.py\", line 1341, in _shutdown_workers\n",
      "    if w.is_alive():\n",
      "  File \"/home-nfs/raphaelr/miniconda/lib/python3.8/multiprocessing/process.py\", line 160, in is_alive\n",
      "    Exception ignored in: assert self._parent_pid == os.getpid(), 'can only test a child process'<function _MultiProcessingDataLoaderIter.__del__ at 0x7ff350fffaf0>\n",
      "\n",
      "AssertionErrorTraceback (most recent call last):\n",
      ":   File \"/home-nfs/raphaelr/miniconda/lib/python3.8/site-packages/torch/utils/data/dataloader.py\", line 1358, in __del__\n",
      "can only test a child process\n",
      "    self._shutdown_workers()\n",
      "  File \"/home-nfs/raphaelr/miniconda/lib/python3.8/site-packages/torch/utils/data/dataloader.py\", line 1341, in _shutdown_workers\n",
      "    if w.is_alive():\n",
      "  File \"/home-nfs/raphaelr/miniconda/lib/python3.8/multiprocessing/process.py\", line 160, in is_alive\n",
      "    assert self._parent_pid == os.getpid(), 'can only test a child process'\n",
      "AssertionError: can only test a child process\n",
      "Exception ignored in: <function _MultiProcessingDataLoaderIter.__del__ at 0x7ff350fffaf0>\n",
      "Traceback (most recent call last):\n",
      "  File \"/home-nfs/raphaelr/miniconda/lib/python3.8/site-packages/torch/utils/data/dataloader.py\", line 1358, in __del__\n",
      "    self._shutdown_workers()\n",
      "  File \"/home-nfs/raphaelr/miniconda/lib/python3.8/site-packages/torch/utils/data/dataloader.py\", line 1341, in _shutdown_workers\n",
      "    if w.is_alive():\n",
      "  File \"/home-nfs/raphaelr/miniconda/lib/python3.8/multiprocessing/process.py\", line 160, in is_alive\n",
      "    assert self._parent_pid == os.getpid(), 'can only test a child process'\n",
      "AssertionError: can only test a child process\n",
      "Exception ignored in: <function _MultiProcessingDataLoaderIter.__del__ at 0x7ff350fffaf0>\n",
      "Traceback (most recent call last):\n",
      "Exception ignored in:   File \"/home-nfs/raphaelr/miniconda/lib/python3.8/site-packages/torch/utils/data/dataloader.py\", line 1358, in __del__\n",
      "<function _MultiProcessingDataLoaderIter.__del__ at 0x7ff350fffaf0>\n",
      "    Traceback (most recent call last):\n",
      "self._shutdown_workers()  File \"/home-nfs/raphaelr/miniconda/lib/python3.8/site-packages/torch/utils/data/dataloader.py\", line 1358, in __del__\n",
      "\n",
      "  File \"/home-nfs/raphaelr/miniconda/lib/python3.8/site-packages/torch/utils/data/dataloader.py\", line 1341, in _shutdown_workers\n",
      "    self._shutdown_workers()    \n",
      "if w.is_alive():  File \"/home-nfs/raphaelr/miniconda/lib/python3.8/site-packages/torch/utils/data/dataloader.py\", line 1341, in _shutdown_workers\n",
      "\n",
      "  File \"/home-nfs/raphaelr/miniconda/lib/python3.8/multiprocessing/process.py\", line 160, in is_alive\n",
      "    Exception ignored in: Exception ignored in:     if w.is_alive():<function _MultiProcessingDataLoaderIter.__del__ at 0x7ff350fffaf0><function _MultiProcessingDataLoaderIter.__del__ at 0x7ff350fffaf0>assert self._parent_pid == os.getpid(), 'can only test a child process'\n",
      "\n",
      "\n",
      "\n",
      "  File \"/home-nfs/raphaelr/miniconda/lib/python3.8/multiprocessing/process.py\", line 160, in is_alive\n",
      "Traceback (most recent call last):\n",
      "Traceback (most recent call last):\n",
      "AssertionError  File \"/home-nfs/raphaelr/miniconda/lib/python3.8/site-packages/torch/utils/data/dataloader.py\", line 1358, in __del__\n",
      "  File \"/home-nfs/raphaelr/miniconda/lib/python3.8/site-packages/torch/utils/data/dataloader.py\", line 1358, in __del__\n",
      ":     can only test a child processassert self._parent_pid == os.getpid(), 'can only test a child process'\n",
      "\n",
      "        AssertionErrorself._shutdown_workers()self._shutdown_workers(): \n",
      "\n",
      "can only test a child process  File \"/home-nfs/raphaelr/miniconda/lib/python3.8/site-packages/torch/utils/data/dataloader.py\", line 1341, in _shutdown_workers\n",
      "  File \"/home-nfs/raphaelr/miniconda/lib/python3.8/site-packages/torch/utils/data/dataloader.py\", line 1341, in _shutdown_workers\n",
      "\n",
      "Exception ignored in: <function _MultiProcessingDataLoaderIter.__del__ at 0x7ff350fffaf0>        \n",
      "if w.is_alive():Traceback (most recent call last):\n",
      "\n",
      "  File \"/home-nfs/raphaelr/miniconda/lib/python3.8/site-packages/torch/utils/data/dataloader.py\", line 1358, in __del__\n",
      "Exception ignored in:   File \"/home-nfs/raphaelr/miniconda/lib/python3.8/multiprocessing/process.py\", line 160, in is_alive\n",
      "<function _MultiProcessingDataLoaderIter.__del__ at 0x7ff350fffaf0>\n",
      "Traceback (most recent call last):\n",
      "    if w.is_alive():      File \"/home-nfs/raphaelr/miniconda/lib/python3.8/site-packages/torch/utils/data/dataloader.py\", line 1358, in __del__\n",
      "assert self._parent_pid == os.getpid(), 'can only test a child process'self._shutdown_workers()\n",
      "\n",
      "  File \"/home-nfs/raphaelr/miniconda/lib/python3.8/multiprocessing/process.py\", line 160, in is_alive\n",
      "    AssertionErrorself._shutdown_workers()\n",
      "    : \n",
      "  File \"/home-nfs/raphaelr/miniconda/lib/python3.8/site-packages/torch/utils/data/dataloader.py\", line 1341, in _shutdown_workers\n",
      "assert self._parent_pid == os.getpid(), 'can only test a child process'can only test a child process  File \"/home-nfs/raphaelr/miniconda/lib/python3.8/site-packages/torch/utils/data/dataloader.py\", line 1341, in _shutdown_workers\n",
      "\n",
      "\n",
      "AssertionError        : if w.is_alive():can only test a child processif w.is_alive():\n",
      "\n",
      "\n",
      "  File \"/home-nfs/raphaelr/miniconda/lib/python3.8/multiprocessing/process.py\", line 160, in is_alive\n",
      "  File \"/home-nfs/raphaelr/miniconda/lib/python3.8/multiprocessing/process.py\", line 160, in is_alive\n",
      "    Exception ignored in:     assert self._parent_pid == os.getpid(), 'can only test a child process'<function _MultiProcessingDataLoaderIter.__del__ at 0x7ff350fffaf0>assert self._parent_pid == os.getpid(), 'can only test a child process'\n",
      "Exception ignored in: \n",
      "AssertionError<function _MultiProcessingDataLoaderIter.__del__ at 0x7ff350fffaf0>AssertionError\n",
      ": \n",
      ": can only test a child processTraceback (most recent call last):\n",
      "Traceback (most recent call last):\n",
      "can only test a child process\n",
      "  File \"/home-nfs/raphaelr/miniconda/lib/python3.8/site-packages/torch/utils/data/dataloader.py\", line 1358, in __del__\n",
      "\n",
      "  File \"/home-nfs/raphaelr/miniconda/lib/python3.8/site-packages/torch/utils/data/dataloader.py\", line 1358, in __del__\n",
      "        self._shutdown_workers()self._shutdown_workers()\n",
      "  File \"/home-nfs/raphaelr/miniconda/lib/python3.8/site-packages/torch/utils/data/dataloader.py\", line 1341, in _shutdown_workers\n",
      "\n",
      "  File \"/home-nfs/raphaelr/miniconda/lib/python3.8/site-packages/torch/utils/data/dataloader.py\", line 1341, in _shutdown_workers\n",
      "    if w.is_alive():    \n",
      "if w.is_alive():  File \"/home-nfs/raphaelr/miniconda/lib/python3.8/multiprocessing/process.py\", line 160, in is_alive\n",
      "\n",
      "  File \"/home-nfs/raphaelr/miniconda/lib/python3.8/multiprocessing/process.py\", line 160, in is_alive\n",
      "    assert self._parent_pid == os.getpid(), 'can only test a child process'    \n",
      "assert self._parent_pid == os.getpid(), 'can only test a child process'AssertionError\n",
      ": AssertionError: can only test a child process\n",
      "can only test a child process\n"
     ]
    },
    {
     "name": "stdout",
     "output_type": "stream",
     "text": [
      "----- Epoch = 2 -----\n",
      "Val loss = 0.8419\n",
      "Val acc = 0.7026\n",
      "\n",
      "New best epoch, acc = 0.7026\n",
      "\n"
     ]
    },
    {
     "data": {
      "application/vnd.jupyter.widget-view+json": {
       "model_id": "d0030c93e6364058ad4752109551b806",
       "version_major": 2,
       "version_minor": 0
      },
      "text/plain": [
       "Training loop:   0%|          | 0/390 [00:00<?, ?it/s]"
      ]
     },
     "metadata": {},
     "output_type": "display_data"
    },
    {
     "name": "stdout",
     "output_type": "stream",
     "text": [
      "----- Epoch = 3 -----\n",
      "Val loss = 0.6764\n",
      "Val acc = 0.7667\n",
      "\n",
      "New best epoch, acc = 0.7667\n",
      "\n"
     ]
    },
    {
     "data": {
      "application/vnd.jupyter.widget-view+json": {
       "model_id": "55bfff3a26ab4665a6b0e950ef484de7",
       "version_major": 2,
       "version_minor": 0
      },
      "text/plain": [
       "Training loop:   0%|          | 0/390 [00:00<?, ?it/s]"
      ]
     },
     "metadata": {},
     "output_type": "display_data"
    },
    {
     "name": "stdout",
     "output_type": "stream",
     "text": [
      "----- Epoch = 4 -----\n",
      "Val loss = 0.5829\n",
      "Val acc = 0.8013\n",
      "\n",
      "New best epoch, acc = 0.8013\n",
      "\n"
     ]
    },
    {
     "data": {
      "application/vnd.jupyter.widget-view+json": {
       "model_id": "6fa2fb8fd8544214bf86f09529bd3a94",
       "version_major": 2,
       "version_minor": 0
      },
      "text/plain": [
       "Training loop:   0%|          | 0/390 [00:00<?, ?it/s]"
      ]
     },
     "metadata": {},
     "output_type": "display_data"
    },
    {
     "name": "stdout",
     "output_type": "stream",
     "text": [
      "----- Epoch = 5 -----\n",
      "Val loss = 0.5573\n",
      "Val acc = 0.8114\n",
      "\n",
      "New best epoch, acc = 0.8114\n",
      "\n"
     ]
    },
    {
     "data": {
      "application/vnd.jupyter.widget-view+json": {
       "model_id": "f22b1cd6949f41e09052d2ecf302062b",
       "version_major": 2,
       "version_minor": 0
      },
      "text/plain": [
       "Training loop:   0%|          | 0/390 [00:00<?, ?it/s]"
      ]
     },
     "metadata": {},
     "output_type": "display_data"
    },
    {
     "name": "stdout",
     "output_type": "stream",
     "text": [
      "----- Epoch = 6 -----\n",
      "Val loss = 0.5099\n",
      "Val acc = 0.8258\n",
      "\n",
      "New best epoch, acc = 0.8258\n",
      "\n"
     ]
    },
    {
     "data": {
      "application/vnd.jupyter.widget-view+json": {
       "model_id": "b1a8ac7f09ac4e1787ac9fe7e0a53c31",
       "version_major": 2,
       "version_minor": 0
      },
      "text/plain": [
       "Training loop:   0%|          | 0/390 [00:00<?, ?it/s]"
      ]
     },
     "metadata": {},
     "output_type": "display_data"
    },
    {
     "name": "stdout",
     "output_type": "stream",
     "text": [
      "----- Epoch = 7 -----\n",
      "Val loss = 0.5116\n",
      "Val acc = 0.8313\n",
      "\n",
      "New best epoch, acc = 0.8313\n",
      "\n"
     ]
    },
    {
     "data": {
      "application/vnd.jupyter.widget-view+json": {
       "model_id": "b119401a748a4dcb9e7c3f8dc9b1a29c",
       "version_major": 2,
       "version_minor": 0
      },
      "text/plain": [
       "Training loop:   0%|          | 0/390 [00:00<?, ?it/s]"
      ]
     },
     "metadata": {},
     "output_type": "display_data"
    },
    {
     "name": "stderr",
     "output_type": "stream",
     "text": [
      "Exception ignored in: Exception ignored in: <function _MultiProcessingDataLoaderIter.__del__ at 0x7ff350fffaf0><function _MultiProcessingDataLoaderIter.__del__ at 0x7ff350fffaf0>\n",
      "\n",
      "Traceback (most recent call last):\n",
      "  File \"/home-nfs/raphaelr/miniconda/lib/python3.8/site-packages/torch/utils/data/dataloader.py\", line 1358, in __del__\n",
      "Traceback (most recent call last):\n",
      "  File \"/home-nfs/raphaelr/miniconda/lib/python3.8/site-packages/torch/utils/data/dataloader.py\", line 1358, in __del__\n",
      "        self._shutdown_workers()self._shutdown_workers()\n",
      "\n",
      "  File \"/home-nfs/raphaelr/miniconda/lib/python3.8/site-packages/torch/utils/data/dataloader.py\", line 1341, in _shutdown_workers\n",
      "  File \"/home-nfs/raphaelr/miniconda/lib/python3.8/site-packages/torch/utils/data/dataloader.py\", line 1341, in _shutdown_workers\n",
      "    Exception ignored in: if w.is_alive():    <function _MultiProcessingDataLoaderIter.__del__ at 0x7ff350fffaf0>\n",
      "if w.is_alive():\n",
      "Exception ignored in:   File \"/home-nfs/raphaelr/miniconda/lib/python3.8/multiprocessing/process.py\", line 160, in is_alive\n",
      "\n",
      "Traceback (most recent call last):\n",
      "<function _MultiProcessingDataLoaderIter.__del__ at 0x7ff350fffaf0>    \n",
      "  File \"/home-nfs/raphaelr/miniconda/lib/python3.8/multiprocessing/process.py\", line 160, in is_alive\n",
      "assert self._parent_pid == os.getpid(), 'can only test a child process'\n",
      "    AssertionError: Traceback (most recent call last):\n",
      "assert self._parent_pid == os.getpid(), 'can only test a child process'  File \"/home-nfs/raphaelr/miniconda/lib/python3.8/site-packages/torch/utils/data/dataloader.py\", line 1358, in __del__\n",
      "  File \"/home-nfs/raphaelr/miniconda/lib/python3.8/site-packages/torch/utils/data/dataloader.py\", line 1358, in __del__\n",
      "\n",
      "AssertionError    :     can only test a child processself._shutdown_workers()can only test a child process\n",
      "\n",
      "\n",
      "self._shutdown_workers()  File \"/home-nfs/raphaelr/miniconda/lib/python3.8/site-packages/torch/utils/data/dataloader.py\", line 1341, in _shutdown_workers\n",
      "\n",
      "  File \"/home-nfs/raphaelr/miniconda/lib/python3.8/site-packages/torch/utils/data/dataloader.py\", line 1341, in _shutdown_workers\n",
      "    Exception ignored in:     if w.is_alive():Traceback (most recent call last):\n",
      "<function _MultiProcessingDataLoaderIter.__del__ at 0x7ff350fffaf0>if w.is_alive():Exception ignored in: \n",
      "<function _MultiProcessingDataLoaderIter.__del__ at 0x7ff350fffaf0>\n",
      "  File \"/home-nfs/raphaelr/miniconda/lib/python3.8/multiprocessing/process.py\", line 160, in is_alive\n",
      "\n",
      "Traceback (most recent call last):\n",
      "  File \"/home-nfs/raphaelr/miniconda/lib/python3.8/site-packages/torch/utils/data/dataloader.py\", line 1358, in __del__\n",
      "          File \"/home-nfs/raphaelr/miniconda/lib/python3.8/site-packages/torch/utils/data/dataloader.py\", line 1358, in __del__\n",
      "\n",
      "self._shutdown_workers()      File \"/home-nfs/raphaelr/miniconda/lib/python3.8/multiprocessing/process.py\", line 160, in is_alive\n",
      "\n",
      "assert self._parent_pid == os.getpid(), 'can only test a child process'self._shutdown_workers()\n",
      "  File \"/home-nfs/raphaelr/miniconda/lib/python3.8/site-packages/torch/utils/data/dataloader.py\", line 1341, in _shutdown_workers\n",
      "    assert self._parent_pid == os.getpid(), 'can only test a child process'\n",
      "  File \"/home-nfs/raphaelr/miniconda/lib/python3.8/site-packages/torch/utils/data/dataloader.py\", line 1341, in _shutdown_workers\n",
      "\n",
      "    AssertionErrorAssertionError: : can only test a child process\n",
      "if w.is_alive():\n",
      "  File \"/home-nfs/raphaelr/miniconda/lib/python3.8/multiprocessing/process.py\", line 160, in is_alive\n",
      "    assert self._parent_pid == os.getpid(), 'can only test a child process'Exception ignored in: \n",
      "AssertionError<function _MultiProcessingDataLoaderIter.__del__ at 0x7ff350fffaf0>can only test a child process: \n",
      "can only test a child processTraceback (most recent call last):\n",
      "\n",
      "\n",
      "  File \"/home-nfs/raphaelr/miniconda/lib/python3.8/site-packages/torch/utils/data/dataloader.py\", line 1358, in __del__\n",
      "    if w.is_alive():    \n",
      "self._shutdown_workers()  File \"/home-nfs/raphaelr/miniconda/lib/python3.8/multiprocessing/process.py\", line 160, in is_alive\n",
      "Exception ignored in: Exception ignored in: <function _MultiProcessingDataLoaderIter.__del__ at 0x7ff350fffaf0>\n",
      "      File \"/home-nfs/raphaelr/miniconda/lib/python3.8/site-packages/torch/utils/data/dataloader.py\", line 1341, in _shutdown_workers\n",
      "\n",
      "Traceback (most recent call last):\n",
      "      File \"/home-nfs/raphaelr/miniconda/lib/python3.8/site-packages/torch/utils/data/dataloader.py\", line 1358, in __del__\n",
      "if w.is_alive():    \n",
      "self._shutdown_workers()  File \"/home-nfs/raphaelr/miniconda/lib/python3.8/multiprocessing/process.py\", line 160, in is_alive\n",
      "\n",
      "  File \"/home-nfs/raphaelr/miniconda/lib/python3.8/site-packages/torch/utils/data/dataloader.py\", line 1341, in _shutdown_workers\n",
      "assert self._parent_pid == os.getpid(), 'can only test a child process'\n",
      "        assert self._parent_pid == os.getpid(), 'can only test a child process'\n",
      "if w.is_alive():AssertionError<function _MultiProcessingDataLoaderIter.__del__ at 0x7ff350fffaf0>AssertionError: can only test a child process\n",
      "\n",
      "Traceback (most recent call last):\n",
      "  File \"/home-nfs/raphaelr/miniconda/lib/python3.8/site-packages/torch/utils/data/dataloader.py\", line 1358, in __del__\n",
      "    \n",
      "self._shutdown_workers()\n",
      "Exception ignored in:   File \"/home-nfs/raphaelr/miniconda/lib/python3.8/multiprocessing/process.py\", line 160, in is_alive\n",
      ":   File \"/home-nfs/raphaelr/miniconda/lib/python3.8/site-packages/torch/utils/data/dataloader.py\", line 1341, in _shutdown_workers\n",
      "<function _MultiProcessingDataLoaderIter.__del__ at 0x7ff350fffaf0>\n",
      "can only test a child process        Traceback (most recent call last):\n",
      "\n",
      "assert self._parent_pid == os.getpid(), 'can only test a child process'if w.is_alive():  File \"/home-nfs/raphaelr/miniconda/lib/python3.8/site-packages/torch/utils/data/dataloader.py\", line 1358, in __del__\n",
      "\n",
      "\n",
      "AssertionError  File \"/home-nfs/raphaelr/miniconda/lib/python3.8/multiprocessing/process.py\", line 160, in is_alive\n",
      "    :     self._shutdown_workers()can only test a child processException ignored in: assert self._parent_pid == os.getpid(), 'can only test a child process'\n",
      "<function _MultiProcessingDataLoaderIter.__del__ at 0x7ff350fffaf0>\n",
      "  File \"/home-nfs/raphaelr/miniconda/lib/python3.8/site-packages/torch/utils/data/dataloader.py\", line 1341, in _shutdown_workers\n",
      "\n",
      "\n",
      "AssertionErrorTraceback (most recent call last):\n",
      "    :   File \"/home-nfs/raphaelr/miniconda/lib/python3.8/site-packages/torch/utils/data/dataloader.py\", line 1358, in __del__\n",
      "if w.is_alive():can only test a child processException ignored in: \n",
      "    \n",
      "<function _MultiProcessingDataLoaderIter.__del__ at 0x7ff350fffaf0>self._shutdown_workers()\n",
      "  File \"/home-nfs/raphaelr/miniconda/lib/python3.8/multiprocessing/process.py\", line 160, in is_alive\n",
      "\n",
      "Traceback (most recent call last):\n",
      "  File \"/home-nfs/raphaelr/miniconda/lib/python3.8/site-packages/torch/utils/data/dataloader.py\", line 1341, in _shutdown_workers\n",
      "  File \"/home-nfs/raphaelr/miniconda/lib/python3.8/site-packages/torch/utils/data/dataloader.py\", line 1358, in __del__\n",
      "    assert self._parent_pid == os.getpid(), 'can only test a child process'        \n",
      "self._shutdown_workers()Exception ignored in: AssertionErrorif w.is_alive():\n",
      "<function _MultiProcessingDataLoaderIter.__del__ at 0x7ff350fffaf0>: \n",
      "  File \"/home-nfs/raphaelr/miniconda/lib/python3.8/site-packages/torch/utils/data/dataloader.py\", line 1341, in _shutdown_workers\n",
      "\n",
      "  File \"/home-nfs/raphaelr/miniconda/lib/python3.8/multiprocessing/process.py\", line 160, in is_alive\n",
      "Traceback (most recent call last):\n",
      "can only test a child process  File \"/home-nfs/raphaelr/miniconda/lib/python3.8/site-packages/torch/utils/data/dataloader.py\", line 1358, in __del__\n",
      "    \n",
      "    if w.is_alive():    \n",
      "self._shutdown_workers()  File \"/home-nfs/raphaelr/miniconda/lib/python3.8/multiprocessing/process.py\", line 160, in is_alive\n",
      "    Exception ignored in: assert self._parent_pid == os.getpid(), 'can only test a child process'<function _MultiProcessingDataLoaderIter.__del__ at 0x7ff350fffaf0>\n",
      "\n",
      "assert self._parent_pid == os.getpid(), 'can only test a child process'AssertionErrorTraceback (most recent call last):\n",
      "\n",
      ":   File \"/home-nfs/raphaelr/miniconda/lib/python3.8/site-packages/torch/utils/data/dataloader.py\", line 1358, in __del__\n"
     ]
    },
    {
     "name": "stderr",
     "output_type": "stream",
     "text": [
      "can only test a child processAssertionError\n",
      "    : self._shutdown_workers()can only test a child process\n",
      "\n",
      "  File \"/home-nfs/raphaelr/miniconda/lib/python3.8/site-packages/torch/utils/data/dataloader.py\", line 1341, in _shutdown_workers\n",
      "\n",
      "      File \"/home-nfs/raphaelr/miniconda/lib/python3.8/site-packages/torch/utils/data/dataloader.py\", line 1341, in _shutdown_workers\n",
      "if w.is_alive():Exception ignored in: \n",
      "<function _MultiProcessingDataLoaderIter.__del__ at 0x7ff350fffaf0>    \n",
      "  File \"/home-nfs/raphaelr/miniconda/lib/python3.8/multiprocessing/process.py\", line 160, in is_alive\n",
      "if w.is_alive():Traceback (most recent call last):\n",
      "\n",
      "      File \"/home-nfs/raphaelr/miniconda/lib/python3.8/site-packages/torch/utils/data/dataloader.py\", line 1358, in __del__\n",
      "assert self._parent_pid == os.getpid(), 'can only test a child process'  File \"/home-nfs/raphaelr/miniconda/lib/python3.8/multiprocessing/process.py\", line 160, in is_alive\n",
      "\n",
      "    AssertionErrorself._shutdown_workers()    Exception ignored in: : \n",
      "assert self._parent_pid == os.getpid(), 'can only test a child process'  File \"/home-nfs/raphaelr/miniconda/lib/python3.8/site-packages/torch/utils/data/dataloader.py\", line 1341, in _shutdown_workers\n",
      "can only test a child process<function _MultiProcessingDataLoaderIter.__del__ at 0x7ff350fffaf0>\n",
      "\n",
      "AssertionError    \n",
      ": if w.is_alive():\n",
      "can only test a child processTraceback (most recent call last):\n",
      "  File \"/home-nfs/raphaelr/miniconda/lib/python3.8/multiprocessing/process.py\", line 160, in is_alive\n",
      "  File \"/home-nfs/raphaelr/miniconda/lib/python3.8/site-packages/torch/utils/data/dataloader.py\", line 1358, in __del__\n",
      "\n",
      "    assert self._parent_pid == os.getpid(), 'can only test a child process'Exception ignored in: \n",
      "    <function _MultiProcessingDataLoaderIter.__del__ at 0x7ff350fffaf0>Exception ignored in: AssertionErrorself._shutdown_workers(): \n",
      "<function _MultiProcessingDataLoaderIter.__del__ at 0x7ff350fffaf0>can only test a child processTraceback (most recent call last):\n",
      "\n",
      "Traceback (most recent call last):\n",
      "\n",
      "  File \"/home-nfs/raphaelr/miniconda/lib/python3.8/site-packages/torch/utils/data/dataloader.py\", line 1358, in __del__\n",
      "  File \"/home-nfs/raphaelr/miniconda/lib/python3.8/site-packages/torch/utils/data/dataloader.py\", line 1358, in __del__\n",
      "\n",
      "          File \"/home-nfs/raphaelr/miniconda/lib/python3.8/site-packages/torch/utils/data/dataloader.py\", line 1341, in _shutdown_workers\n",
      "self._shutdown_workers()self._shutdown_workers()    \n",
      "if w.is_alive():\n",
      "  File \"/home-nfs/raphaelr/miniconda/lib/python3.8/site-packages/torch/utils/data/dataloader.py\", line 1341, in _shutdown_workers\n",
      "\n",
      "Exception ignored in:   File \"/home-nfs/raphaelr/miniconda/lib/python3.8/site-packages/torch/utils/data/dataloader.py\", line 1341, in _shutdown_workers\n",
      "  File \"/home-nfs/raphaelr/miniconda/lib/python3.8/multiprocessing/process.py\", line 160, in is_alive\n",
      "<function _MultiProcessingDataLoaderIter.__del__ at 0x7ff350fffaf0>    \n",
      "if w.is_alive():        Traceback (most recent call last):\n",
      "\n",
      "assert self._parent_pid == os.getpid(), 'can only test a child process'  File \"/home-nfs/raphaelr/miniconda/lib/python3.8/multiprocessing/process.py\", line 160, in is_alive\n",
      "  File \"/home-nfs/raphaelr/miniconda/lib/python3.8/site-packages/torch/utils/data/dataloader.py\", line 1358, in __del__\n",
      "if w.is_alive():\n",
      "    AssertionErrorassert self._parent_pid == os.getpid(), 'can only test a child process':     \n",
      "can only test a child processself._shutdown_workers()\n",
      "  File \"/home-nfs/raphaelr/miniconda/lib/python3.8/multiprocessing/process.py\", line 160, in is_alive\n",
      "\n",
      "\n",
      "AssertionError      File \"/home-nfs/raphaelr/miniconda/lib/python3.8/site-packages/torch/utils/data/dataloader.py\", line 1341, in _shutdown_workers\n",
      ": assert self._parent_pid == os.getpid(), 'can only test a child process'can only test a child process\n",
      "    \n",
      "AssertionError: Exception ignored in: if w.is_alive():<function _MultiProcessingDataLoaderIter.__del__ at 0x7ff350fffaf0>\n",
      "\n",
      "can only test a child process  File \"/home-nfs/raphaelr/miniconda/lib/python3.8/multiprocessing/process.py\", line 160, in is_alive\n",
      "  File \"/home-nfs/raphaelr/miniconda/lib/python3.8/site-packages/torch/utils/data/dataloader.py\", line 1358, in __del__\n",
      "    Traceback (most recent call last):\n",
      "\n",
      "    assert self._parent_pid == os.getpid(), 'can only test a child process'self._shutdown_workers()\n",
      "\n",
      "AssertionError  File \"/home-nfs/raphaelr/miniconda/lib/python3.8/site-packages/torch/utils/data/dataloader.py\", line 1341, in _shutdown_workers\n",
      ":     can only test a child processif w.is_alive():\n",
      "\n",
      "  File \"/home-nfs/raphaelr/miniconda/lib/python3.8/multiprocessing/process.py\", line 160, in is_alive\n",
      "    assert self._parent_pid == os.getpid(), 'can only test a child process'\n",
      "AssertionError: can only test a child process\n",
      "Exception ignored in: Exception ignored in: <function _MultiProcessingDataLoaderIter.__del__ at 0x7ff350fffaf0><function _MultiProcessingDataLoaderIter.__del__ at 0x7ff350fffaf0>\n",
      "Exception ignored in: \n",
      "<function _MultiProcessingDataLoaderIter.__del__ at 0x7ff350fffaf0>Traceback (most recent call last):\n",
      "Traceback (most recent call last):\n",
      "  File \"/home-nfs/raphaelr/miniconda/lib/python3.8/site-packages/torch/utils/data/dataloader.py\", line 1358, in __del__\n",
      "\n",
      "  File \"/home-nfs/raphaelr/miniconda/lib/python3.8/site-packages/torch/utils/data/dataloader.py\", line 1358, in __del__\n",
      "Traceback (most recent call last):\n",
      "  File \"/home-nfs/raphaelr/miniconda/lib/python3.8/site-packages/torch/utils/data/dataloader.py\", line 1358, in __del__\n",
      "    Exception ignored in:     self._shutdown_workers()    <function _MultiProcessingDataLoaderIter.__del__ at 0x7ff350fffaf0>self._shutdown_workers()\n",
      "self._shutdown_workers()\n",
      "\n",
      "\n",
      "  File \"/home-nfs/raphaelr/miniconda/lib/python3.8/site-packages/torch/utils/data/dataloader.py\", line 1341, in _shutdown_workers\n",
      "  File \"/home-nfs/raphaelr/miniconda/lib/python3.8/site-packages/torch/utils/data/dataloader.py\", line 1341, in _shutdown_workers\n",
      "Traceback (most recent call last):\n",
      "  File \"/home-nfs/raphaelr/miniconda/lib/python3.8/site-packages/torch/utils/data/dataloader.py\", line 1341, in _shutdown_workers\n",
      "  File \"/home-nfs/raphaelr/miniconda/lib/python3.8/site-packages/torch/utils/data/dataloader.py\", line 1358, in __del__\n",
      "        if w.is_alive():    if w.is_alive():    \n",
      "if w.is_alive():self._shutdown_workers()\n",
      "  File \"/home-nfs/raphaelr/miniconda/lib/python3.8/multiprocessing/process.py\", line 160, in is_alive\n",
      "\n",
      "\n",
      "  File \"/home-nfs/raphaelr/miniconda/lib/python3.8/multiprocessing/process.py\", line 160, in is_alive\n",
      "  File \"/home-nfs/raphaelr/miniconda/lib/python3.8/multiprocessing/process.py\", line 160, in is_alive\n",
      "  File \"/home-nfs/raphaelr/miniconda/lib/python3.8/site-packages/torch/utils/data/dataloader.py\", line 1341, in _shutdown_workers\n",
      "    assert self._parent_pid == os.getpid(), 'can only test a child process'    \n",
      "    assert self._parent_pid == os.getpid(), 'can only test a child process'    AssertionErrorassert self._parent_pid == os.getpid(), 'can only test a child process'\n",
      "if w.is_alive():: AssertionError\n",
      "\n",
      "can only test a child process: AssertionError  File \"/home-nfs/raphaelr/miniconda/lib/python3.8/multiprocessing/process.py\", line 160, in is_alive\n",
      "\n",
      "can only test a child process:     \n",
      "can only test a child processassert self._parent_pid == os.getpid(), 'can only test a child process'\n",
      "\n",
      "AssertionErrorException ignored in: : <function _MultiProcessingDataLoaderIter.__del__ at 0x7ff350fffaf0>Exception ignored in: can only test a child process\n",
      "<function _MultiProcessingDataLoaderIter.__del__ at 0x7ff350fffaf0>\n",
      "Traceback (most recent call last):\n",
      "Exception ignored in: \n",
      "<function _MultiProcessingDataLoaderIter.__del__ at 0x7ff350fffaf0>  File \"/home-nfs/raphaelr/miniconda/lib/python3.8/site-packages/torch/utils/data/dataloader.py\", line 1358, in __del__\n",
      "Traceback (most recent call last):\n",
      "\n",
      "  File \"/home-nfs/raphaelr/miniconda/lib/python3.8/site-packages/torch/utils/data/dataloader.py\", line 1358, in __del__\n",
      "Traceback (most recent call last):\n",
      "      File \"/home-nfs/raphaelr/miniconda/lib/python3.8/site-packages/torch/utils/data/dataloader.py\", line 1358, in __del__\n",
      "Exception ignored in: self._shutdown_workers()    <function _MultiProcessingDataLoaderIter.__del__ at 0x7ff350fffaf0>\n",
      "self._shutdown_workers()\n",
      "      File \"/home-nfs/raphaelr/miniconda/lib/python3.8/site-packages/torch/utils/data/dataloader.py\", line 1341, in _shutdown_workers\n",
      "\n",
      "Traceback (most recent call last):\n",
      "self._shutdown_workers()  File \"/home-nfs/raphaelr/miniconda/lib/python3.8/site-packages/torch/utils/data/dataloader.py\", line 1341, in _shutdown_workers\n",
      "  File \"/home-nfs/raphaelr/miniconda/lib/python3.8/site-packages/torch/utils/data/dataloader.py\", line 1358, in __del__\n",
      "    \n",
      "if w.is_alive():  File \"/home-nfs/raphaelr/miniconda/lib/python3.8/site-packages/torch/utils/data/dataloader.py\", line 1341, in _shutdown_workers\n",
      "    \n",
      "    if w.is_alive():  File \"/home-nfs/raphaelr/miniconda/lib/python3.8/multiprocessing/process.py\", line 160, in is_alive\n",
      "self._shutdown_workers()\n",
      "    \n",
      "  File \"/home-nfs/raphaelr/miniconda/lib/python3.8/multiprocessing/process.py\", line 160, in is_alive\n",
      "if w.is_alive():      File \"/home-nfs/raphaelr/miniconda/lib/python3.8/site-packages/torch/utils/data/dataloader.py\", line 1341, in _shutdown_workers\n",
      "\n",
      "assert self._parent_pid == os.getpid(), 'can only test a child process'      File \"/home-nfs/raphaelr/miniconda/lib/python3.8/multiprocessing/process.py\", line 160, in is_alive\n",
      "\n",
      "assert self._parent_pid == os.getpid(), 'can only test a child process'    AssertionError\n",
      "    if w.is_alive():: AssertionError\n",
      "assert self._parent_pid == os.getpid(), 'can only test a child process':   File \"/home-nfs/raphaelr/miniconda/lib/python3.8/multiprocessing/process.py\", line 160, in is_alive\n",
      "\n",
      "can only test a child processAssertionError\n",
      "    : assert self._parent_pid == os.getpid(), 'can only test a child process'can only test a child process\n",
      "\n",
      "AssertionError: can only test a child processException ignored in: can only test a child process\n",
      "<function _MultiProcessingDataLoaderIter.__del__ at 0x7ff350fffaf0>\n",
      "Exception ignored in: \n",
      "<function _MultiProcessingDataLoaderIter.__del__ at 0x7ff350fffaf0>Traceback (most recent call last):\n",
      "\n",
      "  File \"/home-nfs/raphaelr/miniconda/lib/python3.8/site-packages/torch/utils/data/dataloader.py\", line 1358, in __del__\n",
      "Traceback (most recent call last):\n",
      "Exception ignored in: Exception ignored in:   File \"/home-nfs/raphaelr/miniconda/lib/python3.8/site-packages/torch/utils/data/dataloader.py\", line 1358, in __del__\n",
      "<function _MultiProcessingDataLoaderIter.__del__ at 0x7ff350fffaf0>    <function _MultiProcessingDataLoaderIter.__del__ at 0x7ff350fffaf0>\n",
      "self._shutdown_workers()\n",
      "    Traceback (most recent call last):\n",
      "\n",
      "Traceback (most recent call last):\n",
      "  File \"/home-nfs/raphaelr/miniconda/lib/python3.8/site-packages/torch/utils/data/dataloader.py\", line 1358, in __del__\n",
      "self._shutdown_workers()  File \"/home-nfs/raphaelr/miniconda/lib/python3.8/site-packages/torch/utils/data/dataloader.py\", line 1341, in _shutdown_workers\n",
      "  File \"/home-nfs/raphaelr/miniconda/lib/python3.8/site-packages/torch/utils/data/dataloader.py\", line 1358, in __del__\n",
      "\n",
      "  File \"/home-nfs/raphaelr/miniconda/lib/python3.8/site-packages/torch/utils/data/dataloader.py\", line 1341, in _shutdown_workers\n",
      "            self._shutdown_workers()if w.is_alive():self._shutdown_workers()\n",
      "    \n",
      "\n",
      "  File \"/home-nfs/raphaelr/miniconda/lib/python3.8/site-packages/torch/utils/data/dataloader.py\", line 1341, in _shutdown_workers\n",
      "if w.is_alive():  File \"/home-nfs/raphaelr/miniconda/lib/python3.8/multiprocessing/process.py\", line 160, in is_alive\n",
      "  File \"/home-nfs/raphaelr/miniconda/lib/python3.8/site-packages/torch/utils/data/dataloader.py\", line 1341, in _shutdown_workers\n",
      "\n",
      "  File \"/home-nfs/raphaelr/miniconda/lib/python3.8/multiprocessing/process.py\", line 160, in is_alive\n",
      "            if w.is_alive():assert self._parent_pid == os.getpid(), 'can only test a child process'    if w.is_alive():\n",
      "\n",
      "assert self._parent_pid == os.getpid(), 'can only test a child process'\n",
      "  File \"/home-nfs/raphaelr/miniconda/lib/python3.8/multiprocessing/process.py\", line 160, in is_alive\n",
      "AssertionError\n",
      "  File \"/home-nfs/raphaelr/miniconda/lib/python3.8/multiprocessing/process.py\", line 160, in is_alive\n",
      ":     AssertionErrorcan only test a child process    assert self._parent_pid == os.getpid(), 'can only test a child process': \n",
      "assert self._parent_pid == os.getpid(), 'can only test a child process'can only test a child process\n",
      "\n",
      "\n",
      "AssertionErrorAssertionError: : can only test a child processcan only test a child process\n",
      "\n",
      "Exception ignored in: Exception ignored in: <function _MultiProcessingDataLoaderIter.__del__ at 0x7ff350fffaf0>\n",
      "Traceback (most recent call last):\n",
      "<function _MultiProcessingDataLoaderIter.__del__ at 0x7ff350fffaf0>Exception ignored in: Exception ignored in: \n",
      "  File \"/home-nfs/raphaelr/miniconda/lib/python3.8/site-packages/torch/utils/data/dataloader.py\", line 1358, in __del__\n",
      "<function _MultiProcessingDataLoaderIter.__del__ at 0x7ff350fffaf0><function _MultiProcessingDataLoaderIter.__del__ at 0x7ff350fffaf0>Traceback (most recent call last):\n",
      "\n",
      "\n",
      "  File \"/home-nfs/raphaelr/miniconda/lib/python3.8/site-packages/torch/utils/data/dataloader.py\", line 1358, in __del__\n",
      "Traceback (most recent call last):\n",
      "Traceback (most recent call last):\n",
      "  File \"/home-nfs/raphaelr/miniconda/lib/python3.8/site-packages/torch/utils/data/dataloader.py\", line 1358, in __del__\n",
      "  File \"/home-nfs/raphaelr/miniconda/lib/python3.8/site-packages/torch/utils/data/dataloader.py\", line 1358, in __del__\n",
      "    self._shutdown_workers()\n",
      "  File \"/home-nfs/raphaelr/miniconda/lib/python3.8/site-packages/torch/utils/data/dataloader.py\", line 1341, in _shutdown_workers\n",
      "    self._shutdown_workers()        \n",
      "    self._shutdown_workers()self._shutdown_workers()if w.is_alive():  File \"/home-nfs/raphaelr/miniconda/lib/python3.8/site-packages/torch/utils/data/dataloader.py\", line 1341, in _shutdown_workers\n",
      "\n",
      "\n",
      "\n",
      "  File \"/home-nfs/raphaelr/miniconda/lib/python3.8/site-packages/torch/utils/data/dataloader.py\", line 1341, in _shutdown_workers\n",
      "  File \"/home-nfs/raphaelr/miniconda/lib/python3.8/site-packages/torch/utils/data/dataloader.py\", line 1341, in _shutdown_workers\n",
      "  File \"/home-nfs/raphaelr/miniconda/lib/python3.8/multiprocessing/process.py\", line 160, in is_alive\n",
      "    if w.is_alive():            \n",
      "assert self._parent_pid == os.getpid(), 'can only test a child process'if w.is_alive():if w.is_alive():  File \"/home-nfs/raphaelr/miniconda/lib/python3.8/multiprocessing/process.py\", line 160, in is_alive\n",
      "\n",
      "\n",
      "\n",
      "AssertionError  File \"/home-nfs/raphaelr/miniconda/lib/python3.8/multiprocessing/process.py\", line 160, in is_alive\n",
      "  File \"/home-nfs/raphaelr/miniconda/lib/python3.8/multiprocessing/process.py\", line 160, in is_alive\n",
      "    : assert self._parent_pid == os.getpid(), 'can only test a child process'    can only test a child process    \n",
      "assert self._parent_pid == os.getpid(), 'can only test a child process'\n",
      "assert self._parent_pid == os.getpid(), 'can only test a child process'AssertionError\n",
      "\n",
      ": AssertionErrorAssertionErrorcan only test a child process: : \n",
      "can only test a child processcan only test a child processException ignored in: \n",
      "\n",
      "<function _MultiProcessingDataLoaderIter.__del__ at 0x7ff350fffaf0>\n",
      "Traceback (most recent call last):\n",
      "  File \"/home-nfs/raphaelr/miniconda/lib/python3.8/site-packages/torch/utils/data/dataloader.py\", line 1358, in __del__\n",
      "Exception ignored in: Exception ignored in: Exception ignored in: <function _MultiProcessingDataLoaderIter.__del__ at 0x7ff350fffaf0><function _MultiProcessingDataLoaderIter.__del__ at 0x7ff350fffaf0><function _MultiProcessingDataLoaderIter.__del__ at 0x7ff350fffaf0>    \n",
      "\n",
      "\n",
      "Traceback (most recent call last):\n",
      "self._shutdown_workers()Traceback (most recent call last):\n",
      "Traceback (most recent call last):\n",
      "  File \"/home-nfs/raphaelr/miniconda/lib/python3.8/site-packages/torch/utils/data/dataloader.py\", line 1358, in __del__\n",
      "\n",
      "  File \"/home-nfs/raphaelr/miniconda/lib/python3.8/site-packages/torch/utils/data/dataloader.py\", line 1358, in __del__\n",
      "  File \"/home-nfs/raphaelr/miniconda/lib/python3.8/site-packages/torch/utils/data/dataloader.py\", line 1358, in __del__\n",
      "  File \"/home-nfs/raphaelr/miniconda/lib/python3.8/site-packages/torch/utils/data/dataloader.py\", line 1341, in _shutdown_workers\n"
     ]
    },
    {
     "name": "stderr",
     "output_type": "stream",
     "text": [
      "            self._shutdown_workers()    self._shutdown_workers()\n",
      "self._shutdown_workers()if w.is_alive():\n",
      "  File \"/home-nfs/raphaelr/miniconda/lib/python3.8/site-packages/torch/utils/data/dataloader.py\", line 1341, in _shutdown_workers\n",
      "\n",
      "\n",
      "  File \"/home-nfs/raphaelr/miniconda/lib/python3.8/site-packages/torch/utils/data/dataloader.py\", line 1341, in _shutdown_workers\n",
      "  File \"/home-nfs/raphaelr/miniconda/lib/python3.8/site-packages/torch/utils/data/dataloader.py\", line 1341, in _shutdown_workers\n",
      "  File \"/home-nfs/raphaelr/miniconda/lib/python3.8/multiprocessing/process.py\", line 160, in is_alive\n",
      "                if w.is_alive():assert self._parent_pid == os.getpid(), 'can only test a child process'if w.is_alive():if w.is_alive():\n",
      "\n",
      "\n",
      "\n",
      "  File \"/home-nfs/raphaelr/miniconda/lib/python3.8/multiprocessing/process.py\", line 160, in is_alive\n",
      "AssertionError  File \"/home-nfs/raphaelr/miniconda/lib/python3.8/multiprocessing/process.py\", line 160, in is_alive\n",
      "  File \"/home-nfs/raphaelr/miniconda/lib/python3.8/multiprocessing/process.py\", line 160, in is_alive\n",
      ":             can only test a child processassert self._parent_pid == os.getpid(), 'can only test a child process'assert self._parent_pid == os.getpid(), 'can only test a child process'assert self._parent_pid == os.getpid(), 'can only test a child process'\n",
      "\n",
      "\n",
      "\n",
      "AssertionErrorAssertionErrorAssertionError: : : can only test a child processcan only test a child processcan only test a child process\n",
      "\n",
      "Exception ignored in: <function _MultiProcessingDataLoaderIter.__del__ at 0x7ff350fffaf0>\n",
      "\n",
      "Traceback (most recent call last):\n",
      "  File \"/home-nfs/raphaelr/miniconda/lib/python3.8/site-packages/torch/utils/data/dataloader.py\", line 1358, in __del__\n",
      "Exception ignored in: Exception ignored in: <function _MultiProcessingDataLoaderIter.__del__ at 0x7ff350fffaf0><function _MultiProcessingDataLoaderIter.__del__ at 0x7ff350fffaf0>Exception ignored in: \n",
      "    \n",
      "<function _MultiProcessingDataLoaderIter.__del__ at 0x7ff350fffaf0>Traceback (most recent call last):\n",
      "self._shutdown_workers()Traceback (most recent call last):\n",
      "  File \"/home-nfs/raphaelr/miniconda/lib/python3.8/site-packages/torch/utils/data/dataloader.py\", line 1358, in __del__\n",
      "\n",
      "\n",
      "  File \"/home-nfs/raphaelr/miniconda/lib/python3.8/site-packages/torch/utils/data/dataloader.py\", line 1358, in __del__\n",
      "Traceback (most recent call last):\n",
      "  File \"/home-nfs/raphaelr/miniconda/lib/python3.8/site-packages/torch/utils/data/dataloader.py\", line 1341, in _shutdown_workers\n",
      "      File \"/home-nfs/raphaelr/miniconda/lib/python3.8/site-packages/torch/utils/data/dataloader.py\", line 1358, in __del__\n",
      "    self._shutdown_workers()    self._shutdown_workers()\n",
      "    if w.is_alive():\n",
      "  File \"/home-nfs/raphaelr/miniconda/lib/python3.8/site-packages/torch/utils/data/dataloader.py\", line 1341, in _shutdown_workers\n",
      "self._shutdown_workers()\n",
      "  File \"/home-nfs/raphaelr/miniconda/lib/python3.8/site-packages/torch/utils/data/dataloader.py\", line 1341, in _shutdown_workers\n",
      "\n",
      "  File \"/home-nfs/raphaelr/miniconda/lib/python3.8/multiprocessing/process.py\", line 160, in is_alive\n",
      "      File \"/home-nfs/raphaelr/miniconda/lib/python3.8/site-packages/torch/utils/data/dataloader.py\", line 1341, in _shutdown_workers\n",
      "    if w.is_alive():    if w.is_alive():\n",
      "    assert self._parent_pid == os.getpid(), 'can only test a child process'\n",
      "if w.is_alive():\n",
      "  File \"/home-nfs/raphaelr/miniconda/lib/python3.8/multiprocessing/process.py\", line 160, in is_alive\n",
      "  File \"/home-nfs/raphaelr/miniconda/lib/python3.8/multiprocessing/process.py\", line 160, in is_alive\n",
      "\n",
      "AssertionError  File \"/home-nfs/raphaelr/miniconda/lib/python3.8/multiprocessing/process.py\", line 160, in is_alive\n",
      "    :     assert self._parent_pid == os.getpid(), 'can only test a child process'can only test a child processassert self._parent_pid == os.getpid(), 'can only test a child process'    \n",
      "\n",
      "\n",
      "assert self._parent_pid == os.getpid(), 'can only test a child process'AssertionError\n",
      "AssertionError: : can only test a child processAssertionErrorcan only test a child process\n",
      ": \n",
      "can only test a child process\n"
     ]
    },
    {
     "name": "stdout",
     "output_type": "stream",
     "text": [
      "----- Epoch = 8 -----\n",
      "Val loss = 0.5009\n",
      "Val acc = 0.8391\n",
      "\n",
      "New best epoch, acc = 0.8391\n",
      "\n"
     ]
    },
    {
     "data": {
      "application/vnd.jupyter.widget-view+json": {
       "model_id": "c64f45e0e4e84255b92e446ce42d601f",
       "version_major": 2,
       "version_minor": 0
      },
      "text/plain": [
       "Training loop:   0%|          | 0/390 [00:00<?, ?it/s]"
      ]
     },
     "metadata": {},
     "output_type": "display_data"
    },
    {
     "name": "stdout",
     "output_type": "stream",
     "text": [
      "----- Epoch = 9 -----\n",
      "Val loss = 0.5013\n",
      "Val acc = 0.8427\n",
      "\n",
      "New best epoch, acc = 0.8427\n",
      "\n"
     ]
    },
    {
     "data": {
      "application/vnd.jupyter.widget-view+json": {
       "model_id": "58b16909d7724c94a55fa71fc4249197",
       "version_major": 2,
       "version_minor": 0
      },
      "text/plain": [
       "Training loop:   0%|          | 0/390 [00:00<?, ?it/s]"
      ]
     },
     "metadata": {},
     "output_type": "display_data"
    },
    {
     "name": "stdout",
     "output_type": "stream",
     "text": [
      "----- Epoch = 10 -----\n",
      "Val loss = 0.5100\n",
      "Val acc = 0.8457\n",
      "\n",
      "New best epoch, acc = 0.8457\n",
      "\n"
     ]
    },
    {
     "data": {
      "application/vnd.jupyter.widget-view+json": {
       "model_id": "f6adaaa771564a71889e2ee744a86413",
       "version_major": 2,
       "version_minor": 0
      },
      "text/plain": [
       "Training loop:   0%|          | 0/390 [00:00<?, ?it/s]"
      ]
     },
     "metadata": {},
     "output_type": "display_data"
    },
    {
     "name": "stdout",
     "output_type": "stream",
     "text": [
      "----- Epoch = 11 -----\n",
      "Val loss = 0.5394\n",
      "Val acc = 0.8492\n",
      "\n",
      "New best epoch, acc = 0.8492\n",
      "\n"
     ]
    },
    {
     "data": {
      "application/vnd.jupyter.widget-view+json": {
       "model_id": "f09592d156d0496087433fa103087a45",
       "version_major": 2,
       "version_minor": 0
      },
      "text/plain": [
       "Training loop:   0%|          | 0/390 [00:00<?, ?it/s]"
      ]
     },
     "metadata": {},
     "output_type": "display_data"
    },
    {
     "name": "stdout",
     "output_type": "stream",
     "text": [
      "----- Epoch = 12 -----\n",
      "Val loss = 0.5839\n",
      "Val acc = 0.8427\n"
     ]
    },
    {
     "data": {
      "application/vnd.jupyter.widget-view+json": {
       "model_id": "0c9118a4a72b4d4d811491f097d05029",
       "version_major": 2,
       "version_minor": 0
      },
      "text/plain": [
       "Training loop:   0%|          | 0/390 [00:00<?, ?it/s]"
      ]
     },
     "metadata": {},
     "output_type": "display_data"
    },
    {
     "name": "stdout",
     "output_type": "stream",
     "text": [
      "----- Epoch = 13 -----\n",
      "Val loss = 0.6600\n",
      "Val acc = 0.8372\n"
     ]
    },
    {
     "data": {
      "application/vnd.jupyter.widget-view+json": {
       "model_id": "947a8799725f4458822fa06436151be2",
       "version_major": 2,
       "version_minor": 0
      },
      "text/plain": [
       "Training loop:   0%|          | 0/390 [00:00<?, ?it/s]"
      ]
     },
     "metadata": {},
     "output_type": "display_data"
    },
    {
     "name": "stdout",
     "output_type": "stream",
     "text": [
      "----- Epoch = 14 -----\n",
      "Val loss = 0.5954\n",
      "Val acc = 0.8529\n",
      "\n",
      "New best epoch, acc = 0.8529\n",
      "\n"
     ]
    },
    {
     "data": {
      "application/vnd.jupyter.widget-view+json": {
       "model_id": "dc6c14ef85eb44a6986018d20ea3dde1",
       "version_major": 2,
       "version_minor": 0
      },
      "text/plain": [
       "Training loop:   0%|          | 0/390 [00:00<?, ?it/s]"
      ]
     },
     "metadata": {},
     "output_type": "display_data"
    },
    {
     "name": "stderr",
     "output_type": "stream",
     "text": [
      "Exception ignored in: \n",
      "<function _MultiProcessingDataLoaderIter.__del__ at 0x7ff350fffaf0>Traceback (most recent call last):\n",
      "  File \"/home-nfs/raphaelr/miniconda/lib/python3.8/site-packages/torch/utils/data/dataloader.py\", line 1358, in __del__\n",
      "self._shutdown_workers()    \n",
      "  File \"/home-nfs/raphaelr/miniconda/lib/python3.8/site-packages/torch/utils/data/dataloader.py\", line 1341, in _shutdown_workers\n",
      "    if w.is_alive():\n",
      "  File \"/home-nfs/raphaelr/miniconda/lib/python3.8/multiprocessing/process.py\", line 160, in is_alive\n",
      "    assert self._parent_pid == os.getpid(), 'can only test a child process'\n",
      "AssertionError: can only test a child process\n",
      "Exception ignored in: <function _MultiProcessingDataLoaderIter.__del__ at 0x7ff350fffaf0>\n",
      "Traceback (most recent call last):\n",
      "  File \"/home-nfs/raphaelr/miniconda/lib/python3.8/site-packages/torch/utils/data/dataloader.py\", line 1358, in __del__\n",
      "    self._shutdown_workers()\n",
      "  File \"/home-nfs/raphaelr/miniconda/lib/python3.8/site-packages/torch/utils/data/dataloader.py\", line 1341, in _shutdown_workers\n",
      "    if w.is_alive():\n",
      "  File \"/home-nfs/raphaelr/miniconda/lib/python3.8/multiprocessing/process.py\", line 160, in is_alive\n",
      "    assert self._parent_pid == os.getpid(), 'can only test a child process'\n",
      "AssertionError: can only test a child process\n",
      "Exception ignored in: <function _MultiProcessingDataLoaderIter.__del__ at 0x7ff350fffaf0>\n",
      "Traceback (most recent call last):\n",
      "  File \"/home-nfs/raphaelr/miniconda/lib/python3.8/site-packages/torch/utils/data/dataloader.py\", line 1358, in __del__\n",
      "    self._shutdown_workers()\n",
      "  File \"/home-nfs/raphaelr/miniconda/lib/python3.8/site-packages/torch/utils/data/dataloader.py\", line 1341, in _shutdown_workers\n",
      "    if w.is_alive():\n",
      "  File \"/home-nfs/raphaelr/miniconda/lib/python3.8/multiprocessing/process.py\", line 160, in is_alive\n",
      "    assert self._parent_pid == os.getpid(), 'can only test a child process'\n",
      "AssertionError: can only test a child process\n",
      "Exception ignored in: <function _MultiProcessingDataLoaderIter.__del__ at 0x7ff350fffaf0>\n",
      "Exception ignored in: Traceback (most recent call last):\n",
      "<function _MultiProcessingDataLoaderIter.__del__ at 0x7ff350fffaf0>Exception ignored in: \n",
      "Exception ignored in: <function _MultiProcessingDataLoaderIter.__del__ at 0x7ff350fffaf0>Traceback (most recent call last):\n",
      "\n",
      "  File \"/home-nfs/raphaelr/miniconda/lib/python3.8/site-packages/torch/utils/data/dataloader.py\", line 1358, in __del__\n",
      "<function _MultiProcessingDataLoaderIter.__del__ at 0x7ff350fffaf0>Traceback (most recent call last):\n",
      "  File \"/home-nfs/raphaelr/miniconda/lib/python3.8/site-packages/torch/utils/data/dataloader.py\", line 1358, in __del__\n",
      "    self._shutdown_workers()\n",
      "      File \"/home-nfs/raphaelr/miniconda/lib/python3.8/site-packages/torch/utils/data/dataloader.py\", line 1341, in _shutdown_workers\n",
      "self._shutdown_workers()Exception ignored in: \n",
      "      File \"/home-nfs/raphaelr/miniconda/lib/python3.8/site-packages/torch/utils/data/dataloader.py\", line 1358, in __del__\n",
      "  File \"/home-nfs/raphaelr/miniconda/lib/python3.8/site-packages/torch/utils/data/dataloader.py\", line 1341, in _shutdown_workers\n",
      "<function _MultiProcessingDataLoaderIter.__del__ at 0x7ff350fffaf0>if w.is_alive():\n",
      "    self._shutdown_workers()  File \"/home-nfs/raphaelr/miniconda/lib/python3.8/multiprocessing/process.py\", line 160, in is_alive\n",
      "\n",
      "      File \"/home-nfs/raphaelr/miniconda/lib/python3.8/site-packages/torch/utils/data/dataloader.py\", line 1341, in _shutdown_workers\n",
      "assert self._parent_pid == os.getpid(), 'can only test a child process'\n",
      "    AssertionErrorif w.is_alive():\n",
      ":   File \"/home-nfs/raphaelr/miniconda/lib/python3.8/multiprocessing/process.py\", line 160, in is_alive\n",
      "can only test a child process\n",
      "    assert self._parent_pid == os.getpid(), 'can only test a child process'\n",
      "\n",
      "AssertionErrorTraceback (most recent call last):\n",
      ":     if w.is_alive():  File \"/home-nfs/raphaelr/miniconda/lib/python3.8/site-packages/torch/utils/data/dataloader.py\", line 1358, in __del__\n",
      "can only test a child process\n",
      "\n",
      "  File \"/home-nfs/raphaelr/miniconda/lib/python3.8/multiprocessing/process.py\", line 160, in is_alive\n",
      "    Exception ignored in:     <function _MultiProcessingDataLoaderIter.__del__ at 0x7ff350fffaf0>self._shutdown_workers()Exception ignored in:   File \"/home-nfs/raphaelr/miniconda/lib/python3.8/multiprocessing/process.py\", line 160, in is_alive\n",
      "<function _MultiProcessingDataLoaderIter.__del__ at 0x7ff350fffaf0>\n",
      "\n",
      "Traceback (most recent call last):\n",
      "Traceback (most recent call last):\n",
      "  File \"/home-nfs/raphaelr/miniconda/lib/python3.8/site-packages/torch/utils/data/dataloader.py\", line 1358, in __del__\n",
      "  File \"/home-nfs/raphaelr/miniconda/lib/python3.8/site-packages/torch/utils/data/dataloader.py\", line 1358, in __del__\n",
      "        \n",
      "self._shutdown_workers()self._shutdown_workers()  File \"/home-nfs/raphaelr/miniconda/lib/python3.8/site-packages/torch/utils/data/dataloader.py\", line 1341, in _shutdown_workers\n",
      "\n",
      "\n",
      "  File \"/home-nfs/raphaelr/miniconda/lib/python3.8/site-packages/torch/utils/data/dataloader.py\", line 1341, in _shutdown_workers\n",
      "  File \"/home-nfs/raphaelr/miniconda/lib/python3.8/site-packages/torch/utils/data/dataloader.py\", line 1341, in _shutdown_workers\n",
      "\n",
      "    Traceback (most recent call last):\n",
      "        if w.is_alive():  File \"/home-nfs/raphaelr/miniconda/lib/python3.8/site-packages/torch/utils/data/dataloader.py\", line 1358, in __del__\n",
      "if w.is_alive():\n",
      "if w.is_alive():assert self._parent_pid == os.getpid(), 'can only test a child process'\n",
      "  File \"/home-nfs/raphaelr/miniconda/lib/python3.8/multiprocessing/process.py\", line 160, in is_alive\n",
      "\n",
      "  File \"/home-nfs/raphaelr/miniconda/lib/python3.8/multiprocessing/process.py\", line 160, in is_alive\n",
      "\n",
      "AssertionError            assert self._parent_pid == os.getpid(), 'can only test a child process'self._shutdown_workers()assert self._parent_pid == os.getpid(), 'can only test a child process'    \n",
      "\n",
      ":   File \"/home-nfs/raphaelr/miniconda/lib/python3.8/site-packages/torch/utils/data/dataloader.py\", line 1341, in _shutdown_workers\n",
      "AssertionError\n",
      ": AssertionErrorcan only test a child processcan only test a child process: \n",
      "\n",
      "can only test a child process    if w.is_alive():assert self._parent_pid == os.getpid(), 'can only test a child process'\n",
      "\n",
      "Exception ignored in: \n",
      "<function _MultiProcessingDataLoaderIter.__del__ at 0x7ff350fffaf0>\n",
      "AssertionErrorTraceback (most recent call last):\n",
      ":   File \"/home-nfs/raphaelr/miniconda/lib/python3.8/site-packages/torch/utils/data/dataloader.py\", line 1358, in __del__\n",
      "can only test a child process\n",
      "Exception ignored in:     Exception ignored in: <function _MultiProcessingDataLoaderIter.__del__ at 0x7ff350fffaf0>Exception ignored in:   File \"/home-nfs/raphaelr/miniconda/lib/python3.8/multiprocessing/process.py\", line 160, in is_alive\n",
      "self._shutdown_workers()<function _MultiProcessingDataLoaderIter.__del__ at 0x7ff350fffaf0>\n",
      "\n",
      "Traceback (most recent call last):\n",
      "\n",
      "  File \"/home-nfs/raphaelr/miniconda/lib/python3.8/site-packages/torch/utils/data/dataloader.py\", line 1341, in _shutdown_workers\n",
      "Traceback (most recent call last):\n",
      "  File \"/home-nfs/raphaelr/miniconda/lib/python3.8/site-packages/torch/utils/data/dataloader.py\", line 1358, in __del__\n",
      "              File \"/home-nfs/raphaelr/miniconda/lib/python3.8/site-packages/torch/utils/data/dataloader.py\", line 1358, in __del__\n",
      "assert self._parent_pid == os.getpid(), 'can only test a child process'if w.is_alive():self._shutdown_workers()<function _MultiProcessingDataLoaderIter.__del__ at 0x7ff350fffaf0>\n",
      "\n",
      "    \n",
      "self._shutdown_workers()AssertionError\n",
      ":   File \"/home-nfs/raphaelr/miniconda/lib/python3.8/site-packages/torch/utils/data/dataloader.py\", line 1341, in _shutdown_workers\n",
      "can only test a child processTraceback (most recent call last):\n",
      "  File \"/home-nfs/raphaelr/miniconda/lib/python3.8/site-packages/torch/utils/data/dataloader.py\", line 1358, in __del__\n",
      "\n",
      "        if w.is_alive():self._shutdown_workers()\n",
      "\n",
      "  File \"/home-nfs/raphaelr/miniconda/lib/python3.8/multiprocessing/process.py\", line 160, in is_alive\n",
      "  File \"/home-nfs/raphaelr/miniconda/lib/python3.8/site-packages/torch/utils/data/dataloader.py\", line 1341, in _shutdown_workers\n",
      "Exception ignored in: <function _MultiProcessingDataLoaderIter.__del__ at 0x7ff350fffaf0>\n",
      "\n",
      "  File \"/home-nfs/raphaelr/miniconda/lib/python3.8/site-packages/torch/utils/data/dataloader.py\", line 1341, in _shutdown_workers\n",
      "Traceback (most recent call last):\n",
      "  File \"/home-nfs/raphaelr/miniconda/lib/python3.8/site-packages/torch/utils/data/dataloader.py\", line 1358, in __del__\n",
      "  File \"/home-nfs/raphaelr/miniconda/lib/python3.8/multiprocessing/process.py\", line 160, in is_alive\n",
      "            if w.is_alive():assert self._parent_pid == os.getpid(), 'can only test a child process'\n",
      "  File \"/home-nfs/raphaelr/miniconda/lib/python3.8/multiprocessing/process.py\", line 160, in is_alive\n",
      "\n",
      "        AssertionErrorassert self._parent_pid == os.getpid(), 'can only test a child process'self._shutdown_workers(): \n",
      "\n",
      "can only test a child processAssertionError      File \"/home-nfs/raphaelr/miniconda/lib/python3.8/site-packages/torch/utils/data/dataloader.py\", line 1341, in _shutdown_workers\n",
      "assert self._parent_pid == os.getpid(), 'can only test a child process': \n",
      "\n",
      "if w.is_alive():    AssertionError\n",
      "can only test a child processif w.is_alive():\n",
      ": \n",
      "  File \"/home-nfs/raphaelr/miniconda/lib/python3.8/multiprocessing/process.py\", line 160, in is_alive\n",
      "can only test a child process  File \"/home-nfs/raphaelr/miniconda/lib/python3.8/multiprocessing/process.py\", line 160, in is_alive\n",
      "\n",
      "        assert self._parent_pid == os.getpid(), 'can only test a child process'\n",
      "Exception ignored in: AssertionError<function _MultiProcessingDataLoaderIter.__del__ at 0x7ff350fffaf0>: Exception ignored in: \n",
      "can only test a child processassert self._parent_pid == os.getpid(), 'can only test a child process'<function _MultiProcessingDataLoaderIter.__del__ at 0x7ff350fffaf0>Traceback (most recent call last):\n",
      "\n",
      "\n",
      "\n",
      "  File \"/home-nfs/raphaelr/miniconda/lib/python3.8/site-packages/torch/utils/data/dataloader.py\", line 1358, in __del__\n",
      "AssertionErrorTraceback (most recent call last):\n",
      ":   File \"/home-nfs/raphaelr/miniconda/lib/python3.8/site-packages/torch/utils/data/dataloader.py\", line 1358, in __del__\n",
      "can only test a child process    \n",
      "self._shutdown_workers()    Exception ignored in: \n",
      "self._shutdown_workers()<function _MultiProcessingDataLoaderIter.__del__ at 0x7ff350fffaf0>  File \"/home-nfs/raphaelr/miniconda/lib/python3.8/site-packages/torch/utils/data/dataloader.py\", line 1341, in _shutdown_workers\n",
      "\n",
      "\n",
      "  File \"/home-nfs/raphaelr/miniconda/lib/python3.8/site-packages/torch/utils/data/dataloader.py\", line 1341, in _shutdown_workers\n",
      "Traceback (most recent call last):\n",
      "    Exception ignored in:   File \"/home-nfs/raphaelr/miniconda/lib/python3.8/site-packages/torch/utils/data/dataloader.py\", line 1358, in __del__\n",
      "<function _MultiProcessingDataLoaderIter.__del__ at 0x7ff350fffaf0>    if w.is_alive():\n",
      "if w.is_alive():\n",
      "    Traceback (most recent call last):\n",
      "\n",
      "  File \"/home-nfs/raphaelr/miniconda/lib/python3.8/multiprocessing/process.py\", line 160, in is_alive\n",
      "self._shutdown_workers()  File \"/home-nfs/raphaelr/miniconda/lib/python3.8/site-packages/torch/utils/data/dataloader.py\", line 1358, in __del__\n",
      "  File \"/home-nfs/raphaelr/miniconda/lib/python3.8/multiprocessing/process.py\", line 160, in is_alive\n",
      "\n",
      "      File \"/home-nfs/raphaelr/miniconda/lib/python3.8/site-packages/torch/utils/data/dataloader.py\", line 1341, in _shutdown_workers\n",
      "        assert self._parent_pid == os.getpid(), 'can only test a child process'assert self._parent_pid == os.getpid(), 'can only test a child process'self._shutdown_workers()\n",
      "    \n",
      "\n",
      "AssertionErrorif w.is_alive():AssertionError  File \"/home-nfs/raphaelr/miniconda/lib/python3.8/site-packages/torch/utils/data/dataloader.py\", line 1341, in _shutdown_workers\n",
      ": \n",
      "can only test a child process:   File \"/home-nfs/raphaelr/miniconda/lib/python3.8/multiprocessing/process.py\", line 160, in is_alive\n",
      "    can only test a child process\n",
      "if w.is_alive():\n",
      "    \n",
      "assert self._parent_pid == os.getpid(), 'can only test a child process'  File \"/home-nfs/raphaelr/miniconda/lib/python3.8/multiprocessing/process.py\", line 160, in is_alive\n",
      "\n",
      "AssertionError: Exception ignored in: can only test a child process    Exception ignored in: <function _MultiProcessingDataLoaderIter.__del__ at 0x7ff350fffaf0>\n",
      "assert self._parent_pid == os.getpid(), 'can only test a child process'<function _MultiProcessingDataLoaderIter.__del__ at 0x7ff350fffaf0>\n",
      "\n",
      "\n",
      "Traceback (most recent call last):\n",
      "Traceback (most recent call last):\n",
      "AssertionError  File \"/home-nfs/raphaelr/miniconda/lib/python3.8/site-packages/torch/utils/data/dataloader.py\", line 1358, in __del__\n",
      "  File \"/home-nfs/raphaelr/miniconda/lib/python3.8/site-packages/torch/utils/data/dataloader.py\", line 1358, in __del__\n",
      ": can only test a child processException ignored in:         \n",
      "<function _MultiProcessingDataLoaderIter.__del__ at 0x7ff350fffaf0>self._shutdown_workers()self._shutdown_workers()\n",
      "\n",
      "\n",
      "Traceback (most recent call last):\n",
      "  File \"/home-nfs/raphaelr/miniconda/lib/python3.8/site-packages/torch/utils/data/dataloader.py\", line 1341, in _shutdown_workers\n",
      "  File \"/home-nfs/raphaelr/miniconda/lib/python3.8/site-packages/torch/utils/data/dataloader.py\", line 1341, in _shutdown_workers\n",
      "  File \"/home-nfs/raphaelr/miniconda/lib/python3.8/site-packages/torch/utils/data/dataloader.py\", line 1358, in __del__\n",
      "Exception ignored in:             if w.is_alive():<function _MultiProcessingDataLoaderIter.__del__ at 0x7ff350fffaf0>if w.is_alive():self._shutdown_workers()\n",
      "\n",
      "\n",
      "\n",
      "  File \"/home-nfs/raphaelr/miniconda/lib/python3.8/multiprocessing/process.py\", line 160, in is_alive\n",
      "Traceback (most recent call last):\n",
      "  File \"/home-nfs/raphaelr/miniconda/lib/python3.8/site-packages/torch/utils/data/dataloader.py\", line 1341, in _shutdown_workers\n",
      "  File \"/home-nfs/raphaelr/miniconda/lib/python3.8/multiprocessing/process.py\", line 160, in is_alive\n",
      "  File \"/home-nfs/raphaelr/miniconda/lib/python3.8/site-packages/torch/utils/data/dataloader.py\", line 1358, in __del__\n",
      "            assert self._parent_pid == os.getpid(), 'can only test a child process'assert self._parent_pid == os.getpid(), 'can only test a child process'    if w.is_alive():\n",
      "\n",
      "self._shutdown_workers()\n",
      "AssertionErrorAssertionError\n",
      ":   File \"/home-nfs/raphaelr/miniconda/lib/python3.8/multiprocessing/process.py\", line 160, in is_alive\n",
      ":   File \"/home-nfs/raphaelr/miniconda/lib/python3.8/site-packages/torch/utils/data/dataloader.py\", line 1341, in _shutdown_workers\n",
      "can only test a child processcan only test a child process    \n",
      "\n",
      "assert self._parent_pid == os.getpid(), 'can only test a child process'    \n",
      "if w.is_alive():AssertionError\n",
      ": Exception ignored in:   File \"/home-nfs/raphaelr/miniconda/lib/python3.8/multiprocessing/process.py\", line 160, in is_alive\n",
      "can only test a child processException ignored in: <function _MultiProcessingDataLoaderIter.__del__ at 0x7ff350fffaf0>\n",
      "<function _MultiProcessingDataLoaderIter.__del__ at 0x7ff350fffaf0>    \n",
      "\n",
      "assert self._parent_pid == os.getpid(), 'can only test a child process'Traceback (most recent call last):\n",
      "Traceback (most recent call last):\n",
      "\n",
      "  File \"/home-nfs/raphaelr/miniconda/lib/python3.8/site-packages/torch/utils/data/dataloader.py\", line 1358, in __del__\n",
      "  File \"/home-nfs/raphaelr/miniconda/lib/python3.8/site-packages/torch/utils/data/dataloader.py\", line 1358, in __del__\n",
      "AssertionError: Exception ignored in:         <function _MultiProcessingDataLoaderIter.__del__ at 0x7ff350fffaf0>can only test a child processself._shutdown_workers()self._shutdown_workers()\n",
      "\n",
      "\n",
      "\n",
      "Traceback (most recent call last):\n",
      "  File \"/home-nfs/raphaelr/miniconda/lib/python3.8/site-packages/torch/utils/data/dataloader.py\", line 1341, in _shutdown_workers\n",
      "  File \"/home-nfs/raphaelr/miniconda/lib/python3.8/site-packages/torch/utils/data/dataloader.py\", line 1341, in _shutdown_workers\n",
      "  File \"/home-nfs/raphaelr/miniconda/lib/python3.8/site-packages/torch/utils/data/dataloader.py\", line 1358, in __del__\n",
      "            if w.is_alive():Exception ignored in: if w.is_alive():self._shutdown_workers()\n",
      "<function _MultiProcessingDataLoaderIter.__del__ at 0x7ff350fffaf0>\n",
      "\n",
      "  File \"/home-nfs/raphaelr/miniconda/lib/python3.8/multiprocessing/process.py\", line 160, in is_alive\n",
      "\n",
      "  File \"/home-nfs/raphaelr/miniconda/lib/python3.8/multiprocessing/process.py\", line 160, in is_alive\n"
     ]
    },
    {
     "name": "stderr",
     "output_type": "stream",
     "text": [
      "  File \"/home-nfs/raphaelr/miniconda/lib/python3.8/site-packages/torch/utils/data/dataloader.py\", line 1341, in _shutdown_workers\n",
      "Traceback (most recent call last):\n",
      "          File \"/home-nfs/raphaelr/miniconda/lib/python3.8/site-packages/torch/utils/data/dataloader.py\", line 1358, in __del__\n",
      "assert self._parent_pid == os.getpid(), 'can only test a child process'    assert self._parent_pid == os.getpid(), 'can only test a child process'\n",
      "if w.is_alive():\n",
      "    AssertionError\n",
      "AssertionErrorself._shutdown_workers():   File \"/home-nfs/raphaelr/miniconda/lib/python3.8/multiprocessing/process.py\", line 160, in is_alive\n",
      ": \n",
      "can only test a child processcan only test a child process      File \"/home-nfs/raphaelr/miniconda/lib/python3.8/site-packages/torch/utils/data/dataloader.py\", line 1341, in _shutdown_workers\n",
      "\n",
      "\n",
      "assert self._parent_pid == os.getpid(), 'can only test a child process'    \n",
      "if w.is_alive():AssertionError\n",
      ": Exception ignored in:   File \"/home-nfs/raphaelr/miniconda/lib/python3.8/multiprocessing/process.py\", line 160, in is_alive\n",
      "Exception ignored in: can only test a child process<function _MultiProcessingDataLoaderIter.__del__ at 0x7ff350fffaf0><function _MultiProcessingDataLoaderIter.__del__ at 0x7ff350fffaf0>\n",
      "\n",
      "\n",
      "Traceback (most recent call last):\n",
      "    Traceback (most recent call last):\n",
      "assert self._parent_pid == os.getpid(), 'can only test a child process'  File \"/home-nfs/raphaelr/miniconda/lib/python3.8/site-packages/torch/utils/data/dataloader.py\", line 1358, in __del__\n",
      "  File \"/home-nfs/raphaelr/miniconda/lib/python3.8/site-packages/torch/utils/data/dataloader.py\", line 1358, in __del__\n",
      "\n",
      "AssertionError        : self._shutdown_workers()self._shutdown_workers()can only test a child process\n",
      "\n",
      "\n",
      "  File \"/home-nfs/raphaelr/miniconda/lib/python3.8/site-packages/torch/utils/data/dataloader.py\", line 1341, in _shutdown_workers\n",
      "  File \"/home-nfs/raphaelr/miniconda/lib/python3.8/site-packages/torch/utils/data/dataloader.py\", line 1341, in _shutdown_workers\n",
      "        if w.is_alive():if w.is_alive():\n",
      "\n",
      "Exception ignored in:   File \"/home-nfs/raphaelr/miniconda/lib/python3.8/multiprocessing/process.py\", line 160, in is_alive\n",
      "<function _MultiProcessingDataLoaderIter.__del__ at 0x7ff350fffaf0>  File \"/home-nfs/raphaelr/miniconda/lib/python3.8/multiprocessing/process.py\", line 160, in is_alive\n",
      "\n",
      "        Traceback (most recent call last):\n",
      "assert self._parent_pid == os.getpid(), 'can only test a child process'assert self._parent_pid == os.getpid(), 'can only test a child process'  File \"/home-nfs/raphaelr/miniconda/lib/python3.8/site-packages/torch/utils/data/dataloader.py\", line 1358, in __del__\n",
      "\n",
      "\n",
      "AssertionErrorAssertionError:     : can only test a child processself._shutdown_workers()can only test a child process\n",
      "\n",
      "\n",
      "  File \"/home-nfs/raphaelr/miniconda/lib/python3.8/site-packages/torch/utils/data/dataloader.py\", line 1341, in _shutdown_workers\n",
      "    if w.is_alive():\n",
      "  File \"/home-nfs/raphaelr/miniconda/lib/python3.8/multiprocessing/process.py\", line 160, in is_alive\n",
      "    assert self._parent_pid == os.getpid(), 'can only test a child process'\n",
      "AssertionError: can only test a child process\n",
      "Exception ignored in: <function _MultiProcessingDataLoaderIter.__del__ at 0x7ff350fffaf0>\n",
      "Traceback (most recent call last):\n",
      "Exception ignored in:   File \"/home-nfs/raphaelr/miniconda/lib/python3.8/site-packages/torch/utils/data/dataloader.py\", line 1358, in __del__\n",
      "<function _MultiProcessingDataLoaderIter.__del__ at 0x7ff350fffaf0>\n",
      "Traceback (most recent call last):\n",
      "      File \"/home-nfs/raphaelr/miniconda/lib/python3.8/site-packages/torch/utils/data/dataloader.py\", line 1358, in __del__\n",
      "self._shutdown_workers()\n",
      "  File \"/home-nfs/raphaelr/miniconda/lib/python3.8/site-packages/torch/utils/data/dataloader.py\", line 1341, in _shutdown_workers\n",
      "    self._shutdown_workers()    \n",
      "Exception ignored in: Exception ignored in: if w.is_alive():<function _MultiProcessingDataLoaderIter.__del__ at 0x7ff350fffaf0>  File \"/home-nfs/raphaelr/miniconda/lib/python3.8/site-packages/torch/utils/data/dataloader.py\", line 1341, in _shutdown_workers\n",
      "<function _MultiProcessingDataLoaderIter.__del__ at 0x7ff350fffaf0>\n",
      "\n",
      "\n",
      "  File \"/home-nfs/raphaelr/miniconda/lib/python3.8/multiprocessing/process.py\", line 160, in is_alive\n",
      "Traceback (most recent call last):\n",
      "Traceback (most recent call last):\n",
      "  File \"/home-nfs/raphaelr/miniconda/lib/python3.8/site-packages/torch/utils/data/dataloader.py\", line 1358, in __del__\n",
      "  File \"/home-nfs/raphaelr/miniconda/lib/python3.8/site-packages/torch/utils/data/dataloader.py\", line 1358, in __del__\n",
      "                assert self._parent_pid == os.getpid(), 'can only test a child process'self._shutdown_workers()self._shutdown_workers()if w.is_alive():\n",
      "\n",
      "\n",
      "\n",
      "AssertionError  File \"/home-nfs/raphaelr/miniconda/lib/python3.8/site-packages/torch/utils/data/dataloader.py\", line 1341, in _shutdown_workers\n",
      "  File \"/home-nfs/raphaelr/miniconda/lib/python3.8/site-packages/torch/utils/data/dataloader.py\", line 1341, in _shutdown_workers\n",
      "  File \"/home-nfs/raphaelr/miniconda/lib/python3.8/multiprocessing/process.py\", line 160, in is_alive\n",
      ": can only test a child process\n",
      "            assert self._parent_pid == os.getpid(), 'can only test a child process'if w.is_alive():if w.is_alive():\n",
      "\n",
      "\n",
      "  File \"/home-nfs/raphaelr/miniconda/lib/python3.8/multiprocessing/process.py\", line 160, in is_alive\n",
      "AssertionError  File \"/home-nfs/raphaelr/miniconda/lib/python3.8/multiprocessing/process.py\", line 160, in is_alive\n",
      "Exception ignored in: :         <function _MultiProcessingDataLoaderIter.__del__ at 0x7ff350fffaf0>can only test a child processassert self._parent_pid == os.getpid(), 'can only test a child process'\n",
      "assert self._parent_pid == os.getpid(), 'can only test a child process'\n",
      "\n",
      "Traceback (most recent call last):\n",
      "\n",
      "AssertionErrorAssertionError  File \"/home-nfs/raphaelr/miniconda/lib/python3.8/site-packages/torch/utils/data/dataloader.py\", line 1358, in __del__\n",
      ": : can only test a child processcan only test a child processException ignored in:     \n",
      "\n",
      "<function _MultiProcessingDataLoaderIter.__del__ at 0x7ff350fffaf0>self._shutdown_workers()\n",
      "\n",
      "  File \"/home-nfs/raphaelr/miniconda/lib/python3.8/site-packages/torch/utils/data/dataloader.py\", line 1341, in _shutdown_workers\n",
      "Traceback (most recent call last):\n",
      "  File \"/home-nfs/raphaelr/miniconda/lib/python3.8/site-packages/torch/utils/data/dataloader.py\", line 1358, in __del__\n",
      "Exception ignored in: Exception ignored in:     <function _MultiProcessingDataLoaderIter.__del__ at 0x7ff350fffaf0><function _MultiProcessingDataLoaderIter.__del__ at 0x7ff350fffaf0>    if w.is_alive():\n",
      "\n",
      "self._shutdown_workers()\n",
      "Traceback (most recent call last):\n",
      "Traceback (most recent call last):\n",
      "\n",
      "  File \"/home-nfs/raphaelr/miniconda/lib/python3.8/multiprocessing/process.py\", line 160, in is_alive\n",
      "  File \"/home-nfs/raphaelr/miniconda/lib/python3.8/site-packages/torch/utils/data/dataloader.py\", line 1358, in __del__\n",
      "  File \"/home-nfs/raphaelr/miniconda/lib/python3.8/site-packages/torch/utils/data/dataloader.py\", line 1358, in __del__\n",
      "  File \"/home-nfs/raphaelr/miniconda/lib/python3.8/site-packages/torch/utils/data/dataloader.py\", line 1341, in _shutdown_workers\n",
      "            assert self._parent_pid == os.getpid(), 'can only test a child process'    self._shutdown_workers()self._shutdown_workers()\n",
      "if w.is_alive():\n",
      "\n",
      "AssertionError\n",
      "  File \"/home-nfs/raphaelr/miniconda/lib/python3.8/site-packages/torch/utils/data/dataloader.py\", line 1341, in _shutdown_workers\n",
      "  File \"/home-nfs/raphaelr/miniconda/lib/python3.8/site-packages/torch/utils/data/dataloader.py\", line 1341, in _shutdown_workers\n",
      ":   File \"/home-nfs/raphaelr/miniconda/lib/python3.8/multiprocessing/process.py\", line 160, in is_alive\n",
      "can only test a child process            \n",
      "if w.is_alive():if w.is_alive():\n",
      "assert self._parent_pid == os.getpid(), 'can only test a child process'\n",
      "  File \"/home-nfs/raphaelr/miniconda/lib/python3.8/multiprocessing/process.py\", line 160, in is_alive\n",
      "\n",
      "  File \"/home-nfs/raphaelr/miniconda/lib/python3.8/multiprocessing/process.py\", line 160, in is_alive\n",
      "AssertionError    :     assert self._parent_pid == os.getpid(), 'can only test a child process'can only test a child processException ignored in: assert self._parent_pid == os.getpid(), 'can only test a child process'\n",
      "\n",
      "<function _MultiProcessingDataLoaderIter.__del__ at 0x7ff350fffaf0>\n",
      "AssertionError\n",
      "AssertionError: : can only test a child processTraceback (most recent call last):\n",
      "\n",
      "  File \"/home-nfs/raphaelr/miniconda/lib/python3.8/site-packages/torch/utils/data/dataloader.py\", line 1358, in __del__\n",
      "can only test a child processException ignored in: \n",
      "<function _MultiProcessingDataLoaderIter.__del__ at 0x7ff350fffaf0>    \n",
      "self._shutdown_workers()Traceback (most recent call last):\n",
      "\n",
      "  File \"/home-nfs/raphaelr/miniconda/lib/python3.8/site-packages/torch/utils/data/dataloader.py\", line 1358, in __del__\n",
      "  File \"/home-nfs/raphaelr/miniconda/lib/python3.8/site-packages/torch/utils/data/dataloader.py\", line 1341, in _shutdown_workers\n",
      "Exception ignored in:     <function _MultiProcessingDataLoaderIter.__del__ at 0x7ff350fffaf0>Exception ignored in: if w.is_alive():\n",
      "<function _MultiProcessingDataLoaderIter.__del__ at 0x7ff350fffaf0>Traceback (most recent call last):\n",
      "\n",
      "    \n",
      "  File \"/home-nfs/raphaelr/miniconda/lib/python3.8/site-packages/torch/utils/data/dataloader.py\", line 1358, in __del__\n",
      "  File \"/home-nfs/raphaelr/miniconda/lib/python3.8/multiprocessing/process.py\", line 160, in is_alive\n",
      "self._shutdown_workers()Traceback (most recent call last):\n",
      "\n",
      "  File \"/home-nfs/raphaelr/miniconda/lib/python3.8/site-packages/torch/utils/data/dataloader.py\", line 1358, in __del__\n",
      "          File \"/home-nfs/raphaelr/miniconda/lib/python3.8/site-packages/torch/utils/data/dataloader.py\", line 1341, in _shutdown_workers\n",
      "assert self._parent_pid == os.getpid(), 'can only test a child process'self._shutdown_workers()    \n",
      "\n",
      "    self._shutdown_workers()AssertionError  File \"/home-nfs/raphaelr/miniconda/lib/python3.8/site-packages/torch/utils/data/dataloader.py\", line 1341, in _shutdown_workers\n",
      "if w.is_alive():\n",
      ": \n",
      "  File \"/home-nfs/raphaelr/miniconda/lib/python3.8/site-packages/torch/utils/data/dataloader.py\", line 1341, in _shutdown_workers\n",
      "can only test a child process  File \"/home-nfs/raphaelr/miniconda/lib/python3.8/multiprocessing/process.py\", line 160, in is_alive\n",
      "    \n",
      "if w.is_alive():        \n",
      "if w.is_alive():assert self._parent_pid == os.getpid(), 'can only test a child process'  File \"/home-nfs/raphaelr/miniconda/lib/python3.8/multiprocessing/process.py\", line 160, in is_alive\n",
      "\n",
      "\n",
      "    AssertionError  File \"/home-nfs/raphaelr/miniconda/lib/python3.8/multiprocessing/process.py\", line 160, in is_alive\n",
      "Exception ignored in: assert self._parent_pid == os.getpid(), 'can only test a child process': <function _MultiProcessingDataLoaderIter.__del__ at 0x7ff350fffaf0>\n",
      "    can only test a child process\n",
      "AssertionErrorassert self._parent_pid == os.getpid(), 'can only test a child process'\n",
      ": Traceback (most recent call last):\n",
      "\n",
      "can only test a child process  File \"/home-nfs/raphaelr/miniconda/lib/python3.8/site-packages/torch/utils/data/dataloader.py\", line 1358, in __del__\n",
      "AssertionError\n",
      ": can only test a child processException ignored in: \n",
      "<function _MultiProcessingDataLoaderIter.__del__ at 0x7ff350fffaf0>\n",
      "    Exception ignored in: Traceback (most recent call last):\n",
      "self._shutdown_workers()<function _MultiProcessingDataLoaderIter.__del__ at 0x7ff350fffaf0>  File \"/home-nfs/raphaelr/miniconda/lib/python3.8/site-packages/torch/utils/data/dataloader.py\", line 1358, in __del__\n",
      "\n",
      "\n",
      "  File \"/home-nfs/raphaelr/miniconda/lib/python3.8/site-packages/torch/utils/data/dataloader.py\", line 1341, in _shutdown_workers\n",
      "Exception ignored in: Traceback (most recent call last):\n",
      "    <function _MultiProcessingDataLoaderIter.__del__ at 0x7ff350fffaf0>  File \"/home-nfs/raphaelr/miniconda/lib/python3.8/site-packages/torch/utils/data/dataloader.py\", line 1358, in __del__\n",
      "self._shutdown_workers()    \n",
      "\n",
      "if w.is_alive():    Traceback (most recent call last):\n",
      "  File \"/home-nfs/raphaelr/miniconda/lib/python3.8/site-packages/torch/utils/data/dataloader.py\", line 1341, in _shutdown_workers\n",
      "\n",
      "  File \"/home-nfs/raphaelr/miniconda/lib/python3.8/site-packages/torch/utils/data/dataloader.py\", line 1358, in __del__\n",
      "self._shutdown_workers()  File \"/home-nfs/raphaelr/miniconda/lib/python3.8/multiprocessing/process.py\", line 160, in is_alive\n",
      "\n",
      "          File \"/home-nfs/raphaelr/miniconda/lib/python3.8/site-packages/torch/utils/data/dataloader.py\", line 1341, in _shutdown_workers\n",
      "if w.is_alive():    assert self._parent_pid == os.getpid(), 'can only test a child process'\n",
      "self._shutdown_workers()\n",
      "      File \"/home-nfs/raphaelr/miniconda/lib/python3.8/multiprocessing/process.py\", line 160, in is_alive\n",
      "\n",
      "if w.is_alive():AssertionError  File \"/home-nfs/raphaelr/miniconda/lib/python3.8/site-packages/torch/utils/data/dataloader.py\", line 1341, in _shutdown_workers\n",
      "\n",
      ":       File \"/home-nfs/raphaelr/miniconda/lib/python3.8/multiprocessing/process.py\", line 160, in is_alive\n",
      "can only test a child processassert self._parent_pid == os.getpid(), 'can only test a child process'    \n",
      "\n",
      "    if w.is_alive():AssertionErrorassert self._parent_pid == os.getpid(), 'can only test a child process'\n",
      ": \n",
      "  File \"/home-nfs/raphaelr/miniconda/lib/python3.8/multiprocessing/process.py\", line 160, in is_alive\n",
      "can only test a child processAssertionError\n",
      ": Exception ignored in: can only test a child process<function _MultiProcessingDataLoaderIter.__del__ at 0x7ff350fffaf0>\n",
      "\n",
      "Traceback (most recent call last):\n",
      "Exception ignored in:   File \"/home-nfs/raphaelr/miniconda/lib/python3.8/site-packages/torch/utils/data/dataloader.py\", line 1358, in __del__\n",
      "<function _MultiProcessingDataLoaderIter.__del__ at 0x7ff350fffaf0>    Exception ignored in: assert self._parent_pid == os.getpid(), 'can only test a child process'\n",
      "    \n",
      "<function _MultiProcessingDataLoaderIter.__del__ at 0x7ff350fffaf0>AssertionError\n",
      "self._shutdown_workers()Traceback (most recent call last):\n",
      ": Traceback (most recent call last):\n",
      "\n",
      "  File \"/home-nfs/raphaelr/miniconda/lib/python3.8/site-packages/torch/utils/data/dataloader.py\", line 1358, in __del__\n",
      "can only test a child process  File \"/home-nfs/raphaelr/miniconda/lib/python3.8/site-packages/torch/utils/data/dataloader.py\", line 1358, in __del__\n",
      "  File \"/home-nfs/raphaelr/miniconda/lib/python3.8/site-packages/torch/utils/data/dataloader.py\", line 1341, in _shutdown_workers\n",
      "\n",
      "    self._shutdown_workers()        \n",
      "self._shutdown_workers()if w.is_alive():  File \"/home-nfs/raphaelr/miniconda/lib/python3.8/site-packages/torch/utils/data/dataloader.py\", line 1341, in _shutdown_workers\n",
      "\n",
      "\n",
      "Exception ignored in:   File \"/home-nfs/raphaelr/miniconda/lib/python3.8/site-packages/torch/utils/data/dataloader.py\", line 1341, in _shutdown_workers\n",
      "      File \"/home-nfs/raphaelr/miniconda/lib/python3.8/multiprocessing/process.py\", line 160, in is_alive\n",
      "<function _MultiProcessingDataLoaderIter.__del__ at 0x7ff350fffaf0>if w.is_alive():\n",
      "    \n",
      "    Traceback (most recent call last):\n",
      "assert self._parent_pid == os.getpid(), 'can only test a child process'  File \"/home-nfs/raphaelr/miniconda/lib/python3.8/multiprocessing/process.py\", line 160, in is_alive\n",
      "if w.is_alive():  File \"/home-nfs/raphaelr/miniconda/lib/python3.8/site-packages/torch/utils/data/dataloader.py\", line 1358, in __del__\n",
      "\n",
      "\n",
      "    AssertionError  File \"/home-nfs/raphaelr/miniconda/lib/python3.8/multiprocessing/process.py\", line 160, in is_alive\n",
      "assert self._parent_pid == os.getpid(), 'can only test a child process': \n",
      "can only test a child process        AssertionError\n",
      "self._shutdown_workers()assert self._parent_pid == os.getpid(), 'can only test a child process': \n",
      "\n",
      "can only test a child process  File \"/home-nfs/raphaelr/miniconda/lib/python3.8/site-packages/torch/utils/data/dataloader.py\", line 1341, in _shutdown_workers\n",
      "AssertionError\n",
      ":     Exception ignored in: can only test a child processif w.is_alive():<function _MultiProcessingDataLoaderIter.__del__ at 0x7ff350fffaf0>\n",
      "\n",
      "\n",
      "  File \"/home-nfs/raphaelr/miniconda/lib/python3.8/multiprocessing/process.py\", line 160, in is_alive\n",
      "Exception ignored in: Traceback (most recent call last):\n",
      "<function _MultiProcessingDataLoaderIter.__del__ at 0x7ff350fffaf0>  File \"/home-nfs/raphaelr/miniconda/lib/python3.8/site-packages/torch/utils/data/dataloader.py\", line 1358, in __del__\n"
     ]
    },
    {
     "name": "stderr",
     "output_type": "stream",
     "text": [
      "    \n",
      "assert self._parent_pid == os.getpid(), 'can only test a child process'Traceback (most recent call last):\n",
      "Exception ignored in: \n",
      "      File \"/home-nfs/raphaelr/miniconda/lib/python3.8/site-packages/torch/utils/data/dataloader.py\", line 1358, in __del__\n",
      "AssertionError<function _MultiProcessingDataLoaderIter.__del__ at 0x7ff350fffaf0>self._shutdown_workers()\n",
      ": \n",
      "can only test a child process  File \"/home-nfs/raphaelr/miniconda/lib/python3.8/site-packages/torch/utils/data/dataloader.py\", line 1341, in _shutdown_workers\n",
      "    \n",
      "Traceback (most recent call last):\n",
      "self._shutdown_workers()  File \"/home-nfs/raphaelr/miniconda/lib/python3.8/site-packages/torch/utils/data/dataloader.py\", line 1358, in __del__\n",
      "    \n",
      "if w.is_alive():  File \"/home-nfs/raphaelr/miniconda/lib/python3.8/site-packages/torch/utils/data/dataloader.py\", line 1341, in _shutdown_workers\n",
      "\n",
      "    self._shutdown_workers()  File \"/home-nfs/raphaelr/miniconda/lib/python3.8/multiprocessing/process.py\", line 160, in is_alive\n",
      "Exception ignored in:     \n",
      "<function _MultiProcessingDataLoaderIter.__del__ at 0x7ff350fffaf0>if w.is_alive():      File \"/home-nfs/raphaelr/miniconda/lib/python3.8/site-packages/torch/utils/data/dataloader.py\", line 1341, in _shutdown_workers\n",
      "\n",
      "\n",
      "assert self._parent_pid == os.getpid(), 'can only test a child process'Traceback (most recent call last):\n",
      "  File \"/home-nfs/raphaelr/miniconda/lib/python3.8/multiprocessing/process.py\", line 160, in is_alive\n",
      "\n",
      "      File \"/home-nfs/raphaelr/miniconda/lib/python3.8/site-packages/torch/utils/data/dataloader.py\", line 1358, in __del__\n",
      "AssertionErrorif w.is_alive():    : \n",
      "    assert self._parent_pid == os.getpid(), 'can only test a child process'can only test a child process  File \"/home-nfs/raphaelr/miniconda/lib/python3.8/multiprocessing/process.py\", line 160, in is_alive\n",
      "self._shutdown_workers()\n",
      "\n",
      "\n",
      "AssertionError      File \"/home-nfs/raphaelr/miniconda/lib/python3.8/site-packages/torch/utils/data/dataloader.py\", line 1341, in _shutdown_workers\n",
      ": assert self._parent_pid == os.getpid(), 'can only test a child process'can only test a child process\n",
      "    \n",
      "AssertionErrorif w.is_alive():: Exception ignored in: \n",
      "  File \"/home-nfs/raphaelr/miniconda/lib/python3.8/multiprocessing/process.py\", line 160, in is_alive\n",
      "can only test a child process<function _MultiProcessingDataLoaderIter.__del__ at 0x7ff350fffaf0>\n",
      "\n",
      "    Traceback (most recent call last):\n",
      "Exception ignored in:   File \"/home-nfs/raphaelr/miniconda/lib/python3.8/site-packages/torch/utils/data/dataloader.py\", line 1358, in __del__\n",
      "<function _MultiProcessingDataLoaderIter.__del__ at 0x7ff350fffaf0>\n",
      "assert self._parent_pid == os.getpid(), 'can only test a child process'Traceback (most recent call last):\n",
      "\n",
      "Exception ignored in: AssertionError  File \"/home-nfs/raphaelr/miniconda/lib/python3.8/site-packages/torch/utils/data/dataloader.py\", line 1358, in __del__\n",
      "<function _MultiProcessingDataLoaderIter.__del__ at 0x7ff350fffaf0>: \n",
      "can only test a child processTraceback (most recent call last):\n",
      "    \n",
      "      File \"/home-nfs/raphaelr/miniconda/lib/python3.8/site-packages/torch/utils/data/dataloader.py\", line 1358, in __del__\n",
      "self._shutdown_workers()self._shutdown_workers()\n",
      "\n",
      "      File \"/home-nfs/raphaelr/miniconda/lib/python3.8/site-packages/torch/utils/data/dataloader.py\", line 1341, in _shutdown_workers\n",
      "  File \"/home-nfs/raphaelr/miniconda/lib/python3.8/site-packages/torch/utils/data/dataloader.py\", line 1341, in _shutdown_workers\n",
      "self._shutdown_workers()\n",
      "    Exception ignored in:       File \"/home-nfs/raphaelr/miniconda/lib/python3.8/site-packages/torch/utils/data/dataloader.py\", line 1341, in _shutdown_workers\n",
      "if w.is_alive():<function _MultiProcessingDataLoaderIter.__del__ at 0x7ff350fffaf0>if w.is_alive():\n",
      "\n",
      "\n",
      "      File \"/home-nfs/raphaelr/miniconda/lib/python3.8/multiprocessing/process.py\", line 160, in is_alive\n",
      "Traceback (most recent call last):\n",
      "  File \"/home-nfs/raphaelr/miniconda/lib/python3.8/multiprocessing/process.py\", line 160, in is_alive\n",
      "if w.is_alive():  File \"/home-nfs/raphaelr/miniconda/lib/python3.8/site-packages/torch/utils/data/dataloader.py\", line 1358, in __del__\n",
      "        \n",
      "assert self._parent_pid == os.getpid(), 'can only test a child process'assert self._parent_pid == os.getpid(), 'can only test a child process'  File \"/home-nfs/raphaelr/miniconda/lib/python3.8/multiprocessing/process.py\", line 160, in is_alive\n",
      "\n",
      "    \n",
      "AssertionErrorself._shutdown_workers()AssertionError    : \n",
      ": assert self._parent_pid == os.getpid(), 'can only test a child process'can only test a child process  File \"/home-nfs/raphaelr/miniconda/lib/python3.8/site-packages/torch/utils/data/dataloader.py\", line 1341, in _shutdown_workers\n",
      "can only test a child process\n",
      "\n",
      "\n",
      "AssertionError:     can only test a child processif w.is_alive():\n",
      "\n",
      "  File \"/home-nfs/raphaelr/miniconda/lib/python3.8/multiprocessing/process.py\", line 160, in is_alive\n",
      "    assert self._parent_pid == os.getpid(), 'can only test a child process'\n",
      "AssertionError: can only test a child process\n"
     ]
    },
    {
     "name": "stdout",
     "output_type": "stream",
     "text": [
      "----- Epoch = 15 -----\n",
      "Val loss = 0.5888\n",
      "Val acc = 0.8536\n",
      "\n",
      "New best epoch, acc = 0.8536\n",
      "\n"
     ]
    },
    {
     "data": {
      "application/vnd.jupyter.widget-view+json": {
       "model_id": "c9396d45d3c14c07a2a14a237c626317",
       "version_major": 2,
       "version_minor": 0
      },
      "text/plain": [
       "Training loop:   0%|          | 0/390 [00:00<?, ?it/s]"
      ]
     },
     "metadata": {},
     "output_type": "display_data"
    },
    {
     "name": "stdout",
     "output_type": "stream",
     "text": [
      "----- Epoch = 16 -----\n",
      "Val loss = 0.5994\n",
      "Val acc = 0.8539\n",
      "\n",
      "New best epoch, acc = 0.8539\n",
      "\n"
     ]
    },
    {
     "data": {
      "application/vnd.jupyter.widget-view+json": {
       "model_id": "b8d50188a54f4a95ae106ceec2fe8121",
       "version_major": 2,
       "version_minor": 0
      },
      "text/plain": [
       "Training loop:   0%|          | 0/390 [00:00<?, ?it/s]"
      ]
     },
     "metadata": {},
     "output_type": "display_data"
    },
    {
     "name": "stdout",
     "output_type": "stream",
     "text": [
      "----- Epoch = 17 -----\n",
      "Val loss = 0.5963\n",
      "Val acc = 0.8574\n",
      "\n",
      "New best epoch, acc = 0.8574\n",
      "\n"
     ]
    },
    {
     "data": {
      "application/vnd.jupyter.widget-view+json": {
       "model_id": "9a1d3e9372a64efd85a8b6da8485d06e",
       "version_major": 2,
       "version_minor": 0
      },
      "text/plain": [
       "Training loop:   0%|          | 0/390 [00:00<?, ?it/s]"
      ]
     },
     "metadata": {},
     "output_type": "display_data"
    },
    {
     "name": "stdout",
     "output_type": "stream",
     "text": [
      "----- Epoch = 18 -----\n",
      "Val loss = 0.5991\n",
      "Val acc = 0.8603\n",
      "\n",
      "New best epoch, acc = 0.8603\n",
      "\n"
     ]
    },
    {
     "data": {
      "application/vnd.jupyter.widget-view+json": {
       "model_id": "6e5faa0644f549a7bac1990cfb6ac074",
       "version_major": 2,
       "version_minor": 0
      },
      "text/plain": [
       "Training loop:   0%|          | 0/390 [00:00<?, ?it/s]"
      ]
     },
     "metadata": {},
     "output_type": "display_data"
    },
    {
     "name": "stdout",
     "output_type": "stream",
     "text": [
      "----- Epoch = 19 -----\n",
      "Val loss = 0.5835\n",
      "Val acc = 0.8610\n",
      "\n",
      "New best epoch, acc = 0.8610\n",
      "\n"
     ]
    },
    {
     "data": {
      "application/vnd.jupyter.widget-view+json": {
       "model_id": "55ffc9186f6d4595b0cf4e8d3176c899",
       "version_major": 2,
       "version_minor": 0
      },
      "text/plain": [
       "Training loop:   0%|          | 0/390 [00:00<?, ?it/s]"
      ]
     },
     "metadata": {},
     "output_type": "display_data"
    },
    {
     "name": "stdout",
     "output_type": "stream",
     "text": [
      "----- Epoch = 20 -----\n",
      "Val loss = 0.6191\n",
      "Val acc = 0.8541\n"
     ]
    }
   ],
   "source": [
    "c.train(nepoch=20, batch_size=128, experiment_name=main_name)"
   ]
  },
  {
   "cell_type": "code",
   "execution_count": 9,
   "id": "d84bbc3f",
   "metadata": {},
   "outputs": [
    {
     "data": {
      "text/plain": [
       "2"
      ]
     },
     "execution_count": 9,
     "metadata": {},
     "output_type": "execute_result"
    }
   ],
   "source": [
    "1+1"
   ]
  },
  {
   "cell_type": "code",
   "execution_count": null,
   "id": "7d5639a1",
   "metadata": {},
   "outputs": [],
   "source": []
  },
  {
   "cell_type": "code",
   "execution_count": 3,
   "id": "5569e4c9",
   "metadata": {},
   "outputs": [],
   "source": [
    "train_hist = []\n",
    "with open(main_name+\"train_hist.txt\", \"r\") as f:\n",
    "  for line in f:\n",
    "    train_hist.append(float(line.strip()))\n",
    "    \n",
    "val_hist = []\n",
    "with open(main_name+\"val_hist.txt\", \"r\") as f:\n",
    "  for line in f:\n",
    "    val_hist.append(float(line.strip()))\n"
   ]
  },
  {
   "cell_type": "code",
   "execution_count": 7,
   "id": "9e611129",
   "metadata": {},
   "outputs": [
    {
     "data": {
      "text/plain": [
       "<AxesSubplot:title={'center':'Accuracy: Cutout Augmentations'}>"
      ]
     },
     "execution_count": 7,
     "metadata": {},
     "output_type": "execute_result"
    },
    {
     "data": {
      "image/png": "[encoded data removed]",
      "text/plain": [
       "<Figure size 432x288 with 1 Axes>"
      ]
     },
     "metadata": {
      "needs_background": "light"
     },
     "output_type": "display_data"
    }
   ],
   "source": [
    "import pandas as pd\n",
    "\n",
    "pd.DataFrame(data={\"Train\":train_hist, \"Test\":val_hist}).plot(title='Accuracy: Cutout Augmentations')"
   ]
  },
  {
   "cell_type": "code",
   "execution_count": null,
   "id": "904c37d3",
   "metadata": {},
   "outputs": [],
   "source": []
  },
  {
   "cell_type": "code",
   "execution_count": 11,
   "id": "987f7213",
   "metadata": {},
   "outputs": [],
   "source": [
    "# import torch\n",
    "# torch.load('testcifar resnet.pt').to('cuda')"
   ]
  },
  {
   "cell_type": "code",
   "execution_count": 12,
   "id": "d9d37b2c",
   "metadata": {
    "scrolled": true
   },
   "outputs": [
    {
     "data": {
      "application/vnd.jupyter.widget-view+json": {
       "model_id": "23b244f5c2f5425e931340a8dd365ea7",
       "version_major": 2,
       "version_minor": 0
      },
      "text/plain": [
       "Training epoch:   0%|          | 0/196 [00:00<?, ?it/s]"
      ]
     },
     "metadata": {},
     "output_type": "display_data"
    },
    {
     "name": "stdout",
     "output_type": "stream",
     "text": [
      "----- Epoch = 1 -----\n",
      "Val loss = 1.4044\n",
      "\n",
      "New best epoch, loss = 1.4044\n",
      "\n"
     ]
    },
    {
     "data": {
      "application/vnd.jupyter.widget-view+json": {
       "model_id": "492fa3b81f704313b856cb31fc5296d8",
       "version_major": 2,
       "version_minor": 0
      },
      "text/plain": [
       "Training epoch:   0%|          | 0/196 [00:00<?, ?it/s]"
      ]
     },
     "metadata": {},
     "output_type": "display_data"
    },
    {
     "name": "stdout",
     "output_type": "stream",
     "text": [
      "----- Epoch = 2 -----\n",
      "Val loss = 1.4167\n",
      "\n"
     ]
    },
    {
     "data": {
      "application/vnd.jupyter.widget-view+json": {
       "model_id": "844cc34ffe9546e087f655b5d8ce3004",
       "version_major": 2,
       "version_minor": 0
      },
      "text/plain": [
       "Training epoch:   0%|          | 0/196 [00:00<?, ?it/s]"
      ]
     },
     "metadata": {},
     "output_type": "display_data"
    },
    {
     "name": "stdout",
     "output_type": "stream",
     "text": [
      "----- Epoch = 3 -----\n",
      "Val loss = 1.1480\n",
      "\n",
      "New best epoch, loss = 1.1480\n",
      "\n"
     ]
    },
    {
     "data": {
      "application/vnd.jupyter.widget-view+json": {
       "model_id": "7d25849771da47d3949b60d14d548244",
       "version_major": 2,
       "version_minor": 0
      },
      "text/plain": [
       "Training epoch:   0%|          | 0/196 [00:00<?, ?it/s]"
      ]
     },
     "metadata": {},
     "output_type": "display_data"
    },
    {
     "name": "stdout",
     "output_type": "stream",
     "text": [
      "----- Epoch = 4 -----\n",
      "Val loss = 0.9357\n",
      "\n",
      "New best epoch, loss = 0.9357\n",
      "\n"
     ]
    },
    {
     "data": {
      "application/vnd.jupyter.widget-view+json": {
       "model_id": "93a8c2fa3aee457486a33d01108c5a72",
       "version_major": 2,
       "version_minor": 0
      },
      "text/plain": [
       "Training epoch:   0%|          | 0/196 [00:00<?, ?it/s]"
      ]
     },
     "metadata": {},
     "output_type": "display_data"
    },
    {
     "name": "stdout",
     "output_type": "stream",
     "text": [
      "----- Epoch = 5 -----\n",
      "Val loss = 0.9084\n",
      "\n",
      "New best epoch, loss = 0.9084\n",
      "\n"
     ]
    },
    {
     "data": {
      "application/vnd.jupyter.widget-view+json": {
       "model_id": "c262811a18be4afea3f0b628d1827128",
       "version_major": 2,
       "version_minor": 0
      },
      "text/plain": [
       "Training epoch:   0%|          | 0/196 [00:00<?, ?it/s]"
      ]
     },
     "metadata": {},
     "output_type": "display_data"
    },
    {
     "name": "stdout",
     "output_type": "stream",
     "text": [
      "----- Epoch = 6 -----\n",
      "Val loss = 0.8160\n",
      "\n",
      "New best epoch, loss = 0.8160\n",
      "\n"
     ]
    },
    {
     "data": {
      "application/vnd.jupyter.widget-view+json": {
       "model_id": "728cb8eff57046e7be6dcbb25a8b908d",
       "version_major": 2,
       "version_minor": 0
      },
      "text/plain": [
       "Training epoch:   0%|          | 0/196 [00:00<?, ?it/s]"
      ]
     },
     "metadata": {},
     "output_type": "display_data"
    },
    {
     "name": "stdout",
     "output_type": "stream",
     "text": [
      "----- Epoch = 7 -----\n",
      "Val loss = 0.7289\n",
      "\n",
      "New best epoch, loss = 0.7289\n",
      "\n"
     ]
    },
    {
     "data": {
      "application/vnd.jupyter.widget-view+json": {
       "model_id": "1583bcacf1ef423f81ef09a0c5225102",
       "version_major": 2,
       "version_minor": 0
      },
      "text/plain": [
       "Training epoch:   0%|          | 0/196 [00:00<?, ?it/s]"
      ]
     },
     "metadata": {},
     "output_type": "display_data"
    },
    {
     "name": "stdout",
     "output_type": "stream",
     "text": [
      "----- Epoch = 8 -----\n",
      "Val loss = 0.7756\n",
      "\n"
     ]
    },
    {
     "data": {
      "application/vnd.jupyter.widget-view+json": {
       "model_id": "54146c0f2a1546a0b337669d94094b12",
       "version_major": 2,
       "version_minor": 0
      },
      "text/plain": [
       "Training epoch:   0%|          | 0/196 [00:00<?, ?it/s]"
      ]
     },
     "metadata": {},
     "output_type": "display_data"
    },
    {
     "name": "stdout",
     "output_type": "stream",
     "text": [
      "----- Epoch = 9 -----\n",
      "Val loss = 0.7407\n",
      "\n"
     ]
    },
    {
     "data": {
      "application/vnd.jupyter.widget-view+json": {
       "model_id": "33e02a254b4243e2a0cb4387b7e24e56",
       "version_major": 2,
       "version_minor": 0
      },
      "text/plain": [
       "Training epoch:   0%|          | 0/196 [00:00<?, ?it/s]"
      ]
     },
     "metadata": {},
     "output_type": "display_data"
    },
    {
     "name": "stdout",
     "output_type": "stream",
     "text": [
      "----- Epoch = 10 -----\n",
      "Val loss = 0.6195\n",
      "\n",
      "New best epoch, loss = 0.6195\n",
      "\n"
     ]
    },
    {
     "data": {
      "application/vnd.jupyter.widget-view+json": {
       "model_id": "2f3d66f591004ed284790a36c45766e5",
       "version_major": 2,
       "version_minor": 0
      },
      "text/plain": [
       "Training epoch:   0%|          | 0/196 [00:00<?, ?it/s]"
      ]
     },
     "metadata": {},
     "output_type": "display_data"
    },
    {
     "name": "stdout",
     "output_type": "stream",
     "text": [
      "----- Epoch = 11 -----\n",
      "Val loss = 0.6455\n",
      "\n"
     ]
    },
    {
     "data": {
      "application/vnd.jupyter.widget-view+json": {
       "model_id": "eb165ba898884be886c4a4eea37cf109",
       "version_major": 2,
       "version_minor": 0
      },
      "text/plain": [
       "Training epoch:   0%|          | 0/196 [00:00<?, ?it/s]"
      ]
     },
     "metadata": {},
     "output_type": "display_data"
    },
    {
     "name": "stdout",
     "output_type": "stream",
     "text": [
      "----- Epoch = 12 -----\n",
      "Val loss = 0.6397\n",
      "\n"
     ]
    },
    {
     "data": {
      "application/vnd.jupyter.widget-view+json": {
       "model_id": "0f25aa0c00a542f9a5d476e83ffce3f6",
       "version_major": 2,
       "version_minor": 0
      },
      "text/plain": [
       "Training epoch:   0%|          | 0/196 [00:00<?, ?it/s]"
      ]
     },
     "metadata": {},
     "output_type": "display_data"
    },
    {
     "name": "stdout",
     "output_type": "stream",
     "text": [
      "----- Epoch = 13 -----\n",
      "Val loss = 0.6291\n",
      "\n"
     ]
    },
    {
     "data": {
      "application/vnd.jupyter.widget-view+json": {
       "model_id": "61836635925d47fb8e9b9476f2621d04",
       "version_major": 2,
       "version_minor": 0
      },
      "text/plain": [
       "Training epoch:   0%|          | 0/196 [00:00<?, ?it/s]"
      ]
     },
     "metadata": {},
     "output_type": "display_data"
    },
    {
     "name": "stdout",
     "output_type": "stream",
     "text": [
      "----- Epoch = 14 -----\n",
      "Val loss = 0.5873\n",
      "\n",
      "New best epoch, loss = 0.5873\n",
      "\n"
     ]
    },
    {
     "data": {
      "application/vnd.jupyter.widget-view+json": {
       "model_id": "c366f66cfd004edd809f87d9eff221ef",
       "version_major": 2,
       "version_minor": 0
      },
      "text/plain": [
       "Training epoch:   0%|          | 0/196 [00:00<?, ?it/s]"
      ]
     },
     "metadata": {},
     "output_type": "display_data"
    },
    {
     "name": "stdout",
     "output_type": "stream",
     "text": [
      "----- Epoch = 15 -----\n",
      "Val loss = 0.6023\n",
      "\n"
     ]
    },
    {
     "data": {
      "application/vnd.jupyter.widget-view+json": {
       "model_id": "9560eb995cd24a1c9f989ffc92a50235",
       "version_major": 2,
       "version_minor": 0
      },
      "text/plain": [
       "Training epoch:   0%|          | 0/196 [00:00<?, ?it/s]"
      ]
     },
     "metadata": {},
     "output_type": "display_data"
    },
    {
     "name": "stdout",
     "output_type": "stream",
     "text": [
      "----- Epoch = 16 -----\n",
      "Val loss = 0.5935\n",
      "\n"
     ]
    },
    {
     "data": {
      "application/vnd.jupyter.widget-view+json": {
       "model_id": "7b9de56cbf4b41f19f1542ff7d2473b0",
       "version_major": 2,
       "version_minor": 0
      },
      "text/plain": [
       "Training epoch:   0%|          | 0/196 [00:00<?, ?it/s]"
      ]
     },
     "metadata": {},
     "output_type": "display_data"
    },
    {
     "name": "stdout",
     "output_type": "stream",
     "text": [
      "----- Epoch = 17 -----\n",
      "Val loss = 0.6074\n",
      "\n"
     ]
    },
    {
     "data": {
      "application/vnd.jupyter.widget-view+json": {
       "model_id": "ea64bc5cf65e496a833388638e6c221a",
       "version_major": 2,
       "version_minor": 0
      },
      "text/plain": [
       "Training epoch:   0%|          | 0/196 [00:00<?, ?it/s]"
      ]
     },
     "metadata": {},
     "output_type": "display_data"
    },
    {
     "name": "stdout",
     "output_type": "stream",
     "text": [
      "----- Epoch = 18 -----\n",
      "Val loss = 0.6249\n",
      "\n"
     ]
    },
    {
     "data": {
      "application/vnd.jupyter.widget-view+json": {
       "model_id": "127f9a1c733b49a59adcd04e834c9401",
       "version_major": 2,
       "version_minor": 0
      },
      "text/plain": [
       "Training epoch:   0%|          | 0/196 [00:00<?, ?it/s]"
      ]
     },
     "metadata": {},
     "output_type": "display_data"
    },
    {
     "name": "stdout",
     "output_type": "stream",
     "text": [
      "----- Epoch = 19 -----\n",
      "Val loss = 0.5831\n",
      "\n",
      "New best epoch, loss = 0.5831\n",
      "\n"
     ]
    },
    {
     "data": {
      "application/vnd.jupyter.widget-view+json": {
       "model_id": "01325530b01e4e2492c0f0a942203dbb",
       "version_major": 2,
       "version_minor": 0
      },
      "text/plain": [
       "Training epoch:   0%|          | 0/196 [00:00<?, ?it/s]"
      ]
     },
     "metadata": {},
     "output_type": "display_data"
    },
    {
     "name": "stdout",
     "output_type": "stream",
     "text": [
      "----- Epoch = 20 -----\n",
      "Val loss = 0.6671\n",
      "\n"
     ]
    },
    {
     "data": {
      "application/vnd.jupyter.widget-view+json": {
       "model_id": "e9f9a40558ed4b27b84601ec0d5167a9",
       "version_major": 2,
       "version_minor": 0
      },
      "text/plain": [
       "Training epoch:   0%|          | 0/390 [00:00<?, ?it/s]"
      ]
     },
     "metadata": {},
     "output_type": "display_data"
    },
    {
     "name": "stdout",
     "output_type": "stream",
     "text": [
      "----- Epoch = 1 -----\n",
      "Val loss = 3934.768799\n",
      "\n",
      "New best epoch, loss = 3934.768799\n",
      "\n"
     ]
    },
    {
     "data": {
      "application/vnd.jupyter.widget-view+json": {
       "model_id": "29dd4c01bfe64d28997a139fb2017dd8",
       "version_major": 2,
       "version_minor": 0
      },
      "text/plain": [
       "Training epoch:   0%|          | 0/390 [00:00<?, ?it/s]"
      ]
     },
     "metadata": {},
     "output_type": "display_data"
    },
    {
     "name": "stdout",
     "output_type": "stream",
     "text": [
      "----- Epoch = 2 -----\n",
      "Val loss = 3618.952637\n",
      "\n",
      "New best epoch, loss = 3618.952637\n",
      "\n"
     ]
    },
    {
     "data": {
      "application/vnd.jupyter.widget-view+json": {
       "model_id": "544826d0a0be405fb87a3fb2dd4306d9",
       "version_major": 2,
       "version_minor": 0
      },
      "text/plain": [
       "Training epoch:   0%|          | 0/390 [00:00<?, ?it/s]"
      ]
     },
     "metadata": {},
     "output_type": "display_data"
    },
    {
     "name": "stdout",
     "output_type": "stream",
     "text": [
      "----- Epoch = 3 -----\n",
      "Val loss = 3172.277832\n",
      "\n",
      "New best epoch, loss = 3172.277832\n",
      "\n"
     ]
    },
    {
     "data": {
      "application/vnd.jupyter.widget-view+json": {
       "model_id": "ae7a801ea6cc4eacb2892faf2b004a86",
       "version_major": 2,
       "version_minor": 0
      },
      "text/plain": [
       "Training epoch:   0%|          | 0/390 [00:00<?, ?it/s]"
      ]
     },
     "metadata": {},
     "output_type": "display_data"
    },
    {
     "name": "stdout",
     "output_type": "stream",
     "text": [
      "----- Epoch = 4 -----\n",
      "Val loss = 2926.374512\n",
      "\n",
      "New best epoch, loss = 2926.374512\n",
      "\n"
     ]
    },
    {
     "data": {
      "application/vnd.jupyter.widget-view+json": {
       "model_id": "3bcda152b27041cd82f3cc9c898be2ef",
       "version_major": 2,
       "version_minor": 0
      },
      "text/plain": [
       "Training epoch:   0%|          | 0/390 [00:00<?, ?it/s]"
      ]
     },
     "metadata": {},
     "output_type": "display_data"
    },
    {
     "name": "stdout",
     "output_type": "stream",
     "text": [
      "----- Epoch = 5 -----\n",
      "Val loss = 2802.336670\n",
      "\n",
      "New best epoch, loss = 2802.336670\n",
      "\n"
     ]
    },
    {
     "data": {
      "application/vnd.jupyter.widget-view+json": {
       "model_id": "151c7007ee0b411bb2d79e50b4a49858",
       "version_major": 2,
       "version_minor": 0
      },
      "text/plain": [
       "Training epoch:   0%|          | 0/390 [00:00<?, ?it/s]"
      ]
     },
     "metadata": {},
     "output_type": "display_data"
    },
    {
     "name": "stdout",
     "output_type": "stream",
     "text": [
      "----- Epoch = 6 -----\n",
      "Val loss = 2763.759766\n",
      "\n",
      "New best epoch, loss = 2763.759766\n",
      "\n"
     ]
    },
    {
     "data": {
      "application/vnd.jupyter.widget-view+json": {
       "model_id": "cd909008f0e9416d91a3d3f8e0ccb5b2",
       "version_major": 2,
       "version_minor": 0
      },
      "text/plain": [
       "Training epoch:   0%|          | 0/390 [00:00<?, ?it/s]"
      ]
     },
     "metadata": {},
     "output_type": "display_data"
    },
    {
     "name": "stdout",
     "output_type": "stream",
     "text": [
      "----- Epoch = 7 -----\n",
      "Val loss = 2651.255127\n",
      "\n",
      "New best epoch, loss = 2651.255127\n",
      "\n"
     ]
    },
    {
     "data": {
      "application/vnd.jupyter.widget-view+json": {
       "model_id": "f46cd1576bc04c5da4acd53af091fd4b",
       "version_major": 2,
       "version_minor": 0
      },
      "text/plain": [
       "Training epoch:   0%|          | 0/390 [00:00<?, ?it/s]"
      ]
     },
     "metadata": {},
     "output_type": "display_data"
    },
    {
     "name": "stdout",
     "output_type": "stream",
     "text": [
      "----- Epoch = 8 -----\n",
      "Val loss = 2484.570068\n",
      "\n",
      "New best epoch, loss = 2484.570068\n",
      "\n"
     ]
    },
    {
     "data": {
      "application/vnd.jupyter.widget-view+json": {
       "model_id": "a1cc66ba06ee4a09b5d8129ec74defd3",
       "version_major": 2,
       "version_minor": 0
      },
      "text/plain": [
       "Training epoch:   0%|          | 0/390 [00:00<?, ?it/s]"
      ]
     },
     "metadata": {},
     "output_type": "display_data"
    },
    {
     "name": "stdout",
     "output_type": "stream",
     "text": [
      "----- Epoch = 9 -----\n",
      "Val loss = 2380.868896\n",
      "\n",
      "New best epoch, loss = 2380.868896\n",
      "\n"
     ]
    },
    {
     "data": {
      "application/vnd.jupyter.widget-view+json": {
       "model_id": "19d6a1186115469db17b58833291a60d",
       "version_major": 2,
       "version_minor": 0
      },
      "text/plain": [
       "Training epoch:   0%|          | 0/390 [00:00<?, ?it/s]"
      ]
     },
     "metadata": {},
     "output_type": "display_data"
    },
    {
     "name": "stdout",
     "output_type": "stream",
     "text": [
      "----- Epoch = 10 -----\n",
      "Val loss = 2314.019775\n",
      "\n",
      "New best epoch, loss = 2314.019775\n",
      "\n"
     ]
    },
    {
     "data": {
      "application/vnd.jupyter.widget-view+json": {
       "model_id": "4fd960ec88e6459a92bb95e5aa309e29",
       "version_major": 2,
       "version_minor": 0
      },
      "text/plain": [
       "Training epoch:   0%|          | 0/390 [00:00<?, ?it/s]"
      ]
     },
     "metadata": {},
     "output_type": "display_data"
    },
    {
     "name": "stdout",
     "output_type": "stream",
     "text": [
      "----- Epoch = 11 -----\n",
      "Val loss = 2303.545410\n",
      "\n",
      "New best epoch, loss = 2303.545410\n",
      "\n"
     ]
    },
    {
     "data": {
      "application/vnd.jupyter.widget-view+json": {
       "model_id": "7ece113fdccf45548169526fa5090196",
       "version_major": 2,
       "version_minor": 0
      },
      "text/plain": [
       "Training epoch:   0%|          | 0/390 [00:00<?, ?it/s]"
      ]
     },
     "metadata": {},
     "output_type": "display_data"
    },
    {
     "name": "stdout",
     "output_type": "stream",
     "text": [
      "----- Epoch = 12 -----\n",
      "Val loss = 2416.043457\n",
      "\n"
     ]
    },
    {
     "data": {
      "application/vnd.jupyter.widget-view+json": {
       "model_id": "e3d0d8184d104677abe3f3cfeaa71003",
       "version_major": 2,
       "version_minor": 0
      },
      "text/plain": [
       "Training epoch:   0%|          | 0/390 [00:00<?, ?it/s]"
      ]
     },
     "metadata": {},
     "output_type": "display_data"
    },
    {
     "name": "stdout",
     "output_type": "stream",
     "text": [
      "----- Epoch = 13 -----\n",
      "Val loss = 2271.012939\n",
      "\n",
      "New best epoch, loss = 2271.012939\n",
      "\n"
     ]
    },
    {
     "data": {
      "application/vnd.jupyter.widget-view+json": {
       "model_id": "e2d8b5bd70c042069634ce3bd17c7cf9",
       "version_major": 2,
       "version_minor": 0
      },
      "text/plain": [
       "Training epoch:   0%|          | 0/390 [00:00<?, ?it/s]"
      ]
     },
     "metadata": {},
     "output_type": "display_data"
    },
    {
     "name": "stdout",
     "output_type": "stream",
     "text": [
      "----- Epoch = 14 -----\n",
      "Val loss = 2499.677002\n",
      "\n"
     ]
    },
    {
     "data": {
      "application/vnd.jupyter.widget-view+json": {
       "model_id": "1952a163fa7749af9292441444f1e999",
       "version_major": 2,
       "version_minor": 0
      },
      "text/plain": [
       "Training epoch:   0%|          | 0/390 [00:00<?, ?it/s]"
      ]
     },
     "metadata": {},
     "output_type": "display_data"
    },
    {
     "name": "stdout",
     "output_type": "stream",
     "text": [
      "----- Epoch = 15 -----\n",
      "Val loss = 2245.886475\n",
      "\n",
      "New best epoch, loss = 2245.886475\n",
      "\n"
     ]
    },
    {
     "data": {
      "application/vnd.jupyter.widget-view+json": {
       "model_id": "5b49d1b53cce428faa0b5a54262c2dd9",
       "version_major": 2,
       "version_minor": 0
      },
      "text/plain": [
       "Training epoch:   0%|          | 0/390 [00:00<?, ?it/s]"
      ]
     },
     "metadata": {},
     "output_type": "display_data"
    },
    {
     "name": "stdout",
     "output_type": "stream",
     "text": [
      "----- Epoch = 16 -----\n",
      "Val loss = 2234.586670\n",
      "\n",
      "New best epoch, loss = 2234.586670\n",
      "\n"
     ]
    },
    {
     "data": {
      "application/vnd.jupyter.widget-view+json": {
       "model_id": "3571e2d73a354c879f1f66df64d05bb6",
       "version_major": 2,
       "version_minor": 0
      },
      "text/plain": [
       "Training epoch:   0%|          | 0/390 [00:00<?, ?it/s]"
      ]
     },
     "metadata": {},
     "output_type": "display_data"
    },
    {
     "name": "stdout",
     "output_type": "stream",
     "text": [
      "----- Epoch = 17 -----\n",
      "Val loss = 2179.891846\n",
      "\n",
      "New best epoch, loss = 2179.891846\n",
      "\n"
     ]
    },
    {
     "data": {
      "application/vnd.jupyter.widget-view+json": {
       "model_id": "e763d05d78f14ebd8c69bb9abdd690c3",
       "version_major": 2,
       "version_minor": 0
      },
      "text/plain": [
       "Training epoch:   0%|          | 0/390 [00:00<?, ?it/s]"
      ]
     },
     "metadata": {},
     "output_type": "display_data"
    },
    {
     "name": "stdout",
     "output_type": "stream",
     "text": [
      "----- Epoch = 18 -----\n",
      "Val loss = 2350.241211\n",
      "\n"
     ]
    },
    {
     "data": {
      "application/vnd.jupyter.widget-view+json": {
       "model_id": "c64aa6eace03406a879ebb00d7de1ed7",
       "version_major": 2,
       "version_minor": 0
      },
      "text/plain": [
       "Training epoch:   0%|          | 0/390 [00:00<?, ?it/s]"
      ]
     },
     "metadata": {},
     "output_type": "display_data"
    },
    {
     "name": "stdout",
     "output_type": "stream",
     "text": [
      "----- Epoch = 19 -----\n",
      "Val loss = 2143.285889\n",
      "\n",
      "New best epoch, loss = 2143.285889\n",
      "\n"
     ]
    },
    {
     "data": {
      "application/vnd.jupyter.widget-view+json": {
       "model_id": "3d92bd724af943858708e88c87ca87a4",
       "version_major": 2,
       "version_minor": 0
      },
      "text/plain": [
       "Training epoch:   0%|          | 0/390 [00:00<?, ?it/s]"
      ]
     },
     "metadata": {},
     "output_type": "display_data"
    },
    {
     "name": "stdout",
     "output_type": "stream",
     "text": [
      "----- Epoch = 20 -----\n",
      "Val loss = 2130.720703\n",
      "\n",
      "New best epoch, loss = 2130.720703\n",
      "\n",
      "CPU times: user 20min 32s, sys: 40.9 s, total: 21min 13s\n",
      "Wall time: 22min 49s\n"
     ]
    }
   ],
   "source": [
    "%%time\n",
    "results = fw.fastshap_wrapper(c.model, c.train_set, c.test_set, surrogate_epochs=20, explainer_epochs=20, experiment_name=main_name)"
   ]
  },
  {
   "cell_type": "code",
   "execution_count": 13,
   "id": "6fc8043e",
   "metadata": {},
   "outputs": [
    {
     "name": "stdout",
     "output_type": "stream",
     "text": [
      "CPU times: user 16 s, sys: 12.2 s, total: 28.2 s\n",
      "Wall time: 28.3 s\n"
     ]
    }
   ],
   "source": [
    "%%time\n",
    "import numpy as np\n",
    "np.save(main_name+'shapley_values.npy',results.plot_results(c.test_set, return_raw=True, num_samples=50))"
   ]
  },
  {
   "cell_type": "code",
   "execution_count": 14,
   "id": "e9258f74",
   "metadata": {},
   "outputs": [
    {
     "data": {
      "image/png": "[encoded data removed]",
      "text/plain": [
       "<Figure size 1584x1440 with 110 Axes>"
      ]
     },
     "metadata": {},
     "output_type": "display_data"
    }
   ],
   "source": [
    "results.plot_results(c.test_set)"
   ]
  },
  {
   "cell_type": "code",
   "execution_count": 15,
   "id": "3ff86598",
   "metadata": {},
   "outputs": [
    {
     "data": {
      "text/plain": [
       "<AxesSubplot:ylabel='Density'>"
      ]
     },
     "execution_count": 15,
     "metadata": {},
     "output_type": "execute_result"
    },
    {
     "data": {
      "image/png": "[encoded data removed]",
      "text/plain": [
       "<Figure size 432x288 with 1 Axes>"
      ]
     },
     "metadata": {},
     "output_type": "display_data"
    }
   ],
   "source": [
    "import numpy as np\n",
    "import seaborn as sns\n",
    "sns.set_style('whitegrid')\n",
    "shapley_values = results.plot_results(c.test_set, return_raw=True, num_samples=50).reshape(-1)\n",
    "sns.kdeplot(shapley_values, bw_adjust=0.5)"
   ]
  },
  {
   "cell_type": "code",
   "execution_count": 16,
   "id": "6c6cbbbd",
   "metadata": {},
   "outputs": [
    {
     "data": {
      "text/plain": [
       "0    0.12156\n",
       "dtype: float32"
      ]
     },
     "execution_count": 16,
     "metadata": {},
     "output_type": "execute_result"
    }
   ],
   "source": [
    "import pandas as pd\n",
    "pd.DataFrame(shapley_values).skew()"
   ]
  },
  {
   "cell_type": "code",
   "execution_count": 17,
   "id": "65158ecb",
   "metadata": {},
   "outputs": [
    {
     "data": {
      "text/plain": [
       "0    0.968149\n",
       "dtype: float32"
      ]
     },
     "execution_count": 17,
     "metadata": {},
     "output_type": "execute_result"
    }
   ],
   "source": [
    "import pandas as pd\n",
    "pd.DataFrame(shapley_values).kurtosis()"
   ]
  },
  {
   "cell_type": "code",
   "execution_count": 18,
   "id": "ab42e588",
   "metadata": {},
   "outputs": [
    {
     "data": {
      "text/html": [
       "<div>\n",
       "<style scoped>\n",
       "    .dataframe tbody tr th:only-of-type {\n",
       "        vertical-align: middle;\n",
       "    }\n",
       "\n",
       "    .dataframe tbody tr th {\n",
       "        vertical-align: top;\n",
       "    }\n",
       "\n",
       "    .dataframe thead th {\n",
       "        text-align: right;\n",
       "    }\n",
       "</style>\n",
       "<table border=\"1\" class=\"dataframe\">\n",
       "  <thead>\n",
       "    <tr style=\"text-align: right;\">\n",
       "      <th></th>\n",
       "      <th>0</th>\n",
       "    </tr>\n",
       "  </thead>\n",
       "  <tbody>\n",
       "    <tr>\n",
       "      <th>count</th>\n",
       "      <td>128000.000000</td>\n",
       "    </tr>\n",
       "    <tr>\n",
       "      <th>mean</th>\n",
       "      <td>0.003430</td>\n",
       "    </tr>\n",
       "    <tr>\n",
       "      <th>std</th>\n",
       "      <td>0.032172</td>\n",
       "    </tr>\n",
       "    <tr>\n",
       "      <th>min</th>\n",
       "      <td>-0.211409</td>\n",
       "    </tr>\n",
       "    <tr>\n",
       "      <th>25%</th>\n",
       "      <td>-0.016715</td>\n",
       "    </tr>\n",
       "    <tr>\n",
       "      <th>50%</th>\n",
       "      <td>0.001644</td>\n",
       "    </tr>\n",
       "    <tr>\n",
       "      <th>75%</th>\n",
       "      <td>0.022295</td>\n",
       "    </tr>\n",
       "    <tr>\n",
       "      <th>max</th>\n",
       "      <td>0.151185</td>\n",
       "    </tr>\n",
       "  </tbody>\n",
       "</table>\n",
       "</div>"
      ],
      "text/plain": [
       "                   0\n",
       "count  128000.000000\n",
       "mean        0.003430\n",
       "std         0.032172\n",
       "min        -0.211409\n",
       "25%        -0.016715\n",
       "50%         0.001644\n",
       "75%         0.022295\n",
       "max         0.151185"
      ]
     },
     "execution_count": 18,
     "metadata": {},
     "output_type": "execute_result"
    }
   ],
   "source": [
    "pd.DataFrame(shapley_values).describe()"
   ]
  },
  {
   "cell_type": "code",
   "execution_count": 19,
   "id": "b42b164b",
   "metadata": {},
   "outputs": [
    {
     "name": "stderr",
     "output_type": "stream",
     "text": [
      "/home-nfs/raphaelr/miniconda/lib/python3.8/site-packages/sklearn/feature_extraction/image.py:167: DeprecationWarning: `np.int` is a deprecated alias for the builtin `int`. To silence this warning, use `int` by itself. Doing this will not modify any behavior and is safe. When replacing `np.int`, you may wish to use e.g. `np.int64` or `np.int32` to specify the precision. If you wish to review your current use, check the release note link for additional information.\n",
      "Deprecated in NumPy 1.20; for more details and guidance: https://numpy.org/devdocs/release/1.20.0-notes.html#deprecations\n",
      "  dtype=np.int):\n",
      "/home-nfs/raphaelr/miniconda/lib/python3.8/site-packages/sklearn/linear_model/least_angle.py:30: DeprecationWarning: `np.float` is a deprecated alias for the builtin `float`. To silence this warning, use `float` by itself. Doing this will not modify any behavior and is safe. If you specifically wanted the numpy scalar type, use `np.float64` here.\n",
      "Deprecated in NumPy 1.20; for more details and guidance: https://numpy.org/devdocs/release/1.20.0-notes.html#deprecations\n",
      "  method='lar', copy_X=True, eps=np.finfo(np.float).eps,\n",
      "/home-nfs/raphaelr/miniconda/lib/python3.8/site-packages/sklearn/linear_model/least_angle.py:167: DeprecationWarning: `np.float` is a deprecated alias for the builtin `float`. To silence this warning, use `float` by itself. Doing this will not modify any behavior and is safe. If you specifically wanted the numpy scalar type, use `np.float64` here.\n",
      "Deprecated in NumPy 1.20; for more details and guidance: https://numpy.org/devdocs/release/1.20.0-notes.html#deprecations\n",
      "  method='lar', copy_X=True, eps=np.finfo(np.float).eps,\n",
      "/home-nfs/raphaelr/miniconda/lib/python3.8/site-packages/sklearn/linear_model/least_angle.py:284: DeprecationWarning: `np.float` is a deprecated alias for the builtin `float`. To silence this warning, use `float` by itself. Doing this will not modify any behavior and is safe. If you specifically wanted the numpy scalar type, use `np.float64` here.\n",
      "Deprecated in NumPy 1.20; for more details and guidance: https://numpy.org/devdocs/release/1.20.0-notes.html#deprecations\n",
      "  eps=np.finfo(np.float).eps, copy_Gram=True, verbose=0,\n",
      "/home-nfs/raphaelr/miniconda/lib/python3.8/site-packages/sklearn/linear_model/least_angle.py:862: DeprecationWarning: `np.float` is a deprecated alias for the builtin `float`. To silence this warning, use `float` by itself. Doing this will not modify any behavior and is safe. If you specifically wanted the numpy scalar type, use `np.float64` here.\n",
      "Deprecated in NumPy 1.20; for more details and guidance: https://numpy.org/devdocs/release/1.20.0-notes.html#deprecations\n",
      "  eps=np.finfo(np.float).eps, copy_X=True, fit_path=True,\n",
      "/home-nfs/raphaelr/miniconda/lib/python3.8/site-packages/sklearn/linear_model/least_angle.py:1101: DeprecationWarning: `np.float` is a deprecated alias for the builtin `float`. To silence this warning, use `float` by itself. Doing this will not modify any behavior and is safe. If you specifically wanted the numpy scalar type, use `np.float64` here.\n",
      "Deprecated in NumPy 1.20; for more details and guidance: https://numpy.org/devdocs/release/1.20.0-notes.html#deprecations\n",
      "  eps=np.finfo(np.float).eps, copy_X=True, fit_path=True,\n",
      "/home-nfs/raphaelr/miniconda/lib/python3.8/site-packages/sklearn/linear_model/least_angle.py:1127: DeprecationWarning: `np.float` is a deprecated alias for the builtin `float`. To silence this warning, use `float` by itself. Doing this will not modify any behavior and is safe. If you specifically wanted the numpy scalar type, use `np.float64` here.\n",
      "Deprecated in NumPy 1.20; for more details and guidance: https://numpy.org/devdocs/release/1.20.0-notes.html#deprecations\n",
      "  eps=np.finfo(np.float).eps, positive=False):\n",
      "/home-nfs/raphaelr/miniconda/lib/python3.8/site-packages/sklearn/linear_model/least_angle.py:1362: DeprecationWarning: `np.float` is a deprecated alias for the builtin `float`. To silence this warning, use `float` by itself. Doing this will not modify any behavior and is safe. If you specifically wanted the numpy scalar type, use `np.float64` here.\n",
      "Deprecated in NumPy 1.20; for more details and guidance: https://numpy.org/devdocs/release/1.20.0-notes.html#deprecations\n",
      "  max_n_alphas=1000, n_jobs=None, eps=np.finfo(np.float).eps,\n",
      "/home-nfs/raphaelr/miniconda/lib/python3.8/site-packages/sklearn/linear_model/least_angle.py:1602: DeprecationWarning: `np.float` is a deprecated alias for the builtin `float`. To silence this warning, use `float` by itself. Doing this will not modify any behavior and is safe. If you specifically wanted the numpy scalar type, use `np.float64` here.\n",
      "Deprecated in NumPy 1.20; for more details and guidance: https://numpy.org/devdocs/release/1.20.0-notes.html#deprecations\n",
      "  max_n_alphas=1000, n_jobs=None, eps=np.finfo(np.float).eps,\n",
      "/home-nfs/raphaelr/miniconda/lib/python3.8/site-packages/sklearn/linear_model/least_angle.py:1738: DeprecationWarning: `np.float` is a deprecated alias for the builtin `float`. To silence this warning, use `float` by itself. Doing this will not modify any behavior and is safe. If you specifically wanted the numpy scalar type, use `np.float64` here.\n",
      "Deprecated in NumPy 1.20; for more details and guidance: https://numpy.org/devdocs/release/1.20.0-notes.html#deprecations\n",
      "  eps=np.finfo(np.float).eps, copy_X=True, positive=False):\n",
      "/home-nfs/raphaelr/miniconda/lib/python3.8/site-packages/sklearn/decomposition/online_lda.py:29: DeprecationWarning: `np.float` is a deprecated alias for the builtin `float`. To silence this warning, use `float` by itself. Doing this will not modify any behavior and is safe. If you specifically wanted the numpy scalar type, use `np.float64` here.\n",
      "Deprecated in NumPy 1.20; for more details and guidance: https://numpy.org/devdocs/release/1.20.0-notes.html#deprecations\n",
      "  EPS = np.finfo(np.float).eps\n"
     ]
    },
    {
     "name": "stdout",
     "output_type": "stream",
     "text": [
      "best bandwidth: 0.1\n"
     ]
    },
    {
     "name": "stderr",
     "output_type": "stream",
     "text": [
      "/home-nfs/raphaelr/miniconda/lib/python3.8/site-packages/sklearn/model_selection/_split.py:1978: FutureWarning: The default value of cv will change from 3 to 5 in version 0.22. Specify it explicitly to silence this warning.\n",
      "  warnings.warn(CV_WARNING, FutureWarning)\n",
      "/home-nfs/raphaelr/miniconda/lib/python3.8/site-packages/sklearn/model_selection/_split.py:442: DeprecationWarning: `np.int` is a deprecated alias for the builtin `int`. To silence this warning, use `int` by itself. Doing this will not modify any behavior and is safe. When replacing `np.int`, you may wish to use e.g. `np.int64` or `np.int32` to specify the precision. If you wish to review your current use, check the release note link for additional information.\n",
      "Deprecated in NumPy 1.20; for more details and guidance: https://numpy.org/devdocs/release/1.20.0-notes.html#deprecations\n",
      "  fold_sizes = np.full(n_splits, n_samples // n_splits, dtype=np.int)\n",
      "/home-nfs/raphaelr/miniconda/lib/python3.8/site-packages/sklearn/model_selection/_split.py:102: DeprecationWarning: `np.bool` is a deprecated alias for the builtin `bool`. To silence this warning, use `bool` by itself. Doing this will not modify any behavior and is safe. If you specifically wanted the numpy scalar type, use `np.bool_` here.\n",
      "Deprecated in NumPy 1.20; for more details and guidance: https://numpy.org/devdocs/release/1.20.0-notes.html#deprecations\n",
      "  test_mask = np.zeros(_num_samples(X), dtype=np.bool)\n",
      "/home-nfs/raphaelr/miniconda/lib/python3.8/site-packages/sklearn/model_selection/_split.py:102: DeprecationWarning: `np.bool` is a deprecated alias for the builtin `bool`. To silence this warning, use `bool` by itself. Doing this will not modify any behavior and is safe. If you specifically wanted the numpy scalar type, use `np.bool_` here.\n",
      "Deprecated in NumPy 1.20; for more details and guidance: https://numpy.org/devdocs/release/1.20.0-notes.html#deprecations\n",
      "  test_mask = np.zeros(_num_samples(X), dtype=np.bool)\n",
      "/home-nfs/raphaelr/miniconda/lib/python3.8/site-packages/sklearn/model_selection/_split.py:102: DeprecationWarning: `np.bool` is a deprecated alias for the builtin `bool`. To silence this warning, use `bool` by itself. Doing this will not modify any behavior and is safe. If you specifically wanted the numpy scalar type, use `np.bool_` here.\n",
      "Deprecated in NumPy 1.20; for more details and guidance: https://numpy.org/devdocs/release/1.20.0-notes.html#deprecations\n",
      "  test_mask = np.zeros(_num_samples(X), dtype=np.bool)\n",
      "/home-nfs/raphaelr/miniconda/lib/python3.8/site-packages/sklearn/model_selection/_search.py:794: DeprecationWarning: `np.int` is a deprecated alias for the builtin `int`. To silence this warning, use `int` by itself. Doing this will not modify any behavior and is safe. When replacing `np.int`, you may wish to use e.g. `np.int64` or `np.int32` to specify the precision. If you wish to review your current use, check the release note link for additional information.\n",
      "Deprecated in NumPy 1.20; for more details and guidance: https://numpy.org/devdocs/release/1.20.0-notes.html#deprecations\n",
      "  dtype=np.int)\n",
      "/home-nfs/raphaelr/miniconda/lib/python3.8/site-packages/sklearn/model_selection/_search.py:810: DeprecationWarning: The default of the `iid` parameter will change from True to False in version 0.22 and will be removed in 0.24. This will change numeric results when test-set sizes are unequal.\n",
      "  warnings.warn(\"The default of the `iid` parameter will change \"\n"
     ]
    }
   ],
   "source": [
    "import numpy as np\n",
    "import matplotlib.pyplot as plt\n",
    "\n",
    "from sklearn.datasets import load_digits\n",
    "from sklearn.neighbors import KernelDensity\n",
    "from sklearn.decomposition import PCA\n",
    "from sklearn.model_selection import GridSearchCV\n",
    "\n",
    "# load the data\n",
    "digits = results.plot_results(c.test_set, return_raw=True, num_samples=10).reshape(100,-1)\n",
    "\n",
    "# project the 64-dimensional data to a lower dimension\n",
    "pca = PCA(n_components=15, whiten=False)\n",
    "data = pca.fit_transform(digits)\n",
    "\n",
    "# use grid search cross-validation to optimize the bandwidth\n",
    "params = {\"bandwidth\": np.logspace(-1, 1, 20)}\n",
    "grid = GridSearchCV(KernelDensity(), params)\n",
    "grid.fit(data)\n",
    "\n",
    "print(\"best bandwidth: {0}\".format(grid.best_estimator_.bandwidth))\n",
    "\n",
    "# use the best estimator to compute the kernel density estimate\n",
    "kde = grid.best_estimator_\n",
    "\n",
    "# # sample 44 new points from the data\n",
    "# new_data = kde.sample(44, random_state=0)\n",
    "# new_data = pca.inverse_transform(new_data)\n",
    "\n",
    "# # turn data into a 4x11 grid\n",
    "# new_data = new_data.reshape((4, 11, -1))\n",
    "# # real_data = digits.data[:44].reshape((4, 11, -1))\n",
    "\n",
    "# # plot real digits and resampled digits\n",
    "# fig, ax = plt.subplots(9, 11, subplot_kw=dict(xticks=[], yticks=[]))\n",
    "# for j in range(11):\n",
    "#     ax[4, j].set_visible(False)\n",
    "#     for i in range(4):\n",
    "# #         im = ax[i, j].imshow(\n",
    "# #             real_data[i, j].reshape((8, 8)), cmap=plt.cm.binary, interpolation=\"nearest\"\n",
    "# #         )\n",
    "# #         im.set_clim(0, 16)\n",
    "#         im = ax[i + 5, j].imshow(\n",
    "#             new_data[i, j].reshape((8, 8)), cmap=plt.cm.binary, interpolation=\"nearest\"\n",
    "#         )\n",
    "#         im.set_clim(0, 16)\n",
    "\n",
    "# ax[0, 5].set_title(\"Selection from the input data\")\n",
    "# ax[5, 5].set_title('\"New\" digits drawn from the kernel density model')\n",
    "\n",
    "# plt.show()"
   ]
  },
  {
   "cell_type": "code",
   "execution_count": null,
   "id": "ba39c589",
   "metadata": {},
   "outputs": [],
   "source": []
  }
 ],
 "metadata": {
  "interpreter": {
   "hash": "d08574dbe1e032a77862499250ef1ebb208dc943688f68b63b9f4908607a83c3"
  },
  "kernelspec": {
   "display_name": "Python 3",
   "language": "python",
   "name": "python3"
  },
  "language_info": {
   "codemirror_mode": {
    "name": "ipython",
    "version": 3
   },
   "file_extension": ".py",
   "mimetype": "text/x-python",
   "name": "python",
   "nbconvert_exporter": "python",
   "pygments_lexer": "ipython3",
   "version": "3.8.5"
  }
 },
 "nbformat": 4,
 "nbformat_minor": 5
}
