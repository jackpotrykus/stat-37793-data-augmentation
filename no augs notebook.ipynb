{
 "cells": [
  {
   "cell_type": "code",
   "execution_count": 2,
   "id": "0de44c6a",
   "metadata": {},
   "outputs": [],
   "source": [
    "main_name= 'no_augs_'"
   ]
  },
  {
   "cell_type": "code",
   "execution_count": 2,
   "id": "1114c003",
   "metadata": {},
   "outputs": [],
   "source": [
    "import os\n",
    "os.environ['WANDB_CONSOLE'] = 'off'"
   ]
  },
  {
   "cell_type": "code",
   "execution_count": 3,
   "id": "add42074",
   "metadata": {
    "scrolled": true
   },
   "outputs": [],
   "source": [
    "import fastshap_wrapper as fw"
   ]
  },
  {
   "cell_type": "code",
   "execution_count": 4,
   "id": "1874fd0b",
   "metadata": {},
   "outputs": [],
   "source": [
    "from cifar10_experiment import CIFAR10AugmentationExperiment"
   ]
  },
  {
   "cell_type": "code",
   "execution_count": 5,
   "id": "deb02423",
   "metadata": {},
   "outputs": [],
   "source": [
    "import torchvision"
   ]
  },
  {
   "cell_type": "code",
   "execution_count": 6,
   "id": "767268ad",
   "metadata": {},
   "outputs": [],
   "source": [
    "transform = torchvision.transforms.Compose(\n",
    "        [\n",
    "            torchvision.transforms.ToTensor(),\n",
    "            torchvision.transforms.Normalize((0.5, 0.5, 0.5), (0.5, 0.5, 0.5)),\n",
    "        ]\n",
    "    )"
   ]
  },
  {
   "cell_type": "code",
   "execution_count": 7,
   "id": "22f779b7",
   "metadata": {},
   "outputs": [
    {
     "name": "stdout",
     "output_type": "stream",
     "text": [
      "Files already downloaded and verified\n",
      "Files already downloaded and verified\n"
     ]
    }
   ],
   "source": [
    "c = CIFAR10AugmentationExperiment(transform)"
   ]
  },
  {
   "cell_type": "code",
   "execution_count": 8,
   "id": "326d30d4",
   "metadata": {},
   "outputs": [
    {
     "data": {
      "application/vnd.jupyter.widget-view+json": {
       "model_id": "23dfb68c1d1640358c083694a5f6cd96",
       "version_major": 2,
       "version_minor": 0
      },
      "text/plain": [
       "Training loop:   0%|          | 0/390 [00:00<?, ?it/s]"
      ]
     },
     "metadata": {},
     "output_type": "display_data"
    },
    {
     "name": "stdout",
     "output_type": "stream",
     "text": [
      "----- Epoch = 1 -----\n",
      "Val loss = 1.0589\n",
      "Val acc = 0.6226\n",
      "\n",
      "New best epoch, acc = 0.6226\n",
      "\n"
     ]
    },
    {
     "data": {
      "application/vnd.jupyter.widget-view+json": {
       "model_id": "d0241391754e4339a0abe16d5d788f07",
       "version_major": 2,
       "version_minor": 0
      },
      "text/plain": [
       "Training loop:   0%|          | 0/390 [00:00<?, ?it/s]"
      ]
     },
     "metadata": {},
     "output_type": "display_data"
    },
    {
     "name": "stdout",
     "output_type": "stream",
     "text": [
      "----- Epoch = 2 -----\n",
      "Val loss = 0.8152\n",
      "Val acc = 0.7110\n",
      "\n",
      "New best epoch, acc = 0.7110\n",
      "\n"
     ]
    },
    {
     "data": {
      "application/vnd.jupyter.widget-view+json": {
       "model_id": "460ec2b7ce75411e9f16d8502f2bf8d5",
       "version_major": 2,
       "version_minor": 0
      },
      "text/plain": [
       "Training loop:   0%|          | 0/390 [00:00<?, ?it/s]"
      ]
     },
     "metadata": {},
     "output_type": "display_data"
    },
    {
     "name": "stderr",
     "output_type": "stream",
     "text": [
      "Exception ignored in: Exception ignored in: Exception ignored in: <function _MultiProcessingDataLoaderIter.__del__ at 0x7f74847cec10><function _MultiProcessingDataLoaderIter.__del__ at 0x7f74847cec10><function _MultiProcessingDataLoaderIter.__del__ at 0x7f74847cec10>\n",
      "\n",
      "Traceback (most recent call last):\n",
      "Traceback (most recent call last):\n",
      "\n",
      "Exception ignored in:   File \"/home-nfs/raphaelr/miniconda/lib/python3.8/site-packages/torch/utils/data/dataloader.py\", line 1358, in __del__\n",
      "  File \"/home-nfs/raphaelr/miniconda/lib/python3.8/site-packages/torch/utils/data/dataloader.py\", line 1358, in __del__\n",
      "Traceback (most recent call last):\n",
      "<function _MultiProcessingDataLoaderIter.__del__ at 0x7f74847cec10>  File \"/home-nfs/raphaelr/miniconda/lib/python3.8/site-packages/torch/utils/data/dataloader.py\", line 1358, in __del__\n",
      "\n",
      "Traceback (most recent call last):\n",
      "            Exception ignored in: self._shutdown_workers()self._shutdown_workers()  File \"/home-nfs/raphaelr/miniconda/lib/python3.8/site-packages/torch/utils/data/dataloader.py\", line 1358, in __del__\n",
      "self._shutdown_workers()\n",
      "\n",
      "<function _MultiProcessingDataLoaderIter.__del__ at 0x7f74847cec10>  File \"/home-nfs/raphaelr/miniconda/lib/python3.8/site-packages/torch/utils/data/dataloader.py\", line 1341, in _shutdown_workers\n",
      "  File \"/home-nfs/raphaelr/miniconda/lib/python3.8/site-packages/torch/utils/data/dataloader.py\", line 1341, in _shutdown_workers\n",
      "\n",
      "\n",
      "      File \"/home-nfs/raphaelr/miniconda/lib/python3.8/site-packages/torch/utils/data/dataloader.py\", line 1341, in _shutdown_workers\n",
      "        Traceback (most recent call last):\n",
      "self._shutdown_workers()if w.is_alive():  File \"/home-nfs/raphaelr/miniconda/lib/python3.8/site-packages/torch/utils/data/dataloader.py\", line 1358, in __del__\n",
      "if w.is_alive():\n",
      "\n",
      "  File \"/home-nfs/raphaelr/miniconda/lib/python3.8/multiprocessing/process.py\", line 160, in is_alive\n",
      "\n",
      "  File \"/home-nfs/raphaelr/miniconda/lib/python3.8/site-packages/torch/utils/data/dataloader.py\", line 1341, in _shutdown_workers\n",
      "          File \"/home-nfs/raphaelr/miniconda/lib/python3.8/multiprocessing/process.py\", line 160, in is_alive\n",
      "self._shutdown_workers()        if w.is_alive():    \n",
      "if w.is_alive():assert self._parent_pid == os.getpid(), 'can only test a child process'assert self._parent_pid == os.getpid(), 'can only test a child process'\n",
      "  File \"/home-nfs/raphaelr/miniconda/lib/python3.8/site-packages/torch/utils/data/dataloader.py\", line 1341, in _shutdown_workers\n",
      "\n",
      "\n",
      "\n",
      "  File \"/home-nfs/raphaelr/miniconda/lib/python3.8/multiprocessing/process.py\", line 160, in is_alive\n",
      "AssertionErrorAssertionError      File \"/home-nfs/raphaelr/miniconda/lib/python3.8/multiprocessing/process.py\", line 160, in is_alive\n",
      ": if w.is_alive():    : Exception ignored in: can only test a child process    \n",
      "can only test a child processassert self._parent_pid == os.getpid(), 'can only test a child process'\n",
      "<function _MultiProcessingDataLoaderIter.__del__ at 0x7f74847cec10>assert self._parent_pid == os.getpid(), 'can only test a child process'\n",
      "  File \"/home-nfs/raphaelr/miniconda/lib/python3.8/multiprocessing/process.py\", line 160, in is_alive\n",
      "\n",
      "\n",
      "\n",
      "    AssertionErrorTraceback (most recent call last):\n",
      "AssertionErrorassert self._parent_pid == os.getpid(), 'can only test a child process':   File \"/home-nfs/raphaelr/miniconda/lib/python3.8/site-packages/torch/utils/data/dataloader.py\", line 1358, in __del__\n",
      "\n",
      "Exception ignored in: : can only test a child processException ignored in: AssertionError<function _MultiProcessingDataLoaderIter.__del__ at 0x7f74847cec10><function _MultiProcessingDataLoaderIter.__del__ at 0x7f74847cec10>can only test a child process\n",
      "\n",
      "\n",
      "Traceback (most recent call last):\n",
      "    Traceback (most recent call last):\n",
      ": self._shutdown_workers()  File \"/home-nfs/raphaelr/miniconda/lib/python3.8/site-packages/torch/utils/data/dataloader.py\", line 1358, in __del__\n",
      "can only test a child process\n",
      "  File \"/home-nfs/raphaelr/miniconda/lib/python3.8/site-packages/torch/utils/data/dataloader.py\", line 1358, in __del__\n",
      "\n",
      "\n",
      "  File \"/home-nfs/raphaelr/miniconda/lib/python3.8/site-packages/torch/utils/data/dataloader.py\", line 1341, in _shutdown_workers\n",
      "    self._shutdown_workers()    Exception ignored in:     if w.is_alive():\n",
      "self._shutdown_workers()Exception ignored in: Exception ignored in:   File \"/home-nfs/raphaelr/miniconda/lib/python3.8/site-packages/torch/utils/data/dataloader.py\", line 1341, in _shutdown_workers\n",
      "<function _MultiProcessingDataLoaderIter.__del__ at 0x7f74847cec10>\n",
      "\n",
      "<function _MultiProcessingDataLoaderIter.__del__ at 0x7f74847cec10>    Traceback (most recent call last):\n",
      "<function _MultiProcessingDataLoaderIter.__del__ at 0x7f74847cec10>\n",
      "  File \"/home-nfs/raphaelr/miniconda/lib/python3.8/site-packages/torch/utils/data/dataloader.py\", line 1341, in _shutdown_workers\n",
      "\n",
      "if w.is_alive():  File \"/home-nfs/raphaelr/miniconda/lib/python3.8/multiprocessing/process.py\", line 160, in is_alive\n",
      "  File \"/home-nfs/raphaelr/miniconda/lib/python3.8/site-packages/torch/utils/data/dataloader.py\", line 1358, in __del__\n",
      "Traceback (most recent call last):\n",
      "\n",
      "    \n",
      "      File \"/home-nfs/raphaelr/miniconda/lib/python3.8/site-packages/torch/utils/data/dataloader.py\", line 1358, in __del__\n",
      "if w.is_alive():  File \"/home-nfs/raphaelr/miniconda/lib/python3.8/multiprocessing/process.py\", line 160, in is_alive\n",
      "Traceback (most recent call last):\n",
      "\n",
      "assert self._parent_pid == os.getpid(), 'can only test a child process'          File \"/home-nfs/raphaelr/miniconda/lib/python3.8/multiprocessing/process.py\", line 160, in is_alive\n",
      "assert self._parent_pid == os.getpid(), 'can only test a child process'self._shutdown_workers()\n",
      "    \n",
      "    AssertionErrorAssertionErrorself._shutdown_workers(): assert self._parent_pid == os.getpid(), 'can only test a child process': \n",
      "\n",
      "  File \"/home-nfs/raphaelr/miniconda/lib/python3.8/site-packages/torch/utils/data/dataloader.py\", line 1341, in _shutdown_workers\n",
      "\n",
      "can only test a child processAssertionErrorcan only test a child process\n",
      "  File \"/home-nfs/raphaelr/miniconda/lib/python3.8/site-packages/torch/utils/data/dataloader.py\", line 1341, in _shutdown_workers\n",
      "  File \"/home-nfs/raphaelr/miniconda/lib/python3.8/site-packages/torch/utils/data/dataloader.py\", line 1358, in __del__\n",
      ":     \n",
      "can only test a child process\n",
      "if w.is_alive():    \n",
      "self._shutdown_workers()Exception ignored in:   File \"/home-nfs/raphaelr/miniconda/lib/python3.8/multiprocessing/process.py\", line 160, in is_alive\n",
      "\n",
      "<function _MultiProcessingDataLoaderIter.__del__ at 0x7f74847cec10>  File \"/home-nfs/raphaelr/miniconda/lib/python3.8/site-packages/torch/utils/data/dataloader.py\", line 1341, in _shutdown_workers\n",
      "        \n",
      "if w.is_alive():assert self._parent_pid == os.getpid(), 'can only test a child process'    \n",
      "Traceback (most recent call last):\n",
      "\n",
      "if w.is_alive():AssertionError  File \"/home-nfs/raphaelr/miniconda/lib/python3.8/site-packages/torch/utils/data/dataloader.py\", line 1358, in __del__\n",
      "  File \"/home-nfs/raphaelr/miniconda/lib/python3.8/multiprocessing/process.py\", line 160, in is_alive\n",
      ": can only test a child process        \n",
      "\n",
      "self._shutdown_workers()  File \"/home-nfs/raphaelr/miniconda/lib/python3.8/multiprocessing/process.py\", line 160, in is_alive\n",
      "assert self._parent_pid == os.getpid(), 'can only test a child process'\n",
      "\n",
      "      File \"/home-nfs/raphaelr/miniconda/lib/python3.8/site-packages/torch/utils/data/dataloader.py\", line 1341, in _shutdown_workers\n",
      "AssertionErrorassert self._parent_pid == os.getpid(), 'can only test a child process'\n",
      "    AssertionErrorif w.is_alive():: \n",
      "can only test a child process  File \"/home-nfs/raphaelr/miniconda/lib/python3.8/multiprocessing/process.py\", line 160, in is_alive\n",
      ": \n",
      "can only test a child process\n",
      "    assert self._parent_pid == os.getpid(), 'can only test a child process'\n",
      "AssertionError: can only test a child process\n",
      "Exception ignored in: <function _MultiProcessingDataLoaderIter.__del__ at 0x7f74847cec10>\n",
      "Traceback (most recent call last):\n",
      "  File \"/home-nfs/raphaelr/miniconda/lib/python3.8/site-packages/torch/utils/data/dataloader.py\", line 1358, in __del__\n",
      "    self._shutdown_workers()\n",
      "  File \"/home-nfs/raphaelr/miniconda/lib/python3.8/site-packages/torch/utils/data/dataloader.py\", line 1341, in _shutdown_workers\n"
     ]
    },
    {
     "name": "stderr",
     "output_type": "stream",
     "text": [
      "    if w.is_alive():\n",
      "  File \"/home-nfs/raphaelr/miniconda/lib/python3.8/multiprocessing/process.py\", line 160, in is_alive\n",
      "    assert self._parent_pid == os.getpid(), 'can only test a child process'\n",
      "AssertionError: can only test a child process\n",
      "Exception ignored in: <function _MultiProcessingDataLoaderIter.__del__ at 0x7f74847cec10>\n",
      "Traceback (most recent call last):\n",
      "  File \"/home-nfs/raphaelr/miniconda/lib/python3.8/site-packages/torch/utils/data/dataloader.py\", line 1358, in __del__\n",
      "    self._shutdown_workers()\n",
      "  File \"/home-nfs/raphaelr/miniconda/lib/python3.8/site-packages/torch/utils/data/dataloader.py\", line 1341, in _shutdown_workers\n",
      "    if w.is_alive():\n",
      "  File \"/home-nfs/raphaelr/miniconda/lib/python3.8/multiprocessing/process.py\", line 160, in is_alive\n",
      "    assert self._parent_pid == os.getpid(), 'can only test a child process'\n",
      "AssertionError: can only test a child process\n"
     ]
    },
    {
     "name": "stdout",
     "output_type": "stream",
     "text": [
      "----- Epoch = 3 -----\n",
      "Val loss = 0.6356\n",
      "Val acc = 0.7829\n",
      "\n",
      "New best epoch, acc = 0.7829\n",
      "\n"
     ]
    },
    {
     "data": {
      "application/vnd.jupyter.widget-view+json": {
       "model_id": "3e0b50f7eac246d688cd78e501688cf5",
       "version_major": 2,
       "version_minor": 0
      },
      "text/plain": [
       "Training loop:   0%|          | 0/390 [00:00<?, ?it/s]"
      ]
     },
     "metadata": {},
     "output_type": "display_data"
    },
    {
     "name": "stdout",
     "output_type": "stream",
     "text": [
      "----- Epoch = 4 -----\n",
      "Val loss = 0.5974\n",
      "Val acc = 0.7993\n",
      "\n",
      "New best epoch, acc = 0.7993\n",
      "\n"
     ]
    },
    {
     "data": {
      "application/vnd.jupyter.widget-view+json": {
       "model_id": "92cb9fc74278433390c722ac07ebcd62",
       "version_major": 2,
       "version_minor": 0
      },
      "text/plain": [
       "Training loop:   0%|          | 0/390 [00:00<?, ?it/s]"
      ]
     },
     "metadata": {},
     "output_type": "display_data"
    },
    {
     "name": "stdout",
     "output_type": "stream",
     "text": [
      "----- Epoch = 5 -----\n",
      "Val loss = 0.5386\n",
      "Val acc = 0.8219\n",
      "\n",
      "New best epoch, acc = 0.8219\n",
      "\n"
     ]
    },
    {
     "data": {
      "application/vnd.jupyter.widget-view+json": {
       "model_id": "3c6e4688aa5d428883c460186a3d5090",
       "version_major": 2,
       "version_minor": 0
      },
      "text/plain": [
       "Training loop:   0%|          | 0/390 [00:00<?, ?it/s]"
      ]
     },
     "metadata": {},
     "output_type": "display_data"
    },
    {
     "name": "stdout",
     "output_type": "stream",
     "text": [
      "----- Epoch = 6 -----\n",
      "Val loss = 0.5834\n",
      "Val acc = 0.8131\n"
     ]
    },
    {
     "data": {
      "application/vnd.jupyter.widget-view+json": {
       "model_id": "9f3f4df5322340c79527372b767975f2",
       "version_major": 2,
       "version_minor": 0
      },
      "text/plain": [
       "Training loop:   0%|          | 0/390 [00:00<?, ?it/s]"
      ]
     },
     "metadata": {},
     "output_type": "display_data"
    },
    {
     "name": "stdout",
     "output_type": "stream",
     "text": [
      "----- Epoch = 7 -----\n",
      "Val loss = 0.5062\n",
      "Val acc = 0.8438\n",
      "\n",
      "New best epoch, acc = 0.8438\n",
      "\n"
     ]
    },
    {
     "data": {
      "application/vnd.jupyter.widget-view+json": {
       "model_id": "0071a86af41c4a5b8ec584f6e593ff7e",
       "version_major": 2,
       "version_minor": 0
      },
      "text/plain": [
       "Training loop:   0%|          | 0/390 [00:00<?, ?it/s]"
      ]
     },
     "metadata": {},
     "output_type": "display_data"
    },
    {
     "name": "stdout",
     "output_type": "stream",
     "text": [
      "----- Epoch = 8 -----\n",
      "Val loss = 0.5733\n",
      "Val acc = 0.8378\n"
     ]
    },
    {
     "data": {
      "application/vnd.jupyter.widget-view+json": {
       "model_id": "2496c861ead54c06a7588d0693dbef84",
       "version_major": 2,
       "version_minor": 0
      },
      "text/plain": [
       "Training loop:   0%|          | 0/390 [00:00<?, ?it/s]"
      ]
     },
     "metadata": {},
     "output_type": "display_data"
    },
    {
     "name": "stderr",
     "output_type": "stream",
     "text": [
      "Exception ignored in: <function _MultiProcessingDataLoaderIter.__del__ at 0x7f74847cec10>\n",
      "Traceback (most recent call last):\n",
      "  File \"/home-nfs/raphaelr/miniconda/lib/python3.8/site-packages/torch/utils/data/dataloader.py\", line 1358, in __del__\n",
      "\n",
      "  File \"/home-nfs/raphaelr/miniconda/lib/python3.8/site-packages/torch/utils/data/dataloader.py\", line 1341, in _shutdown_workers\n",
      "self._shutdown_workers()        if w.is_alive():\n",
      "  File \"/home-nfs/raphaelr/miniconda/lib/python3.8/multiprocessing/process.py\", line 160, in is_alive\n",
      "    assert self._parent_pid == os.getpid(), 'can only test a child process'\n",
      "AssertionError: can only test a child process\n",
      "Exception ignored in: <function _MultiProcessingDataLoaderIter.__del__ at 0x7f74847cec10>\n",
      "Traceback (most recent call last):\n",
      "  File \"/home-nfs/raphaelr/miniconda/lib/python3.8/site-packages/torch/utils/data/dataloader.py\", line 1358, in __del__\n",
      "    self._shutdown_workers()\n",
      "  File \"/home-nfs/raphaelr/miniconda/lib/python3.8/site-packages/torch/utils/data/dataloader.py\", line 1341, in _shutdown_workers\n",
      "    if w.is_alive():\n",
      "  File \"/home-nfs/raphaelr/miniconda/lib/python3.8/multiprocessing/process.py\", line 160, in is_alive\n",
      "    assert self._parent_pid == os.getpid(), 'can only test a child process'\n",
      "AssertionError: can only test a child process\n",
      "Exception ignored in: Exception ignored in: <function _MultiProcessingDataLoaderIter.__del__ at 0x7f74847cec10>\n",
      "Traceback (most recent call last):\n",
      "  File \"/home-nfs/raphaelr/miniconda/lib/python3.8/site-packages/torch/utils/data/dataloader.py\", line 1358, in __del__\n",
      "<function _MultiProcessingDataLoaderIter.__del__ at 0x7f74847cec10>Exception ignored in: \n",
      "Traceback (most recent call last):\n",
      "    <function _MultiProcessingDataLoaderIter.__del__ at 0x7f74847cec10>  File \"/home-nfs/raphaelr/miniconda/lib/python3.8/site-packages/torch/utils/data/dataloader.py\", line 1358, in __del__\n",
      "\n",
      "self._shutdown_workers()    \n",
      "Exception ignored in: self._shutdown_workers()\n",
      "  File \"/home-nfs/raphaelr/miniconda/lib/python3.8/site-packages/torch/utils/data/dataloader.py\", line 1341, in _shutdown_workers\n",
      "    if w.is_alive():\n",
      "  File \"/home-nfs/raphaelr/miniconda/lib/python3.8/multiprocessing/process.py\", line 160, in is_alive\n",
      "      File \"/home-nfs/raphaelr/miniconda/lib/python3.8/site-packages/torch/utils/data/dataloader.py\", line 1341, in _shutdown_workers\n",
      "assert self._parent_pid == os.getpid(), 'can only test a child process'<function _MultiProcessingDataLoaderIter.__del__ at 0x7f74847cec10>    \n",
      "AssertionError: \n",
      "can only test a child processTraceback (most recent call last):\n",
      "\n",
      "if w.is_alive():  File \"/home-nfs/raphaelr/miniconda/lib/python3.8/site-packages/torch/utils/data/dataloader.py\", line 1358, in __del__\n",
      "\n",
      "  File \"/home-nfs/raphaelr/miniconda/lib/python3.8/multiprocessing/process.py\", line 160, in is_alive\n",
      "Traceback (most recent call last):\n",
      "    Exception ignored in:   File \"/home-nfs/raphaelr/miniconda/lib/python3.8/site-packages/torch/utils/data/dataloader.py\", line 1358, in __del__\n",
      "    self._shutdown_workers()\n",
      "  File \"/home-nfs/raphaelr/miniconda/lib/python3.8/site-packages/torch/utils/data/dataloader.py\", line 1341, in _shutdown_workers\n",
      "assert self._parent_pid == os.getpid(), 'can only test a child process'    self._shutdown_workers()\n",
      "  File \"/home-nfs/raphaelr/miniconda/lib/python3.8/site-packages/torch/utils/data/dataloader.py\", line 1341, in _shutdown_workers\n",
      "<function _MultiProcessingDataLoaderIter.__del__ at 0x7f74847cec10>        if w.is_alive():\n",
      "if w.is_alive():\n",
      "\n",
      "Traceback (most recent call last):\n",
      "  File \"/home-nfs/raphaelr/miniconda/lib/python3.8/multiprocessing/process.py\", line 160, in is_alive\n",
      "AssertionError    : assert self._parent_pid == os.getpid(), 'can only test a child process'\n",
      "  File \"/home-nfs/raphaelr/miniconda/lib/python3.8/site-packages/torch/utils/data/dataloader.py\", line 1358, in __del__\n",
      "AssertionError\n",
      "  File \"/home-nfs/raphaelr/miniconda/lib/python3.8/multiprocessing/process.py\", line 160, in is_alive\n",
      "can only test a child processException ignored in: \n",
      "\n",
      ": can only test a child process<function _MultiProcessingDataLoaderIter.__del__ at 0x7f74847cec10>\n",
      "Traceback (most recent call last):\n",
      "  File \"/home-nfs/raphaelr/miniconda/lib/python3.8/site-packages/torch/utils/data/dataloader.py\", line 1358, in __del__\n",
      "    Exception ignored in: self._shutdown_workers()    \n",
      "<function _MultiProcessingDataLoaderIter.__del__ at 0x7f74847cec10>  File \"/home-nfs/raphaelr/miniconda/lib/python3.8/site-packages/torch/utils/data/dataloader.py\", line 1341, in _shutdown_workers\n",
      "assert self._parent_pid == os.getpid(), 'can only test a child process'\n",
      "Traceback (most recent call last):\n",
      "\n",
      "Exception ignored in: AssertionError  File \"/home-nfs/raphaelr/miniconda/lib/python3.8/site-packages/torch/utils/data/dataloader.py\", line 1358, in __del__\n",
      ":         <function _MultiProcessingDataLoaderIter.__del__ at 0x7f74847cec10>\n",
      "self._shutdown_workers()can only test a child processTraceback (most recent call last):\n",
      "\n",
      "if w.is_alive():  File \"/home-nfs/raphaelr/miniconda/lib/python3.8/site-packages/torch/utils/data/dataloader.py\", line 1358, in __del__\n",
      "\n",
      "  File \"/home-nfs/raphaelr/miniconda/lib/python3.8/multiprocessing/process.py\", line 160, in is_alive\n",
      "        self._shutdown_workers()    self._shutdown_workers()\n",
      "\n",
      "assert self._parent_pid == os.getpid(), 'can only test a child process'\n",
      "  File \"/home-nfs/raphaelr/miniconda/lib/python3.8/site-packages/torch/utils/data/dataloader.py\", line 1341, in _shutdown_workers\n",
      "  File \"/home-nfs/raphaelr/miniconda/lib/python3.8/site-packages/torch/utils/data/dataloader.py\", line 1341, in _shutdown_workers\n",
      "AssertionError  File \"/home-nfs/raphaelr/miniconda/lib/python3.8/site-packages/torch/utils/data/dataloader.py\", line 1341, in _shutdown_workers\n",
      "\n",
      "        : if w.is_alive():can only test a child process\n",
      "    \n",
      "  File \"/home-nfs/raphaelr/miniconda/lib/python3.8/multiprocessing/process.py\", line 160, in is_alive\n",
      "if w.is_alive():    \n",
      "assert self._parent_pid == os.getpid(), 'can only test a child process'  File \"/home-nfs/raphaelr/miniconda/lib/python3.8/multiprocessing/process.py\", line 160, in is_alive\n",
      "Exception ignored in: \n",
      "<function _MultiProcessingDataLoaderIter.__del__ at 0x7f74847cec10>    Exception ignored in: \n",
      "Traceback (most recent call last):\n",
      "<function _MultiProcessingDataLoaderIter.__del__ at 0x7f74847cec10>assert self._parent_pid == os.getpid(), 'can only test a child process'if w.is_alive():  File \"/home-nfs/raphaelr/miniconda/lib/python3.8/site-packages/torch/utils/data/dataloader.py\", line 1358, in __del__\n",
      "AssertionError\n",
      "\n",
      ": \n",
      "  File \"/home-nfs/raphaelr/miniconda/lib/python3.8/multiprocessing/process.py\", line 160, in is_alive\n",
      "Traceback (most recent call last):\n",
      "    AssertionErrorcan only test a child process\n",
      "  File \"/home-nfs/raphaelr/miniconda/lib/python3.8/site-packages/torch/utils/data/dataloader.py\", line 1358, in __del__\n",
      "self._shutdown_workers(): \n",
      "      File \"/home-nfs/raphaelr/miniconda/lib/python3.8/site-packages/torch/utils/data/dataloader.py\", line 1341, in _shutdown_workers\n",
      "assert self._parent_pid == os.getpid(), 'can only test a child process'can only test a child process\n",
      "    if w.is_alive():AssertionError\n",
      ":   File \"/home-nfs/raphaelr/miniconda/lib/python3.8/multiprocessing/process.py\", line 160, in is_alive\n",
      "    can only test a child process    \n",
      "assert self._parent_pid == os.getpid(), 'can only test a child process'\n",
      "Exception ignored in: \n",
      "<function _MultiProcessingDataLoaderIter.__del__ at 0x7f74847cec10>AssertionError\n",
      ": Traceback (most recent call last):\n",
      "can only test a child processException ignored in:   File \"/home-nfs/raphaelr/miniconda/lib/python3.8/site-packages/torch/utils/data/dataloader.py\", line 1358, in __del__\n",
      "<function _MultiProcessingDataLoaderIter.__del__ at 0x7f74847cec10>self._shutdown_workers()\n",
      "    \n",
      "  File \"/home-nfs/raphaelr/miniconda/lib/python3.8/site-packages/torch/utils/data/dataloader.py\", line 1341, in _shutdown_workers\n",
      "    self._shutdown_workers()Exception ignored in: Exception ignored in: if w.is_alive():<function _MultiProcessingDataLoaderIter.__del__ at 0x7f74847cec10>\n",
      "<function _MultiProcessingDataLoaderIter.__del__ at 0x7f74847cec10>\n",
      "  File \"/home-nfs/raphaelr/miniconda/lib/python3.8/multiprocessing/process.py\", line 160, in is_alive\n"
     ]
    },
    {
     "name": "stderr",
     "output_type": "stream",
     "text": [
      "\n",
      "Traceback (most recent call last):\n",
      "Traceback (most recent call last):\n",
      "  File \"/home-nfs/raphaelr/miniconda/lib/python3.8/site-packages/torch/utils/data/dataloader.py\", line 1358, in __del__\n",
      "  File \"/home-nfs/raphaelr/miniconda/lib/python3.8/site-packages/torch/utils/data/dataloader.py\", line 1358, in __del__\n",
      "\n",
      "        self._shutdown_workers()self._shutdown_workers()Traceback (most recent call last):\n",
      "    \n",
      "  File \"/home-nfs/raphaelr/miniconda/lib/python3.8/site-packages/torch/utils/data/dataloader.py\", line 1358, in __del__\n",
      "assert self._parent_pid == os.getpid(), 'can only test a child process'\n",
      "  File \"/home-nfs/raphaelr/miniconda/lib/python3.8/site-packages/torch/utils/data/dataloader.py\", line 1341, in _shutdown_workers\n",
      "\n",
      "  File \"/home-nfs/raphaelr/miniconda/lib/python3.8/site-packages/torch/utils/data/dataloader.py\", line 1341, in _shutdown_workers\n",
      "    AssertionError    self._shutdown_workers()if w.is_alive():: \n",
      "\n",
      "      File \"/home-nfs/raphaelr/miniconda/lib/python3.8/site-packages/torch/utils/data/dataloader.py\", line 1341, in _shutdown_workers\n",
      "can only test a child process  File \"/home-nfs/raphaelr/miniconda/lib/python3.8/site-packages/torch/utils/data/dataloader.py\", line 1341, in _shutdown_workers\n",
      "if w.is_alive():\n",
      "    \n",
      "    if w.is_alive():  File \"/home-nfs/raphaelr/miniconda/lib/python3.8/multiprocessing/process.py\", line 160, in is_alive\n",
      "\n",
      "if w.is_alive():\n",
      "  File \"/home-nfs/raphaelr/miniconda/lib/python3.8/multiprocessing/process.py\", line 160, in is_alive\n",
      "    \n",
      "  File \"/home-nfs/raphaelr/miniconda/lib/python3.8/multiprocessing/process.py\", line 160, in is_alive\n",
      "assert self._parent_pid == os.getpid(), 'can only test a child process'      File \"/home-nfs/raphaelr/miniconda/lib/python3.8/multiprocessing/process.py\", line 160, in is_alive\n",
      "\n",
      "    assert self._parent_pid == os.getpid(), 'can only test a child process'    assert self._parent_pid == os.getpid(), 'can only test a child process'\n",
      "\n",
      "assert self._parent_pid == os.getpid(), 'can only test a child process'AssertionErrorAssertionError\n",
      ": AssertionErrorcan only test a child process: : can only test a child processcan only test a child process\n",
      "\n",
      "\n",
      "AssertionError: can only test a child process\n",
      "Exception ignored in: <function _MultiProcessingDataLoaderIter.__del__ at 0x7f74847cec10>Exception ignored in: \n",
      "<function _MultiProcessingDataLoaderIter.__del__ at 0x7f74847cec10>Traceback (most recent call last):\n",
      "Exception ignored in:   File \"/home-nfs/raphaelr/miniconda/lib/python3.8/site-packages/torch/utils/data/dataloader.py\", line 1358, in __del__\n",
      "<function _MultiProcessingDataLoaderIter.__del__ at 0x7f74847cec10>\n",
      "Exception ignored in: <function _MultiProcessingDataLoaderIter.__del__ at 0x7f74847cec10>\n",
      "Traceback (most recent call last):\n",
      "    Traceback (most recent call last):\n",
      "  File \"/home-nfs/raphaelr/miniconda/lib/python3.8/site-packages/torch/utils/data/dataloader.py\", line 1358, in __del__\n",
      "self._shutdown_workers()  File \"/home-nfs/raphaelr/miniconda/lib/python3.8/site-packages/torch/utils/data/dataloader.py\", line 1358, in __del__\n",
      "\n",
      "Traceback (most recent call last):\n",
      "\n",
      "      File \"/home-nfs/raphaelr/miniconda/lib/python3.8/site-packages/torch/utils/data/dataloader.py\", line 1358, in __del__\n",
      "  File \"/home-nfs/raphaelr/miniconda/lib/python3.8/site-packages/torch/utils/data/dataloader.py\", line 1341, in _shutdown_workers\n",
      "self._shutdown_workers()    \n",
      "self._shutdown_workers()      File \"/home-nfs/raphaelr/miniconda/lib/python3.8/site-packages/torch/utils/data/dataloader.py\", line 1341, in _shutdown_workers\n",
      "\n",
      "    if w.is_alive():    \n",
      "self._shutdown_workers()  File \"/home-nfs/raphaelr/miniconda/lib/python3.8/site-packages/torch/utils/data/dataloader.py\", line 1341, in _shutdown_workers\n",
      "  File \"/home-nfs/raphaelr/miniconda/lib/python3.8/multiprocessing/process.py\", line 160, in is_alive\n",
      "if w.is_alive():\n",
      "\n",
      "      File \"/home-nfs/raphaelr/miniconda/lib/python3.8/site-packages/torch/utils/data/dataloader.py\", line 1341, in _shutdown_workers\n",
      "    assert self._parent_pid == os.getpid(), 'can only test a child process'  File \"/home-nfs/raphaelr/miniconda/lib/python3.8/multiprocessing/process.py\", line 160, in is_alive\n",
      "if w.is_alive():\n",
      "    \n",
      "AssertionErrorif w.is_alive():      File \"/home-nfs/raphaelr/miniconda/lib/python3.8/multiprocessing/process.py\", line 160, in is_alive\n",
      ": \n",
      "assert self._parent_pid == os.getpid(), 'can only test a child process'      File \"/home-nfs/raphaelr/miniconda/lib/python3.8/multiprocessing/process.py\", line 160, in is_alive\n",
      "\n",
      "can only test a child processassert self._parent_pid == os.getpid(), 'can only test a child process'AssertionError\n",
      "\n",
      ":     AssertionErrorassert self._parent_pid == os.getpid(), 'can only test a child process'can only test a child process: \n",
      "\n",
      "can only test a child process\n",
      "AssertionErrorException ignored in: : <function _MultiProcessingDataLoaderIter.__del__ at 0x7f74847cec10>can only test a child process\n",
      "Exception ignored in: \n",
      "Traceback (most recent call last):\n",
      "<function _MultiProcessingDataLoaderIter.__del__ at 0x7f74847cec10>Exception ignored in:   File \"/home-nfs/raphaelr/miniconda/lib/python3.8/site-packages/torch/utils/data/dataloader.py\", line 1358, in __del__\n",
      "<function _MultiProcessingDataLoaderIter.__del__ at 0x7f74847cec10>\n",
      "Traceback (most recent call last):\n",
      "\n",
      "      File \"/home-nfs/raphaelr/miniconda/lib/python3.8/site-packages/torch/utils/data/dataloader.py\", line 1358, in __del__\n",
      "Traceback (most recent call last):\n",
      "Exception ignored in: self._shutdown_workers()<function _MultiProcessingDataLoaderIter.__del__ at 0x7f74847cec10>    \n",
      "\n",
      "  File \"/home-nfs/raphaelr/miniconda/lib/python3.8/site-packages/torch/utils/data/dataloader.py\", line 1358, in __del__\n",
      "self._shutdown_workers()  File \"/home-nfs/raphaelr/miniconda/lib/python3.8/site-packages/torch/utils/data/dataloader.py\", line 1341, in _shutdown_workers\n",
      "Traceback (most recent call last):\n",
      "\n",
      "  File \"/home-nfs/raphaelr/miniconda/lib/python3.8/site-packages/torch/utils/data/dataloader.py\", line 1358, in __del__\n",
      "      File \"/home-nfs/raphaelr/miniconda/lib/python3.8/site-packages/torch/utils/data/dataloader.py\", line 1341, in _shutdown_workers\n",
      "    self._shutdown_workers()    if w.is_alive():\n",
      "    self._shutdown_workers()\n",
      "  File \"/home-nfs/raphaelr/miniconda/lib/python3.8/site-packages/torch/utils/data/dataloader.py\", line 1341, in _shutdown_workers\n",
      "if w.is_alive():\n",
      "  File \"/home-nfs/raphaelr/miniconda/lib/python3.8/multiprocessing/process.py\", line 160, in is_alive\n",
      "\n",
      "  File \"/home-nfs/raphaelr/miniconda/lib/python3.8/site-packages/torch/utils/data/dataloader.py\", line 1341, in _shutdown_workers\n",
      "      File \"/home-nfs/raphaelr/miniconda/lib/python3.8/multiprocessing/process.py\", line 160, in is_alive\n",
      "    if w.is_alive():assert self._parent_pid == os.getpid(), 'can only test a child process'    \n",
      "    if w.is_alive():assert self._parent_pid == os.getpid(), 'can only test a child process'  File \"/home-nfs/raphaelr/miniconda/lib/python3.8/multiprocessing/process.py\", line 160, in is_alive\n",
      "\n",
      "\n",
      "\n",
      "AssertionError  File \"/home-nfs/raphaelr/miniconda/lib/python3.8/multiprocessing/process.py\", line 160, in is_alive\n",
      "    AssertionError: assert self._parent_pid == os.getpid(), 'can only test a child process':     can only test a child process\n",
      "can only test a child processassert self._parent_pid == os.getpid(), 'can only test a child process'\n",
      "\n",
      "AssertionError\n",
      ": AssertionErrorcan only test a child process: \n",
      "can only test a child process\n",
      "Exception ignored in: <function _MultiProcessingDataLoaderIter.__del__ at 0x7f74847cec10>\n",
      "Traceback (most recent call last):\n",
      "  File \"/home-nfs/raphaelr/miniconda/lib/python3.8/site-packages/torch/utils/data/dataloader.py\", line 1358, in __del__\n",
      "    self._shutdown_workers()\n",
      "  File \"/home-nfs/raphaelr/miniconda/lib/python3.8/site-packages/torch/utils/data/dataloader.py\", line 1341, in _shutdown_workers\n",
      "    if w.is_alive():\n",
      "  File \"/home-nfs/raphaelr/miniconda/lib/python3.8/multiprocessing/process.py\", line 160, in is_alive\n",
      "    assert self._parent_pid == os.getpid(), 'can only test a child process'\n",
      "AssertionError: can only test a child process\n",
      "Exception ignored in: <function _MultiProcessingDataLoaderIter.__del__ at 0x7f74847cec10>\n",
      "Traceback (most recent call last):\n",
      "  File \"/home-nfs/raphaelr/miniconda/lib/python3.8/site-packages/torch/utils/data/dataloader.py\", line 1358, in __del__\n"
     ]
    },
    {
     "name": "stderr",
     "output_type": "stream",
     "text": [
      "Exception ignored in: <function _MultiProcessingDataLoaderIter.__del__ at 0x7f74847cec10>Exception ignored in:     \n",
      "self._shutdown_workers()Traceback (most recent call last):\n",
      "<function _MultiProcessingDataLoaderIter.__del__ at 0x7f74847cec10>\n",
      "  File \"/home-nfs/raphaelr/miniconda/lib/python3.8/site-packages/torch/utils/data/dataloader.py\", line 1358, in __del__\n",
      "\n",
      "  File \"/home-nfs/raphaelr/miniconda/lib/python3.8/site-packages/torch/utils/data/dataloader.py\", line 1341, in _shutdown_workers\n",
      "Traceback (most recent call last):\n",
      "        self._shutdown_workers()  File \"/home-nfs/raphaelr/miniconda/lib/python3.8/site-packages/torch/utils/data/dataloader.py\", line 1358, in __del__\n",
      "\n",
      "if w.is_alive():    \n",
      "  File \"/home-nfs/raphaelr/miniconda/lib/python3.8/site-packages/torch/utils/data/dataloader.py\", line 1341, in _shutdown_workers\n",
      "self._shutdown_workers()  File \"/home-nfs/raphaelr/miniconda/lib/python3.8/multiprocessing/process.py\", line 160, in is_alive\n",
      "\n",
      "  File \"/home-nfs/raphaelr/miniconda/lib/python3.8/site-packages/torch/utils/data/dataloader.py\", line 1341, in _shutdown_workers\n",
      "        Exception ignored in: assert self._parent_pid == os.getpid(), 'can only test a child process'if w.is_alive():    \n",
      "\n",
      "if w.is_alive():<function _MultiProcessingDataLoaderIter.__del__ at 0x7f74847cec10>  File \"/home-nfs/raphaelr/miniconda/lib/python3.8/multiprocessing/process.py\", line 160, in is_alive\n",
      "\n",
      "AssertionError\n",
      "  File \"/home-nfs/raphaelr/miniconda/lib/python3.8/multiprocessing/process.py\", line 160, in is_alive\n",
      "Traceback (most recent call last):\n",
      "          File \"/home-nfs/raphaelr/miniconda/lib/python3.8/site-packages/torch/utils/data/dataloader.py\", line 1358, in __del__\n",
      ": assert self._parent_pid == os.getpid(), 'can only test a child process'assert self._parent_pid == os.getpid(), 'can only test a child process'\n",
      "can only test a child process\n",
      "AssertionError    \n",
      "AssertionError: self._shutdown_workers(): can only test a child process\n",
      "can only test a child process\n",
      "  File \"/home-nfs/raphaelr/miniconda/lib/python3.8/site-packages/torch/utils/data/dataloader.py\", line 1341, in _shutdown_workers\n",
      "\n",
      "Exception ignored in: <function _MultiProcessingDataLoaderIter.__del__ at 0x7f74847cec10>    \n",
      "if w.is_alive():Traceback (most recent call last):\n",
      "Exception ignored in: \n",
      "  File \"/home-nfs/raphaelr/miniconda/lib/python3.8/site-packages/torch/utils/data/dataloader.py\", line 1358, in __del__\n",
      "<function _MultiProcessingDataLoaderIter.__del__ at 0x7f74847cec10>Exception ignored in:   File \"/home-nfs/raphaelr/miniconda/lib/python3.8/multiprocessing/process.py\", line 160, in is_alive\n",
      "<function _MultiProcessingDataLoaderIter.__del__ at 0x7f74847cec10>    \n",
      "\n",
      "self._shutdown_workers()    Traceback (most recent call last):\n",
      "Traceback (most recent call last):\n",
      "\n",
      "assert self._parent_pid == os.getpid(), 'can only test a child process'  File \"/home-nfs/raphaelr/miniconda/lib/python3.8/site-packages/torch/utils/data/dataloader.py\", line 1358, in __del__\n",
      "  File \"/home-nfs/raphaelr/miniconda/lib/python3.8/site-packages/torch/utils/data/dataloader.py\", line 1358, in __del__\n",
      "  File \"/home-nfs/raphaelr/miniconda/lib/python3.8/site-packages/torch/utils/data/dataloader.py\", line 1341, in _shutdown_workers\n",
      "\n",
      "            AssertionErrorself._shutdown_workers()self._shutdown_workers()if w.is_alive():: \n",
      "\n",
      "\n",
      "can only test a child process  File \"/home-nfs/raphaelr/miniconda/lib/python3.8/site-packages/torch/utils/data/dataloader.py\", line 1341, in _shutdown_workers\n",
      "  File \"/home-nfs/raphaelr/miniconda/lib/python3.8/multiprocessing/process.py\", line 160, in is_alive\n",
      "\n",
      "  File \"/home-nfs/raphaelr/miniconda/lib/python3.8/site-packages/torch/utils/data/dataloader.py\", line 1341, in _shutdown_workers\n",
      "        if w.is_alive():    assert self._parent_pid == os.getpid(), 'can only test a child process'\n",
      "if w.is_alive():\n",
      "  File \"/home-nfs/raphaelr/miniconda/lib/python3.8/multiprocessing/process.py\", line 160, in is_alive\n",
      "\n",
      "    AssertionError  File \"/home-nfs/raphaelr/miniconda/lib/python3.8/multiprocessing/process.py\", line 160, in is_alive\n",
      "assert self._parent_pid == os.getpid(), 'can only test a child process':     \n",
      "can only test a child processassert self._parent_pid == os.getpid(), 'can only test a child process'AssertionError\n",
      "\n",
      ": Exception ignored in: AssertionErrorcan only test a child process<function _MultiProcessingDataLoaderIter.__del__ at 0x7f74847cec10>: \n",
      "can only test a child process\n",
      "\n",
      "Exception ignored in: Traceback (most recent call last):\n",
      "  File \"/home-nfs/raphaelr/miniconda/lib/python3.8/site-packages/torch/utils/data/dataloader.py\", line 1358, in __del__\n",
      "<function _MultiProcessingDataLoaderIter.__del__ at 0x7f74847cec10>Exception ignored in: Exception ignored in: \n",
      "<function _MultiProcessingDataLoaderIter.__del__ at 0x7f74847cec10>    <function _MultiProcessingDataLoaderIter.__del__ at 0x7f74847cec10>\n",
      "Traceback (most recent call last):\n",
      "self._shutdown_workers()Traceback (most recent call last):\n",
      "  File \"/home-nfs/raphaelr/miniconda/lib/python3.8/site-packages/torch/utils/data/dataloader.py\", line 1358, in __del__\n",
      "\n",
      "\n",
      "  File \"/home-nfs/raphaelr/miniconda/lib/python3.8/site-packages/torch/utils/data/dataloader.py\", line 1358, in __del__\n",
      "  File \"/home-nfs/raphaelr/miniconda/lib/python3.8/site-packages/torch/utils/data/dataloader.py\", line 1341, in _shutdown_workers\n",
      "Traceback (most recent call last):\n",
      "      File \"/home-nfs/raphaelr/miniconda/lib/python3.8/site-packages/torch/utils/data/dataloader.py\", line 1358, in __del__\n",
      "    self._shutdown_workers()self._shutdown_workers()    \n",
      "\n",
      "self._shutdown_workers()  File \"/home-nfs/raphaelr/miniconda/lib/python3.8/site-packages/torch/utils/data/dataloader.py\", line 1341, in _shutdown_workers\n",
      "  File \"/home-nfs/raphaelr/miniconda/lib/python3.8/site-packages/torch/utils/data/dataloader.py\", line 1341, in _shutdown_workers\n",
      "\n",
      "  File \"/home-nfs/raphaelr/miniconda/lib/python3.8/site-packages/torch/utils/data/dataloader.py\", line 1341, in _shutdown_workers\n",
      "            if w.is_alive():if w.is_alive():if w.is_alive():\n",
      "\n",
      "\n",
      "      File \"/home-nfs/raphaelr/miniconda/lib/python3.8/multiprocessing/process.py\", line 160, in is_alive\n",
      "  File \"/home-nfs/raphaelr/miniconda/lib/python3.8/multiprocessing/process.py\", line 160, in is_alive\n",
      "  File \"/home-nfs/raphaelr/miniconda/lib/python3.8/multiprocessing/process.py\", line 160, in is_alive\n",
      "if w.is_alive():    \n",
      "        assert self._parent_pid == os.getpid(), 'can only test a child process'assert self._parent_pid == os.getpid(), 'can only test a child process'  File \"/home-nfs/raphaelr/miniconda/lib/python3.8/multiprocessing/process.py\", line 160, in is_alive\n",
      "\n",
      "assert self._parent_pid == os.getpid(), 'can only test a child process'\n",
      "    AssertionError\n",
      "AssertionError: assert self._parent_pid == os.getpid(), 'can only test a child process'AssertionError: can only test a child process\n",
      "can only test a child process: \n",
      "AssertionError\n",
      "can only test a child process: \n",
      "can only test a child process\n",
      "Exception ignored in: Exception ignored in: Exception ignored in: <function _MultiProcessingDataLoaderIter.__del__ at 0x7f74847cec10><function _MultiProcessingDataLoaderIter.__del__ at 0x7f74847cec10><function _MultiProcessingDataLoaderIter.__del__ at 0x7f74847cec10>\n",
      "\n",
      "\n",
      "Traceback (most recent call last):\n",
      "Exception ignored in: Traceback (most recent call last):\n",
      "Traceback (most recent call last):\n",
      "  File \"/home-nfs/raphaelr/miniconda/lib/python3.8/site-packages/torch/utils/data/dataloader.py\", line 1358, in __del__\n",
      "<function _MultiProcessingDataLoaderIter.__del__ at 0x7f74847cec10>  File \"/home-nfs/raphaelr/miniconda/lib/python3.8/site-packages/torch/utils/data/dataloader.py\", line 1358, in __del__\n",
      "  File \"/home-nfs/raphaelr/miniconda/lib/python3.8/site-packages/torch/utils/data/dataloader.py\", line 1358, in __del__\n",
      "\n",
      "    Traceback (most recent call last):\n",
      "        self._shutdown_workers()  File \"/home-nfs/raphaelr/miniconda/lib/python3.8/site-packages/torch/utils/data/dataloader.py\", line 1358, in __del__\n",
      "self._shutdown_workers()self._shutdown_workers()\n",
      "\n",
      "\n",
      "  File \"/home-nfs/raphaelr/miniconda/lib/python3.8/site-packages/torch/utils/data/dataloader.py\", line 1341, in _shutdown_workers\n",
      "      File \"/home-nfs/raphaelr/miniconda/lib/python3.8/site-packages/torch/utils/data/dataloader.py\", line 1341, in _shutdown_workers\n"
     ]
    },
    {
     "name": "stderr",
     "output_type": "stream",
     "text": [
      "  File \"/home-nfs/raphaelr/miniconda/lib/python3.8/site-packages/torch/utils/data/dataloader.py\", line 1341, in _shutdown_workers\n",
      "self._shutdown_workers()    \n",
      "    if w.is_alive():  File \"/home-nfs/raphaelr/miniconda/lib/python3.8/site-packages/torch/utils/data/dataloader.py\", line 1341, in _shutdown_workers\n",
      "if w.is_alive():    \n",
      "\n",
      "if w.is_alive():  File \"/home-nfs/raphaelr/miniconda/lib/python3.8/multiprocessing/process.py\", line 160, in is_alive\n",
      "      File \"/home-nfs/raphaelr/miniconda/lib/python3.8/multiprocessing/process.py\", line 160, in is_alive\n",
      "\n",
      "if w.is_alive():      File \"/home-nfs/raphaelr/miniconda/lib/python3.8/multiprocessing/process.py\", line 160, in is_alive\n",
      "    \n",
      "assert self._parent_pid == os.getpid(), 'can only test a child process'assert self._parent_pid == os.getpid(), 'can only test a child process'      File \"/home-nfs/raphaelr/miniconda/lib/python3.8/multiprocessing/process.py\", line 160, in is_alive\n",
      "\n",
      "\n",
      "assert self._parent_pid == os.getpid(), 'can only test a child process'AssertionErrorAssertionError    \n",
      ": : assert self._parent_pid == os.getpid(), 'can only test a child process'can only test a child processAssertionError\n",
      "can only test a child process\n",
      ": AssertionError\n",
      "can only test a child process: \n",
      "can only test a child process\n",
      "Exception ignored in: <function _MultiProcessingDataLoaderIter.__del__ at 0x7f74847cec10>Exception ignored in: \n",
      "Exception ignored in: <function _MultiProcessingDataLoaderIter.__del__ at 0x7f74847cec10>Traceback (most recent call last):\n",
      "<function _MultiProcessingDataLoaderIter.__del__ at 0x7f74847cec10>\n",
      "  File \"/home-nfs/raphaelr/miniconda/lib/python3.8/site-packages/torch/utils/data/dataloader.py\", line 1358, in __del__\n",
      "\n",
      "Exception ignored in: Traceback (most recent call last):\n",
      "Traceback (most recent call last):\n",
      "      File \"/home-nfs/raphaelr/miniconda/lib/python3.8/site-packages/torch/utils/data/dataloader.py\", line 1358, in __del__\n",
      "<function _MultiProcessingDataLoaderIter.__del__ at 0x7f74847cec10>  File \"/home-nfs/raphaelr/miniconda/lib/python3.8/site-packages/torch/utils/data/dataloader.py\", line 1358, in __del__\n",
      "self._shutdown_workers()\n",
      "\n",
      "    Traceback (most recent call last):\n",
      "    self._shutdown_workers()  File \"/home-nfs/raphaelr/miniconda/lib/python3.8/site-packages/torch/utils/data/dataloader.py\", line 1341, in _shutdown_workers\n",
      "  File \"/home-nfs/raphaelr/miniconda/lib/python3.8/site-packages/torch/utils/data/dataloader.py\", line 1358, in __del__\n",
      "self._shutdown_workers()\n",
      "\n",
      "  File \"/home-nfs/raphaelr/miniconda/lib/python3.8/site-packages/torch/utils/data/dataloader.py\", line 1341, in _shutdown_workers\n",
      "      File \"/home-nfs/raphaelr/miniconda/lib/python3.8/site-packages/torch/utils/data/dataloader.py\", line 1341, in _shutdown_workers\n",
      "    if w.is_alive():self._shutdown_workers()    \n",
      "    \n",
      "if w.is_alive():  File \"/home-nfs/raphaelr/miniconda/lib/python3.8/multiprocessing/process.py\", line 160, in is_alive\n",
      "  File \"/home-nfs/raphaelr/miniconda/lib/python3.8/site-packages/torch/utils/data/dataloader.py\", line 1341, in _shutdown_workers\n",
      "if w.is_alive():\n",
      "    \n",
      "  File \"/home-nfs/raphaelr/miniconda/lib/python3.8/multiprocessing/process.py\", line 160, in is_alive\n",
      "    assert self._parent_pid == os.getpid(), 'can only test a child process'  File \"/home-nfs/raphaelr/miniconda/lib/python3.8/multiprocessing/process.py\", line 160, in is_alive\n",
      "if w.is_alive():    \n",
      "\n",
      "    assert self._parent_pid == os.getpid(), 'can only test a child process'AssertionError  File \"/home-nfs/raphaelr/miniconda/lib/python3.8/multiprocessing/process.py\", line 160, in is_alive\n",
      "assert self._parent_pid == os.getpid(), 'can only test a child process': \n",
      "\n",
      "can only test a child process    AssertionError\n",
      "AssertionErrorassert self._parent_pid == os.getpid(), 'can only test a child process': : \n",
      "can only test a child processcan only test a child processAssertionError\n",
      "\n",
      ": can only test a child processException ignored in: \n",
      "<function _MultiProcessingDataLoaderIter.__del__ at 0x7f74847cec10>Exception ignored in: \n",
      "Exception ignored in: Traceback (most recent call last):\n",
      "<function _MultiProcessingDataLoaderIter.__del__ at 0x7f74847cec10>  File \"/home-nfs/raphaelr/miniconda/lib/python3.8/site-packages/torch/utils/data/dataloader.py\", line 1358, in __del__\n",
      "<function _MultiProcessingDataLoaderIter.__del__ at 0x7f74847cec10>Exception ignored in: \n",
      "\n",
      "    <function _MultiProcessingDataLoaderIter.__del__ at 0x7f74847cec10>Traceback (most recent call last):\n",
      "Traceback (most recent call last):\n",
      "\n",
      "  File \"/home-nfs/raphaelr/miniconda/lib/python3.8/site-packages/torch/utils/data/dataloader.py\", line 1358, in __del__\n",
      "  File \"/home-nfs/raphaelr/miniconda/lib/python3.8/site-packages/torch/utils/data/dataloader.py\", line 1358, in __del__\n",
      "self._shutdown_workers()Traceback (most recent call last):\n",
      "\n",
      "  File \"/home-nfs/raphaelr/miniconda/lib/python3.8/site-packages/torch/utils/data/dataloader.py\", line 1358, in __del__\n",
      "          File \"/home-nfs/raphaelr/miniconda/lib/python3.8/site-packages/torch/utils/data/dataloader.py\", line 1341, in _shutdown_workers\n",
      "self._shutdown_workers()    \n",
      "    self._shutdown_workers()self._shutdown_workers()  File \"/home-nfs/raphaelr/miniconda/lib/python3.8/site-packages/torch/utils/data/dataloader.py\", line 1341, in _shutdown_workers\n",
      "if w.is_alive():\n",
      "\n",
      "\n",
      "      File \"/home-nfs/raphaelr/miniconda/lib/python3.8/site-packages/torch/utils/data/dataloader.py\", line 1341, in _shutdown_workers\n",
      "  File \"/home-nfs/raphaelr/miniconda/lib/python3.8/multiprocessing/process.py\", line 160, in is_alive\n",
      "  File \"/home-nfs/raphaelr/miniconda/lib/python3.8/site-packages/torch/utils/data/dataloader.py\", line 1341, in _shutdown_workers\n",
      "if w.is_alive():    \n",
      "        if w.is_alive():  File \"/home-nfs/raphaelr/miniconda/lib/python3.8/multiprocessing/process.py\", line 160, in is_alive\n",
      "if w.is_alive():assert self._parent_pid == os.getpid(), 'can only test a child process'\n",
      "\n",
      "\n",
      "  File \"/home-nfs/raphaelr/miniconda/lib/python3.8/multiprocessing/process.py\", line 160, in is_alive\n",
      "      File \"/home-nfs/raphaelr/miniconda/lib/python3.8/multiprocessing/process.py\", line 160, in is_alive\n",
      "AssertionError    assert self._parent_pid == os.getpid(), 'can only test a child process':     assert self._parent_pid == os.getpid(), 'can only test a child process'\n",
      "assert self._parent_pid == os.getpid(), 'can only test a child process'can only test a child processAssertionError\n",
      "\n",
      "\n",
      ": AssertionErrorAssertionErrorcan only test a child process: : \n",
      "can only test a child processcan only test a child process\n",
      "\n",
      "Exception ignored in: <function _MultiProcessingDataLoaderIter.__del__ at 0x7f74847cec10>\n",
      "Traceback (most recent call last):\n",
      "  File \"/home-nfs/raphaelr/miniconda/lib/python3.8/site-packages/torch/utils/data/dataloader.py\", line 1358, in __del__\n",
      "    self._shutdown_workers()\n",
      "  File \"/home-nfs/raphaelr/miniconda/lib/python3.8/site-packages/torch/utils/data/dataloader.py\", line 1341, in _shutdown_workers\n",
      "    if w.is_alive():\n",
      "  File \"/home-nfs/raphaelr/miniconda/lib/python3.8/multiprocessing/process.py\", line 160, in is_alive\n",
      "    assert self._parent_pid == os.getpid(), 'can only test a child process'\n",
      "AssertionError: can only test a child process\n"
     ]
    },
    {
     "name": "stdout",
     "output_type": "stream",
     "text": [
      "----- Epoch = 9 -----\n",
      "Val loss = 0.6299\n",
      "Val acc = 0.8270\n"
     ]
    },
    {
     "data": {
      "application/vnd.jupyter.widget-view+json": {
       "model_id": "63eb6a8c7e33481ab407de5992da81a2",
       "version_major": 2,
       "version_minor": 0
      },
      "text/plain": [
       "Training loop:   0%|          | 0/390 [00:00<?, ?it/s]"
      ]
     },
     "metadata": {},
     "output_type": "display_data"
    },
    {
     "name": "stderr",
     "output_type": "stream",
     "text": [
      "Exception ignored in:     <function _MultiProcessingDataLoaderIter.__del__ at 0x7f74847cec10>\n",
      "Traceback (most recent call last):\n",
      "  File \"/home-nfs/raphaelr/miniconda/lib/python3.8/site-packages/torch/utils/data/dataloader.py\", line 1358, in __del__\n",
      "self._shutdown_workers()Exception ignored in: \n",
      "<function _MultiProcessingDataLoaderIter.__del__ at 0x7f74847cec10>Exception ignored in: Exception ignored in:   File \"/home-nfs/raphaelr/miniconda/lib/python3.8/site-packages/torch/utils/data/dataloader.py\", line 1341, in _shutdown_workers\n",
      "\n",
      "<function _MultiProcessingDataLoaderIter.__del__ at 0x7f74847cec10><function _MultiProcessingDataLoaderIter.__del__ at 0x7f74847cec10>    \n",
      "\n",
      "Traceback (most recent call last):\n",
      "if w.is_alive():Traceback (most recent call last):\n",
      "Traceback (most recent call last):\n",
      "\n",
      "  File \"/home-nfs/raphaelr/miniconda/lib/python3.8/site-packages/torch/utils/data/dataloader.py\", line 1358, in __del__\n",
      "  File \"/home-nfs/raphaelr/miniconda/lib/python3.8/site-packages/torch/utils/data/dataloader.py\", line 1358, in __del__\n",
      "  File \"/home-nfs/raphaelr/miniconda/lib/python3.8/site-packages/torch/utils/data/dataloader.py\", line 1358, in __del__\n",
      "  File \"/home-nfs/raphaelr/miniconda/lib/python3.8/multiprocessing/process.py\", line 160, in is_alive\n",
      "                assert self._parent_pid == os.getpid(), 'can only test a child process'self._shutdown_workers()self._shutdown_workers()self._shutdown_workers()\n",
      "\n",
      "\n",
      "\n",
      "AssertionError  File \"/home-nfs/raphaelr/miniconda/lib/python3.8/site-packages/torch/utils/data/dataloader.py\", line 1341, in _shutdown_workers\n",
      "  File \"/home-nfs/raphaelr/miniconda/lib/python3.8/site-packages/torch/utils/data/dataloader.py\", line 1341, in _shutdown_workers\n",
      "  File \"/home-nfs/raphaelr/miniconda/lib/python3.8/site-packages/torch/utils/data/dataloader.py\", line 1341, in _shutdown_workers\n",
      ": can only test a child process            \n",
      "if w.is_alive():if w.is_alive():if w.is_alive():\n",
      "\n",
      "\n",
      "  File \"/home-nfs/raphaelr/miniconda/lib/python3.8/multiprocessing/process.py\", line 160, in is_alive\n",
      "  File \"/home-nfs/raphaelr/miniconda/lib/python3.8/multiprocessing/process.py\", line 160, in is_alive\n",
      "      File \"/home-nfs/raphaelr/miniconda/lib/python3.8/multiprocessing/process.py\", line 160, in is_alive\n",
      "assert self._parent_pid == os.getpid(), 'can only test a child process'Exception ignored in:         \n",
      "assert self._parent_pid == os.getpid(), 'can only test a child process'<function _MultiProcessingDataLoaderIter.__del__ at 0x7f74847cec10>assert self._parent_pid == os.getpid(), 'can only test a child process'\n",
      "\n",
      "AssertionError\n",
      ": Traceback (most recent call last):\n",
      "AssertionErrorAssertionErrorcan only test a child process  File \"/home-nfs/raphaelr/miniconda/lib/python3.8/site-packages/torch/utils/data/dataloader.py\", line 1358, in __del__\n",
      ": : can only test a child process\n",
      "    can only test a child process\n",
      "self._shutdown_workers()\n",
      "\n",
      "  File \"/home-nfs/raphaelr/miniconda/lib/python3.8/site-packages/torch/utils/data/dataloader.py\", line 1341, in _shutdown_workers\n",
      "Exception ignored in: Exception ignored in: Exception ignored in:     <function _MultiProcessingDataLoaderIter.__del__ at 0x7f74847cec10><function _MultiProcessingDataLoaderIter.__del__ at 0x7f74847cec10><function _MultiProcessingDataLoaderIter.__del__ at 0x7f74847cec10>if w.is_alive():\n",
      "\n",
      "\n",
      "Traceback (most recent call last):\n",
      "Traceback (most recent call last):\n",
      "\n",
      "Traceback (most recent call last):\n",
      "  File \"/home-nfs/raphaelr/miniconda/lib/python3.8/site-packages/torch/utils/data/dataloader.py\", line 1358, in __del__\n",
      "  File \"/home-nfs/raphaelr/miniconda/lib/python3.8/multiprocessing/process.py\", line 160, in is_alive\n",
      "  File \"/home-nfs/raphaelr/miniconda/lib/python3.8/site-packages/torch/utils/data/dataloader.py\", line 1358, in __del__\n",
      "  File \"/home-nfs/raphaelr/miniconda/lib/python3.8/site-packages/torch/utils/data/dataloader.py\", line 1358, in __del__\n",
      "                assert self._parent_pid == os.getpid(), 'can only test a child process'self._shutdown_workers()self._shutdown_workers()self._shutdown_workers()\n",
      "\n",
      "\n",
      "\n",
      "  File \"/home-nfs/raphaelr/miniconda/lib/python3.8/site-packages/torch/utils/data/dataloader.py\", line 1341, in _shutdown_workers\n",
      "AssertionError  File \"/home-nfs/raphaelr/miniconda/lib/python3.8/site-packages/torch/utils/data/dataloader.py\", line 1341, in _shutdown_workers\n",
      "  File \"/home-nfs/raphaelr/miniconda/lib/python3.8/site-packages/torch/utils/data/dataloader.py\", line 1341, in _shutdown_workers\n",
      ":         if w.is_alive():can only test a child process    if w.is_alive():\n",
      "if w.is_alive():\n",
      "\n",
      "\n",
      "  File \"/home-nfs/raphaelr/miniconda/lib/python3.8/multiprocessing/process.py\", line 160, in is_alive\n",
      "  File \"/home-nfs/raphaelr/miniconda/lib/python3.8/multiprocessing/process.py\", line 160, in is_alive\n",
      "  File \"/home-nfs/raphaelr/miniconda/lib/python3.8/multiprocessing/process.py\", line 160, in is_alive\n",
      "        assert self._parent_pid == os.getpid(), 'can only test a child process'    Exception ignored in: assert self._parent_pid == os.getpid(), 'can only test a child process'\n",
      "assert self._parent_pid == os.getpid(), 'can only test a child process'<function _MultiProcessingDataLoaderIter.__del__ at 0x7f74847cec10>\n",
      "AssertionError\n",
      "AssertionError: \n",
      ": AssertionErrorcan only test a child processTraceback (most recent call last):\n",
      ": can only test a child process\n",
      "can only test a child process\n",
      "  File \"/home-nfs/raphaelr/miniconda/lib/python3.8/site-packages/torch/utils/data/dataloader.py\", line 1358, in __del__\n",
      "\n",
      "Exception ignored in: <function _MultiProcessingDataLoaderIter.__del__ at 0x7f74847cec10>Exception ignored in: \n",
      "<function _MultiProcessingDataLoaderIter.__del__ at 0x7f74847cec10>    Traceback (most recent call last):\n",
      "Exception ignored in: self._shutdown_workers()\n",
      "  File \"/home-nfs/raphaelr/miniconda/lib/python3.8/site-packages/torch/utils/data/dataloader.py\", line 1358, in __del__\n",
      "<function _MultiProcessingDataLoaderIter.__del__ at 0x7f74847cec10>Traceback (most recent call last):\n",
      "  File \"/home-nfs/raphaelr/miniconda/lib/python3.8/site-packages/torch/utils/data/dataloader.py\", line 1358, in __del__\n",
      "    \n",
      "self._shutdown_workers()Traceback (most recent call last):\n",
      "    \n",
      "self._shutdown_workers()  File \"/home-nfs/raphaelr/miniconda/lib/python3.8/site-packages/torch/utils/data/dataloader.py\", line 1358, in __del__\n",
      "  File \"/home-nfs/raphaelr/miniconda/lib/python3.8/site-packages/torch/utils/data/dataloader.py\", line 1341, in _shutdown_workers\n",
      "        if w.is_alive():self._shutdown_workers()\n",
      "\n",
      "\n",
      "  File \"/home-nfs/raphaelr/miniconda/lib/python3.8/multiprocessing/process.py\", line 160, in is_alive\n",
      "\n",
      "  File \"/home-nfs/raphaelr/miniconda/lib/python3.8/site-packages/torch/utils/data/dataloader.py\", line 1341, in _shutdown_workers\n",
      "  File \"/home-nfs/raphaelr/miniconda/lib/python3.8/site-packages/torch/utils/data/dataloader.py\", line 1341, in _shutdown_workers\n",
      "      File \"/home-nfs/raphaelr/miniconda/lib/python3.8/site-packages/torch/utils/data/dataloader.py\", line 1341, in _shutdown_workers\n",
      "assert self._parent_pid == os.getpid(), 'can only test a child process'        \n",
      "    if w.is_alive():if w.is_alive():\n",
      "if w.is_alive():  File \"/home-nfs/raphaelr/miniconda/lib/python3.8/multiprocessing/process.py\", line 160, in is_alive\n",
      "\n",
      "\n",
      "AssertionError  File \"/home-nfs/raphaelr/miniconda/lib/python3.8/multiprocessing/process.py\", line 160, in is_alive\n",
      "  File \"/home-nfs/raphaelr/miniconda/lib/python3.8/multiprocessing/process.py\", line 160, in is_alive\n",
      ":         can only test a child process    assert self._parent_pid == os.getpid(), 'can only test a child process'assert self._parent_pid == os.getpid(), 'can only test a child process'\n",
      "\n",
      "AssertionError\n",
      "AssertionErrorassert self._parent_pid == os.getpid(), 'can only test a child process': \n",
      ": AssertionErrorcan only test a child process: \n",
      "Exception ignored in: can only test a child processcan only test a child process<function _MultiProcessingDataLoaderIter.__del__ at 0x7f74847cec10>\n",
      "\n",
      "\n",
      "Exception ignored in: <function _MultiProcessingDataLoaderIter.__del__ at 0x7f74847cec10>Exception ignored in: \n",
      "Traceback (most recent call last):\n",
      "<function _MultiProcessingDataLoaderIter.__del__ at 0x7f74847cec10>Exception ignored in:   File \"/home-nfs/raphaelr/miniconda/lib/python3.8/site-packages/torch/utils/data/dataloader.py\", line 1358, in __del__\n"
     ]
    },
    {
     "name": "stderr",
     "output_type": "stream",
     "text": [
      "\n",
      "<function _MultiProcessingDataLoaderIter.__del__ at 0x7f74847cec10>Traceback (most recent call last):\n",
      "  File \"/home-nfs/raphaelr/miniconda/lib/python3.8/site-packages/torch/utils/data/dataloader.py\", line 1358, in __del__\n",
      "    self._shutdown_workers()\n",
      "      File \"/home-nfs/raphaelr/miniconda/lib/python3.8/site-packages/torch/utils/data/dataloader.py\", line 1341, in _shutdown_workers\n",
      "\n",
      "self._shutdown_workers()Traceback (most recent call last):\n",
      "\n",
      "    \n",
      "  File \"/home-nfs/raphaelr/miniconda/lib/python3.8/site-packages/torch/utils/data/dataloader.py\", line 1341, in _shutdown_workers\n",
      "  File \"/home-nfs/raphaelr/miniconda/lib/python3.8/site-packages/torch/utils/data/dataloader.py\", line 1358, in __del__\n",
      "if w.is_alive():Traceback (most recent call last):\n",
      "\n",
      "  File \"/home-nfs/raphaelr/miniconda/lib/python3.8/site-packages/torch/utils/data/dataloader.py\", line 1358, in __del__\n",
      "          File \"/home-nfs/raphaelr/miniconda/lib/python3.8/multiprocessing/process.py\", line 160, in is_alive\n",
      "self._shutdown_workers()if w.is_alive():        \n",
      "\n",
      "self._shutdown_workers()assert self._parent_pid == os.getpid(), 'can only test a child process'  File \"/home-nfs/raphaelr/miniconda/lib/python3.8/site-packages/torch/utils/data/dataloader.py\", line 1341, in _shutdown_workers\n",
      "\n",
      "  File \"/home-nfs/raphaelr/miniconda/lib/python3.8/multiprocessing/process.py\", line 160, in is_alive\n",
      "\n",
      "AssertionError          File \"/home-nfs/raphaelr/miniconda/lib/python3.8/site-packages/torch/utils/data/dataloader.py\", line 1341, in _shutdown_workers\n",
      ": assert self._parent_pid == os.getpid(), 'can only test a child process'can only test a child processif w.is_alive():    \n",
      "if w.is_alive():\n",
      "AssertionError\n",
      "  File \"/home-nfs/raphaelr/miniconda/lib/python3.8/multiprocessing/process.py\", line 160, in is_alive\n",
      ":   File \"/home-nfs/raphaelr/miniconda/lib/python3.8/multiprocessing/process.py\", line 160, in is_alive\n",
      "can only test a child process    \n",
      "    assert self._parent_pid == os.getpid(), 'can only test a child process'Exception ignored in: \n",
      "<function _MultiProcessingDataLoaderIter.__del__ at 0x7f74847cec10>AssertionErrorassert self._parent_pid == os.getpid(), 'can only test a child process'\n",
      "\n",
      ": Traceback (most recent call last):\n",
      "AssertionErrorcan only test a child processException ignored in:   File \"/home-nfs/raphaelr/miniconda/lib/python3.8/site-packages/torch/utils/data/dataloader.py\", line 1358, in __del__\n",
      ": \n",
      "<function _MultiProcessingDataLoaderIter.__del__ at 0x7f74847cec10>can only test a child process\n",
      "    \n",
      "Traceback (most recent call last):\n",
      "self._shutdown_workers()  File \"/home-nfs/raphaelr/miniconda/lib/python3.8/site-packages/torch/utils/data/dataloader.py\", line 1358, in __del__\n",
      "\n",
      "  File \"/home-nfs/raphaelr/miniconda/lib/python3.8/site-packages/torch/utils/data/dataloader.py\", line 1341, in _shutdown_workers\n",
      "Exception ignored in:     Exception ignored in: <function _MultiProcessingDataLoaderIter.__del__ at 0x7f74847cec10>    <function _MultiProcessingDataLoaderIter.__del__ at 0x7f74847cec10>\n",
      "if w.is_alive():\n",
      "\n",
      "Traceback (most recent call last):\n",
      "self._shutdown_workers()Traceback (most recent call last):\n",
      "  File \"/home-nfs/raphaelr/miniconda/lib/python3.8/site-packages/torch/utils/data/dataloader.py\", line 1358, in __del__\n",
      "  File \"/home-nfs/raphaelr/miniconda/lib/python3.8/multiprocessing/process.py\", line 160, in is_alive\n",
      "\n",
      "  File \"/home-nfs/raphaelr/miniconda/lib/python3.8/site-packages/torch/utils/data/dataloader.py\", line 1358, in __del__\n",
      "  File \"/home-nfs/raphaelr/miniconda/lib/python3.8/site-packages/torch/utils/data/dataloader.py\", line 1341, in _shutdown_workers\n",
      "        assert self._parent_pid == os.getpid(), 'can only test a child process'    self._shutdown_workers()    \n",
      "if w.is_alive():\n",
      "AssertionError\n",
      "  File \"/home-nfs/raphaelr/miniconda/lib/python3.8/site-packages/torch/utils/data/dataloader.py\", line 1341, in _shutdown_workers\n",
      "self._shutdown_workers():   File \"/home-nfs/raphaelr/miniconda/lib/python3.8/multiprocessing/process.py\", line 160, in is_alive\n",
      "can only test a child process    \n",
      "    \n",
      "if w.is_alive():  File \"/home-nfs/raphaelr/miniconda/lib/python3.8/site-packages/torch/utils/data/dataloader.py\", line 1341, in _shutdown_workers\n",
      "assert self._parent_pid == os.getpid(), 'can only test a child process'\n",
      "\n",
      "  File \"/home-nfs/raphaelr/miniconda/lib/python3.8/multiprocessing/process.py\", line 160, in is_alive\n",
      "    AssertionError    : if w.is_alive():assert self._parent_pid == os.getpid(), 'can only test a child process'\n",
      "can only test a child processException ignored in: \n",
      "  File \"/home-nfs/raphaelr/miniconda/lib/python3.8/multiprocessing/process.py\", line 160, in is_alive\n",
      "\n",
      "AssertionError<function _MultiProcessingDataLoaderIter.__del__ at 0x7f74847cec10>:     \n",
      "can only test a child processassert self._parent_pid == os.getpid(), 'can only test a child process'Traceback (most recent call last):\n",
      "\n",
      "Exception ignored in: \n",
      "  File \"/home-nfs/raphaelr/miniconda/lib/python3.8/site-packages/torch/utils/data/dataloader.py\", line 1358, in __del__\n",
      "<function _MultiProcessingDataLoaderIter.__del__ at 0x7f74847cec10>AssertionError: \n",
      "    Traceback (most recent call last):\n",
      "self._shutdown_workers()can only test a child process  File \"/home-nfs/raphaelr/miniconda/lib/python3.8/site-packages/torch/utils/data/dataloader.py\", line 1358, in __del__\n",
      "\n",
      "\n",
      "Exception ignored in:   File \"/home-nfs/raphaelr/miniconda/lib/python3.8/site-packages/torch/utils/data/dataloader.py\", line 1341, in _shutdown_workers\n",
      "    <function _MultiProcessingDataLoaderIter.__del__ at 0x7f74847cec10>    \n",
      "if w.is_alive():Traceback (most recent call last):\n",
      "\n",
      "  File \"/home-nfs/raphaelr/miniconda/lib/python3.8/site-packages/torch/utils/data/dataloader.py\", line 1358, in __del__\n",
      "Exception ignored in:   File \"/home-nfs/raphaelr/miniconda/lib/python3.8/multiprocessing/process.py\", line 160, in is_alive\n",
      "<function _MultiProcessingDataLoaderIter.__del__ at 0x7f74847cec10>        self._shutdown_workers()\n",
      "assert self._parent_pid == os.getpid(), 'can only test a child process'\n",
      "Traceback (most recent call last):\n",
      "\n",
      "  File \"/home-nfs/raphaelr/miniconda/lib/python3.8/site-packages/torch/utils/data/dataloader.py\", line 1341, in _shutdown_workers\n",
      "  File \"/home-nfs/raphaelr/miniconda/lib/python3.8/site-packages/torch/utils/data/dataloader.py\", line 1358, in __del__\n",
      "AssertionError: self._shutdown_workers()        can only test a child process\n",
      "if w.is_alive():self._shutdown_workers()\n",
      "  File \"/home-nfs/raphaelr/miniconda/lib/python3.8/site-packages/torch/utils/data/dataloader.py\", line 1341, in _shutdown_workers\n",
      "\n",
      "\n",
      "  File \"/home-nfs/raphaelr/miniconda/lib/python3.8/multiprocessing/process.py\", line 160, in is_alive\n",
      "  File \"/home-nfs/raphaelr/miniconda/lib/python3.8/site-packages/torch/utils/data/dataloader.py\", line 1341, in _shutdown_workers\n",
      "        if w.is_alive():    assert self._parent_pid == os.getpid(), 'can only test a child process'\n",
      "\n",
      "if w.is_alive():  File \"/home-nfs/raphaelr/miniconda/lib/python3.8/multiprocessing/process.py\", line 160, in is_alive\n",
      "\n",
      "AssertionError  File \"/home-nfs/raphaelr/miniconda/lib/python3.8/multiprocessing/process.py\", line 160, in is_alive\n",
      "    : assert self._parent_pid == os.getpid(), 'can only test a child process'can only test a child process    \n",
      "assert self._parent_pid == os.getpid(), 'can only test a child process'\n",
      "AssertionError\n",
      ": AssertionErrorcan only test a child process: \n",
      "can only test a child process\n"
     ]
    },
    {
     "name": "stdout",
     "output_type": "stream",
     "text": [
      "----- Epoch = 10 -----\n",
      "Val loss = 0.6602\n",
      "Val acc = 0.8333\n"
     ]
    },
    {
     "data": {
      "application/vnd.jupyter.widget-view+json": {
       "model_id": "e2d2a0bb54ce459db5a6c3996dae5826",
       "version_major": 2,
       "version_minor": 0
      },
      "text/plain": [
       "Training loop:   0%|          | 0/390 [00:00<?, ?it/s]"
      ]
     },
     "metadata": {},
     "output_type": "display_data"
    },
    {
     "name": "stdout",
     "output_type": "stream",
     "text": [
      "----- Epoch = 11 -----\n",
      "Val loss = 0.6672\n",
      "Val acc = 0.8395\n"
     ]
    },
    {
     "data": {
      "application/vnd.jupyter.widget-view+json": {
       "model_id": "115739be120d4e9eb15d02d4f389223e",
       "version_major": 2,
       "version_minor": 0
      },
      "text/plain": [
       "Training loop:   0%|          | 0/390 [00:00<?, ?it/s]"
      ]
     },
     "metadata": {},
     "output_type": "display_data"
    },
    {
     "name": "stdout",
     "output_type": "stream",
     "text": [
      "----- Epoch = 12 -----\n",
      "Val loss = 0.7120\n",
      "Val acc = 0.8315\n"
     ]
    },
    {
     "data": {
      "application/vnd.jupyter.widget-view+json": {
       "model_id": "8312f99db6db4cb1b4c4af326fb41b1d",
       "version_major": 2,
       "version_minor": 0
      },
      "text/plain": [
       "Training loop:   0%|          | 0/390 [00:00<?, ?it/s]"
      ]
     },
     "metadata": {},
     "output_type": "display_data"
    },
    {
     "name": "stdout",
     "output_type": "stream",
     "text": [
      "----- Epoch = 13 -----\n",
      "Val loss = 0.7782\n",
      "Val acc = 0.8290\n",
      "Epoch 00013: reducing learning rate of group 0 to 5.0000e-04.\n"
     ]
    },
    {
     "data": {
      "application/vnd.jupyter.widget-view+json": {
       "model_id": "da3cc016ab81426fa10b1b74250b5a1a",
       "version_major": 2,
       "version_minor": 0
      },
      "text/plain": [
       "Training loop:   0%|          | 0/390 [00:00<?, ?it/s]"
      ]
     },
     "metadata": {},
     "output_type": "display_data"
    },
    {
     "name": "stdout",
     "output_type": "stream",
     "text": [
      "----- Epoch = 14 -----\n",
      "Val loss = 0.6242\n",
      "Val acc = 0.8668\n",
      "\n",
      "New best epoch, acc = 0.8668\n",
      "\n"
     ]
    },
    {
     "data": {
      "application/vnd.jupyter.widget-view+json": {
       "model_id": "c7f3c6adf0c8452f821d56aa1b24ee2d",
       "version_major": 2,
       "version_minor": 0
      },
      "text/plain": [
       "Training loop:   0%|          | 0/390 [00:00<?, ?it/s]"
      ]
     },
     "metadata": {},
     "output_type": "display_data"
    },
    {
     "name": "stdout",
     "output_type": "stream",
     "text": [
      "----- Epoch = 15 -----\n",
      "Val loss = 0.6358\n",
      "Val acc = 0.8679\n",
      "\n",
      "New best epoch, acc = 0.8679\n",
      "\n"
     ]
    },
    {
     "data": {
      "application/vnd.jupyter.widget-view+json": {
       "model_id": "50f8a9de2024464899c772b01b276529",
       "version_major": 2,
       "version_minor": 0
      },
      "text/plain": [
       "Training loop:   0%|          | 0/390 [00:00<?, ?it/s]"
      ]
     },
     "metadata": {},
     "output_type": "display_data"
    },
    {
     "name": "stdout",
     "output_type": "stream",
     "text": [
      "----- Epoch = 16 -----\n",
      "Val loss = 0.6510\n",
      "Val acc = 0.8682\n",
      "\n",
      "New best epoch, acc = 0.8682\n",
      "\n"
     ]
    },
    {
     "data": {
      "application/vnd.jupyter.widget-view+json": {
       "model_id": "447f42e3a5604498a686bd9770290000",
       "version_major": 2,
       "version_minor": 0
      },
      "text/plain": [
       "Training loop:   0%|          | 0/390 [00:00<?, ?it/s]"
      ]
     },
     "metadata": {},
     "output_type": "display_data"
    },
    {
     "name": "stderr",
     "output_type": "stream",
     "text": [
      "Exception ignored in: <function _MultiProcessingDataLoaderIter.__del__ at 0x7f74847cec10>\n",
      "Traceback (most recent call last):\n",
      "  File \"/home-nfs/raphaelr/miniconda/lib/python3.8/site-packages/torch/utils/data/dataloader.py\", line 1358, in __del__\n",
      "    self._shutdown_workers()Exception ignored in: \n",
      "<function _MultiProcessingDataLoaderIter.__del__ at 0x7f74847cec10>\n",
      "Traceback (most recent call last):\n",
      "  File \"/home-nfs/raphaelr/miniconda/lib/python3.8/site-packages/torch/utils/data/dataloader.py\", line 1358, in __del__\n",
      "    self._shutdown_workers()\n",
      "  File \"/home-nfs/raphaelr/miniconda/lib/python3.8/site-packages/torch/utils/data/dataloader.py\", line 1341, in _shutdown_workers\n",
      "  File \"/home-nfs/raphaelr/miniconda/lib/python3.8/site-packages/torch/utils/data/dataloader.py\", line 1341, in _shutdown_workers\n",
      "    if w.is_alive():    \n",
      "if w.is_alive():\n",
      "  File \"/home-nfs/raphaelr/miniconda/lib/python3.8/multiprocessing/process.py\", line 160, in is_alive\n",
      "  File \"/home-nfs/raphaelr/miniconda/lib/python3.8/multiprocessing/process.py\", line 160, in is_alive\n",
      "        assert self._parent_pid == os.getpid(), 'can only test a child process'assert self._parent_pid == os.getpid(), 'can only test a child process'\n",
      "\n",
      "AssertionErrorAssertionError: can only test a child process\n",
      ": Exception ignored in: can only test a child process\n",
      "<function _MultiProcessingDataLoaderIter.__del__ at 0x7f74847cec10>\n",
      "Traceback (most recent call last):\n",
      "  File \"/home-nfs/raphaelr/miniconda/lib/python3.8/site-packages/torch/utils/data/dataloader.py\", line 1358, in __del__\n",
      "    self._shutdown_workers()\n",
      "Exception ignored in: <function _MultiProcessingDataLoaderIter.__del__ at 0x7f74847cec10>\n",
      "Traceback (most recent call last):\n",
      "  File \"/home-nfs/raphaelr/miniconda/lib/python3.8/site-packages/torch/utils/data/dataloader.py\", line 1358, in __del__\n",
      "    self._shutdown_workers()\n",
      "  File \"/home-nfs/raphaelr/miniconda/lib/python3.8/site-packages/torch/utils/data/dataloader.py\", line 1341, in _shutdown_workers\n",
      "    if w.is_alive():\n",
      "  File \"/home-nfs/raphaelr/miniconda/lib/python3.8/multiprocessing/process.py\", line 160, in is_alive\n",
      "  File \"/home-nfs/raphaelr/miniconda/lib/python3.8/site-packages/torch/utils/data/dataloader.py\", line 1341, in _shutdown_workers\n",
      "        if w.is_alive():\n",
      "  File \"/home-nfs/raphaelr/miniconda/lib/python3.8/multiprocessing/process.py\", line 160, in is_alive\n",
      "    assert self._parent_pid == os.getpid(), 'can only test a child process'\n",
      "assert self._parent_pid == os.getpid(), 'can only test a child process'AssertionError: can only test a child process\n",
      "\n",
      "AssertionError: can only test a child processException ignored in: <function _MultiProcessingDataLoaderIter.__del__ at 0x7f74847cec10>\n",
      "Traceback (most recent call last):\n",
      "  File \"/home-nfs/raphaelr/miniconda/lib/python3.8/site-packages/torch/utils/data/dataloader.py\", line 1358, in __del__\n",
      "    \n",
      "self._shutdown_workers()\n",
      "  File \"/home-nfs/raphaelr/miniconda/lib/python3.8/site-packages/torch/utils/data/dataloader.py\", line 1341, in _shutdown_workers\n",
      "    if w.is_alive():\n",
      "Exception ignored in:   File \"/home-nfs/raphaelr/miniconda/lib/python3.8/multiprocessing/process.py\", line 160, in is_alive\n",
      "<function _MultiProcessingDataLoaderIter.__del__ at 0x7f74847cec10>    \n",
      "Traceback (most recent call last):\n",
      "  File \"/home-nfs/raphaelr/miniconda/lib/python3.8/site-packages/torch/utils/data/dataloader.py\", line 1358, in __del__\n",
      "    self._shutdown_workers()\n",
      "  File \"/home-nfs/raphaelr/miniconda/lib/python3.8/site-packages/torch/utils/data/dataloader.py\", line 1341, in _shutdown_workers\n",
      "    if w.is_alive():\n",
      "  File \"/home-nfs/raphaelr/miniconda/lib/python3.8/multiprocessing/process.py\", line 160, in is_alive\n",
      "    assert self._parent_pid == os.getpid(), 'can only test a child process'\n",
      "AssertionErrorassert self._parent_pid == os.getpid(), 'can only test a child process': \n",
      "can only test a child processAssertionError\n",
      ": can only test a child process\n",
      "Exception ignored in: <function _MultiProcessingDataLoaderIter.__del__ at 0x7f74847cec10>\n",
      "Traceback (most recent call last):\n",
      "  File \"/home-nfs/raphaelr/miniconda/lib/python3.8/site-packages/torch/utils/data/dataloader.py\", line 1358, in __del__\n",
      "    self._shutdown_workers()\n",
      "  File \"/home-nfs/raphaelr/miniconda/lib/python3.8/site-packages/torch/utils/data/dataloader.py\", line 1341, in _shutdown_workers\n",
      "    if w.is_alive():\n",
      "Exception ignored in:   File \"/home-nfs/raphaelr/miniconda/lib/python3.8/multiprocessing/process.py\", line 160, in is_alive\n",
      "    assert self._parent_pid == os.getpid(), 'can only test a child process'<function _MultiProcessingDataLoaderIter.__del__ at 0x7f74847cec10>\n",
      "Traceback (most recent call last):\n",
      "  File \"/home-nfs/raphaelr/miniconda/lib/python3.8/site-packages/torch/utils/data/dataloader.py\", line 1358, in __del__\n",
      "\n",
      "    AssertionErrorself._shutdown_workers(): can only test a child process\n",
      "\n",
      "Exception ignored in: <function _MultiProcessingDataLoaderIter.__del__ at 0x7f74847cec10>\n",
      "Traceback (most recent call last):\n",
      "  File \"/home-nfs/raphaelr/miniconda/lib/python3.8/site-packages/torch/utils/data/dataloader.py\", line 1358, in __del__\n",
      "    self._shutdown_workers()\n",
      "  File \"/home-nfs/raphaelr/miniconda/lib/python3.8/site-packages/torch/utils/data/dataloader.py\", line 1341, in _shutdown_workers\n",
      "  File \"/home-nfs/raphaelr/miniconda/lib/python3.8/site-packages/torch/utils/data/dataloader.py\", line 1341, in _shutdown_workers\n",
      "        if w.is_alive():\n",
      "if w.is_alive():  File \"/home-nfs/raphaelr/miniconda/lib/python3.8/multiprocessing/process.py\", line 160, in is_alive\n",
      "\n",
      "  File \"/home-nfs/raphaelr/miniconda/lib/python3.8/multiprocessing/process.py\", line 160, in is_alive\n",
      "    assert self._parent_pid == os.getpid(), 'can only test a child process'\n",
      "AssertionError: can only test a child process\n",
      "    assert self._parent_pid == os.getpid(), 'can only test a child process'Exception ignored in: <function _MultiProcessingDataLoaderIter.__del__ at 0x7f74847cec10>\n",
      "Traceback (most recent call last):\n",
      "  File \"/home-nfs/raphaelr/miniconda/lib/python3.8/site-packages/torch/utils/data/dataloader.py\", line 1358, in __del__\n",
      "    self._shutdown_workers()\n",
      "\n",
      "  File \"/home-nfs/raphaelr/miniconda/lib/python3.8/site-packages/torch/utils/data/dataloader.py\", line 1341, in _shutdown_workers\n",
      "AssertionError: can only test a child process    \n",
      "if w.is_alive():\n",
      "Exception ignored in:   File \"/home-nfs/raphaelr/miniconda/lib/python3.8/multiprocessing/process.py\", line 160, in is_alive\n",
      "<function _MultiProcessingDataLoaderIter.__del__ at 0x7f74847cec10>    \n",
      "assert self._parent_pid == os.getpid(), 'can only test a child process'Traceback (most recent call last):\n",
      "  File \"/home-nfs/raphaelr/miniconda/lib/python3.8/site-packages/torch/utils/data/dataloader.py\", line 1358, in __del__\n",
      "\n",
      "    self._shutdown_workers()AssertionError\n",
      "  File \"/home-nfs/raphaelr/miniconda/lib/python3.8/site-packages/torch/utils/data/dataloader.py\", line 1341, in _shutdown_workers\n",
      ": can only test a child process    \n",
      "if w.is_alive():\n",
      "  File \"/home-nfs/raphaelr/miniconda/lib/python3.8/multiprocessing/process.py\", line 160, in is_alive\n",
      "Exception ignored in: <function _MultiProcessingDataLoaderIter.__del__ at 0x7f74847cec10>\n",
      "    Traceback (most recent call last):\n",
      "assert self._parent_pid == os.getpid(), 'can only test a child process'\n",
      "  File \"/home-nfs/raphaelr/miniconda/lib/python3.8/site-packages/torch/utils/data/dataloader.py\", line 1358, in __del__\n",
      "AssertionError:     self._shutdown_workers()can only test a child process\n",
      "\n",
      "  File \"/home-nfs/raphaelr/miniconda/lib/python3.8/site-packages/torch/utils/data/dataloader.py\", line 1341, in _shutdown_workers\n",
      "    if w.is_alive():\n",
      "  File \"/home-nfs/raphaelr/miniconda/lib/python3.8/multiprocessing/process.py\", line 160, in is_alive\n",
      "    assert self._parent_pid == os.getpid(), 'can only test a child process'\n",
      "AssertionError: can only test a child process\n",
      "Exception ignored in: <function _MultiProcessingDataLoaderIter.__del__ at 0x7f74847cec10>\n",
      "Traceback (most recent call last):\n",
      "  File \"/home-nfs/raphaelr/miniconda/lib/python3.8/site-packages/torch/utils/data/dataloader.py\", line 1358, in __del__\n",
      "    self._shutdown_workers()\n",
      "  File \"/home-nfs/raphaelr/miniconda/lib/python3.8/site-packages/torch/utils/data/dataloader.py\", line 1341, in _shutdown_workers\n"
     ]
    },
    {
     "name": "stderr",
     "output_type": "stream",
     "text": [
      "    if w.is_alive():\n",
      "  File \"/home-nfs/raphaelr/miniconda/lib/python3.8/multiprocessing/process.py\", line 160, in is_alive\n",
      "    assert self._parent_pid == os.getpid(), 'can only test a child process'\n",
      "AssertionError: can only test a child process\n",
      "Exception ignored in: <function _MultiProcessingDataLoaderIter.__del__ at 0x7f74847cec10>\n",
      "Traceback (most recent call last):\n",
      "  File \"/home-nfs/raphaelr/miniconda/lib/python3.8/site-packages/torch/utils/data/dataloader.py\", line 1358, in __del__\n",
      "    self._shutdown_workers()\n",
      "  File \"/home-nfs/raphaelr/miniconda/lib/python3.8/site-packages/torch/utils/data/dataloader.py\", line 1341, in _shutdown_workers\n",
      "    if w.is_alive():\n",
      "  File \"/home-nfs/raphaelr/miniconda/lib/python3.8/multiprocessing/process.py\", line 160, in is_alive\n",
      "    assert self._parent_pid == os.getpid(), 'can only test a child process'\n",
      "AssertionError: can only test a child process\n",
      "Exception ignored in: <function _MultiProcessingDataLoaderIter.__del__ at 0x7f74847cec10>\n",
      "Traceback (most recent call last):\n",
      "  File \"/home-nfs/raphaelr/miniconda/lib/python3.8/site-packages/torch/utils/data/dataloader.py\", line 1358, in __del__\n",
      "    self._shutdown_workers()\n",
      "  File \"/home-nfs/raphaelr/miniconda/lib/python3.8/site-packages/torch/utils/data/dataloader.py\", line 1341, in _shutdown_workers\n",
      "    if w.is_alive():\n",
      "  File \"/home-nfs/raphaelr/miniconda/lib/python3.8/multiprocessing/process.py\", line 160, in is_alive\n",
      "    assert self._parent_pid == os.getpid(), 'can only test a child process'\n",
      "AssertionError: can only test a child process\n",
      "Exception ignored in: <function _MultiProcessingDataLoaderIter.__del__ at 0x7f74847cec10>\n",
      "Traceback (most recent call last):\n",
      "  File \"/home-nfs/raphaelr/miniconda/lib/python3.8/site-packages/torch/utils/data/dataloader.py\", line 1358, in __del__\n",
      "    self._shutdown_workers()\n",
      "  File \"/home-nfs/raphaelr/miniconda/lib/python3.8/site-packages/torch/utils/data/dataloader.py\", line 1341, in _shutdown_workers\n",
      "    if w.is_alive():\n",
      "  File \"/home-nfs/raphaelr/miniconda/lib/python3.8/multiprocessing/process.py\", line 160, in is_alive\n",
      "    assert self._parent_pid == os.getpid(), 'can only test a child process'\n",
      "AssertionError: can only test a child process\n",
      "Exception ignored in: <function _MultiProcessingDataLoaderIter.__del__ at 0x7f74847cec10>\n",
      "Traceback (most recent call last):\n",
      "  File \"/home-nfs/raphaelr/miniconda/lib/python3.8/site-packages/torch/utils/data/dataloader.py\", line 1358, in __del__\n",
      "    self._shutdown_workers()\n",
      "  File \"/home-nfs/raphaelr/miniconda/lib/python3.8/site-packages/torch/utils/data/dataloader.py\", line 1341, in _shutdown_workers\n",
      "    if w.is_alive():\n",
      "  File \"/home-nfs/raphaelr/miniconda/lib/python3.8/multiprocessing/process.py\", line 160, in is_alive\n",
      "    assert self._parent_pid == os.getpid(), 'can only test a child process'\n",
      "AssertionError: can only test a child process\n",
      "Exception ignored in: <function _MultiProcessingDataLoaderIter.__del__ at 0x7f74847cec10>\n",
      "Traceback (most recent call last):\n",
      "  File \"/home-nfs/raphaelr/miniconda/lib/python3.8/site-packages/torch/utils/data/dataloader.py\", line 1358, in __del__\n",
      "    self._shutdown_workers()\n",
      "  File \"/home-nfs/raphaelr/miniconda/lib/python3.8/site-packages/torch/utils/data/dataloader.py\", line 1341, in _shutdown_workers\n",
      "    if w.is_alive():\n",
      "  File \"/home-nfs/raphaelr/miniconda/lib/python3.8/multiprocessing/process.py\", line 160, in is_alive\n",
      "    assert self._parent_pid == os.getpid(), 'can only test a child process'\n",
      "AssertionError: can only test a child process\n",
      "Exception ignored in: <function _MultiProcessingDataLoaderIter.__del__ at 0x7f74847cec10>\n",
      "Traceback (most recent call last):\n",
      "  File \"/home-nfs/raphaelr/miniconda/lib/python3.8/site-packages/torch/utils/data/dataloader.py\", line 1358, in __del__\n",
      "    self._shutdown_workers()\n",
      "  File \"/home-nfs/raphaelr/miniconda/lib/python3.8/site-packages/torch/utils/data/dataloader.py\", line 1341, in _shutdown_workers\n",
      "    if w.is_alive():\n",
      "  File \"/home-nfs/raphaelr/miniconda/lib/python3.8/multiprocessing/process.py\", line 160, in is_alive\n",
      "    assert self._parent_pid == os.getpid(), 'can only test a child process'\n",
      "AssertionError: can only test a child process\n"
     ]
    },
    {
     "name": "stdout",
     "output_type": "stream",
     "text": [
      "----- Epoch = 17 -----\n",
      "Val loss = 0.6682\n",
      "Val acc = 0.8677\n"
     ]
    },
    {
     "data": {
      "application/vnd.jupyter.widget-view+json": {
       "model_id": "0d1213e711074c8a9f157115f7e1d789",
       "version_major": 2,
       "version_minor": 0
      },
      "text/plain": [
       "Training loop:   0%|          | 0/390 [00:00<?, ?it/s]"
      ]
     },
     "metadata": {},
     "output_type": "display_data"
    },
    {
     "name": "stderr",
     "output_type": "stream",
     "text": [
      "Exception ignored in: <function _MultiProcessingDataLoaderIter.__del__ at 0x7f74847cec10><function _MultiProcessingDataLoaderIter.__del__ at 0x7f74847cec10>\n",
      "Exception ignored in: Traceback (most recent call last):\n",
      "\n",
      "  File \"/home-nfs/raphaelr/miniconda/lib/python3.8/site-packages/torch/utils/data/dataloader.py\", line 1358, in __del__\n",
      "Traceback (most recent call last):\n",
      "  File \"/home-nfs/raphaelr/miniconda/lib/python3.8/site-packages/torch/utils/data/dataloader.py\", line 1358, in __del__\n",
      "        Exception ignored in: Exception ignored in: self._shutdown_workers()<function _MultiProcessingDataLoaderIter.__del__ at 0x7f74847cec10>self._shutdown_workers()<function _MultiProcessingDataLoaderIter.__del__ at 0x7f74847cec10>\n",
      "\n",
      "\n",
      "\n",
      "  File \"/home-nfs/raphaelr/miniconda/lib/python3.8/site-packages/torch/utils/data/dataloader.py\", line 1341, in _shutdown_workers\n",
      "  File \"/home-nfs/raphaelr/miniconda/lib/python3.8/site-packages/torch/utils/data/dataloader.py\", line 1341, in _shutdown_workers\n",
      "Traceback (most recent call last):\n",
      "Traceback (most recent call last):\n",
      "      File \"/home-nfs/raphaelr/miniconda/lib/python3.8/site-packages/torch/utils/data/dataloader.py\", line 1358, in __del__\n",
      "  File \"/home-nfs/raphaelr/miniconda/lib/python3.8/site-packages/torch/utils/data/dataloader.py\", line 1358, in __del__\n",
      "        if w.is_alive():    if w.is_alive():\n",
      "self._shutdown_workers()self._shutdown_workers()\n",
      "\n",
      "  File \"/home-nfs/raphaelr/miniconda/lib/python3.8/multiprocessing/process.py\", line 160, in is_alive\n",
      "\n",
      "  File \"/home-nfs/raphaelr/miniconda/lib/python3.8/site-packages/torch/utils/data/dataloader.py\", line 1341, in _shutdown_workers\n",
      "  File \"/home-nfs/raphaelr/miniconda/lib/python3.8/multiprocessing/process.py\", line 160, in is_alive\n",
      "  File \"/home-nfs/raphaelr/miniconda/lib/python3.8/site-packages/torch/utils/data/dataloader.py\", line 1341, in _shutdown_workers\n",
      "            assert self._parent_pid == os.getpid(), 'can only test a child process'\n",
      "AssertionError    if w.is_alive():\n",
      "assert self._parent_pid == os.getpid(), 'can only test a child process'if w.is_alive():: \n",
      "  File \"/home-nfs/raphaelr/miniconda/lib/python3.8/multiprocessing/process.py\", line 160, in is_alive\n",
      "can only test a child process\n",
      "      File \"/home-nfs/raphaelr/miniconda/lib/python3.8/multiprocessing/process.py\", line 160, in is_alive\n",
      "\n",
      "AssertionErrorassert self._parent_pid == os.getpid(), 'can only test a child process'    : \n",
      "can only test a child processassert self._parent_pid == os.getpid(), 'can only test a child process'\n",
      "AssertionError\n",
      ": AssertionErrorException ignored in: : can only test a child processcan only test a child process<function _MultiProcessingDataLoaderIter.__del__ at 0x7f74847cec10>\n",
      "\n",
      "\n",
      "Exception ignored in: Traceback (most recent call last):\n",
      "<function _MultiProcessingDataLoaderIter.__del__ at 0x7f74847cec10>  File \"/home-nfs/raphaelr/miniconda/lib/python3.8/site-packages/torch/utils/data/dataloader.py\", line 1358, in __del__\n",
      "\n",
      "    Traceback (most recent call last):\n",
      "Exception ignored in: self._shutdown_workers()  File \"/home-nfs/raphaelr/miniconda/lib/python3.8/site-packages/torch/utils/data/dataloader.py\", line 1358, in __del__\n",
      "\n",
      "<function _MultiProcessingDataLoaderIter.__del__ at 0x7f74847cec10>Exception ignored in:   File \"/home-nfs/raphaelr/miniconda/lib/python3.8/site-packages/torch/utils/data/dataloader.py\", line 1341, in _shutdown_workers\n",
      "\n",
      "    Traceback (most recent call last):\n",
      "<function _MultiProcessingDataLoaderIter.__del__ at 0x7f74847cec10>self._shutdown_workers()      File \"/home-nfs/raphaelr/miniconda/lib/python3.8/site-packages/torch/utils/data/dataloader.py\", line 1358, in __del__\n",
      "\n",
      "\n",
      "if w.is_alive():Traceback (most recent call last):\n",
      "    \n",
      "  File \"/home-nfs/raphaelr/miniconda/lib/python3.8/site-packages/torch/utils/data/dataloader.py\", line 1341, in _shutdown_workers\n",
      "  File \"/home-nfs/raphaelr/miniconda/lib/python3.8/site-packages/torch/utils/data/dataloader.py\", line 1358, in __del__\n",
      "self._shutdown_workers()  File \"/home-nfs/raphaelr/miniconda/lib/python3.8/multiprocessing/process.py\", line 160, in is_alive\n",
      "            \n",
      "self._shutdown_workers()if w.is_alive():assert self._parent_pid == os.getpid(), 'can only test a child process'  File \"/home-nfs/raphaelr/miniconda/lib/python3.8/site-packages/torch/utils/data/dataloader.py\", line 1341, in _shutdown_workers\n",
      "\n",
      "\n",
      "\n",
      "    AssertionError  File \"/home-nfs/raphaelr/miniconda/lib/python3.8/multiprocessing/process.py\", line 160, in is_alive\n",
      "if w.is_alive()::   File \"/home-nfs/raphaelr/miniconda/lib/python3.8/site-packages/torch/utils/data/dataloader.py\", line 1341, in _shutdown_workers\n",
      "\n",
      "can only test a child process      File \"/home-nfs/raphaelr/miniconda/lib/python3.8/multiprocessing/process.py\", line 160, in is_alive\n",
      "assert self._parent_pid == os.getpid(), 'can only test a child process'\n",
      "        \n",
      "assert self._parent_pid == os.getpid(), 'can only test a child process'if w.is_alive():AssertionError\n",
      ": \n",
      "  File \"/home-nfs/raphaelr/miniconda/lib/python3.8/multiprocessing/process.py\", line 160, in is_alive\n",
      "can only test a child processAssertionErrorException ignored in: \n",
      ":     <function _MultiProcessingDataLoaderIter.__del__ at 0x7f74847cec10>assert self._parent_pid == os.getpid(), 'can only test a child process'\n",
      "Traceback (most recent call last):\n",
      "\n",
      "  File \"/home-nfs/raphaelr/miniconda/lib/python3.8/site-packages/torch/utils/data/dataloader.py\", line 1358, in __del__\n",
      "can only test a child processAssertionErrorException ignored in: \n",
      "    : <function _MultiProcessingDataLoaderIter.__del__ at 0x7f74847cec10>can only test a child process\n",
      "\n",
      "Traceback (most recent call last):\n",
      "self._shutdown_workers()\n",
      "  File \"/home-nfs/raphaelr/miniconda/lib/python3.8/site-packages/torch/utils/data/dataloader.py\", line 1358, in __del__\n",
      "Exception ignored in:   File \"/home-nfs/raphaelr/miniconda/lib/python3.8/site-packages/torch/utils/data/dataloader.py\", line 1341, in _shutdown_workers\n",
      "<function _MultiProcessingDataLoaderIter.__del__ at 0x7f74847cec10>        \n",
      "self._shutdown_workers()if w.is_alive():Exception ignored in: Traceback (most recent call last):\n",
      "\n",
      "\n",
      "<function _MultiProcessingDataLoaderIter.__del__ at 0x7f74847cec10>  File \"/home-nfs/raphaelr/miniconda/lib/python3.8/site-packages/torch/utils/data/dataloader.py\", line 1358, in __del__\n",
      "  File \"/home-nfs/raphaelr/miniconda/lib/python3.8/site-packages/torch/utils/data/dataloader.py\", line 1341, in _shutdown_workers\n",
      "  File \"/home-nfs/raphaelr/miniconda/lib/python3.8/multiprocessing/process.py\", line 160, in is_alive\n",
      "\n",
      "    Traceback (most recent call last):\n",
      "        self._shutdown_workers()  File \"/home-nfs/raphaelr/miniconda/lib/python3.8/site-packages/torch/utils/data/dataloader.py\", line 1358, in __del__\n",
      "assert self._parent_pid == os.getpid(), 'can only test a child process'\n",
      "if w.is_alive():\n",
      "  File \"/home-nfs/raphaelr/miniconda/lib/python3.8/site-packages/torch/utils/data/dataloader.py\", line 1341, in _shutdown_workers\n",
      "\n",
      "AssertionError          File \"/home-nfs/raphaelr/miniconda/lib/python3.8/multiprocessing/process.py\", line 160, in is_alive\n",
      "Exception ignored in: : self._shutdown_workers()if w.is_alive():can only test a child process<function _MultiProcessingDataLoaderIter.__del__ at 0x7f74847cec10>    \n",
      "\n",
      "\n",
      "  File \"/home-nfs/raphaelr/miniconda/lib/python3.8/multiprocessing/process.py\", line 160, in is_alive\n",
      "assert self._parent_pid == os.getpid(), 'can only test a child process'Exception ignored in: Traceback (most recent call last):\n",
      "\n",
      "\n",
      "    <function _MultiProcessingDataLoaderIter.__del__ at 0x7f74847cec10>  File \"/home-nfs/raphaelr/miniconda/lib/python3.8/site-packages/torch/utils/data/dataloader.py\", line 1358, in __del__\n",
      "  File \"/home-nfs/raphaelr/miniconda/lib/python3.8/site-packages/torch/utils/data/dataloader.py\", line 1341, in _shutdown_workers\n",
      "assert self._parent_pid == os.getpid(), 'can only test a child process'\n",
      "AssertionError\n",
      "Exception ignored in: Exception ignored in:         Traceback (most recent call last):\n",
      ": <function _MultiProcessingDataLoaderIter.__del__ at 0x7f74847cec10><function _MultiProcessingDataLoaderIter.__del__ at 0x7f74847cec10>AssertionErrorif w.is_alive():Exception ignored in: self._shutdown_workers()  File \"/home-nfs/raphaelr/miniconda/lib/python3.8/site-packages/torch/utils/data/dataloader.py\", line 1358, in __del__\n"
     ]
    },
    {
     "name": "stderr",
     "output_type": "stream",
     "text": [
      ": can only test a child process\n",
      "\n",
      "<function _MultiProcessingDataLoaderIter.__del__ at 0x7f74847cec10>can only test a child process\n",
      "\n",
      "Traceback (most recent call last):\n",
      "Traceback (most recent call last):\n",
      "    \n",
      "\n",
      "  File \"/home-nfs/raphaelr/miniconda/lib/python3.8/multiprocessing/process.py\", line 160, in is_alive\n",
      "\n",
      "  File \"/home-nfs/raphaelr/miniconda/lib/python3.8/site-packages/torch/utils/data/dataloader.py\", line 1358, in __del__\n",
      "  File \"/home-nfs/raphaelr/miniconda/lib/python3.8/site-packages/torch/utils/data/dataloader.py\", line 1358, in __del__\n",
      "Traceback (most recent call last):\n",
      "  File \"/home-nfs/raphaelr/miniconda/lib/python3.8/site-packages/torch/utils/data/dataloader.py\", line 1341, in _shutdown_workers\n",
      "self._shutdown_workers()        \n",
      "assert self._parent_pid == os.getpid(), 'can only test a child process'    self._shutdown_workers()    Exception ignored in:   File \"/home-nfs/raphaelr/miniconda/lib/python3.8/site-packages/torch/utils/data/dataloader.py\", line 1341, in _shutdown_workers\n",
      "if w.is_alive():  File \"/home-nfs/raphaelr/miniconda/lib/python3.8/site-packages/torch/utils/data/dataloader.py\", line 1358, in __del__\n",
      "\n",
      "\n",
      "<function _MultiProcessingDataLoaderIter.__del__ at 0x7f74847cec10>self._shutdown_workers()\n",
      "Exception ignored in: AssertionError      File \"/home-nfs/raphaelr/miniconda/lib/python3.8/site-packages/torch/utils/data/dataloader.py\", line 1341, in _shutdown_workers\n",
      "\n",
      "    \n",
      "<function _MultiProcessingDataLoaderIter.__del__ at 0x7f74847cec10>  File \"/home-nfs/raphaelr/miniconda/lib/python3.8/multiprocessing/process.py\", line 160, in is_alive\n",
      ": if w.is_alive():Traceback (most recent call last):\n",
      "self._shutdown_workers()      File \"/home-nfs/raphaelr/miniconda/lib/python3.8/site-packages/torch/utils/data/dataloader.py\", line 1341, in _shutdown_workers\n",
      "\n",
      "can only test a child process\n",
      "\n",
      "  File \"/home-nfs/raphaelr/miniconda/lib/python3.8/site-packages/torch/utils/data/dataloader.py\", line 1358, in __del__\n",
      "Traceback (most recent call last):\n",
      "if w.is_alive():\n",
      "      File \"/home-nfs/raphaelr/miniconda/lib/python3.8/site-packages/torch/utils/data/dataloader.py\", line 1341, in _shutdown_workers\n",
      "  File \"/home-nfs/raphaelr/miniconda/lib/python3.8/multiprocessing/process.py\", line 160, in is_alive\n",
      "\n",
      "      File \"/home-nfs/raphaelr/miniconda/lib/python3.8/site-packages/torch/utils/data/dataloader.py\", line 1358, in __del__\n",
      "assert self._parent_pid == os.getpid(), 'can only test a child process'  File \"/home-nfs/raphaelr/miniconda/lib/python3.8/multiprocessing/process.py\", line 160, in is_alive\n",
      "            \n",
      "if w.is_alive():    assert self._parent_pid == os.getpid(), 'can only test a child process'self._shutdown_workers()AssertionError    self._shutdown_workers()\n",
      "Exception ignored in: : \n",
      "assert self._parent_pid == os.getpid(), 'can only test a child process'\n",
      "  File \"/home-nfs/raphaelr/miniconda/lib/python3.8/multiprocessing/process.py\", line 160, in is_alive\n",
      "<function _MultiProcessingDataLoaderIter.__del__ at 0x7f74847cec10>  File \"/home-nfs/raphaelr/miniconda/lib/python3.8/site-packages/torch/utils/data/dataloader.py\", line 1341, in _shutdown_workers\n",
      "\n",
      "can only test a child process\n",
      "  File \"/home-nfs/raphaelr/miniconda/lib/python3.8/site-packages/torch/utils/data/dataloader.py\", line 1341, in _shutdown_workers\n",
      "\n",
      "AssertionError\n",
      "AssertionError        Traceback (most recent call last):\n",
      "    : if w.is_alive()::   File \"/home-nfs/raphaelr/miniconda/lib/python3.8/site-packages/torch/utils/data/dataloader.py\", line 1358, in __del__\n",
      "if w.is_alive():can only test a child processif w.is_alive():can only test a child process\n",
      "\n",
      "\n",
      "\n",
      "    \n",
      "  File \"/home-nfs/raphaelr/miniconda/lib/python3.8/multiprocessing/process.py\", line 160, in is_alive\n",
      "  File \"/home-nfs/raphaelr/miniconda/lib/python3.8/multiprocessing/process.py\", line 160, in is_alive\n",
      "Exception ignored in:   File \"/home-nfs/raphaelr/miniconda/lib/python3.8/multiprocessing/process.py\", line 160, in is_alive\n",
      "self._shutdown_workers()<function _MultiProcessingDataLoaderIter.__del__ at 0x7f74847cec10>        \n",
      "\n",
      "assert self._parent_pid == os.getpid(), 'can only test a child process'  File \"/home-nfs/raphaelr/miniconda/lib/python3.8/site-packages/torch/utils/data/dataloader.py\", line 1341, in _shutdown_workers\n",
      "assert self._parent_pid == os.getpid(), 'can only test a child process'assert self._parent_pid == os.getpid(), 'can only test a child process'    \n",
      "Exception ignored in: Exception ignored in: \n",
      "Traceback (most recent call last):\n",
      "assert self._parent_pid == os.getpid(), 'can only test a child process'\n",
      "    AssertionError<function _MultiProcessingDataLoaderIter.__del__ at 0x7f74847cec10>AssertionError  File \"/home-nfs/raphaelr/miniconda/lib/python3.8/site-packages/torch/utils/data/dataloader.py\", line 1358, in __del__\n",
      "\n",
      "<function _MultiProcessingDataLoaderIter.__del__ at 0x7f74847cec10>if w.is_alive():: \n",
      ": AssertionError\n",
      "    can only test a child processTraceback (most recent call last):\n",
      "can only test a child process\n",
      ": self._shutdown_workers()Traceback (most recent call last):\n",
      "\n",
      "\n",
      "  File \"/home-nfs/raphaelr/miniconda/lib/python3.8/multiprocessing/process.py\", line 160, in is_alive\n",
      "  File \"/home-nfs/raphaelr/miniconda/lib/python3.8/site-packages/torch/utils/data/dataloader.py\", line 1358, in __del__\n",
      "can only test a child process\n",
      "  File \"/home-nfs/raphaelr/miniconda/lib/python3.8/site-packages/torch/utils/data/dataloader.py\", line 1358, in __del__\n",
      "    \n",
      "  File \"/home-nfs/raphaelr/miniconda/lib/python3.8/site-packages/torch/utils/data/dataloader.py\", line 1341, in _shutdown_workers\n",
      "assert self._parent_pid == os.getpid(), 'can only test a child process'        \n",
      "self._shutdown_workers()    self._shutdown_workers()AssertionErrorif w.is_alive():\n",
      "Exception ignored in: : Exception ignored in:   File \"/home-nfs/raphaelr/miniconda/lib/python3.8/site-packages/torch/utils/data/dataloader.py\", line 1341, in _shutdown_workers\n",
      "\n",
      "<function _MultiProcessingDataLoaderIter.__del__ at 0x7f74847cec10>can only test a child process<function _MultiProcessingDataLoaderIter.__del__ at 0x7f74847cec10>  File \"/home-nfs/raphaelr/miniconda/lib/python3.8/multiprocessing/process.py\", line 160, in is_alive\n",
      "Exception ignored in:     \n",
      "\n",
      "\n",
      "<function _MultiProcessingDataLoaderIter.__del__ at 0x7f74847cec10>if w.is_alive():AssertionErrorTraceback (most recent call last):\n",
      "    Traceback (most recent call last):\n",
      "\n",
      "  File \"/home-nfs/raphaelr/miniconda/lib/python3.8/site-packages/torch/utils/data/dataloader.py\", line 1358, in __del__\n",
      "assert self._parent_pid == os.getpid(), 'can only test a child process'  File \"/home-nfs/raphaelr/miniconda/lib/python3.8/site-packages/torch/utils/data/dataloader.py\", line 1358, in __del__\n",
      ": Traceback (most recent call last):\n",
      "\n",
      "\n",
      "\n",
      "can only test a child process      File \"/home-nfs/raphaelr/miniconda/lib/python3.8/site-packages/torch/utils/data/dataloader.py\", line 1358, in __del__\n",
      "  File \"/home-nfs/raphaelr/miniconda/lib/python3.8/multiprocessing/process.py\", line 160, in is_alive\n",
      "    AssertionErrorException ignored in: \n",
      "self._shutdown_workers()self._shutdown_workers()  File \"/home-nfs/raphaelr/miniconda/lib/python3.8/site-packages/torch/utils/data/dataloader.py\", line 1341, in _shutdown_workers\n",
      "        <function _MultiProcessingDataLoaderIter.__del__ at 0x7f74847cec10>: \n",
      "\n",
      "self._shutdown_workers()assert self._parent_pid == os.getpid(), 'can only test a child process'\n",
      "can only test a child process  File \"/home-nfs/raphaelr/miniconda/lib/python3.8/site-packages/torch/utils/data/dataloader.py\", line 1341, in _shutdown_workers\n",
      "      File \"/home-nfs/raphaelr/miniconda/lib/python3.8/site-packages/torch/utils/data/dataloader.py\", line 1341, in _shutdown_workers\n",
      "\n",
      "\n",
      "Traceback (most recent call last):\n",
      "\n",
      "AssertionError  File \"/home-nfs/raphaelr/miniconda/lib/python3.8/site-packages/torch/utils/data/dataloader.py\", line 1358, in __del__\n",
      "if w.is_alive():Exception ignored in:   File \"/home-nfs/raphaelr/miniconda/lib/python3.8/site-packages/torch/utils/data/dataloader.py\", line 1341, in _shutdown_workers\n",
      "        \n",
      ": if w.is_alive():if w.is_alive():      File \"/home-nfs/raphaelr/miniconda/lib/python3.8/multiprocessing/process.py\", line 160, in is_alive\n",
      "can only test a child process\n",
      "\n",
      "self._shutdown_workers()    \n"
     ]
    },
    {
     "name": "stderr",
     "output_type": "stream",
     "text": [
      "<function _MultiProcessingDataLoaderIter.__del__ at 0x7f74847cec10>      File \"/home-nfs/raphaelr/miniconda/lib/python3.8/multiprocessing/process.py\", line 160, in is_alive\n",
      "if w.is_alive():\n",
      "  File \"/home-nfs/raphaelr/miniconda/lib/python3.8/multiprocessing/process.py\", line 160, in is_alive\n",
      "\n",
      "assert self._parent_pid == os.getpid(), 'can only test a child process'    Traceback (most recent call last):\n",
      "\n",
      "\n",
      "    assert self._parent_pid == os.getpid(), 'can only test a child process'  File \"/home-nfs/raphaelr/miniconda/lib/python3.8/site-packages/torch/utils/data/dataloader.py\", line 1358, in __del__\n",
      "AssertionErrorassert self._parent_pid == os.getpid(), 'can only test a child process'  File \"/home-nfs/raphaelr/miniconda/lib/python3.8/multiprocessing/process.py\", line 160, in is_alive\n",
      "\n",
      ": Exception ignored in: \n",
      "Exception ignored in:     AssertionErrorcan only test a child process<function _MultiProcessingDataLoaderIter.__del__ at 0x7f74847cec10>    AssertionError<function _MultiProcessingDataLoaderIter.__del__ at 0x7f74847cec10>assert self._parent_pid == os.getpid(), 'can only test a child process'  File \"/home-nfs/raphaelr/miniconda/lib/python3.8/site-packages/torch/utils/data/dataloader.py\", line 1341, in _shutdown_workers\n",
      ": \n",
      "\n",
      "self._shutdown_workers(): \n",
      "\n",
      "can only test a child processTraceback (most recent call last):\n",
      "\n",
      "can only test a child processAssertionErrorTraceback (most recent call last):\n",
      "  File \"/home-nfs/raphaelr/miniconda/lib/python3.8/site-packages/torch/utils/data/dataloader.py\", line 1341, in _shutdown_workers\n",
      "\n",
      "  File \"/home-nfs/raphaelr/miniconda/lib/python3.8/site-packages/torch/utils/data/dataloader.py\", line 1358, in __del__\n",
      "  File \"/home-nfs/raphaelr/miniconda/lib/python3.8/site-packages/torch/utils/data/dataloader.py\", line 1358, in __del__\n",
      "\n",
      ":             can only test a child processif w.is_alive():self._shutdown_workers()Exception ignored in: self._shutdown_workers()    \n",
      "\n",
      "\n",
      "\n",
      "if w.is_alive():<function _MultiProcessingDataLoaderIter.__del__ at 0x7f74847cec10>  File \"/home-nfs/raphaelr/miniconda/lib/python3.8/multiprocessing/process.py\", line 160, in is_alive\n",
      "  File \"/home-nfs/raphaelr/miniconda/lib/python3.8/site-packages/torch/utils/data/dataloader.py\", line 1341, in _shutdown_workers\n",
      "Exception ignored in:   File \"/home-nfs/raphaelr/miniconda/lib/python3.8/site-packages/torch/utils/data/dataloader.py\", line 1341, in _shutdown_workers\n",
      "\n",
      "\n",
      "Exception ignored in: <function _MultiProcessingDataLoaderIter.__del__ at 0x7f74847cec10>        Traceback (most recent call last):\n",
      "  File \"/home-nfs/raphaelr/miniconda/lib/python3.8/multiprocessing/process.py\", line 160, in is_alive\n",
      "<function _MultiProcessingDataLoaderIter.__del__ at 0x7f74847cec10>assert self._parent_pid == os.getpid(), 'can only test a child process'\n",
      "      File \"/home-nfs/raphaelr/miniconda/lib/python3.8/site-packages/torch/utils/data/dataloader.py\", line 1358, in __del__\n",
      "Exception ignored in: \n",
      "    \n",
      "if w.is_alive():if w.is_alive():<function _MultiProcessingDataLoaderIter.__del__ at 0x7f74847cec10>Traceback (most recent call last):\n",
      "Traceback (most recent call last):\n",
      "assert self._parent_pid == os.getpid(), 'can only test a child process'    AssertionError\n",
      "\n",
      "\n",
      "  File \"/home-nfs/raphaelr/miniconda/lib/python3.8/site-packages/torch/utils/data/dataloader.py\", line 1358, in __del__\n",
      "  File \"/home-nfs/raphaelr/miniconda/lib/python3.8/site-packages/torch/utils/data/dataloader.py\", line 1358, in __del__\n",
      "\n",
      "self._shutdown_workers():   File \"/home-nfs/raphaelr/miniconda/lib/python3.8/multiprocessing/process.py\", line 160, in is_alive\n",
      "  File \"/home-nfs/raphaelr/miniconda/lib/python3.8/multiprocessing/process.py\", line 160, in is_alive\n",
      "Traceback (most recent call last):\n",
      "\n",
      "        AssertionError  File \"/home-nfs/raphaelr/miniconda/lib/python3.8/site-packages/torch/utils/data/dataloader.py\", line 1358, in __del__\n",
      "can only test a child process          File \"/home-nfs/raphaelr/miniconda/lib/python3.8/site-packages/torch/utils/data/dataloader.py\", line 1341, in _shutdown_workers\n",
      "self._shutdown_workers()self._shutdown_workers(): \n",
      "assert self._parent_pid == os.getpid(), 'can only test a child process'    \n",
      "\n",
      "\n",
      "self._shutdown_workers()  File \"/home-nfs/raphaelr/miniconda/lib/python3.8/site-packages/torch/utils/data/dataloader.py\", line 1341, in _shutdown_workers\n",
      "  File \"/home-nfs/raphaelr/miniconda/lib/python3.8/site-packages/torch/utils/data/dataloader.py\", line 1341, in _shutdown_workers\n",
      "AssertionError\n",
      "can only test a child process  File \"/home-nfs/raphaelr/miniconda/lib/python3.8/site-packages/torch/utils/data/dataloader.py\", line 1341, in _shutdown_workers\n",
      ": assert self._parent_pid == os.getpid(), 'can only test a child process'        \n",
      "can only test a child process    if w.is_alive():\n",
      "if w.is_alive():    \n",
      "\n",
      "AssertionError\n",
      "if w.is_alive():if w.is_alive():  File \"/home-nfs/raphaelr/miniconda/lib/python3.8/multiprocessing/process.py\", line 160, in is_alive\n",
      ":   File \"/home-nfs/raphaelr/miniconda/lib/python3.8/multiprocessing/process.py\", line 160, in is_alive\n",
      "\n",
      "Exception ignored in:     can only test a child process\n",
      "    <function _MultiProcessingDataLoaderIter.__del__ at 0x7f74847cec10>assert self._parent_pid == os.getpid(), 'can only test a child process'  File \"/home-nfs/raphaelr/miniconda/lib/python3.8/multiprocessing/process.py\", line 160, in is_alive\n",
      "  File \"/home-nfs/raphaelr/miniconda/lib/python3.8/multiprocessing/process.py\", line 160, in is_alive\n",
      "\n",
      "assert self._parent_pid == os.getpid(), 'can only test a child process'Exception ignored in: Exception ignored in: \n",
      "<function _MultiProcessingDataLoaderIter.__del__ at 0x7f74847cec10>    \n",
      "AssertionError    <function _MultiProcessingDataLoaderIter.__del__ at 0x7f74847cec10>\n",
      "\n",
      "assert self._parent_pid == os.getpid(), 'can only test a child process': AssertionErrorassert self._parent_pid == os.getpid(), 'can only test a child process'\n",
      "Traceback (most recent call last):\n",
      "Traceback (most recent call last):\n",
      "\n",
      "can only test a child process: \n",
      "Exception ignored in:   File \"/home-nfs/raphaelr/miniconda/lib/python3.8/site-packages/torch/utils/data/dataloader.py\", line 1358, in __del__\n",
      "Traceback (most recent call last):\n",
      "  File \"/home-nfs/raphaelr/miniconda/lib/python3.8/site-packages/torch/utils/data/dataloader.py\", line 1358, in __del__\n",
      "AssertionErrorcan only test a child processAssertionError<function _MultiProcessingDataLoaderIter.__del__ at 0x7f74847cec10>  File \"/home-nfs/raphaelr/miniconda/lib/python3.8/site-packages/torch/utils/data/dataloader.py\", line 1358, in __del__\n",
      ": \n",
      "    :     \n",
      "\n",
      "can only test a child processself._shutdown_workers()    self._shutdown_workers()Traceback (most recent call last):\n",
      "can only test a child process\n",
      "\n",
      "self._shutdown_workers()\n",
      "  File \"/home-nfs/raphaelr/miniconda/lib/python3.8/site-packages/torch/utils/data/dataloader.py\", line 1341, in _shutdown_workers\n",
      "\n",
      "Exception ignored in:   File \"/home-nfs/raphaelr/miniconda/lib/python3.8/site-packages/torch/utils/data/dataloader.py\", line 1358, in __del__\n",
      "  File \"/home-nfs/raphaelr/miniconda/lib/python3.8/site-packages/torch/utils/data/dataloader.py\", line 1341, in _shutdown_workers\n",
      "\n",
      "    <function _MultiProcessingDataLoaderIter.__del__ at 0x7f74847cec10>Exception ignored in:   File \"/home-nfs/raphaelr/miniconda/lib/python3.8/site-packages/torch/utils/data/dataloader.py\", line 1341, in _shutdown_workers\n",
      "if w.is_alive():        \n",
      "<function _MultiProcessingDataLoaderIter.__del__ at 0x7f74847cec10>\n",
      "self._shutdown_workers()Exception ignored in:     Exception ignored in: \n",
      "if w.is_alive():  File \"/home-nfs/raphaelr/miniconda/lib/python3.8/multiprocessing/process.py\", line 160, in is_alive\n",
      "\n",
      "<function _MultiProcessingDataLoaderIter.__del__ at 0x7f74847cec10>if w.is_alive():Traceback (most recent call last):\n",
      "<function _MultiProcessingDataLoaderIter.__del__ at 0x7f74847cec10>Traceback (most recent call last):\n",
      "\n",
      "    \n",
      "\n",
      "  File \"/home-nfs/raphaelr/miniconda/lib/python3.8/site-packages/torch/utils/data/dataloader.py\", line 1341, in _shutdown_workers\n",
      "\n",
      "  File \"/home-nfs/raphaelr/miniconda/lib/python3.8/site-packages/torch/utils/data/dataloader.py\", line 1358, in __del__\n",
      "  File \"/home-nfs/raphaelr/miniconda/lib/python3.8/multiprocessing/process.py\", line 160, in is_alive\n",
      "  File \"/home-nfs/raphaelr/miniconda/lib/python3.8/site-packages/torch/utils/data/dataloader.py\", line 1358, in __del__\n"
     ]
    },
    {
     "name": "stderr",
     "output_type": "stream",
     "text": [
      "assert self._parent_pid == os.getpid(), 'can only test a child process'Traceback (most recent call last):\n",
      "  File \"/home-nfs/raphaelr/miniconda/lib/python3.8/multiprocessing/process.py\", line 160, in is_alive\n",
      "Traceback (most recent call last):\n",
      "\n",
      "                  File \"/home-nfs/raphaelr/miniconda/lib/python3.8/site-packages/torch/utils/data/dataloader.py\", line 1358, in __del__\n",
      "if w.is_alive():AssertionError      File \"/home-nfs/raphaelr/miniconda/lib/python3.8/site-packages/torch/utils/data/dataloader.py\", line 1358, in __del__\n",
      "self._shutdown_workers()assert self._parent_pid == os.getpid(), 'can only test a child process'self._shutdown_workers()\n",
      ": assert self._parent_pid == os.getpid(), 'can only test a child process'    \n",
      "\n",
      "\n",
      "      File \"/home-nfs/raphaelr/miniconda/lib/python3.8/multiprocessing/process.py\", line 160, in is_alive\n",
      "can only test a child process\n",
      "self._shutdown_workers()  File \"/home-nfs/raphaelr/miniconda/lib/python3.8/site-packages/torch/utils/data/dataloader.py\", line 1341, in _shutdown_workers\n",
      "  File \"/home-nfs/raphaelr/miniconda/lib/python3.8/site-packages/torch/utils/data/dataloader.py\", line 1341, in _shutdown_workers\n",
      "AssertionErrorself._shutdown_workers()\n",
      "AssertionError    :     \n",
      ": \n",
      "    assert self._parent_pid == os.getpid(), 'can only test a child process'can only test a child processif w.is_alive():  File \"/home-nfs/raphaelr/miniconda/lib/python3.8/site-packages/torch/utils/data/dataloader.py\", line 1341, in _shutdown_workers\n",
      "can only test a child processif w.is_alive():\n",
      "\n",
      "\n",
      "\n",
      "\n",
      "  File \"/home-nfs/raphaelr/miniconda/lib/python3.8/site-packages/torch/utils/data/dataloader.py\", line 1341, in _shutdown_workers\n",
      "AssertionError    Exception ignored in:   File \"/home-nfs/raphaelr/miniconda/lib/python3.8/multiprocessing/process.py\", line 160, in is_alive\n",
      "  File \"/home-nfs/raphaelr/miniconda/lib/python3.8/multiprocessing/process.py\", line 160, in is_alive\n",
      "<function _MultiProcessingDataLoaderIter.__del__ at 0x7f74847cec10>        \n",
      ": if w.is_alive():if w.is_alive():Traceback (most recent call last):\n",
      "assert self._parent_pid == os.getpid(), 'can only test a child process'    Exception ignored in: Exception ignored in: \n",
      "can only test a child process\n",
      "  File \"/home-nfs/raphaelr/miniconda/lib/python3.8/site-packages/torch/utils/data/dataloader.py\", line 1358, in __del__\n",
      "\n",
      "<function _MultiProcessingDataLoaderIter.__del__ at 0x7f74847cec10><function _MultiProcessingDataLoaderIter.__del__ at 0x7f74847cec10>  File \"/home-nfs/raphaelr/miniconda/lib/python3.8/multiprocessing/process.py\", line 160, in is_alive\n",
      "\n",
      "  File \"/home-nfs/raphaelr/miniconda/lib/python3.8/multiprocessing/process.py\", line 160, in is_alive\n",
      "AssertionError    \n",
      "\n",
      "        : assert self._parent_pid == os.getpid(), 'can only test a child process'Traceback (most recent call last):\n",
      "self._shutdown_workers()Traceback (most recent call last):\n",
      "\n",
      "  File \"/home-nfs/raphaelr/miniconda/lib/python3.8/site-packages/torch/utils/data/dataloader.py\", line 1358, in __del__\n",
      "\n",
      "can only test a child process  File \"/home-nfs/raphaelr/miniconda/lib/python3.8/site-packages/torch/utils/data/dataloader.py\", line 1358, in __del__\n",
      "AssertionError  File \"/home-nfs/raphaelr/miniconda/lib/python3.8/site-packages/torch/utils/data/dataloader.py\", line 1341, in _shutdown_workers\n",
      "    \n",
      "assert self._parent_pid == os.getpid(), 'can only test a child process': self._shutdown_workers()assert self._parent_pid == os.getpid(), 'can only test a child process'        \n",
      "can only test a child process\n",
      "\n",
      "if w.is_alive():AssertionError\n",
      "self._shutdown_workers()  File \"/home-nfs/raphaelr/miniconda/lib/python3.8/site-packages/torch/utils/data/dataloader.py\", line 1341, in _shutdown_workers\n",
      "AssertionError: \n",
      "Exception ignored in: : \n",
      "  File \"/home-nfs/raphaelr/miniconda/lib/python3.8/multiprocessing/process.py\", line 160, in is_alive\n",
      "can only test a child process    <function _MultiProcessingDataLoaderIter.__del__ at 0x7f74847cec10>  File \"/home-nfs/raphaelr/miniconda/lib/python3.8/site-packages/torch/utils/data/dataloader.py\", line 1341, in _shutdown_workers\n",
      "can only test a child processif w.is_alive():\n",
      "    \n",
      "\n",
      "\n",
      "assert self._parent_pid == os.getpid(), 'can only test a child process'Traceback (most recent call last):\n",
      "      File \"/home-nfs/raphaelr/miniconda/lib/python3.8/multiprocessing/process.py\", line 160, in is_alive\n",
      "\n",
      "  File \"/home-nfs/raphaelr/miniconda/lib/python3.8/site-packages/torch/utils/data/dataloader.py\", line 1358, in __del__\n",
      "if w.is_alive():AssertionError    \n",
      ": assert self._parent_pid == os.getpid(), 'can only test a child process'      File \"/home-nfs/raphaelr/miniconda/lib/python3.8/multiprocessing/process.py\", line 160, in is_alive\n",
      "can only test a child process\n",
      "self._shutdown_workers()Exception ignored in: \n",
      "    AssertionError\n",
      "<function _MultiProcessingDataLoaderIter.__del__ at 0x7f74847cec10>assert self._parent_pid == os.getpid(), 'can only test a child process': \n",
      "  File \"/home-nfs/raphaelr/miniconda/lib/python3.8/site-packages/torch/utils/data/dataloader.py\", line 1341, in _shutdown_workers\n",
      "can only test a child process\n",
      "Traceback (most recent call last):\n",
      "\n",
      "    AssertionError  File \"/home-nfs/raphaelr/miniconda/lib/python3.8/site-packages/torch/utils/data/dataloader.py\", line 1358, in __del__\n",
      "Exception ignored in: if w.is_alive():: <function _MultiProcessingDataLoaderIter.__del__ at 0x7f74847cec10>    \n",
      "can only test a child process\n",
      "self._shutdown_workers()  File \"/home-nfs/raphaelr/miniconda/lib/python3.8/multiprocessing/process.py\", line 160, in is_alive\n",
      "\n",
      "Traceback (most recent call last):\n",
      "\n",
      "      File \"/home-nfs/raphaelr/miniconda/lib/python3.8/site-packages/torch/utils/data/dataloader.py\", line 1358, in __del__\n",
      "  File \"/home-nfs/raphaelr/miniconda/lib/python3.8/site-packages/torch/utils/data/dataloader.py\", line 1341, in _shutdown_workers\n",
      "assert self._parent_pid == os.getpid(), 'can only test a child process'        \n",
      "self._shutdown_workers()if w.is_alive():AssertionErrorException ignored in: \n",
      "\n",
      "  File \"/home-nfs/raphaelr/miniconda/lib/python3.8/site-packages/torch/utils/data/dataloader.py\", line 1341, in _shutdown_workers\n",
      ": <function _MultiProcessingDataLoaderIter.__del__ at 0x7f74847cec10>  File \"/home-nfs/raphaelr/miniconda/lib/python3.8/multiprocessing/process.py\", line 160, in is_alive\n",
      "can only test a child process\n",
      "    \n",
      "    Traceback (most recent call last):\n",
      "if w.is_alive():assert self._parent_pid == os.getpid(), 'can only test a child process'  File \"/home-nfs/raphaelr/miniconda/lib/python3.8/site-packages/torch/utils/data/dataloader.py\", line 1358, in __del__\n",
      "\n",
      "\n",
      "  File \"/home-nfs/raphaelr/miniconda/lib/python3.8/multiprocessing/process.py\", line 160, in is_alive\n",
      "AssertionError    :     can only test a child processself._shutdown_workers()assert self._parent_pid == os.getpid(), 'can only test a child process'Exception ignored in: \n",
      "\n",
      "\n",
      "<function _MultiProcessingDataLoaderIter.__del__ at 0x7f74847cec10>  File \"/home-nfs/raphaelr/miniconda/lib/python3.8/site-packages/torch/utils/data/dataloader.py\", line 1341, in _shutdown_workers\n",
      "AssertionError\n",
      ": Traceback (most recent call last):\n",
      "can only test a child process      File \"/home-nfs/raphaelr/miniconda/lib/python3.8/site-packages/torch/utils/data/dataloader.py\", line 1358, in __del__\n",
      "\n",
      "if w.is_alive():Exception ignored in: \n",
      "<function _MultiProcessingDataLoaderIter.__del__ at 0x7f74847cec10>  File \"/home-nfs/raphaelr/miniconda/lib/python3.8/multiprocessing/process.py\", line 160, in is_alive\n",
      "\n",
      "    Traceback (most recent call last):\n",
      "self._shutdown_workers()      File \"/home-nfs/raphaelr/miniconda/lib/python3.8/site-packages/torch/utils/data/dataloader.py\", line 1358, in __del__\n",
      "\n",
      "assert self._parent_pid == os.getpid(), 'can only test a child process'Exception ignored in:   File \"/home-nfs/raphaelr/miniconda/lib/python3.8/site-packages/torch/utils/data/dataloader.py\", line 1341, in _shutdown_workers\n",
      "    \n",
      "<function _MultiProcessingDataLoaderIter.__del__ at 0x7f74847cec10>self._shutdown_workers()AssertionError\n",
      "\n",
      ":     Traceback (most recent call last):\n",
      "  File \"/home-nfs/raphaelr/miniconda/lib/python3.8/site-packages/torch/utils/data/dataloader.py\", line 1341, in _shutdown_workers\n",
      "can only test a child processif w.is_alive():  File \"/home-nfs/raphaelr/miniconda/lib/python3.8/site-packages/torch/utils/data/dataloader.py\", line 1358, in __del__\n"
     ]
    },
    {
     "name": "stderr",
     "output_type": "stream",
     "text": [
      "\n",
      "\n",
      "      File \"/home-nfs/raphaelr/miniconda/lib/python3.8/multiprocessing/process.py\", line 160, in is_alive\n",
      "    if w.is_alive():self._shutdown_workers()\n",
      "    \n",
      "  File \"/home-nfs/raphaelr/miniconda/lib/python3.8/multiprocessing/process.py\", line 160, in is_alive\n",
      "assert self._parent_pid == os.getpid(), 'can only test a child process'  File \"/home-nfs/raphaelr/miniconda/lib/python3.8/site-packages/torch/utils/data/dataloader.py\", line 1341, in _shutdown_workers\n",
      "\n",
      "    Exception ignored in: AssertionErrorassert self._parent_pid == os.getpid(), 'can only test a child process'    <function _MultiProcessingDataLoaderIter.__del__ at 0x7f74847cec10>: if w.is_alive():\n",
      "\n",
      "can only test a child process\n",
      "AssertionErrorTraceback (most recent call last):\n",
      "\n",
      "  File \"/home-nfs/raphaelr/miniconda/lib/python3.8/multiprocessing/process.py\", line 160, in is_alive\n",
      ":   File \"/home-nfs/raphaelr/miniconda/lib/python3.8/site-packages/torch/utils/data/dataloader.py\", line 1358, in __del__\n",
      "can only test a child process    \n",
      "assert self._parent_pid == os.getpid(), 'can only test a child process'    \n",
      "self._shutdown_workers()AssertionError\n",
      "Exception ignored in: :   File \"/home-nfs/raphaelr/miniconda/lib/python3.8/site-packages/torch/utils/data/dataloader.py\", line 1341, in _shutdown_workers\n",
      "can only test a child process<function _MultiProcessingDataLoaderIter.__del__ at 0x7f74847cec10>\n",
      "Exception ignored in: \n",
      "    <function _MultiProcessingDataLoaderIter.__del__ at 0x7f74847cec10>Traceback (most recent call last):\n",
      "if w.is_alive():\n",
      "  File \"/home-nfs/raphaelr/miniconda/lib/python3.8/site-packages/torch/utils/data/dataloader.py\", line 1358, in __del__\n",
      "\n",
      "Traceback (most recent call last):\n",
      "  File \"/home-nfs/raphaelr/miniconda/lib/python3.8/multiprocessing/process.py\", line 160, in is_alive\n",
      "  File \"/home-nfs/raphaelr/miniconda/lib/python3.8/site-packages/torch/utils/data/dataloader.py\", line 1358, in __del__\n",
      "    Exception ignored in: self._shutdown_workers()        <function _MultiProcessingDataLoaderIter.__del__ at 0x7f74847cec10>\n",
      "assert self._parent_pid == os.getpid(), 'can only test a child process'self._shutdown_workers()\n",
      "  File \"/home-nfs/raphaelr/miniconda/lib/python3.8/site-packages/torch/utils/data/dataloader.py\", line 1341, in _shutdown_workers\n",
      "\n",
      "\n",
      "Traceback (most recent call last):\n",
      "  File \"/home-nfs/raphaelr/miniconda/lib/python3.8/site-packages/torch/utils/data/dataloader.py\", line 1341, in _shutdown_workers\n",
      "AssertionError  File \"/home-nfs/raphaelr/miniconda/lib/python3.8/site-packages/torch/utils/data/dataloader.py\", line 1358, in __del__\n",
      "    : if w.is_alive():    can only test a child process\n",
      "if w.is_alive():\n",
      "      File \"/home-nfs/raphaelr/miniconda/lib/python3.8/multiprocessing/process.py\", line 160, in is_alive\n",
      "\n",
      "self._shutdown_workers()  File \"/home-nfs/raphaelr/miniconda/lib/python3.8/multiprocessing/process.py\", line 160, in is_alive\n",
      "\n",
      "      File \"/home-nfs/raphaelr/miniconda/lib/python3.8/site-packages/torch/utils/data/dataloader.py\", line 1341, in _shutdown_workers\n",
      "    assert self._parent_pid == os.getpid(), 'can only test a child process'assert self._parent_pid == os.getpid(), 'can only test a child process'\n",
      "    \n",
      "AssertionErrorif w.is_alive():AssertionError: \n",
      ": can only test a child process  File \"/home-nfs/raphaelr/miniconda/lib/python3.8/multiprocessing/process.py\", line 160, in is_alive\n",
      "can only test a child process\n",
      "\n",
      "    assert self._parent_pid == os.getpid(), 'can only test a child process'\n",
      "AssertionError: can only test a child process\n",
      "Exception ignored in: <function _MultiProcessingDataLoaderIter.__del__ at 0x7f74847cec10>\n",
      "Traceback (most recent call last):\n",
      "  File \"/home-nfs/raphaelr/miniconda/lib/python3.8/site-packages/torch/utils/data/dataloader.py\", line 1358, in __del__\n",
      "    Exception ignored in: self._shutdown_workers()<function _MultiProcessingDataLoaderIter.__del__ at 0x7f74847cec10>\n",
      "\n",
      "Traceback (most recent call last):\n",
      "  File \"/home-nfs/raphaelr/miniconda/lib/python3.8/site-packages/torch/utils/data/dataloader.py\", line 1341, in _shutdown_workers\n",
      "  File \"/home-nfs/raphaelr/miniconda/lib/python3.8/site-packages/torch/utils/data/dataloader.py\", line 1358, in __del__\n",
      "        self._shutdown_workers()if w.is_alive():\n",
      "  File \"/home-nfs/raphaelr/miniconda/lib/python3.8/site-packages/torch/utils/data/dataloader.py\", line 1341, in _shutdown_workers\n",
      "\n",
      "      File \"/home-nfs/raphaelr/miniconda/lib/python3.8/multiprocessing/process.py\", line 160, in is_alive\n",
      "Exception ignored in: if w.is_alive():<function _MultiProcessingDataLoaderIter.__del__ at 0x7f74847cec10>    \n",
      "\n",
      "assert self._parent_pid == os.getpid(), 'can only test a child process'Traceback (most recent call last):\n",
      "  File \"/home-nfs/raphaelr/miniconda/lib/python3.8/multiprocessing/process.py\", line 160, in is_alive\n",
      "  File \"/home-nfs/raphaelr/miniconda/lib/python3.8/site-packages/torch/utils/data/dataloader.py\", line 1358, in __del__\n",
      "\n",
      "    AssertionError    assert self._parent_pid == os.getpid(), 'can only test a child process': self._shutdown_workers()\n",
      "can only test a child process\n",
      "AssertionError  File \"/home-nfs/raphaelr/miniconda/lib/python3.8/site-packages/torch/utils/data/dataloader.py\", line 1341, in _shutdown_workers\n",
      "\n",
      ":     can only test a child processif w.is_alive():\n",
      "\n",
      "  File \"/home-nfs/raphaelr/miniconda/lib/python3.8/multiprocessing/process.py\", line 160, in is_alive\n",
      "Exception ignored in: <function _MultiProcessingDataLoaderIter.__del__ at 0x7f74847cec10>    \n",
      "assert self._parent_pid == os.getpid(), 'can only test a child process'Traceback (most recent call last):\n",
      "\n",
      "Exception ignored in:   File \"/home-nfs/raphaelr/miniconda/lib/python3.8/site-packages/torch/utils/data/dataloader.py\", line 1358, in __del__\n",
      "AssertionError<function _MultiProcessingDataLoaderIter.__del__ at 0x7f74847cec10>:     \n",
      "can only test a child processself._shutdown_workers()\n",
      "Traceback (most recent call last):\n",
      "Exception ignored in: \n",
      "  File \"/home-nfs/raphaelr/miniconda/lib/python3.8/site-packages/torch/utils/data/dataloader.py\", line 1358, in __del__\n",
      "<function _MultiProcessingDataLoaderIter.__del__ at 0x7f74847cec10>  File \"/home-nfs/raphaelr/miniconda/lib/python3.8/site-packages/torch/utils/data/dataloader.py\", line 1341, in _shutdown_workers\n",
      "\n",
      "        Traceback (most recent call last):\n",
      "self._shutdown_workers()if w.is_alive():Exception ignored in:   File \"/home-nfs/raphaelr/miniconda/lib/python3.8/site-packages/torch/utils/data/dataloader.py\", line 1358, in __del__\n",
      "\n",
      "\n",
      "<function _MultiProcessingDataLoaderIter.__del__ at 0x7f74847cec10>  File \"/home-nfs/raphaelr/miniconda/lib/python3.8/multiprocessing/process.py\", line 160, in is_alive\n",
      "\n",
      "  File \"/home-nfs/raphaelr/miniconda/lib/python3.8/site-packages/torch/utils/data/dataloader.py\", line 1341, in _shutdown_workers\n",
      "        Traceback (most recent call last):\n",
      "self._shutdown_workers()assert self._parent_pid == os.getpid(), 'can only test a child process'  File \"/home-nfs/raphaelr/miniconda/lib/python3.8/site-packages/torch/utils/data/dataloader.py\", line 1358, in __del__\n",
      "    \n",
      "\n",
      "if w.is_alive():      File \"/home-nfs/raphaelr/miniconda/lib/python3.8/site-packages/torch/utils/data/dataloader.py\", line 1341, in _shutdown_workers\n",
      "AssertionErrorself._shutdown_workers()\n",
      ":     \n",
      "  File \"/home-nfs/raphaelr/miniconda/lib/python3.8/multiprocessing/process.py\", line 160, in is_alive\n",
      "can only test a child processif w.is_alive():  File \"/home-nfs/raphaelr/miniconda/lib/python3.8/site-packages/torch/utils/data/dataloader.py\", line 1341, in _shutdown_workers\n",
      "    \n",
      "\n",
      "  File \"/home-nfs/raphaelr/miniconda/lib/python3.8/multiprocessing/process.py\", line 160, in is_alive\n",
      "assert self._parent_pid == os.getpid(), 'can only test a child process'    \n",
      "if w.is_alive():    AssertionError\n",
      "assert self._parent_pid == os.getpid(), 'can only test a child process':   File \"/home-nfs/raphaelr/miniconda/lib/python3.8/multiprocessing/process.py\", line 160, in is_alive\n",
      "\n",
      "can only test a child processAssertionError\n",
      "    : Exception ignored in: assert self._parent_pid == os.getpid(), 'can only test a child process'can only test a child process\n",
      "<function _MultiProcessingDataLoaderIter.__del__ at 0x7f74847cec10>\n",
      "\n",
      "AssertionError: Traceback (most recent call last):\n",
      "can only test a child process  File \"/home-nfs/raphaelr/miniconda/lib/python3.8/site-packages/torch/utils/data/dataloader.py\", line 1358, in __del__\n"
     ]
    },
    {
     "name": "stderr",
     "output_type": "stream",
     "text": [
      "Exception ignored in: \n",
      "<function _MultiProcessingDataLoaderIter.__del__ at 0x7f74847cec10>Exception ignored in:     \n",
      "<function _MultiProcessingDataLoaderIter.__del__ at 0x7f74847cec10>self._shutdown_workers()Traceback (most recent call last):\n",
      "\n",
      "\n",
      "Traceback (most recent call last):\n",
      "  File \"/home-nfs/raphaelr/miniconda/lib/python3.8/site-packages/torch/utils/data/dataloader.py\", line 1358, in __del__\n",
      "  File \"/home-nfs/raphaelr/miniconda/lib/python3.8/site-packages/torch/utils/data/dataloader.py\", line 1341, in _shutdown_workers\n",
      "  File \"/home-nfs/raphaelr/miniconda/lib/python3.8/site-packages/torch/utils/data/dataloader.py\", line 1358, in __del__\n",
      "Exception ignored in: <function _MultiProcessingDataLoaderIter.__del__ at 0x7f74847cec10>            \n",
      "if w.is_alive():self._shutdown_workers()self._shutdown_workers()\n",
      "Traceback (most recent call last):\n",
      "\n",
      "\n",
      "  File \"/home-nfs/raphaelr/miniconda/lib/python3.8/multiprocessing/process.py\", line 160, in is_alive\n",
      "  File \"/home-nfs/raphaelr/miniconda/lib/python3.8/site-packages/torch/utils/data/dataloader.py\", line 1341, in _shutdown_workers\n",
      "  File \"/home-nfs/raphaelr/miniconda/lib/python3.8/site-packages/torch/utils/data/dataloader.py\", line 1358, in __del__\n",
      "  File \"/home-nfs/raphaelr/miniconda/lib/python3.8/site-packages/torch/utils/data/dataloader.py\", line 1341, in _shutdown_workers\n",
      "        assert self._parent_pid == os.getpid(), 'can only test a child process'        if w.is_alive():\n",
      "self._shutdown_workers()\n",
      "if w.is_alive():\n",
      "AssertionError  File \"/home-nfs/raphaelr/miniconda/lib/python3.8/multiprocessing/process.py\", line 160, in is_alive\n",
      "\n",
      "  File \"/home-nfs/raphaelr/miniconda/lib/python3.8/site-packages/torch/utils/data/dataloader.py\", line 1341, in _shutdown_workers\n",
      ":   File \"/home-nfs/raphaelr/miniconda/lib/python3.8/multiprocessing/process.py\", line 160, in is_alive\n",
      "can only test a child process        \n",
      "    assert self._parent_pid == os.getpid(), 'can only test a child process'if w.is_alive():assert self._parent_pid == os.getpid(), 'can only test a child process'\n",
      "\n",
      "\n",
      "AssertionError  File \"/home-nfs/raphaelr/miniconda/lib/python3.8/multiprocessing/process.py\", line 160, in is_alive\n",
      "AssertionError: : can only test a child process    can only test a child process\n",
      "Exception ignored in: assert self._parent_pid == os.getpid(), 'can only test a child process'\n",
      "<function _MultiProcessingDataLoaderIter.__del__ at 0x7f74847cec10>\n",
      "\n",
      "AssertionErrorTraceback (most recent call last):\n",
      ":   File \"/home-nfs/raphaelr/miniconda/lib/python3.8/site-packages/torch/utils/data/dataloader.py\", line 1358, in __del__\n",
      "Exception ignored in: can only test a child process<function _MultiProcessingDataLoaderIter.__del__ at 0x7f74847cec10>Exception ignored in: \n",
      "    \n",
      "<function _MultiProcessingDataLoaderIter.__del__ at 0x7f74847cec10>self._shutdown_workers()Traceback (most recent call last):\n",
      "\n",
      "\n",
      "  File \"/home-nfs/raphaelr/miniconda/lib/python3.8/site-packages/torch/utils/data/dataloader.py\", line 1358, in __del__\n",
      "Traceback (most recent call last):\n",
      "  File \"/home-nfs/raphaelr/miniconda/lib/python3.8/site-packages/torch/utils/data/dataloader.py\", line 1341, in _shutdown_workers\n",
      "  File \"/home-nfs/raphaelr/miniconda/lib/python3.8/site-packages/torch/utils/data/dataloader.py\", line 1358, in __del__\n",
      "        self._shutdown_workers()    Exception ignored in: if w.is_alive():\n",
      "self._shutdown_workers()<function _MultiProcessingDataLoaderIter.__del__ at 0x7f74847cec10>\n",
      "\n",
      "  File \"/home-nfs/raphaelr/miniconda/lib/python3.8/site-packages/torch/utils/data/dataloader.py\", line 1341, in _shutdown_workers\n",
      "\n",
      "  File \"/home-nfs/raphaelr/miniconda/lib/python3.8/multiprocessing/process.py\", line 160, in is_alive\n",
      "  File \"/home-nfs/raphaelr/miniconda/lib/python3.8/site-packages/torch/utils/data/dataloader.py\", line 1341, in _shutdown_workers\n",
      "Traceback (most recent call last):\n",
      "          File \"/home-nfs/raphaelr/miniconda/lib/python3.8/site-packages/torch/utils/data/dataloader.py\", line 1358, in __del__\n",
      "    if w.is_alive():assert self._parent_pid == os.getpid(), 'can only test a child process'if w.is_alive():\n",
      "\n",
      "      File \"/home-nfs/raphaelr/miniconda/lib/python3.8/multiprocessing/process.py\", line 160, in is_alive\n",
      "\n",
      "AssertionErrorself._shutdown_workers()  File \"/home-nfs/raphaelr/miniconda/lib/python3.8/multiprocessing/process.py\", line 160, in is_alive\n",
      ":     \n",
      "can only test a child processassert self._parent_pid == os.getpid(), 'can only test a child process'      File \"/home-nfs/raphaelr/miniconda/lib/python3.8/site-packages/torch/utils/data/dataloader.py\", line 1341, in _shutdown_workers\n",
      "\n",
      "\n",
      "assert self._parent_pid == os.getpid(), 'can only test a child process'AssertionError\n",
      "    : AssertionErrorif w.is_alive():can only test a child process: \n",
      "\n",
      "can only test a child process  File \"/home-nfs/raphaelr/miniconda/lib/python3.8/multiprocessing/process.py\", line 160, in is_alive\n",
      "\n",
      "Exception ignored in:     <function _MultiProcessingDataLoaderIter.__del__ at 0x7f74847cec10>assert self._parent_pid == os.getpid(), 'can only test a child process'\n",
      "\n",
      "Traceback (most recent call last):\n",
      "AssertionError  File \"/home-nfs/raphaelr/miniconda/lib/python3.8/site-packages/torch/utils/data/dataloader.py\", line 1358, in __del__\n",
      "Exception ignored in: : Exception ignored in: <function _MultiProcessingDataLoaderIter.__del__ at 0x7f74847cec10>can only test a child process    <function _MultiProcessingDataLoaderIter.__del__ at 0x7f74847cec10>\n",
      "\n",
      "self._shutdown_workers()\n",
      "Traceback (most recent call last):\n",
      "\n",
      "Traceback (most recent call last):\n",
      "  File \"/home-nfs/raphaelr/miniconda/lib/python3.8/site-packages/torch/utils/data/dataloader.py\", line 1358, in __del__\n",
      "  File \"/home-nfs/raphaelr/miniconda/lib/python3.8/site-packages/torch/utils/data/dataloader.py\", line 1341, in _shutdown_workers\n",
      "  File \"/home-nfs/raphaelr/miniconda/lib/python3.8/site-packages/torch/utils/data/dataloader.py\", line 1358, in __del__\n",
      "            self._shutdown_workers()Exception ignored in: if w.is_alive():self._shutdown_workers()\n",
      "<function _MultiProcessingDataLoaderIter.__del__ at 0x7f74847cec10>\n",
      "\n",
      "  File \"/home-nfs/raphaelr/miniconda/lib/python3.8/site-packages/torch/utils/data/dataloader.py\", line 1341, in _shutdown_workers\n",
      "\n",
      "  File \"/home-nfs/raphaelr/miniconda/lib/python3.8/multiprocessing/process.py\", line 160, in is_alive\n",
      "  File \"/home-nfs/raphaelr/miniconda/lib/python3.8/site-packages/torch/utils/data/dataloader.py\", line 1341, in _shutdown_workers\n",
      "Traceback (most recent call last):\n",
      "          File \"/home-nfs/raphaelr/miniconda/lib/python3.8/site-packages/torch/utils/data/dataloader.py\", line 1358, in __del__\n",
      "if w.is_alive():    assert self._parent_pid == os.getpid(), 'can only test a child process'\n",
      "\n",
      "if w.is_alive():      File \"/home-nfs/raphaelr/miniconda/lib/python3.8/multiprocessing/process.py\", line 160, in is_alive\n",
      "AssertionError\n",
      "self._shutdown_workers():       File \"/home-nfs/raphaelr/miniconda/lib/python3.8/multiprocessing/process.py\", line 160, in is_alive\n",
      "\n",
      "can only test a child processassert self._parent_pid == os.getpid(), 'can only test a child process'  File \"/home-nfs/raphaelr/miniconda/lib/python3.8/site-packages/torch/utils/data/dataloader.py\", line 1341, in _shutdown_workers\n",
      "\n",
      "    \n",
      "assert self._parent_pid == os.getpid(), 'can only test a child process'AssertionError    \n",
      ": if w.is_alive():AssertionError\n",
      "can only test a child process:   File \"/home-nfs/raphaelr/miniconda/lib/python3.8/multiprocessing/process.py\", line 160, in is_alive\n",
      "\n",
      "Exception ignored in: can only test a child process    <function _MultiProcessingDataLoaderIter.__del__ at 0x7f74847cec10>\n",
      "assert self._parent_pid == os.getpid(), 'can only test a child process'\n",
      "\n",
      "Traceback (most recent call last):\n",
      "AssertionError  File \"/home-nfs/raphaelr/miniconda/lib/python3.8/site-packages/torch/utils/data/dataloader.py\", line 1358, in __del__\n",
      ": Exception ignored in: can only test a child process    <function _MultiProcessingDataLoaderIter.__del__ at 0x7f74847cec10>Exception ignored in: \n",
      "self._shutdown_workers()\n",
      "<function _MultiProcessingDataLoaderIter.__del__ at 0x7f74847cec10>\n",
      "Traceback (most recent call last):\n",
      "\n",
      "  File \"/home-nfs/raphaelr/miniconda/lib/python3.8/site-packages/torch/utils/data/dataloader.py\", line 1341, in _shutdown_workers\n",
      "  File \"/home-nfs/raphaelr/miniconda/lib/python3.8/site-packages/torch/utils/data/dataloader.py\", line 1358, in __del__\n"
     ]
    },
    {
     "name": "stderr",
     "output_type": "stream",
     "text": [
      "Traceback (most recent call last):\n",
      "  File \"/home-nfs/raphaelr/miniconda/lib/python3.8/site-packages/torch/utils/data/dataloader.py\", line 1358, in __del__\n",
      "        Exception ignored in: if w.is_alive():self._shutdown_workers()    <function _MultiProcessingDataLoaderIter.__del__ at 0x7f74847cec10>\n",
      "\n",
      "self._shutdown_workers()\n",
      "  File \"/home-nfs/raphaelr/miniconda/lib/python3.8/multiprocessing/process.py\", line 160, in is_alive\n",
      "  File \"/home-nfs/raphaelr/miniconda/lib/python3.8/site-packages/torch/utils/data/dataloader.py\", line 1341, in _shutdown_workers\n",
      "\n",
      "Traceback (most recent call last):\n",
      "      File \"/home-nfs/raphaelr/miniconda/lib/python3.8/site-packages/torch/utils/data/dataloader.py\", line 1341, in _shutdown_workers\n",
      "  File \"/home-nfs/raphaelr/miniconda/lib/python3.8/site-packages/torch/utils/data/dataloader.py\", line 1358, in __del__\n",
      "    assert self._parent_pid == os.getpid(), 'can only test a child process'if w.is_alive():    \n",
      "    \n",
      "if w.is_alive():AssertionErrorself._shutdown_workers()  File \"/home-nfs/raphaelr/miniconda/lib/python3.8/multiprocessing/process.py\", line 160, in is_alive\n",
      "\n",
      ": \n",
      "  File \"/home-nfs/raphaelr/miniconda/lib/python3.8/multiprocessing/process.py\", line 160, in is_alive\n",
      "can only test a child process      File \"/home-nfs/raphaelr/miniconda/lib/python3.8/site-packages/torch/utils/data/dataloader.py\", line 1341, in _shutdown_workers\n",
      "\n",
      "assert self._parent_pid == os.getpid(), 'can only test a child process'        \n",
      "assert self._parent_pid == os.getpid(), 'can only test a child process'if w.is_alive():AssertionError\n",
      "\n",
      ": AssertionError  File \"/home-nfs/raphaelr/miniconda/lib/python3.8/multiprocessing/process.py\", line 160, in is_alive\n",
      "can only test a child process: Exception ignored in: \n",
      "<function _MultiProcessingDataLoaderIter.__del__ at 0x7f74847cec10>can only test a child process    \n",
      "assert self._parent_pid == os.getpid(), 'can only test a child process'Traceback (most recent call last):\n",
      "\n",
      "  File \"/home-nfs/raphaelr/miniconda/lib/python3.8/site-packages/torch/utils/data/dataloader.py\", line 1358, in __del__\n",
      "AssertionError\n",
      ":     Exception ignored in: can only test a child processself._shutdown_workers()<function _MultiProcessingDataLoaderIter.__del__ at 0x7f74847cec10>\n",
      "\n",
      "\n",
      "  File \"/home-nfs/raphaelr/miniconda/lib/python3.8/site-packages/torch/utils/data/dataloader.py\", line 1341, in _shutdown_workers\n",
      "Traceback (most recent call last):\n",
      "  File \"/home-nfs/raphaelr/miniconda/lib/python3.8/site-packages/torch/utils/data/dataloader.py\", line 1358, in __del__\n",
      "Exception ignored in:     <function _MultiProcessingDataLoaderIter.__del__ at 0x7f74847cec10>if w.is_alive():    \n",
      "Exception ignored in: \n",
      "self._shutdown_workers()Traceback (most recent call last):\n",
      "<function _MultiProcessingDataLoaderIter.__del__ at 0x7f74847cec10>  File \"/home-nfs/raphaelr/miniconda/lib/python3.8/multiprocessing/process.py\", line 160, in is_alive\n",
      "\n",
      "  File \"/home-nfs/raphaelr/miniconda/lib/python3.8/site-packages/torch/utils/data/dataloader.py\", line 1358, in __del__\n",
      "\n",
      "  File \"/home-nfs/raphaelr/miniconda/lib/python3.8/site-packages/torch/utils/data/dataloader.py\", line 1341, in _shutdown_workers\n",
      "    Traceback (most recent call last):\n",
      "    assert self._parent_pid == os.getpid(), 'can only test a child process'  File \"/home-nfs/raphaelr/miniconda/lib/python3.8/site-packages/torch/utils/data/dataloader.py\", line 1358, in __del__\n",
      "    \n",
      "self._shutdown_workers()if w.is_alive():AssertionError\n",
      "    \n",
      ": self._shutdown_workers()  File \"/home-nfs/raphaelr/miniconda/lib/python3.8/site-packages/torch/utils/data/dataloader.py\", line 1341, in _shutdown_workers\n",
      "  File \"/home-nfs/raphaelr/miniconda/lib/python3.8/multiprocessing/process.py\", line 160, in is_alive\n",
      "can only test a child process\n",
      "\n",
      "  File \"/home-nfs/raphaelr/miniconda/lib/python3.8/site-packages/torch/utils/data/dataloader.py\", line 1341, in _shutdown_workers\n",
      "        if w.is_alive():assert self._parent_pid == os.getpid(), 'can only test a child process'\n",
      "\n",
      "      File \"/home-nfs/raphaelr/miniconda/lib/python3.8/multiprocessing/process.py\", line 160, in is_alive\n",
      "if w.is_alive():AssertionError\n",
      ":     Exception ignored in:   File \"/home-nfs/raphaelr/miniconda/lib/python3.8/multiprocessing/process.py\", line 160, in is_alive\n",
      "can only test a child processassert self._parent_pid == os.getpid(), 'can only test a child process'\n",
      "    <function _MultiProcessingDataLoaderIter.__del__ at 0x7f74847cec10>\n",
      "\n",
      "assert self._parent_pid == os.getpid(), 'can only test a child process'AssertionErrorTraceback (most recent call last):\n",
      ": \n",
      "  File \"/home-nfs/raphaelr/miniconda/lib/python3.8/site-packages/torch/utils/data/dataloader.py\", line 1358, in __del__\n",
      "can only test a child processAssertionError\n",
      "    : self._shutdown_workers()can only test a child processException ignored in: \n",
      "\n",
      "<function _MultiProcessingDataLoaderIter.__del__ at 0x7f74847cec10>  File \"/home-nfs/raphaelr/miniconda/lib/python3.8/site-packages/torch/utils/data/dataloader.py\", line 1341, in _shutdown_workers\n",
      "\n",
      "Exception ignored in: Traceback (most recent call last):\n",
      "      File \"/home-nfs/raphaelr/miniconda/lib/python3.8/site-packages/torch/utils/data/dataloader.py\", line 1358, in __del__\n",
      "if w.is_alive():Exception ignored in: \n",
      "<function _MultiProcessingDataLoaderIter.__del__ at 0x7f74847cec10>      File \"/home-nfs/raphaelr/miniconda/lib/python3.8/multiprocessing/process.py\", line 160, in is_alive\n",
      "<function _MultiProcessingDataLoaderIter.__del__ at 0x7f74847cec10>\n",
      "\n",
      "self._shutdown_workers()    Traceback (most recent call last):\n",
      "Traceback (most recent call last):\n",
      "assert self._parent_pid == os.getpid(), 'can only test a child process'\n",
      "  File \"/home-nfs/raphaelr/miniconda/lib/python3.8/site-packages/torch/utils/data/dataloader.py\", line 1358, in __del__\n",
      "  File \"/home-nfs/raphaelr/miniconda/lib/python3.8/site-packages/torch/utils/data/dataloader.py\", line 1358, in __del__\n",
      "\n",
      "  File \"/home-nfs/raphaelr/miniconda/lib/python3.8/site-packages/torch/utils/data/dataloader.py\", line 1341, in _shutdown_workers\n",
      "AssertionError    : self._shutdown_workers()        can only test a child process\n",
      "self._shutdown_workers()if w.is_alive():  File \"/home-nfs/raphaelr/miniconda/lib/python3.8/site-packages/torch/utils/data/dataloader.py\", line 1341, in _shutdown_workers\n",
      "\n",
      "\n",
      "\n",
      "  File \"/home-nfs/raphaelr/miniconda/lib/python3.8/site-packages/torch/utils/data/dataloader.py\", line 1341, in _shutdown_workers\n",
      "  File \"/home-nfs/raphaelr/miniconda/lib/python3.8/multiprocessing/process.py\", line 160, in is_alive\n",
      "    if w.is_alive():        \n",
      "if w.is_alive():assert self._parent_pid == os.getpid(), 'can only test a child process'  File \"/home-nfs/raphaelr/miniconda/lib/python3.8/multiprocessing/process.py\", line 160, in is_alive\n",
      "\n",
      "\n",
      "  File \"/home-nfs/raphaelr/miniconda/lib/python3.8/multiprocessing/process.py\", line 160, in is_alive\n",
      "AssertionError        : assert self._parent_pid == os.getpid(), 'can only test a child process'assert self._parent_pid == os.getpid(), 'can only test a child process'\n",
      "\n",
      "can only test a child processAssertionErrorAssertionError: \n",
      ": can only test a child processcan only test a child process\n",
      "\n",
      "Exception ignored in: <function _MultiProcessingDataLoaderIter.__del__ at 0x7f74847cec10>\n",
      "Traceback (most recent call last):\n",
      "  File \"/home-nfs/raphaelr/miniconda/lib/python3.8/site-packages/torch/utils/data/dataloader.py\", line 1358, in __del__\n",
      "    self._shutdown_workers()\n",
      "  File \"/home-nfs/raphaelr/miniconda/lib/python3.8/site-packages/torch/utils/data/dataloader.py\", line 1341, in _shutdown_workers\n",
      "    if w.is_alive():\n",
      "  File \"/home-nfs/raphaelr/miniconda/lib/python3.8/multiprocessing/process.py\", line 160, in is_alive\n",
      "    assert self._parent_pid == os.getpid(), 'can only test a child process'\n",
      "AssertionError: can only test a child process\n"
     ]
    },
    {
     "name": "stdout",
     "output_type": "stream",
     "text": [
      "----- Epoch = 18 -----\n",
      "Val loss = 0.6790\n",
      "Val acc = 0.8712\n",
      "\n",
      "New best epoch, acc = 0.8712\n",
      "\n"
     ]
    },
    {
     "data": {
      "application/vnd.jupyter.widget-view+json": {
       "model_id": "105d1f7a894946d9900c1a195bcd970e",
       "version_major": 2,
       "version_minor": 0
      },
      "text/plain": [
       "Training loop:   0%|          | 0/390 [00:00<?, ?it/s]"
      ]
     },
     "metadata": {},
     "output_type": "display_data"
    },
    {
     "name": "stdout",
     "output_type": "stream",
     "text": [
      "----- Epoch = 19 -----\n",
      "Val loss = 0.6856\n",
      "Val acc = 0.8708\n"
     ]
    },
    {
     "data": {
      "application/vnd.jupyter.widget-view+json": {
       "model_id": "92d58987dde64aff954d121b8ce7e147",
       "version_major": 2,
       "version_minor": 0
      },
      "text/plain": [
       "Training loop:   0%|          | 0/390 [00:00<?, ?it/s]"
      ]
     },
     "metadata": {},
     "output_type": "display_data"
    },
    {
     "name": "stdout",
     "output_type": "stream",
     "text": [
      "----- Epoch = 20 -----\n",
      "Val loss = 0.6938\n",
      "Val acc = 0.8699\n"
     ]
    }
   ],
   "source": [
    "c.train(nepoch=20, batch_size=128, experiment_name=main_name)"
   ]
  },
  {
   "cell_type": "code",
   "execution_count": 9,
   "id": "d84bbc3f",
   "metadata": {},
   "outputs": [
    {
     "data": {
      "text/plain": [
       "2"
      ]
     },
     "execution_count": 9,
     "metadata": {},
     "output_type": "execute_result"
    }
   ],
   "source": [
    "1+1"
   ]
  },
  {
   "cell_type": "code",
   "execution_count": null,
   "id": "7d5639a1",
   "metadata": {},
   "outputs": [],
   "source": []
  },
  {
   "cell_type": "code",
   "execution_count": 3,
   "id": "5569e4c9",
   "metadata": {},
   "outputs": [],
   "source": [
    "train_hist = []\n",
    "with open(main_name+\"train_hist.txt\", \"r\") as f:\n",
    "  for line in f:\n",
    "    train_hist.append(float(line.strip()))\n",
    "    \n",
    "val_hist = []\n",
    "with open(main_name+\"val_hist.txt\", \"r\") as f:\n",
    "  for line in f:\n",
    "    val_hist.append(float(line.strip()))\n"
   ]
  },
  {
   "cell_type": "code",
   "execution_count": 4,
   "id": "250354e2",
   "metadata": {},
   "outputs": [
    {
     "data": {
      "text/plain": [
       "<AxesSubplot:title={'center':'Accuracy: No Augmentations'}>"
      ]
     },
     "execution_count": 4,
     "metadata": {},
     "output_type": "execute_result"
    },
    {
     "data": {
      "image/png": "[encoded data removed]",
      "text/plain": [
       "<Figure size 432x288 with 1 Axes>"
      ]
     },
     "metadata": {
      "needs_background": "light"
     },
     "output_type": "display_data"
    }
   ],
   "source": [
    "import pandas as pd\n",
    "pd.DataFrame(data={\"Train\":train_hist, \"Test\":val_hist}).plot(title='Accuracy: No Augmentations')"
   ]
  },
  {
   "cell_type": "code",
   "execution_count": null,
   "id": "4ab9540c",
   "metadata": {},
   "outputs": [],
   "source": []
  },
  {
   "cell_type": "code",
   "execution_count": 11,
   "id": "987f7213",
   "metadata": {},
   "outputs": [],
   "source": [
    "# import torch\n",
    "# torch.load('testcifar resnet.pt').to('cuda')"
   ]
  },
  {
   "cell_type": "code",
   "execution_count": 12,
   "id": "d9d37b2c",
   "metadata": {
    "scrolled": true
   },
   "outputs": [
    {
     "data": {
      "application/vnd.jupyter.widget-view+json": {
       "model_id": "18af86ccf05f48f1a353b62ceb98d3a2",
       "version_major": 2,
       "version_minor": 0
      },
      "text/plain": [
       "Training epoch:   0%|          | 0/196 [00:00<?, ?it/s]"
      ]
     },
     "metadata": {},
     "output_type": "display_data"
    },
    {
     "name": "stdout",
     "output_type": "stream",
     "text": [
      "----- Epoch = 1 -----\n",
      "Val loss = 1.5823\n",
      "\n",
      "New best epoch, loss = 1.5823\n",
      "\n"
     ]
    },
    {
     "data": {
      "application/vnd.jupyter.widget-view+json": {
       "model_id": "2176a84bb03c47f08e5fb3e50a9f68c4",
       "version_major": 2,
       "version_minor": 0
      },
      "text/plain": [
       "Training epoch:   0%|          | 0/196 [00:00<?, ?it/s]"
      ]
     },
     "metadata": {},
     "output_type": "display_data"
    },
    {
     "name": "stdout",
     "output_type": "stream",
     "text": [
      "----- Epoch = 2 -----\n",
      "Val loss = 1.2101\n",
      "\n",
      "New best epoch, loss = 1.2101\n",
      "\n"
     ]
    },
    {
     "data": {
      "application/vnd.jupyter.widget-view+json": {
       "model_id": "bb6d8a50d3054b96ad3de0717887b011",
       "version_major": 2,
       "version_minor": 0
      },
      "text/plain": [
       "Training epoch:   0%|          | 0/196 [00:00<?, ?it/s]"
      ]
     },
     "metadata": {},
     "output_type": "display_data"
    },
    {
     "name": "stdout",
     "output_type": "stream",
     "text": [
      "----- Epoch = 3 -----\n",
      "Val loss = 1.2221\n",
      "\n"
     ]
    },
    {
     "data": {
      "application/vnd.jupyter.widget-view+json": {
       "model_id": "9a58e802d9d14dc29a2607372c20c560",
       "version_major": 2,
       "version_minor": 0
      },
      "text/plain": [
       "Training epoch:   0%|          | 0/196 [00:00<?, ?it/s]"
      ]
     },
     "metadata": {},
     "output_type": "display_data"
    },
    {
     "name": "stdout",
     "output_type": "stream",
     "text": [
      "----- Epoch = 4 -----\n",
      "Val loss = 1.0059\n",
      "\n",
      "New best epoch, loss = 1.0059\n",
      "\n"
     ]
    },
    {
     "data": {
      "application/vnd.jupyter.widget-view+json": {
       "model_id": "6981843c5c4f44dba671ee7bf70709ea",
       "version_major": 2,
       "version_minor": 0
      },
      "text/plain": [
       "Training epoch:   0%|          | 0/196 [00:00<?, ?it/s]"
      ]
     },
     "metadata": {},
     "output_type": "display_data"
    },
    {
     "name": "stdout",
     "output_type": "stream",
     "text": [
      "----- Epoch = 5 -----\n",
      "Val loss = 0.9316\n",
      "\n",
      "New best epoch, loss = 0.9316\n",
      "\n"
     ]
    },
    {
     "data": {
      "application/vnd.jupyter.widget-view+json": {
       "model_id": "580570ec43054375a410189cd5ba92e4",
       "version_major": 2,
       "version_minor": 0
      },
      "text/plain": [
       "Training epoch:   0%|          | 0/196 [00:00<?, ?it/s]"
      ]
     },
     "metadata": {},
     "output_type": "display_data"
    },
    {
     "name": "stdout",
     "output_type": "stream",
     "text": [
      "----- Epoch = 6 -----\n",
      "Val loss = 0.8303\n",
      "\n",
      "New best epoch, loss = 0.8303\n",
      "\n"
     ]
    },
    {
     "data": {
      "application/vnd.jupyter.widget-view+json": {
       "model_id": "0f1678cae1704e4d9b888c40cde6ecbb",
       "version_major": 2,
       "version_minor": 0
      },
      "text/plain": [
       "Training epoch:   0%|          | 0/196 [00:00<?, ?it/s]"
      ]
     },
     "metadata": {},
     "output_type": "display_data"
    },
    {
     "name": "stdout",
     "output_type": "stream",
     "text": [
      "----- Epoch = 7 -----\n",
      "Val loss = 0.7994\n",
      "\n",
      "New best epoch, loss = 0.7994\n",
      "\n"
     ]
    },
    {
     "data": {
      "application/vnd.jupyter.widget-view+json": {
       "model_id": "0df7d6e503c84e0290b1cc4e81b6978e",
       "version_major": 2,
       "version_minor": 0
      },
      "text/plain": [
       "Training epoch:   0%|          | 0/196 [00:00<?, ?it/s]"
      ]
     },
     "metadata": {},
     "output_type": "display_data"
    },
    {
     "name": "stdout",
     "output_type": "stream",
     "text": [
      "----- Epoch = 8 -----\n",
      "Val loss = 0.7683\n",
      "\n",
      "New best epoch, loss = 0.7683\n",
      "\n"
     ]
    },
    {
     "data": {
      "application/vnd.jupyter.widget-view+json": {
       "model_id": "6d2c6b7044e644399fd3dfef09558090",
       "version_major": 2,
       "version_minor": 0
      },
      "text/plain": [
       "Training epoch:   0%|          | 0/196 [00:00<?, ?it/s]"
      ]
     },
     "metadata": {},
     "output_type": "display_data"
    },
    {
     "name": "stdout",
     "output_type": "stream",
     "text": [
      "----- Epoch = 9 -----\n",
      "Val loss = 0.9220\n",
      "\n"
     ]
    },
    {
     "data": {
      "application/vnd.jupyter.widget-view+json": {
       "model_id": "79f0e7887c164c8c9f34584911815d6c",
       "version_major": 2,
       "version_minor": 0
      },
      "text/plain": [
       "Training epoch:   0%|          | 0/196 [00:00<?, ?it/s]"
      ]
     },
     "metadata": {},
     "output_type": "display_data"
    },
    {
     "name": "stdout",
     "output_type": "stream",
     "text": [
      "----- Epoch = 10 -----\n",
      "Val loss = 0.7673\n",
      "\n",
      "New best epoch, loss = 0.7673\n",
      "\n"
     ]
    },
    {
     "data": {
      "application/vnd.jupyter.widget-view+json": {
       "model_id": "96fda5122a8248b0928d6cd966aa3e1c",
       "version_major": 2,
       "version_minor": 0
      },
      "text/plain": [
       "Training epoch:   0%|          | 0/196 [00:00<?, ?it/s]"
      ]
     },
     "metadata": {},
     "output_type": "display_data"
    },
    {
     "name": "stdout",
     "output_type": "stream",
     "text": [
      "----- Epoch = 11 -----\n",
      "Val loss = 0.8030\n",
      "\n"
     ]
    },
    {
     "data": {
      "application/vnd.jupyter.widget-view+json": {
       "model_id": "eb1708f480234fddb6b323c4dfb6a2b5",
       "version_major": 2,
       "version_minor": 0
      },
      "text/plain": [
       "Training epoch:   0%|          | 0/196 [00:00<?, ?it/s]"
      ]
     },
     "metadata": {},
     "output_type": "display_data"
    },
    {
     "name": "stdout",
     "output_type": "stream",
     "text": [
      "----- Epoch = 12 -----\n",
      "Val loss = 0.6888\n",
      "\n",
      "New best epoch, loss = 0.6888\n",
      "\n"
     ]
    },
    {
     "data": {
      "application/vnd.jupyter.widget-view+json": {
       "model_id": "199a6230bd14488d9279ec4a6d19e64f",
       "version_major": 2,
       "version_minor": 0
      },
      "text/plain": [
       "Training epoch:   0%|          | 0/196 [00:00<?, ?it/s]"
      ]
     },
     "metadata": {},
     "output_type": "display_data"
    },
    {
     "name": "stdout",
     "output_type": "stream",
     "text": [
      "----- Epoch = 13 -----\n",
      "Val loss = 0.7890\n",
      "\n"
     ]
    },
    {
     "data": {
      "application/vnd.jupyter.widget-view+json": {
       "model_id": "0bf17b3f94254c39bd286f0fe260a477",
       "version_major": 2,
       "version_minor": 0
      },
      "text/plain": [
       "Training epoch:   0%|          | 0/196 [00:00<?, ?it/s]"
      ]
     },
     "metadata": {},
     "output_type": "display_data"
    },
    {
     "name": "stdout",
     "output_type": "stream",
     "text": [
      "----- Epoch = 14 -----\n",
      "Val loss = 0.7817\n",
      "\n"
     ]
    },
    {
     "data": {
      "application/vnd.jupyter.widget-view+json": {
       "model_id": "7f9803c45ed4443cb47da9b1ea99e73e",
       "version_major": 2,
       "version_minor": 0
      },
      "text/plain": [
       "Training epoch:   0%|          | 0/196 [00:00<?, ?it/s]"
      ]
     },
     "metadata": {},
     "output_type": "display_data"
    },
    {
     "name": "stdout",
     "output_type": "stream",
     "text": [
      "----- Epoch = 15 -----\n",
      "Val loss = 0.8036\n",
      "\n"
     ]
    },
    {
     "data": {
      "application/vnd.jupyter.widget-view+json": {
       "model_id": "bd5da6539a1749029a85017847a93a62",
       "version_major": 2,
       "version_minor": 0
      },
      "text/plain": [
       "Training epoch:   0%|          | 0/196 [00:00<?, ?it/s]"
      ]
     },
     "metadata": {},
     "output_type": "display_data"
    },
    {
     "name": "stdout",
     "output_type": "stream",
     "text": [
      "----- Epoch = 16 -----\n",
      "Val loss = 0.7876\n",
      "\n"
     ]
    },
    {
     "data": {
      "application/vnd.jupyter.widget-view+json": {
       "model_id": "fb442e7de9114d3ca3ab7dba8f4cde8e",
       "version_major": 2,
       "version_minor": 0
      },
      "text/plain": [
       "Training epoch:   0%|          | 0/196 [00:00<?, ?it/s]"
      ]
     },
     "metadata": {},
     "output_type": "display_data"
    },
    {
     "name": "stdout",
     "output_type": "stream",
     "text": [
      "----- Epoch = 17 -----\n",
      "Val loss = 0.7941\n",
      "\n"
     ]
    },
    {
     "data": {
      "application/vnd.jupyter.widget-view+json": {
       "model_id": "e3c2a422130c486fbcd5221aa3221622",
       "version_major": 2,
       "version_minor": 0
      },
      "text/plain": [
       "Training epoch:   0%|          | 0/196 [00:00<?, ?it/s]"
      ]
     },
     "metadata": {},
     "output_type": "display_data"
    },
    {
     "name": "stdout",
     "output_type": "stream",
     "text": [
      "----- Epoch = 18 -----\n",
      "Val loss = 0.8180\n",
      "\n",
      "Epoch 00018: reducing learning rate of group 0 to 5.0000e-04.\n"
     ]
    },
    {
     "data": {
      "application/vnd.jupyter.widget-view+json": {
       "model_id": "0f9b982391a7455ea605a6bb2afee1c6",
       "version_major": 2,
       "version_minor": 0
      },
      "text/plain": [
       "Training epoch:   0%|          | 0/196 [00:00<?, ?it/s]"
      ]
     },
     "metadata": {},
     "output_type": "display_data"
    },
    {
     "name": "stdout",
     "output_type": "stream",
     "text": [
      "----- Epoch = 19 -----\n",
      "Val loss = 0.7005\n",
      "\n"
     ]
    },
    {
     "data": {
      "application/vnd.jupyter.widget-view+json": {
       "model_id": "117e5a260a8f4f0cbd681e75ed71c86d",
       "version_major": 2,
       "version_minor": 0
      },
      "text/plain": [
       "Training epoch:   0%|          | 0/196 [00:00<?, ?it/s]"
      ]
     },
     "metadata": {},
     "output_type": "display_data"
    },
    {
     "name": "stdout",
     "output_type": "stream",
     "text": [
      "----- Epoch = 20 -----\n",
      "Val loss = 0.7406\n",
      "\n"
     ]
    },
    {
     "data": {
      "application/vnd.jupyter.widget-view+json": {
       "model_id": "3665c240019a476cb78c08b38e396272",
       "version_major": 2,
       "version_minor": 0
      },
      "text/plain": [
       "Training epoch:   0%|          | 0/390 [00:00<?, ?it/s]"
      ]
     },
     "metadata": {},
     "output_type": "display_data"
    },
    {
     "name": "stdout",
     "output_type": "stream",
     "text": [
      "----- Epoch = 1 -----\n",
      "Val loss = 2515.800781\n",
      "\n",
      "New best epoch, loss = 2515.800781\n",
      "\n"
     ]
    },
    {
     "data": {
      "application/vnd.jupyter.widget-view+json": {
       "model_id": "675e328bbc3849a585a24919a52b13a8",
       "version_major": 2,
       "version_minor": 0
      },
      "text/plain": [
       "Training epoch:   0%|          | 0/390 [00:00<?, ?it/s]"
      ]
     },
     "metadata": {},
     "output_type": "display_data"
    },
    {
     "name": "stdout",
     "output_type": "stream",
     "text": [
      "----- Epoch = 2 -----\n",
      "Val loss = 2154.543457\n",
      "\n",
      "New best epoch, loss = 2154.543457\n",
      "\n"
     ]
    },
    {
     "data": {
      "application/vnd.jupyter.widget-view+json": {
       "model_id": "57167adbaed84a09b2d00e3079ac06d2",
       "version_major": 2,
       "version_minor": 0
      },
      "text/plain": [
       "Training epoch:   0%|          | 0/390 [00:00<?, ?it/s]"
      ]
     },
     "metadata": {},
     "output_type": "display_data"
    },
    {
     "name": "stdout",
     "output_type": "stream",
     "text": [
      "----- Epoch = 3 -----\n",
      "Val loss = 1860.487549\n",
      "\n",
      "New best epoch, loss = 1860.487549\n",
      "\n"
     ]
    },
    {
     "data": {
      "application/vnd.jupyter.widget-view+json": {
       "model_id": "037be2fb7c0b460fa2355ac5257855f3",
       "version_major": 2,
       "version_minor": 0
      },
      "text/plain": [
       "Training epoch:   0%|          | 0/390 [00:00<?, ?it/s]"
      ]
     },
     "metadata": {},
     "output_type": "display_data"
    },
    {
     "name": "stdout",
     "output_type": "stream",
     "text": [
      "----- Epoch = 4 -----\n",
      "Val loss = 1636.537964\n",
      "\n",
      "New best epoch, loss = 1636.537964\n",
      "\n"
     ]
    },
    {
     "data": {
      "application/vnd.jupyter.widget-view+json": {
       "model_id": "9f4ff1e7e3bb453da86265032e8b59a6",
       "version_major": 2,
       "version_minor": 0
      },
      "text/plain": [
       "Training epoch:   0%|          | 0/390 [00:00<?, ?it/s]"
      ]
     },
     "metadata": {},
     "output_type": "display_data"
    },
    {
     "name": "stdout",
     "output_type": "stream",
     "text": [
      "----- Epoch = 5 -----\n",
      "Val loss = 1897.169067\n",
      "\n"
     ]
    },
    {
     "data": {
      "application/vnd.jupyter.widget-view+json": {
       "model_id": "43e78471d39645428907b3c64537f35a",
       "version_major": 2,
       "version_minor": 0
      },
      "text/plain": [
       "Training epoch:   0%|          | 0/390 [00:00<?, ?it/s]"
      ]
     },
     "metadata": {},
     "output_type": "display_data"
    },
    {
     "name": "stdout",
     "output_type": "stream",
     "text": [
      "----- Epoch = 6 -----\n",
      "Val loss = 1454.991943\n",
      "\n",
      "New best epoch, loss = 1454.991943\n",
      "\n"
     ]
    },
    {
     "data": {
      "application/vnd.jupyter.widget-view+json": {
       "model_id": "f478f614efe64803ab49ce48cd04b41b",
       "version_major": 2,
       "version_minor": 0
      },
      "text/plain": [
       "Training epoch:   0%|          | 0/390 [00:00<?, ?it/s]"
      ]
     },
     "metadata": {},
     "output_type": "display_data"
    },
    {
     "name": "stdout",
     "output_type": "stream",
     "text": [
      "----- Epoch = 7 -----\n",
      "Val loss = 1573.758667\n",
      "\n"
     ]
    },
    {
     "data": {
      "application/vnd.jupyter.widget-view+json": {
       "model_id": "d6a7f6e19a7f4189aae257239b54f7c0",
       "version_major": 2,
       "version_minor": 0
      },
      "text/plain": [
       "Training epoch:   0%|          | 0/390 [00:00<?, ?it/s]"
      ]
     },
     "metadata": {},
     "output_type": "display_data"
    },
    {
     "name": "stdout",
     "output_type": "stream",
     "text": [
      "----- Epoch = 8 -----\n",
      "Val loss = 1529.524292\n",
      "\n"
     ]
    },
    {
     "data": {
      "application/vnd.jupyter.widget-view+json": {
       "model_id": "2b6bca15a9b9414ea1c0096b8bf4835d",
       "version_major": 2,
       "version_minor": 0
      },
      "text/plain": [
       "Training epoch:   0%|          | 0/390 [00:00<?, ?it/s]"
      ]
     },
     "metadata": {},
     "output_type": "display_data"
    },
    {
     "name": "stdout",
     "output_type": "stream",
     "text": [
      "----- Epoch = 9 -----\n",
      "Val loss = 1508.518921\n",
      "\n"
     ]
    },
    {
     "data": {
      "application/vnd.jupyter.widget-view+json": {
       "model_id": "5153c8662caa4dd9b334f39d5803cedb",
       "version_major": 2,
       "version_minor": 0
      },
      "text/plain": [
       "Training epoch:   0%|          | 0/390 [00:00<?, ?it/s]"
      ]
     },
     "metadata": {},
     "output_type": "display_data"
    },
    {
     "name": "stdout",
     "output_type": "stream",
     "text": [
      "----- Epoch = 10 -----\n",
      "Val loss = 1204.922485\n",
      "\n",
      "New best epoch, loss = 1204.922485\n",
      "\n"
     ]
    },
    {
     "data": {
      "application/vnd.jupyter.widget-view+json": {
       "model_id": "2bdb3365655f43cba17df718153ab59c",
       "version_major": 2,
       "version_minor": 0
      },
      "text/plain": [
       "Training epoch:   0%|          | 0/390 [00:00<?, ?it/s]"
      ]
     },
     "metadata": {},
     "output_type": "display_data"
    },
    {
     "name": "stdout",
     "output_type": "stream",
     "text": [
      "----- Epoch = 11 -----\n",
      "Val loss = 1247.649780\n",
      "\n"
     ]
    },
    {
     "data": {
      "application/vnd.jupyter.widget-view+json": {
       "model_id": "6be87e9b99dd47a9a7f82e6b78b7bc29",
       "version_major": 2,
       "version_minor": 0
      },
      "text/plain": [
       "Training epoch:   0%|          | 0/390 [00:00<?, ?it/s]"
      ]
     },
     "metadata": {},
     "output_type": "display_data"
    },
    {
     "name": "stdout",
     "output_type": "stream",
     "text": [
      "----- Epoch = 12 -----\n",
      "Val loss = 1251.315552\n",
      "\n"
     ]
    },
    {
     "data": {
      "application/vnd.jupyter.widget-view+json": {
       "model_id": "d8f798866e7845e1afc26f0690dfcf6c",
       "version_major": 2,
       "version_minor": 0
      },
      "text/plain": [
       "Training epoch:   0%|          | 0/390 [00:00<?, ?it/s]"
      ]
     },
     "metadata": {},
     "output_type": "display_data"
    },
    {
     "name": "stdout",
     "output_type": "stream",
     "text": [
      "----- Epoch = 13 -----\n",
      "Val loss = 1224.601929\n",
      "\n"
     ]
    },
    {
     "data": {
      "application/vnd.jupyter.widget-view+json": {
       "model_id": "34cf3e795f0e47e08f87cd4d29c8d7ee",
       "version_major": 2,
       "version_minor": 0
      },
      "text/plain": [
       "Training epoch:   0%|          | 0/390 [00:00<?, ?it/s]"
      ]
     },
     "metadata": {},
     "output_type": "display_data"
    },
    {
     "name": "stdout",
     "output_type": "stream",
     "text": [
      "----- Epoch = 14 -----\n",
      "Val loss = 1280.082153\n",
      "\n"
     ]
    },
    {
     "data": {
      "application/vnd.jupyter.widget-view+json": {
       "model_id": "6280d0cadee6499098b3b6e8bc85c528",
       "version_major": 2,
       "version_minor": 0
      },
      "text/plain": [
       "Training epoch:   0%|          | 0/390 [00:00<?, ?it/s]"
      ]
     },
     "metadata": {},
     "output_type": "display_data"
    },
    {
     "name": "stdout",
     "output_type": "stream",
     "text": [
      "----- Epoch = 15 -----\n",
      "Val loss = 1209.716309\n",
      "\n"
     ]
    },
    {
     "data": {
      "application/vnd.jupyter.widget-view+json": {
       "model_id": "035c3bac50be487a96b2060ef16bcbe0",
       "version_major": 2,
       "version_minor": 0
      },
      "text/plain": [
       "Training epoch:   0%|          | 0/390 [00:00<?, ?it/s]"
      ]
     },
     "metadata": {},
     "output_type": "display_data"
    },
    {
     "name": "stdout",
     "output_type": "stream",
     "text": [
      "----- Epoch = 16 -----\n",
      "Val loss = 1165.633911\n",
      "\n",
      "New best epoch, loss = 1165.633911\n",
      "\n"
     ]
    },
    {
     "data": {
      "application/vnd.jupyter.widget-view+json": {
       "model_id": "8e7e37cc0bf94714a905c397e8fd0edd",
       "version_major": 2,
       "version_minor": 0
      },
      "text/plain": [
       "Training epoch:   0%|          | 0/390 [00:00<?, ?it/s]"
      ]
     },
     "metadata": {},
     "output_type": "display_data"
    },
    {
     "name": "stdout",
     "output_type": "stream",
     "text": [
      "----- Epoch = 17 -----\n",
      "Val loss = 1484.728027\n",
      "\n"
     ]
    },
    {
     "data": {
      "application/vnd.jupyter.widget-view+json": {
       "model_id": "0e67825be8794998aa415c905678de05",
       "version_major": 2,
       "version_minor": 0
      },
      "text/plain": [
       "Training epoch:   0%|          | 0/390 [00:00<?, ?it/s]"
      ]
     },
     "metadata": {},
     "output_type": "display_data"
    },
    {
     "name": "stdout",
     "output_type": "stream",
     "text": [
      "----- Epoch = 18 -----\n",
      "Val loss = 1207.135498\n",
      "\n"
     ]
    },
    {
     "data": {
      "application/vnd.jupyter.widget-view+json": {
       "model_id": "1e7422090f3c49c0a72603c3d486d5f9",
       "version_major": 2,
       "version_minor": 0
      },
      "text/plain": [
       "Training epoch:   0%|          | 0/390 [00:00<?, ?it/s]"
      ]
     },
     "metadata": {},
     "output_type": "display_data"
    },
    {
     "name": "stdout",
     "output_type": "stream",
     "text": [
      "----- Epoch = 19 -----\n",
      "Val loss = 1334.239990\n",
      "\n"
     ]
    },
    {
     "data": {
      "application/vnd.jupyter.widget-view+json": {
       "model_id": "042e5fb29a2b482eaf1e8049546b439d",
       "version_major": 2,
       "version_minor": 0
      },
      "text/plain": [
       "Training epoch:   0%|          | 0/390 [00:00<?, ?it/s]"
      ]
     },
     "metadata": {},
     "output_type": "display_data"
    },
    {
     "name": "stdout",
     "output_type": "stream",
     "text": [
      "----- Epoch = 20 -----\n",
      "Val loss = 1775.385010\n",
      "\n",
      "CPU times: user 18min 16s, sys: 23.4 s, total: 18min 39s\n",
      "Wall time: 19min 57s\n"
     ]
    }
   ],
   "source": [
    "%%time\n",
    "results = fw.fastshap_wrapper(c.model, c.train_set, c.test_set, surrogate_epochs=20, explainer_epochs=20, experiment_name=main_name)"
   ]
  },
  {
   "cell_type": "code",
   "execution_count": 13,
   "id": "6fc8043e",
   "metadata": {},
   "outputs": [
    {
     "name": "stdout",
     "output_type": "stream",
     "text": [
      "CPU times: user 15.2 s, sys: 8.07 s, total: 23.2 s\n",
      "Wall time: 23.4 s\n"
     ]
    }
   ],
   "source": [
    "%%time\n",
    "import numpy as np\n",
    "np.save(main_name+'shapley_values.npy',results.plot_results(c.test_set, return_raw=True, num_samples=50))"
   ]
  },
  {
   "cell_type": "code",
   "execution_count": 14,
   "id": "e9258f74",
   "metadata": {},
   "outputs": [
    {
     "data": {
      "image/png": "[encoded data removed]",
      "text/plain": [
       "<Figure size 1584x1440 with 110 Axes>"
      ]
     },
     "metadata": {},
     "output_type": "display_data"
    }
   ],
   "source": [
    "results.plot_results(c.test_set)"
   ]
  },
  {
   "cell_type": "code",
   "execution_count": 15,
   "id": "3ff86598",
   "metadata": {},
   "outputs": [
    {
     "data": {
      "text/plain": [
       "<AxesSubplot:ylabel='Density'>"
      ]
     },
     "execution_count": 15,
     "metadata": {},
     "output_type": "execute_result"
    },
    {
     "data": {
      "image/png": "[encoded data removed]",
      "text/plain": [
       "<Figure size 432x288 with 1 Axes>"
      ]
     },
     "metadata": {},
     "output_type": "display_data"
    }
   ],
   "source": [
    "import numpy as np\n",
    "import seaborn as sns\n",
    "sns.set_style('whitegrid')\n",
    "shapley_values = results.plot_results(c.test_set, return_raw=True, num_samples=50).reshape(-1)\n",
    "sns.kdeplot(shapley_values, bw_adjust=0.5)"
   ]
  },
  {
   "cell_type": "code",
   "execution_count": 16,
   "id": "6c6cbbbd",
   "metadata": {},
   "outputs": [
    {
     "data": {
      "text/plain": [
       "0    0.4084\n",
       "dtype: float32"
      ]
     },
     "execution_count": 16,
     "metadata": {},
     "output_type": "execute_result"
    }
   ],
   "source": [
    "import pandas as pd\n",
    "pd.DataFrame(shapley_values).skew()"
   ]
  },
  {
   "cell_type": "code",
   "execution_count": 17,
   "id": "65158ecb",
   "metadata": {},
   "outputs": [
    {
     "data": {
      "text/plain": [
       "0    0.915257\n",
       "dtype: float32"
      ]
     },
     "execution_count": 17,
     "metadata": {},
     "output_type": "execute_result"
    }
   ],
   "source": [
    "import pandas as pd\n",
    "pd.DataFrame(shapley_values).kurtosis()"
   ]
  },
  {
   "cell_type": "code",
   "execution_count": 18,
   "id": "ab42e588",
   "metadata": {},
   "outputs": [
    {
     "data": {
      "text/html": [
       "<div>\n",
       "<style scoped>\n",
       "    .dataframe tbody tr th:only-of-type {\n",
       "        vertical-align: middle;\n",
       "    }\n",
       "\n",
       "    .dataframe tbody tr th {\n",
       "        vertical-align: top;\n",
       "    }\n",
       "\n",
       "    .dataframe thead th {\n",
       "        text-align: right;\n",
       "    }\n",
       "</style>\n",
       "<table border=\"1\" class=\"dataframe\">\n",
       "  <thead>\n",
       "    <tr style=\"text-align: right;\">\n",
       "      <th></th>\n",
       "      <th>0</th>\n",
       "    </tr>\n",
       "  </thead>\n",
       "  <tbody>\n",
       "    <tr>\n",
       "      <th>count</th>\n",
       "      <td>128000.000000</td>\n",
       "    </tr>\n",
       "    <tr>\n",
       "      <th>mean</th>\n",
       "      <td>0.001211</td>\n",
       "    </tr>\n",
       "    <tr>\n",
       "      <th>std</th>\n",
       "      <td>0.024851</td>\n",
       "    </tr>\n",
       "    <tr>\n",
       "      <th>min</th>\n",
       "      <td>-0.099188</td>\n",
       "    </tr>\n",
       "    <tr>\n",
       "      <th>25%</th>\n",
       "      <td>-0.015469</td>\n",
       "    </tr>\n",
       "    <tr>\n",
       "      <th>50%</th>\n",
       "      <td>0.000605</td>\n",
       "    </tr>\n",
       "    <tr>\n",
       "      <th>75%</th>\n",
       "      <td>0.016001</td>\n",
       "    </tr>\n",
       "    <tr>\n",
       "      <th>max</th>\n",
       "      <td>0.141019</td>\n",
       "    </tr>\n",
       "  </tbody>\n",
       "</table>\n",
       "</div>"
      ],
      "text/plain": [
       "                   0\n",
       "count  128000.000000\n",
       "mean        0.001211\n",
       "std         0.024851\n",
       "min        -0.099188\n",
       "25%        -0.015469\n",
       "50%         0.000605\n",
       "75%         0.016001\n",
       "max         0.141019"
      ]
     },
     "execution_count": 18,
     "metadata": {},
     "output_type": "execute_result"
    }
   ],
   "source": [
    "pd.DataFrame(shapley_values).describe()"
   ]
  },
  {
   "cell_type": "code",
   "execution_count": 19,
   "id": "b42b164b",
   "metadata": {},
   "outputs": [
    {
     "name": "stderr",
     "output_type": "stream",
     "text": [
      "/home-nfs/raphaelr/miniconda/lib/python3.8/site-packages/sklearn/feature_extraction/image.py:167: DeprecationWarning: `np.int` is a deprecated alias for the builtin `int`. To silence this warning, use `int` by itself. Doing this will not modify any behavior and is safe. When replacing `np.int`, you may wish to use e.g. `np.int64` or `np.int32` to specify the precision. If you wish to review your current use, check the release note link for additional information.\n",
      "Deprecated in NumPy 1.20; for more details and guidance: https://numpy.org/devdocs/release/1.20.0-notes.html#deprecations\n",
      "  dtype=np.int):\n",
      "/home-nfs/raphaelr/miniconda/lib/python3.8/site-packages/sklearn/linear_model/least_angle.py:30: DeprecationWarning: `np.float` is a deprecated alias for the builtin `float`. To silence this warning, use `float` by itself. Doing this will not modify any behavior and is safe. If you specifically wanted the numpy scalar type, use `np.float64` here.\n",
      "Deprecated in NumPy 1.20; for more details and guidance: https://numpy.org/devdocs/release/1.20.0-notes.html#deprecations\n",
      "  method='lar', copy_X=True, eps=np.finfo(np.float).eps,\n",
      "/home-nfs/raphaelr/miniconda/lib/python3.8/site-packages/sklearn/linear_model/least_angle.py:167: DeprecationWarning: `np.float` is a deprecated alias for the builtin `float`. To silence this warning, use `float` by itself. Doing this will not modify any behavior and is safe. If you specifically wanted the numpy scalar type, use `np.float64` here.\n",
      "Deprecated in NumPy 1.20; for more details and guidance: https://numpy.org/devdocs/release/1.20.0-notes.html#deprecations\n",
      "  method='lar', copy_X=True, eps=np.finfo(np.float).eps,\n",
      "/home-nfs/raphaelr/miniconda/lib/python3.8/site-packages/sklearn/linear_model/least_angle.py:284: DeprecationWarning: `np.float` is a deprecated alias for the builtin `float`. To silence this warning, use `float` by itself. Doing this will not modify any behavior and is safe. If you specifically wanted the numpy scalar type, use `np.float64` here.\n",
      "Deprecated in NumPy 1.20; for more details and guidance: https://numpy.org/devdocs/release/1.20.0-notes.html#deprecations\n",
      "  eps=np.finfo(np.float).eps, copy_Gram=True, verbose=0,\n",
      "/home-nfs/raphaelr/miniconda/lib/python3.8/site-packages/sklearn/linear_model/least_angle.py:862: DeprecationWarning: `np.float` is a deprecated alias for the builtin `float`. To silence this warning, use `float` by itself. Doing this will not modify any behavior and is safe. If you specifically wanted the numpy scalar type, use `np.float64` here.\n",
      "Deprecated in NumPy 1.20; for more details and guidance: https://numpy.org/devdocs/release/1.20.0-notes.html#deprecations\n",
      "  eps=np.finfo(np.float).eps, copy_X=True, fit_path=True,\n",
      "/home-nfs/raphaelr/miniconda/lib/python3.8/site-packages/sklearn/linear_model/least_angle.py:1101: DeprecationWarning: `np.float` is a deprecated alias for the builtin `float`. To silence this warning, use `float` by itself. Doing this will not modify any behavior and is safe. If you specifically wanted the numpy scalar type, use `np.float64` here.\n",
      "Deprecated in NumPy 1.20; for more details and guidance: https://numpy.org/devdocs/release/1.20.0-notes.html#deprecations\n",
      "  eps=np.finfo(np.float).eps, copy_X=True, fit_path=True,\n",
      "/home-nfs/raphaelr/miniconda/lib/python3.8/site-packages/sklearn/linear_model/least_angle.py:1127: DeprecationWarning: `np.float` is a deprecated alias for the builtin `float`. To silence this warning, use `float` by itself. Doing this will not modify any behavior and is safe. If you specifically wanted the numpy scalar type, use `np.float64` here.\n",
      "Deprecated in NumPy 1.20; for more details and guidance: https://numpy.org/devdocs/release/1.20.0-notes.html#deprecations\n",
      "  eps=np.finfo(np.float).eps, positive=False):\n",
      "/home-nfs/raphaelr/miniconda/lib/python3.8/site-packages/sklearn/linear_model/least_angle.py:1362: DeprecationWarning: `np.float` is a deprecated alias for the builtin `float`. To silence this warning, use `float` by itself. Doing this will not modify any behavior and is safe. If you specifically wanted the numpy scalar type, use `np.float64` here.\n",
      "Deprecated in NumPy 1.20; for more details and guidance: https://numpy.org/devdocs/release/1.20.0-notes.html#deprecations\n",
      "  max_n_alphas=1000, n_jobs=None, eps=np.finfo(np.float).eps,\n",
      "/home-nfs/raphaelr/miniconda/lib/python3.8/site-packages/sklearn/linear_model/least_angle.py:1602: DeprecationWarning: `np.float` is a deprecated alias for the builtin `float`. To silence this warning, use `float` by itself. Doing this will not modify any behavior and is safe. If you specifically wanted the numpy scalar type, use `np.float64` here.\n",
      "Deprecated in NumPy 1.20; for more details and guidance: https://numpy.org/devdocs/release/1.20.0-notes.html#deprecations\n",
      "  max_n_alphas=1000, n_jobs=None, eps=np.finfo(np.float).eps,\n",
      "/home-nfs/raphaelr/miniconda/lib/python3.8/site-packages/sklearn/linear_model/least_angle.py:1738: DeprecationWarning: `np.float` is a deprecated alias for the builtin `float`. To silence this warning, use `float` by itself. Doing this will not modify any behavior and is safe. If you specifically wanted the numpy scalar type, use `np.float64` here.\n",
      "Deprecated in NumPy 1.20; for more details and guidance: https://numpy.org/devdocs/release/1.20.0-notes.html#deprecations\n",
      "  eps=np.finfo(np.float).eps, copy_X=True, positive=False):\n",
      "/home-nfs/raphaelr/miniconda/lib/python3.8/site-packages/sklearn/decomposition/online_lda.py:29: DeprecationWarning: `np.float` is a deprecated alias for the builtin `float`. To silence this warning, use `float` by itself. Doing this will not modify any behavior and is safe. If you specifically wanted the numpy scalar type, use `np.float64` here.\n",
      "Deprecated in NumPy 1.20; for more details and guidance: https://numpy.org/devdocs/release/1.20.0-notes.html#deprecations\n",
      "  EPS = np.finfo(np.float).eps\n"
     ]
    },
    {
     "name": "stdout",
     "output_type": "stream",
     "text": [
      "best bandwidth: 0.1\n"
     ]
    },
    {
     "name": "stderr",
     "output_type": "stream",
     "text": [
      "/home-nfs/raphaelr/miniconda/lib/python3.8/site-packages/sklearn/model_selection/_split.py:1978: FutureWarning: The default value of cv will change from 3 to 5 in version 0.22. Specify it explicitly to silence this warning.\n",
      "  warnings.warn(CV_WARNING, FutureWarning)\n",
      "/home-nfs/raphaelr/miniconda/lib/python3.8/site-packages/sklearn/model_selection/_split.py:442: DeprecationWarning: `np.int` is a deprecated alias for the builtin `int`. To silence this warning, use `int` by itself. Doing this will not modify any behavior and is safe. When replacing `np.int`, you may wish to use e.g. `np.int64` or `np.int32` to specify the precision. If you wish to review your current use, check the release note link for additional information.\n",
      "Deprecated in NumPy 1.20; for more details and guidance: https://numpy.org/devdocs/release/1.20.0-notes.html#deprecations\n",
      "  fold_sizes = np.full(n_splits, n_samples // n_splits, dtype=np.int)\n",
      "/home-nfs/raphaelr/miniconda/lib/python3.8/site-packages/sklearn/model_selection/_split.py:102: DeprecationWarning: `np.bool` is a deprecated alias for the builtin `bool`. To silence this warning, use `bool` by itself. Doing this will not modify any behavior and is safe. If you specifically wanted the numpy scalar type, use `np.bool_` here.\n",
      "Deprecated in NumPy 1.20; for more details and guidance: https://numpy.org/devdocs/release/1.20.0-notes.html#deprecations\n",
      "  test_mask = np.zeros(_num_samples(X), dtype=np.bool)\n",
      "/home-nfs/raphaelr/miniconda/lib/python3.8/site-packages/sklearn/model_selection/_split.py:102: DeprecationWarning: `np.bool` is a deprecated alias for the builtin `bool`. To silence this warning, use `bool` by itself. Doing this will not modify any behavior and is safe. If you specifically wanted the numpy scalar type, use `np.bool_` here.\n",
      "Deprecated in NumPy 1.20; for more details and guidance: https://numpy.org/devdocs/release/1.20.0-notes.html#deprecations\n",
      "  test_mask = np.zeros(_num_samples(X), dtype=np.bool)\n",
      "/home-nfs/raphaelr/miniconda/lib/python3.8/site-packages/sklearn/model_selection/_split.py:102: DeprecationWarning: `np.bool` is a deprecated alias for the builtin `bool`. To silence this warning, use `bool` by itself. Doing this will not modify any behavior and is safe. If you specifically wanted the numpy scalar type, use `np.bool_` here.\n",
      "Deprecated in NumPy 1.20; for more details and guidance: https://numpy.org/devdocs/release/1.20.0-notes.html#deprecations\n",
      "  test_mask = np.zeros(_num_samples(X), dtype=np.bool)\n",
      "/home-nfs/raphaelr/miniconda/lib/python3.8/site-packages/sklearn/model_selection/_search.py:794: DeprecationWarning: `np.int` is a deprecated alias for the builtin `int`. To silence this warning, use `int` by itself. Doing this will not modify any behavior and is safe. When replacing `np.int`, you may wish to use e.g. `np.int64` or `np.int32` to specify the precision. If you wish to review your current use, check the release note link for additional information.\n",
      "Deprecated in NumPy 1.20; for more details and guidance: https://numpy.org/devdocs/release/1.20.0-notes.html#deprecations\n",
      "  dtype=np.int)\n",
      "/home-nfs/raphaelr/miniconda/lib/python3.8/site-packages/sklearn/model_selection/_search.py:810: DeprecationWarning: The default of the `iid` parameter will change from True to False in version 0.22 and will be removed in 0.24. This will change numeric results when test-set sizes are unequal.\n",
      "  warnings.warn(\"The default of the `iid` parameter will change \"\n"
     ]
    }
   ],
   "source": [
    "import numpy as np\n",
    "import matplotlib.pyplot as plt\n",
    "\n",
    "from sklearn.datasets import load_digits\n",
    "from sklearn.neighbors import KernelDensity\n",
    "from sklearn.decomposition import PCA\n",
    "from sklearn.model_selection import GridSearchCV\n",
    "\n",
    "# load the data\n",
    "digits = results.plot_results(c.test_set, return_raw=True, num_samples=10).reshape(100,-1)\n",
    "\n",
    "# project the 64-dimensional data to a lower dimension\n",
    "pca = PCA(n_components=15, whiten=False)\n",
    "data = pca.fit_transform(digits)\n",
    "\n",
    "# use grid search cross-validation to optimize the bandwidth\n",
    "params = {\"bandwidth\": np.logspace(-1, 1, 20)}\n",
    "grid = GridSearchCV(KernelDensity(), params)\n",
    "grid.fit(data)\n",
    "\n",
    "print(\"best bandwidth: {0}\".format(grid.best_estimator_.bandwidth))\n",
    "\n",
    "# use the best estimator to compute the kernel density estimate\n",
    "kde = grid.best_estimator_\n",
    "\n",
    "# # sample 44 new points from the data\n",
    "# new_data = kde.sample(44, random_state=0)\n",
    "# new_data = pca.inverse_transform(new_data)\n",
    "\n",
    "# # turn data into a 4x11 grid\n",
    "# new_data = new_data.reshape((4, 11, -1))\n",
    "# # real_data = digits.data[:44].reshape((4, 11, -1))\n",
    "\n",
    "# # plot real digits and resampled digits\n",
    "# fig, ax = plt.subplots(9, 11, subplot_kw=dict(xticks=[], yticks=[]))\n",
    "# for j in range(11):\n",
    "#     ax[4, j].set_visible(False)\n",
    "#     for i in range(4):\n",
    "# #         im = ax[i, j].imshow(\n",
    "# #             real_data[i, j].reshape((8, 8)), cmap=plt.cm.binary, interpolation=\"nearest\"\n",
    "# #         )\n",
    "# #         im.set_clim(0, 16)\n",
    "#         im = ax[i + 5, j].imshow(\n",
    "#             new_data[i, j].reshape((8, 8)), cmap=plt.cm.binary, interpolation=\"nearest\"\n",
    "#         )\n",
    "#         im.set_clim(0, 16)\n",
    "\n",
    "# ax[0, 5].set_title(\"Selection from the input data\")\n",
    "# ax[5, 5].set_title('\"New\" digits drawn from the kernel density model')\n",
    "\n",
    "# plt.show()"
   ]
  },
  {
   "cell_type": "code",
   "execution_count": null,
   "id": "ba39c589",
   "metadata": {},
   "outputs": [],
   "source": []
  }
 ],
 "metadata": {
  "interpreter": {
   "hash": "d08574dbe1e032a77862499250ef1ebb208dc943688f68b63b9f4908607a83c3"
  },
  "kernelspec": {
   "display_name": "Python 3",
   "language": "python",
   "name": "python3"
  },
  "language_info": {
   "codemirror_mode": {
    "name": "ipython",
    "version": 3
   },
   "file_extension": ".py",
   "mimetype": "text/x-python",
   "name": "python",
   "nbconvert_exporter": "python",
   "pygments_lexer": "ipython3",
   "version": "3.8.5"
  }
 },
 "nbformat": 4,
 "nbformat_minor": 5
}
